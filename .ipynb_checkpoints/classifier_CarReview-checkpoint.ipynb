{
 "cells": [
  {
   "cell_type": "code",
   "execution_count": 45,
   "id": "91b0cca8",
   "metadata": {},
   "outputs": [],
   "source": [
    "import pandas as pd\n",
    "import matplotlib.pyplot as plt\n",
    "from matplotlib import rc\n",
    "%matplotlib inline\n",
    "from matplotlib import font_manager\n",
    "\n",
    "font_name = font_manager.FontProperties(fname=\"c:/Windows/Fonts/malgun.ttf\").get_name()\n",
    "rc('font', family=font_name)\n",
    "plt.rcParams['axes.unicode_minus'] = False\n",
    "#plt.title('테스트입니다')"
   ]
  },
  {
   "cell_type": "code",
   "execution_count": 22,
   "id": "7d43c999",
   "metadata": {},
   "outputs": [],
   "source": [
    "df = pd.read_csv('youtube_review.csv')"
   ]
  },
  {
   "cell_type": "code",
   "execution_count": 23,
   "id": "525cbbe7",
   "metadata": {},
   "outputs": [
    {
     "data": {
      "text/html": [
       "<div>\n",
       "<style scoped>\n",
       "    .dataframe tbody tr th:only-of-type {\n",
       "        vertical-align: middle;\n",
       "    }\n",
       "\n",
       "    .dataframe tbody tr th {\n",
       "        vertical-align: top;\n",
       "    }\n",
       "\n",
       "    .dataframe thead th {\n",
       "        text-align: right;\n",
       "    }\n",
       "</style>\n",
       "<table border=\"1\" class=\"dataframe\">\n",
       "  <thead>\n",
       "    <tr style=\"text-align: right;\">\n",
       "      <th></th>\n",
       "      <th>comments</th>\n",
       "      <th>likes</th>\n",
       "    </tr>\n",
       "  </thead>\n",
       "  <tbody>\n",
       "    <tr>\n",
       "      <th>0</th>\n",
       "      <td>파나메라는 역시 패스트백 스타일이 잘어울리는 차네요.😄😄</td>\n",
       "      <td>4</td>\n",
       "    </tr>\n",
       "    <tr>\n",
       "      <th>1</th>\n",
       "      <td>진짜 너무 짱이다....ㅠㅠ....타보고싶어</td>\n",
       "      <td>5</td>\n",
       "    </tr>\n",
       "    <tr>\n",
       "      <th>2</th>\n",
       "      <td>파나메라는 기본형도 예쁘지만 이그제큐티브 모델이야 말로 4도어 대형 세단의 모습으로...</td>\n",
       "      <td>4</td>\n",
       "    </tr>\n",
       "    <tr>\n",
       "      <th>3</th>\n",
       "      <td>기업 총수가 된다면 대형 세단대신 꼭 타보고 싶은차.. 왠지 타다보면 기사님 뒤에 ...</td>\n",
       "      <td>3</td>\n",
       "    </tr>\n",
       "    <tr>\n",
       "      <th>4</th>\n",
       "      <td>무더운 날씨에 고생많으시네요늘 좋은 영상 감사합니다</td>\n",
       "      <td>4</td>\n",
       "    </tr>\n",
       "    <tr>\n",
       "      <th>...</th>\n",
       "      <td>...</td>\n",
       "      <td>...</td>\n",
       "    </tr>\n",
       "    <tr>\n",
       "      <th>276172</th>\n",
       "      <td>불메운동해서 패스~</td>\n",
       "      <td>3</td>\n",
       "    </tr>\n",
       "    <tr>\n",
       "      <th>276173</th>\n",
       "      <td>3년째 타는데 몇몇 단점빼고는 좋아요토요타의 극강의 내구도로 때맞춰 서비스만 하면 ...</td>\n",
       "      <td>2</td>\n",
       "    </tr>\n",
       "    <tr>\n",
       "      <th>276174</th>\n",
       "      <td>넘 멋지네요</td>\n",
       "      <td>3</td>\n",
       "    </tr>\n",
       "    <tr>\n",
       "      <th>276175</th>\n",
       "      <td>이차. 강서에 아직있나요.</td>\n",
       "      <td>3</td>\n",
       "    </tr>\n",
       "    <tr>\n",
       "      <th>276176</th>\n",
       "      <td>드림카 중 하나</td>\n",
       "      <td>3</td>\n",
       "    </tr>\n",
       "  </tbody>\n",
       "</table>\n",
       "<p>276177 rows × 2 columns</p>\n",
       "</div>"
      ],
      "text/plain": [
       "                                                 comments  likes\n",
       "0                         파나메라는 역시 패스트백 스타일이 잘어울리는 차네요.😄😄      4\n",
       "1                                진짜 너무 짱이다....ㅠㅠ....타보고싶어      5\n",
       "2       파나메라는 기본형도 예쁘지만 이그제큐티브 모델이야 말로 4도어 대형 세단의 모습으로...      4\n",
       "3       기업 총수가 된다면 대형 세단대신 꼭 타보고 싶은차.. 왠지 타다보면 기사님 뒤에 ...      3\n",
       "4                            무더운 날씨에 고생많으시네요늘 좋은 영상 감사합니다      4\n",
       "...                                                   ...    ...\n",
       "276172                                         불메운동해서 패스~      3\n",
       "276173  3년째 타는데 몇몇 단점빼고는 좋아요토요타의 극강의 내구도로 때맞춰 서비스만 하면 ...      2\n",
       "276174                                             넘 멋지네요      3\n",
       "276175                                     이차. 강서에 아직있나요.      3\n",
       "276176                                           드림카 중 하나      3\n",
       "\n",
       "[276177 rows x 2 columns]"
      ]
     },
     "execution_count": 23,
     "metadata": {},
     "output_type": "execute_result"
    }
   ],
   "source": [
    "df"
   ]
  },
  {
   "cell_type": "code",
   "execution_count": null,
   "id": "cd2035d0",
   "metadata": {},
   "outputs": [],
   "source": [
    "key_brand = input('찾으시는 차량의 제조사를 입력해주세요: ')\n",
    "key_model = input('찾으시는 차량의 모델명을 입력해주세요: ')\n",
    "\n",
    "df[(df['comments'].str.contains(f'{key_brand}'))&(df['car_name'].str.contains(f'{key_model}'))]"
   ]
  },
  {
   "cell_type": "code",
   "execution_count": 31,
   "id": "24b1c904",
   "metadata": {},
   "outputs": [
    {
     "data": {
      "text/plain": [
       "comments    217\n",
       "likes         0\n",
       "dtype: int64"
      ]
     },
     "execution_count": 31,
     "metadata": {},
     "output_type": "execute_result"
    }
   ],
   "source": [
    "df.isnull().sum()"
   ]
  },
  {
   "cell_type": "code",
   "execution_count": 36,
   "id": "b00f455e",
   "metadata": {},
   "outputs": [],
   "source": [
    "df.dropna(inplace=True)"
   ]
  },
  {
   "cell_type": "code",
   "execution_count": 37,
   "id": "d4e7af7b",
   "metadata": {},
   "outputs": [],
   "source": [
    "df.reset_index(drop=True, inplace = True)"
   ]
  },
  {
   "cell_type": "code",
   "execution_count": 38,
   "id": "ff07ac88",
   "metadata": {},
   "outputs": [
    {
     "data": {
      "text/html": [
       "<div>\n",
       "<style scoped>\n",
       "    .dataframe tbody tr th:only-of-type {\n",
       "        vertical-align: middle;\n",
       "    }\n",
       "\n",
       "    .dataframe tbody tr th {\n",
       "        vertical-align: top;\n",
       "    }\n",
       "\n",
       "    .dataframe thead th {\n",
       "        text-align: right;\n",
       "    }\n",
       "</style>\n",
       "<table border=\"1\" class=\"dataframe\">\n",
       "  <thead>\n",
       "    <tr style=\"text-align: right;\">\n",
       "      <th></th>\n",
       "      <th>comments</th>\n",
       "      <th>likes</th>\n",
       "    </tr>\n",
       "  </thead>\n",
       "  <tbody>\n",
       "    <tr>\n",
       "      <th>0</th>\n",
       "      <td>파나메라는 역시 패스트백 스타일이 잘어울리는 차네요.😄😄</td>\n",
       "      <td>4</td>\n",
       "    </tr>\n",
       "    <tr>\n",
       "      <th>1</th>\n",
       "      <td>진짜 너무 짱이다....ㅠㅠ....타보고싶어</td>\n",
       "      <td>5</td>\n",
       "    </tr>\n",
       "    <tr>\n",
       "      <th>2</th>\n",
       "      <td>파나메라는 기본형도 예쁘지만 이그제큐티브 모델이야 말로 4도어 대형 세단의 모습으로...</td>\n",
       "      <td>4</td>\n",
       "    </tr>\n",
       "    <tr>\n",
       "      <th>3</th>\n",
       "      <td>기업 총수가 된다면 대형 세단대신 꼭 타보고 싶은차.. 왠지 타다보면 기사님 뒤에 ...</td>\n",
       "      <td>3</td>\n",
       "    </tr>\n",
       "    <tr>\n",
       "      <th>4</th>\n",
       "      <td>무더운 날씨에 고생많으시네요늘 좋은 영상 감사합니다</td>\n",
       "      <td>4</td>\n",
       "    </tr>\n",
       "    <tr>\n",
       "      <th>...</th>\n",
       "      <td>...</td>\n",
       "      <td>...</td>\n",
       "    </tr>\n",
       "    <tr>\n",
       "      <th>275955</th>\n",
       "      <td>불메운동해서 패스~</td>\n",
       "      <td>3</td>\n",
       "    </tr>\n",
       "    <tr>\n",
       "      <th>275956</th>\n",
       "      <td>3년째 타는데 몇몇 단점빼고는 좋아요토요타의 극강의 내구도로 때맞춰 서비스만 하면 ...</td>\n",
       "      <td>2</td>\n",
       "    </tr>\n",
       "    <tr>\n",
       "      <th>275957</th>\n",
       "      <td>넘 멋지네요</td>\n",
       "      <td>3</td>\n",
       "    </tr>\n",
       "    <tr>\n",
       "      <th>275958</th>\n",
       "      <td>이차. 강서에 아직있나요.</td>\n",
       "      <td>3</td>\n",
       "    </tr>\n",
       "    <tr>\n",
       "      <th>275959</th>\n",
       "      <td>드림카 중 하나</td>\n",
       "      <td>3</td>\n",
       "    </tr>\n",
       "  </tbody>\n",
       "</table>\n",
       "<p>275960 rows × 2 columns</p>\n",
       "</div>"
      ],
      "text/plain": [
       "                                                 comments  likes\n",
       "0                         파나메라는 역시 패스트백 스타일이 잘어울리는 차네요.😄😄      4\n",
       "1                                진짜 너무 짱이다....ㅠㅠ....타보고싶어      5\n",
       "2       파나메라는 기본형도 예쁘지만 이그제큐티브 모델이야 말로 4도어 대형 세단의 모습으로...      4\n",
       "3       기업 총수가 된다면 대형 세단대신 꼭 타보고 싶은차.. 왠지 타다보면 기사님 뒤에 ...      3\n",
       "4                            무더운 날씨에 고생많으시네요늘 좋은 영상 감사합니다      4\n",
       "...                                                   ...    ...\n",
       "275955                                         불메운동해서 패스~      3\n",
       "275956  3년째 타는데 몇몇 단점빼고는 좋아요토요타의 극강의 내구도로 때맞춰 서비스만 하면 ...      2\n",
       "275957                                             넘 멋지네요      3\n",
       "275958                                     이차. 강서에 아직있나요.      3\n",
       "275959                                           드림카 중 하나      3\n",
       "\n",
       "[275960 rows x 2 columns]"
      ]
     },
     "execution_count": 38,
     "metadata": {},
     "output_type": "execute_result"
    }
   ],
   "source": [
    "df"
   ]
  },
  {
   "cell_type": "code",
   "execution_count": 39,
   "id": "f1566e4d",
   "metadata": {},
   "outputs": [
    {
     "data": {
      "text/plain": [
       "comments    0\n",
       "likes       0\n",
       "dtype: int64"
      ]
     },
     "execution_count": 39,
     "metadata": {},
     "output_type": "execute_result"
    }
   ],
   "source": [
    "df.isnull().sum()"
   ]
  },
  {
   "cell_type": "markdown",
   "id": "ed75d0e1",
   "metadata": {},
   "source": [
    "## 유튜브 댓글 시각화 아이디어\n",
    "### 긍정, 부정으로 나누어서 비율을 보여주면 더 좋을 것 같음\n"
   ]
  },
  {
   "cell_type": "code",
   "execution_count": 47,
   "id": "96d9622b",
   "metadata": {
    "scrolled": true
   },
   "outputs": [
    {
     "data": {
      "text/plain": [
       "[6461, 3601]"
      ]
     },
     "execution_count": 47,
     "metadata": {},
     "output_type": "execute_result"
    }
   ],
   "source": [
    "hd = len(df[df['comments'].str.contains('현대')])\n",
    "kia = len(df[df['comments'].str.contains('기아')])\n",
    "sample = [hd, kia]\n",
    "sample"
   ]
  },
  {
   "cell_type": "code",
   "execution_count": 48,
   "id": "b353f25b",
   "metadata": {},
   "outputs": [],
   "source": [
    "brand = ['현대','기아']"
   ]
  },
  {
   "cell_type": "code",
   "execution_count": 50,
   "id": "5eed23bf",
   "metadata": {},
   "outputs": [
    {
     "data": {
      "image/png": "[encoded data removed]",
      "text/plain": [
       "<Figure size 1080x864 with 1 Axes>"
      ]
     },
     "metadata": {},
     "output_type": "display_data"
    }
   ],
   "source": [
    "fig = plt.figure(figsize=(15,12))\n",
    "\n",
    "plt.pie(sample,\n",
    "        labels = brand,\n",
    "        autopct='%.1f%%',\n",
    "       startangle = 90,\n",
    "       counterclock=False,\n",
    "       textprops = {'fontsize':25},explode=[0,0.1], shadow=True, colors=['green','lightblue'])\n",
    "\n",
    "\n",
    "#plt.title(f'{find_mode} chart')\n",
    "plt.title('국산/수입 유튜브 댓글 점유율', size = 25)\n",
    "plt.rc('font', size = 25)\n",
    "plt.show()"
   ]
  },
  {
   "cell_type": "code",
   "execution_count": null,
   "id": "84876593",
   "metadata": {},
   "outputs": [],
   "source": []
  }
 ],
 "metadata": {
  "kernelspec": {
   "display_name": "Python 3 (ipykernel)",
   "language": "python",
   "name": "python3"
  },
  "language_info": {
   "codemirror_mode": {
    "name": "ipython",
    "version": 3
   },
   "file_extension": ".py",
   "mimetype": "text/x-python",
   "name": "python",
   "nbconvert_exporter": "python",
   "pygments_lexer": "ipython3",
   "version": "3.9.7"
  }
 },
 "nbformat": 4,
 "nbformat_minor": 5
}
