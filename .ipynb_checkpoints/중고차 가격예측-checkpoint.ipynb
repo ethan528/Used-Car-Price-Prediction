{
 "cells": [
  {
   "cell_type": "code",
   "execution_count": 1,
   "metadata": {},
   "outputs": [
    {
     "data": {
      "text/html": [
       "<div>\n",
       "<style scoped>\n",
       "    .dataframe tbody tr th:only-of-type {\n",
       "        vertical-align: middle;\n",
       "    }\n",
       "\n",
       "    .dataframe tbody tr th {\n",
       "        vertical-align: top;\n",
       "    }\n",
       "\n",
       "    .dataframe thead th {\n",
       "        text-align: right;\n",
       "    }\n",
       "</style>\n",
       "<table border=\"1\" class=\"dataframe\">\n",
       "  <thead>\n",
       "    <tr style=\"text-align: right;\">\n",
       "      <th></th>\n",
       "      <th>price</th>\n",
       "      <th>year</th>\n",
       "      <th>use</th>\n",
       "      <th>depreciation</th>\n",
       "      <th>mileage</th>\n",
       "      <th>car_cc</th>\n",
       "    </tr>\n",
       "  </thead>\n",
       "  <tbody>\n",
       "    <tr>\n",
       "      <th>0</th>\n",
       "      <td>849</td>\n",
       "      <td>2013</td>\n",
       "      <td>103</td>\n",
       "      <td>60</td>\n",
       "      <td>131493</td>\n",
       "      <td>0</td>\n",
       "    </tr>\n",
       "    <tr>\n",
       "      <th>1</th>\n",
       "      <td>1450</td>\n",
       "      <td>2018</td>\n",
       "      <td>52</td>\n",
       "      <td>27</td>\n",
       "      <td>60000</td>\n",
       "      <td>1598</td>\n",
       "    </tr>\n",
       "    <tr>\n",
       "      <th>2</th>\n",
       "      <td>655</td>\n",
       "      <td>2017</td>\n",
       "      <td>57</td>\n",
       "      <td>54</td>\n",
       "      <td>133319</td>\n",
       "      <td>0</td>\n",
       "    </tr>\n",
       "    <tr>\n",
       "      <th>3</th>\n",
       "      <td>999</td>\n",
       "      <td>2017</td>\n",
       "      <td>48</td>\n",
       "      <td>21</td>\n",
       "      <td>90000</td>\n",
       "      <td>1399</td>\n",
       "    </tr>\n",
       "    <tr>\n",
       "      <th>4</th>\n",
       "      <td>580</td>\n",
       "      <td>2011</td>\n",
       "      <td>131</td>\n",
       "      <td>83</td>\n",
       "      <td>159474</td>\n",
       "      <td>0</td>\n",
       "    </tr>\n",
       "  </tbody>\n",
       "</table>\n",
       "</div>"
      ],
      "text/plain": [
       "   price  year  use  depreciation  mileage  car_cc\n",
       "0    849  2013  103            60   131493       0\n",
       "1   1450  2018   52            27    60000    1598\n",
       "2    655  2017   57            54   133319       0\n",
       "3    999  2017   48            21    90000    1399\n",
       "4    580  2011  131            83   159474       0"
      ]
     },
     "execution_count": 1,
     "metadata": {},
     "output_type": "execute_result"
    }
   ],
   "source": [
    "import pandas as pd\n",
    "import warnings\n",
    "warnings.simplefilter('ignore')\n",
    "\n",
    "df = pd.read_csv('./preprocessed_kb_0518.csv', encoding='ansi')\n",
    "df = df[['price','year','use','depreciation','mileage', 'car_cc']]\n",
    "df.head()"
   ]
  },
  {
   "cell_type": "code",
   "execution_count": 2,
   "metadata": {},
   "outputs": [
    {
     "data": {
      "text/html": [
       "<div>\n",
       "<style scoped>\n",
       "    .dataframe tbody tr th:only-of-type {\n",
       "        vertical-align: middle;\n",
       "    }\n",
       "\n",
       "    .dataframe tbody tr th {\n",
       "        vertical-align: top;\n",
       "    }\n",
       "\n",
       "    .dataframe thead th {\n",
       "        text-align: right;\n",
       "    }\n",
       "</style>\n",
       "<table border=\"1\" class=\"dataframe\">\n",
       "  <thead>\n",
       "    <tr style=\"text-align: right;\">\n",
       "      <th></th>\n",
       "      <th>price</th>\n",
       "      <th>year</th>\n",
       "      <th>use</th>\n",
       "      <th>depreciation</th>\n",
       "      <th>mileage</th>\n",
       "      <th>car_cc</th>\n",
       "    </tr>\n",
       "  </thead>\n",
       "  <tbody>\n",
       "    <tr>\n",
       "      <th>price</th>\n",
       "      <td>1.00</td>\n",
       "      <td>0.51</td>\n",
       "      <td>-0.53</td>\n",
       "      <td>-0.55</td>\n",
       "      <td>-0.38</td>\n",
       "      <td>0.12</td>\n",
       "    </tr>\n",
       "    <tr>\n",
       "      <th>year</th>\n",
       "      <td>0.51</td>\n",
       "      <td>1.00</td>\n",
       "      <td>-0.99</td>\n",
       "      <td>-0.86</td>\n",
       "      <td>-0.61</td>\n",
       "      <td>0.02</td>\n",
       "    </tr>\n",
       "    <tr>\n",
       "      <th>use</th>\n",
       "      <td>-0.53</td>\n",
       "      <td>-0.99</td>\n",
       "      <td>1.00</td>\n",
       "      <td>0.87</td>\n",
       "      <td>0.61</td>\n",
       "      <td>-0.02</td>\n",
       "    </tr>\n",
       "    <tr>\n",
       "      <th>depreciation</th>\n",
       "      <td>-0.55</td>\n",
       "      <td>-0.86</td>\n",
       "      <td>0.87</td>\n",
       "      <td>1.00</td>\n",
       "      <td>0.72</td>\n",
       "      <td>-0.00</td>\n",
       "    </tr>\n",
       "    <tr>\n",
       "      <th>mileage</th>\n",
       "      <td>-0.38</td>\n",
       "      <td>-0.61</td>\n",
       "      <td>0.61</td>\n",
       "      <td>0.72</td>\n",
       "      <td>1.00</td>\n",
       "      <td>0.03</td>\n",
       "    </tr>\n",
       "    <tr>\n",
       "      <th>car_cc</th>\n",
       "      <td>0.12</td>\n",
       "      <td>0.02</td>\n",
       "      <td>-0.02</td>\n",
       "      <td>-0.00</td>\n",
       "      <td>0.03</td>\n",
       "      <td>1.00</td>\n",
       "    </tr>\n",
       "  </tbody>\n",
       "</table>\n",
       "</div>"
      ],
      "text/plain": [
       "              price  year   use  depreciation  mileage  car_cc\n",
       "price          1.00  0.51 -0.53         -0.55    -0.38    0.12\n",
       "year           0.51  1.00 -0.99         -0.86    -0.61    0.02\n",
       "use           -0.53 -0.99  1.00          0.87     0.61   -0.02\n",
       "depreciation  -0.55 -0.86  0.87          1.00     0.72   -0.00\n",
       "mileage       -0.38 -0.61  0.61          0.72     1.00    0.03\n",
       "car_cc         0.12  0.02 -0.02         -0.00     0.03    1.00"
      ]
     },
     "execution_count": 2,
     "metadata": {},
     "output_type": "execute_result"
    }
   ],
   "source": [
    "# 상관계수\n",
    "df.corr().round(2)"
   ]
  },
  {
   "cell_type": "code",
   "execution_count": 3,
   "metadata": {},
   "outputs": [
    {
     "data": {
      "text/html": [
       "<div>\n",
       "<style scoped>\n",
       "    .dataframe tbody tr th:only-of-type {\n",
       "        vertical-align: middle;\n",
       "    }\n",
       "\n",
       "    .dataframe tbody tr th {\n",
       "        vertical-align: top;\n",
       "    }\n",
       "\n",
       "    .dataframe thead th {\n",
       "        text-align: right;\n",
       "    }\n",
       "</style>\n",
       "<table border=\"1\" class=\"dataframe\">\n",
       "  <thead>\n",
       "    <tr style=\"text-align: right;\">\n",
       "      <th></th>\n",
       "      <th>price</th>\n",
       "      <th>year</th>\n",
       "      <th>use</th>\n",
       "      <th>depreciation</th>\n",
       "      <th>mileage</th>\n",
       "      <th>car_cc</th>\n",
       "    </tr>\n",
       "  </thead>\n",
       "  <tbody>\n",
       "    <tr>\n",
       "      <th>price</th>\n",
       "      <td>1.00</td>\n",
       "      <td>0.51</td>\n",
       "      <td>-0.53</td>\n",
       "      <td>-0.55</td>\n",
       "      <td>-0.38</td>\n",
       "      <td>0.12</td>\n",
       "    </tr>\n",
       "    <tr>\n",
       "      <th>year</th>\n",
       "      <td>0.51</td>\n",
       "      <td>1.00</td>\n",
       "      <td>-0.99</td>\n",
       "      <td>-0.86</td>\n",
       "      <td>-0.61</td>\n",
       "      <td>0.02</td>\n",
       "    </tr>\n",
       "    <tr>\n",
       "      <th>use</th>\n",
       "      <td>-0.53</td>\n",
       "      <td>-0.99</td>\n",
       "      <td>1.00</td>\n",
       "      <td>0.87</td>\n",
       "      <td>0.61</td>\n",
       "      <td>-0.02</td>\n",
       "    </tr>\n",
       "    <tr>\n",
       "      <th>depreciation</th>\n",
       "      <td>-0.55</td>\n",
       "      <td>-0.86</td>\n",
       "      <td>0.87</td>\n",
       "      <td>1.00</td>\n",
       "      <td>0.72</td>\n",
       "      <td>-0.00</td>\n",
       "    </tr>\n",
       "    <tr>\n",
       "      <th>mileage</th>\n",
       "      <td>-0.38</td>\n",
       "      <td>-0.61</td>\n",
       "      <td>0.61</td>\n",
       "      <td>0.72</td>\n",
       "      <td>1.00</td>\n",
       "      <td>0.03</td>\n",
       "    </tr>\n",
       "    <tr>\n",
       "      <th>car_cc</th>\n",
       "      <td>0.12</td>\n",
       "      <td>0.02</td>\n",
       "      <td>-0.02</td>\n",
       "      <td>-0.00</td>\n",
       "      <td>0.03</td>\n",
       "      <td>1.00</td>\n",
       "    </tr>\n",
       "  </tbody>\n",
       "</table>\n",
       "</div>"
      ],
      "text/plain": [
       "              price  year   use  depreciation  mileage  car_cc\n",
       "price          1.00  0.51 -0.53         -0.55    -0.38    0.12\n",
       "year           0.51  1.00 -0.99         -0.86    -0.61    0.02\n",
       "use           -0.53 -0.99  1.00          0.87     0.61   -0.02\n",
       "depreciation  -0.55 -0.86  0.87          1.00     0.72   -0.00\n",
       "mileage       -0.38 -0.61  0.61          0.72     1.00    0.03\n",
       "car_cc         0.12  0.02 -0.02         -0.00     0.03    1.00"
      ]
     },
     "execution_count": 3,
     "metadata": {},
     "output_type": "execute_result"
    }
   ],
   "source": [
    "from scipy.stats import pearsonr\n",
    "\n",
    "df.corr(method='pearson').round(2)"
   ]
  },
  {
   "cell_type": "code",
   "execution_count": 4,
   "metadata": {},
   "outputs": [
    {
     "data": {
      "text/html": [
       "<div>\n",
       "<style scoped>\n",
       "    .dataframe tbody tr th:only-of-type {\n",
       "        vertical-align: middle;\n",
       "    }\n",
       "\n",
       "    .dataframe tbody tr th {\n",
       "        vertical-align: top;\n",
       "    }\n",
       "\n",
       "    .dataframe thead th {\n",
       "        text-align: right;\n",
       "    }\n",
       "</style>\n",
       "<table border=\"1\" class=\"dataframe\">\n",
       "  <thead>\n",
       "    <tr style=\"text-align: right;\">\n",
       "      <th></th>\n",
       "      <th>price</th>\n",
       "      <th>year</th>\n",
       "      <th>use</th>\n",
       "      <th>depreciation</th>\n",
       "      <th>mileage</th>\n",
       "      <th>car_cc</th>\n",
       "    </tr>\n",
       "  </thead>\n",
       "  <tbody>\n",
       "    <tr>\n",
       "      <th>price</th>\n",
       "      <td>1.00</td>\n",
       "      <td>0.69</td>\n",
       "      <td>-0.70</td>\n",
       "      <td>-0.68</td>\n",
       "      <td>-0.50</td>\n",
       "      <td>0.19</td>\n",
       "    </tr>\n",
       "    <tr>\n",
       "      <th>year</th>\n",
       "      <td>0.69</td>\n",
       "      <td>1.00</td>\n",
       "      <td>-0.99</td>\n",
       "      <td>-0.90</td>\n",
       "      <td>-0.68</td>\n",
       "      <td>0.05</td>\n",
       "    </tr>\n",
       "    <tr>\n",
       "      <th>use</th>\n",
       "      <td>-0.70</td>\n",
       "      <td>-0.99</td>\n",
       "      <td>1.00</td>\n",
       "      <td>0.91</td>\n",
       "      <td>0.69</td>\n",
       "      <td>-0.05</td>\n",
       "    </tr>\n",
       "    <tr>\n",
       "      <th>depreciation</th>\n",
       "      <td>-0.68</td>\n",
       "      <td>-0.90</td>\n",
       "      <td>0.91</td>\n",
       "      <td>1.00</td>\n",
       "      <td>0.79</td>\n",
       "      <td>-0.02</td>\n",
       "    </tr>\n",
       "    <tr>\n",
       "      <th>mileage</th>\n",
       "      <td>-0.50</td>\n",
       "      <td>-0.68</td>\n",
       "      <td>0.69</td>\n",
       "      <td>0.79</td>\n",
       "      <td>1.00</td>\n",
       "      <td>0.01</td>\n",
       "    </tr>\n",
       "    <tr>\n",
       "      <th>car_cc</th>\n",
       "      <td>0.19</td>\n",
       "      <td>0.05</td>\n",
       "      <td>-0.05</td>\n",
       "      <td>-0.02</td>\n",
       "      <td>0.01</td>\n",
       "      <td>1.00</td>\n",
       "    </tr>\n",
       "  </tbody>\n",
       "</table>\n",
       "</div>"
      ],
      "text/plain": [
       "              price  year   use  depreciation  mileage  car_cc\n",
       "price          1.00  0.69 -0.70         -0.68    -0.50    0.19\n",
       "year           0.69  1.00 -0.99         -0.90    -0.68    0.05\n",
       "use           -0.70 -0.99  1.00          0.91     0.69   -0.05\n",
       "depreciation  -0.68 -0.90  0.91          1.00     0.79   -0.02\n",
       "mileage       -0.50 -0.68  0.69          0.79     1.00    0.01\n",
       "car_cc         0.19  0.05 -0.05         -0.02     0.01    1.00"
      ]
     },
     "execution_count": 4,
     "metadata": {},
     "output_type": "execute_result"
    }
   ],
   "source": [
    "from scipy.stats import spearmanr\n",
    "\n",
    "df.corr(method='spearman').round(2)"
   ]
  },
  {
   "cell_type": "code",
   "execution_count": 5,
   "metadata": {},
   "outputs": [
    {
     "data": {
      "text/html": [
       "<div>\n",
       "<style scoped>\n",
       "    .dataframe tbody tr th:only-of-type {\n",
       "        vertical-align: middle;\n",
       "    }\n",
       "\n",
       "    .dataframe tbody tr th {\n",
       "        vertical-align: top;\n",
       "    }\n",
       "\n",
       "    .dataframe thead th {\n",
       "        text-align: right;\n",
       "    }\n",
       "</style>\n",
       "<table border=\"1\" class=\"dataframe\">\n",
       "  <thead>\n",
       "    <tr style=\"text-align: right;\">\n",
       "      <th></th>\n",
       "      <th>price</th>\n",
       "      <th>year</th>\n",
       "      <th>use</th>\n",
       "      <th>depreciation</th>\n",
       "      <th>mileage</th>\n",
       "      <th>car_cc</th>\n",
       "    </tr>\n",
       "  </thead>\n",
       "  <tbody>\n",
       "    <tr>\n",
       "      <th>price</th>\n",
       "      <td>1.00</td>\n",
       "      <td>0.52</td>\n",
       "      <td>-0.51</td>\n",
       "      <td>-0.50</td>\n",
       "      <td>-0.35</td>\n",
       "      <td>0.14</td>\n",
       "    </tr>\n",
       "    <tr>\n",
       "      <th>year</th>\n",
       "      <td>0.52</td>\n",
       "      <td>1.00</td>\n",
       "      <td>-0.95</td>\n",
       "      <td>-0.76</td>\n",
       "      <td>-0.52</td>\n",
       "      <td>0.04</td>\n",
       "    </tr>\n",
       "    <tr>\n",
       "      <th>use</th>\n",
       "      <td>-0.51</td>\n",
       "      <td>-0.95</td>\n",
       "      <td>1.00</td>\n",
       "      <td>0.74</td>\n",
       "      <td>0.51</td>\n",
       "      <td>-0.04</td>\n",
       "    </tr>\n",
       "    <tr>\n",
       "      <th>depreciation</th>\n",
       "      <td>-0.50</td>\n",
       "      <td>-0.76</td>\n",
       "      <td>0.74</td>\n",
       "      <td>1.00</td>\n",
       "      <td>0.60</td>\n",
       "      <td>-0.01</td>\n",
       "    </tr>\n",
       "    <tr>\n",
       "      <th>mileage</th>\n",
       "      <td>-0.35</td>\n",
       "      <td>-0.52</td>\n",
       "      <td>0.51</td>\n",
       "      <td>0.60</td>\n",
       "      <td>1.00</td>\n",
       "      <td>0.00</td>\n",
       "    </tr>\n",
       "    <tr>\n",
       "      <th>car_cc</th>\n",
       "      <td>0.14</td>\n",
       "      <td>0.04</td>\n",
       "      <td>-0.04</td>\n",
       "      <td>-0.01</td>\n",
       "      <td>0.00</td>\n",
       "      <td>1.00</td>\n",
       "    </tr>\n",
       "  </tbody>\n",
       "</table>\n",
       "</div>"
      ],
      "text/plain": [
       "              price  year   use  depreciation  mileage  car_cc\n",
       "price          1.00  0.52 -0.51         -0.50    -0.35    0.14\n",
       "year           0.52  1.00 -0.95         -0.76    -0.52    0.04\n",
       "use           -0.51 -0.95  1.00          0.74     0.51   -0.04\n",
       "depreciation  -0.50 -0.76  0.74          1.00     0.60   -0.01\n",
       "mileage       -0.35 -0.52  0.51          0.60     1.00    0.00\n",
       "car_cc         0.14  0.04 -0.04         -0.01     0.00    1.00"
      ]
     },
     "execution_count": 5,
     "metadata": {},
     "output_type": "execute_result"
    }
   ],
   "source": [
    "from scipy.stats import kendalltau\n",
    "\n",
    "df.corr(method='kendall').round(2)"
   ]
  },
  {
   "cell_type": "code",
   "execution_count": 6,
   "metadata": {},
   "outputs": [],
   "source": [
    "from sklearn.model_selection import train_test_split\n",
    "\n",
    "x = df[['year', 'use', 'depreciation', 'mileage']]\n",
    "\n",
    "y = df.price\n",
    "\n",
    "X_test, X_train, y_test, y_train = train_test_split(x, y, train_size=0.8, test_size=0.2)"
   ]
  },
  {
   "cell_type": "code",
   "execution_count": 7,
   "metadata": {},
   "outputs": [
    {
     "name": "stdout",
     "output_type": "stream",
     "text": [
      "0.3202970433474597\n",
      "0.3122878513891727\n"
     ]
    }
   ],
   "source": [
    "from sklearn.linear_model import LinearRegression\n",
    "\n",
    "#선형 회귀\n",
    "mlr = LinearRegression()\n",
    "mlr.fit(X_train, y_train)\n",
    "mlr_pred = mlr.predict(X_test)\n",
    "\n",
    "print(mlr.score(X_train,y_train))\n",
    "print(mlr.score(X_test,y_test))"
   ]
  },
  {
   "cell_type": "code",
   "execution_count": 8,
   "metadata": {},
   "outputs": [
    {
     "data": {
      "text/plain": [
       "array([359.33009777])"
      ]
     },
     "execution_count": 8,
     "metadata": {},
     "output_type": "execute_result"
    }
   ],
   "source": [
    "# 판매가 390, 시세안전구간 414~580\n",
    "test = [[2011, 134, 90, 198485]]\n",
    "mlr.predict(test)"
   ]
  },
  {
   "cell_type": "code",
   "execution_count": 9,
   "metadata": {},
   "outputs": [
    {
     "data": {
      "image/png": "[encoded data removed]",
      "text/plain": [
       "<Figure size 720x360 with 1 Axes>"
      ]
     },
     "metadata": {
      "needs_background": "light"
     },
     "output_type": "display_data"
    }
   ],
   "source": [
    "import matplotlib.pyplot as plt\n",
    "\n",
    "plt.figure(figsize=(10, 5))\n",
    "plt.scatter(y_test, mlr_pred, alpha=0.3)\n",
    "plt.xlabel(\"실가\")\n",
    "plt.ylabel(\"예측가\")\n",
    "plt.title(\"중고차 가격 예측\")\n",
    "plt.show()"
   ]
  },
  {
   "cell_type": "code",
   "execution_count": 10,
   "metadata": {},
   "outputs": [
    {
     "data": {
      "image/png": "[encoded data removed]",
      "text/plain": [
       "<Figure size 360x1440 with 1 Axes>"
      ]
     },
     "metadata": {},
     "output_type": "display_data"
    }
   ],
   "source": [
    "import seaborn as sns\n",
    "from matplotlib import rcParams\n",
    "\n",
    "sns.set(font=\"Malgun Gothic\", \n",
    "        rc={\"axes.unicode_minus\":False,\n",
    "        'figure.figsize':(5,20)},\n",
    "        style='darkgrid')\n",
    "ax1 = sns.distplot(y, hist = False, label = 'y실제')\n",
    "ax2 = sns.distplot(mlr_pred, hist = False, label = 'y예측')\n",
    "plt.legend()\n",
    "plt.show()"
   ]
  },
  {
   "cell_type": "code",
   "execution_count": 11,
   "metadata": {},
   "outputs": [],
   "source": [
    "from patsy import dmatrices\n",
    "from statsmodels.stats.outliers_influence import variance_inflation_factor as vif\n",
    "\n",
    "#다중공선성 문제 검사\n",
    "folmula = \"price ~ \" + \"+\".join(df.columns[1:5])\n",
    "y, X = dmatrices(folmula, data = df, return_type='dataframe')"
   ]
  },
  {
   "cell_type": "code",
   "execution_count": 12,
   "metadata": {},
   "outputs": [
    {
     "data": {
      "text/html": [
       "<div>\n",
       "<style scoped>\n",
       "    .dataframe tbody tr th:only-of-type {\n",
       "        vertical-align: middle;\n",
       "    }\n",
       "\n",
       "    .dataframe tbody tr th {\n",
       "        vertical-align: top;\n",
       "    }\n",
       "\n",
       "    .dataframe thead th {\n",
       "        text-align: right;\n",
       "    }\n",
       "</style>\n",
       "<table border=\"1\" class=\"dataframe\">\n",
       "  <thead>\n",
       "    <tr style=\"text-align: right;\">\n",
       "      <th></th>\n",
       "      <th>colname</th>\n",
       "      <th>VIF</th>\n",
       "    </tr>\n",
       "  </thead>\n",
       "  <tbody>\n",
       "    <tr>\n",
       "      <th>0</th>\n",
       "      <td>Intercept</td>\n",
       "      <td>17806136.8</td>\n",
       "    </tr>\n",
       "    <tr>\n",
       "      <th>1</th>\n",
       "      <td>year</td>\n",
       "      <td>57.4</td>\n",
       "    </tr>\n",
       "    <tr>\n",
       "      <th>2</th>\n",
       "      <td>use</td>\n",
       "      <td>61.1</td>\n",
       "    </tr>\n",
       "    <tr>\n",
       "      <th>3</th>\n",
       "      <td>depreciation</td>\n",
       "      <td>5.4</td>\n",
       "    </tr>\n",
       "    <tr>\n",
       "      <th>4</th>\n",
       "      <td>mileage</td>\n",
       "      <td>2.1</td>\n",
       "    </tr>\n",
       "  </tbody>\n",
       "</table>\n",
       "</div>"
      ],
      "text/plain": [
       "        colname         VIF\n",
       "0     Intercept  17806136.8\n",
       "1          year        57.4\n",
       "2           use        61.1\n",
       "3  depreciation         5.4\n",
       "4       mileage         2.1"
      ]
     },
     "execution_count": 12,
     "metadata": {},
     "output_type": "execute_result"
    }
   ],
   "source": [
    "df_vif = pd.DataFrame()\n",
    "df_vif[\"colname\"] = X.columns\n",
    "df_vif[\"VIF\"] = [vif(X.values, i).round(1) for i in range(len(X.columns))]\n",
    "df_vif"
   ]
  },
  {
   "cell_type": "code",
   "execution_count": 13,
   "metadata": {},
   "outputs": [
    {
     "data": {
      "text/html": [
       "<div>\n",
       "<style scoped>\n",
       "    .dataframe tbody tr th:only-of-type {\n",
       "        vertical-align: middle;\n",
       "    }\n",
       "\n",
       "    .dataframe tbody tr th {\n",
       "        vertical-align: top;\n",
       "    }\n",
       "\n",
       "    .dataframe thead th {\n",
       "        text-align: right;\n",
       "    }\n",
       "</style>\n",
       "<table border=\"1\" class=\"dataframe\">\n",
       "  <thead>\n",
       "    <tr style=\"text-align: right;\">\n",
       "      <th></th>\n",
       "      <th>price</th>\n",
       "      <th>year</th>\n",
       "      <th>depreciation</th>\n",
       "      <th>mileage</th>\n",
       "    </tr>\n",
       "  </thead>\n",
       "  <tbody>\n",
       "    <tr>\n",
       "      <th>0</th>\n",
       "      <td>849</td>\n",
       "      <td>2013</td>\n",
       "      <td>60</td>\n",
       "      <td>131493</td>\n",
       "    </tr>\n",
       "    <tr>\n",
       "      <th>1</th>\n",
       "      <td>1450</td>\n",
       "      <td>2018</td>\n",
       "      <td>27</td>\n",
       "      <td>60000</td>\n",
       "    </tr>\n",
       "    <tr>\n",
       "      <th>2</th>\n",
       "      <td>655</td>\n",
       "      <td>2017</td>\n",
       "      <td>54</td>\n",
       "      <td>133319</td>\n",
       "    </tr>\n",
       "    <tr>\n",
       "      <th>3</th>\n",
       "      <td>999</td>\n",
       "      <td>2017</td>\n",
       "      <td>21</td>\n",
       "      <td>90000</td>\n",
       "    </tr>\n",
       "    <tr>\n",
       "      <th>4</th>\n",
       "      <td>580</td>\n",
       "      <td>2011</td>\n",
       "      <td>83</td>\n",
       "      <td>159474</td>\n",
       "    </tr>\n",
       "    <tr>\n",
       "      <th>...</th>\n",
       "      <td>...</td>\n",
       "      <td>...</td>\n",
       "      <td>...</td>\n",
       "      <td>...</td>\n",
       "    </tr>\n",
       "    <tr>\n",
       "      <th>44241</th>\n",
       "      <td>290</td>\n",
       "      <td>2006</td>\n",
       "      <td>93</td>\n",
       "      <td>143900</td>\n",
       "    </tr>\n",
       "    <tr>\n",
       "      <th>44242</th>\n",
       "      <td>400</td>\n",
       "      <td>2007</td>\n",
       "      <td>94</td>\n",
       "      <td>188310</td>\n",
       "    </tr>\n",
       "    <tr>\n",
       "      <th>44243</th>\n",
       "      <td>630</td>\n",
       "      <td>2010</td>\n",
       "      <td>83</td>\n",
       "      <td>144233</td>\n",
       "    </tr>\n",
       "    <tr>\n",
       "      <th>44244</th>\n",
       "      <td>990</td>\n",
       "      <td>2012</td>\n",
       "      <td>78</td>\n",
       "      <td>136212</td>\n",
       "    </tr>\n",
       "    <tr>\n",
       "      <th>44245</th>\n",
       "      <td>1850</td>\n",
       "      <td>2017</td>\n",
       "      <td>54</td>\n",
       "      <td>108313</td>\n",
       "    </tr>\n",
       "  </tbody>\n",
       "</table>\n",
       "<p>44246 rows × 4 columns</p>\n",
       "</div>"
      ],
      "text/plain": [
       "       price  year  depreciation  mileage\n",
       "0        849  2013            60   131493\n",
       "1       1450  2018            27    60000\n",
       "2        655  2017            54   133319\n",
       "3        999  2017            21    90000\n",
       "4        580  2011            83   159474\n",
       "...      ...   ...           ...      ...\n",
       "44241    290  2006            93   143900\n",
       "44242    400  2007            94   188310\n",
       "44243    630  2010            83   144233\n",
       "44244    990  2012            78   136212\n",
       "44245   1850  2017            54   108313\n",
       "\n",
       "[44246 rows x 4 columns]"
      ]
     },
     "execution_count": 13,
     "metadata": {},
     "output_type": "execute_result"
    }
   ],
   "source": [
    "# vif가 높은 변수 제외\n",
    "df_sub = pd.concat([df.loc[:, \"price\":\"year\"],\n",
    "df.loc[:, \"depreciation\":\"mileage\"]],\n",
    "axis=1)\n",
    "df_sub"
   ]
  },
  {
   "cell_type": "code",
   "execution_count": 14,
   "metadata": {},
   "outputs": [
    {
     "data": {
      "text/html": [
       "<div>\n",
       "<style scoped>\n",
       "    .dataframe tbody tr th:only-of-type {\n",
       "        vertical-align: middle;\n",
       "    }\n",
       "\n",
       "    .dataframe tbody tr th {\n",
       "        vertical-align: top;\n",
       "    }\n",
       "\n",
       "    .dataframe thead th {\n",
       "        text-align: right;\n",
       "    }\n",
       "</style>\n",
       "<table border=\"1\" class=\"dataframe\">\n",
       "  <thead>\n",
       "    <tr style=\"text-align: right;\">\n",
       "      <th></th>\n",
       "      <th>colname</th>\n",
       "      <th>VIF</th>\n",
       "    </tr>\n",
       "  </thead>\n",
       "  <tbody>\n",
       "    <tr>\n",
       "      <th>0</th>\n",
       "      <td>Intercept</td>\n",
       "      <td>1228401.7</td>\n",
       "    </tr>\n",
       "    <tr>\n",
       "      <th>1</th>\n",
       "      <td>year</td>\n",
       "      <td>4.0</td>\n",
       "    </tr>\n",
       "    <tr>\n",
       "      <th>2</th>\n",
       "      <td>depreciation</td>\n",
       "      <td>5.1</td>\n",
       "    </tr>\n",
       "    <tr>\n",
       "      <th>3</th>\n",
       "      <td>mileage</td>\n",
       "      <td>2.1</td>\n",
       "    </tr>\n",
       "  </tbody>\n",
       "</table>\n",
       "</div>"
      ],
      "text/plain": [
       "        colname        VIF\n",
       "0     Intercept  1228401.7\n",
       "1          year        4.0\n",
       "2  depreciation        5.1\n",
       "3       mileage        2.1"
      ]
     },
     "execution_count": 14,
     "metadata": {},
     "output_type": "execute_result"
    }
   ],
   "source": [
    "folmula = \"price ~ \" + \"+\".join(df_sub.columns[1:])\n",
    "y, X = dmatrices(folmula, data = df_sub, return_type='dataframe')\n",
    "df_vif = pd.DataFrame()\n",
    "df_vif[\"colname\"] = X.columns\n",
    "df_vif[\"VIF\"] = [vif(X.values, i).round(1) for i in range(X.shape[1])]\n",
    "df_vif"
   ]
  },
  {
   "cell_type": "code",
   "execution_count": 15,
   "metadata": {},
   "outputs": [
    {
     "data": {
      "text/html": [
       "<table class=\"simpletable\">\n",
       "<caption>OLS Regression Results</caption>\n",
       "<tr>\n",
       "  <th>Dep. Variable:</th>          <td>price</td>      <th>  R-squared:         </th>  <td>   0.304</td>  \n",
       "</tr>\n",
       "<tr>\n",
       "  <th>Model:</th>                   <td>OLS</td>       <th>  Adj. R-squared:    </th>  <td>   0.304</td>  \n",
       "</tr>\n",
       "<tr>\n",
       "  <th>Method:</th>             <td>Least Squares</td>  <th>  F-statistic:       </th>  <td>   6442.</td>  \n",
       "</tr>\n",
       "<tr>\n",
       "  <th>Date:</th>             <td>Wed, 25 May 2022</td> <th>  Prob (F-statistic):</th>   <td>  0.00</td>   \n",
       "</tr>\n",
       "<tr>\n",
       "  <th>Time:</th>                 <td>17:08:50</td>     <th>  Log-Likelihood:    </th> <td>-4.0031e+05</td>\n",
       "</tr>\n",
       "<tr>\n",
       "  <th>No. Observations:</th>      <td> 44246</td>      <th>  AIC:               </th>  <td>8.006e+05</td> \n",
       "</tr>\n",
       "<tr>\n",
       "  <th>Df Residuals:</th>          <td> 44242</td>      <th>  BIC:               </th>  <td>8.007e+05</td> \n",
       "</tr>\n",
       "<tr>\n",
       "  <th>Df Model:</th>              <td>     3</td>      <th>                     </th>      <td> </td>     \n",
       "</tr>\n",
       "<tr>\n",
       "  <th>Covariance Type:</th>      <td>nonrobust</td>    <th>                     </th>      <td> </td>     \n",
       "</tr>\n",
       "</table>\n",
       "<table class=\"simpletable\">\n",
       "<tr>\n",
       "        <td></td>          <th>coef</th>     <th>std err</th>      <th>t</th>      <th>P>|t|</th>  <th>[0.025</th>    <th>0.975]</th>  \n",
       "</tr>\n",
       "<tr>\n",
       "  <th>Intercept</th>    <td>-1.965e+05</td> <td> 1.08e+04</td> <td>  -18.141</td> <td> 0.000</td> <td>-2.18e+05</td> <td>-1.75e+05</td>\n",
       "</tr>\n",
       "<tr>\n",
       "  <th>year</th>         <td>   99.8580</td> <td>    5.357</td> <td>   18.641</td> <td> 0.000</td> <td>   89.358</td> <td>  110.358</td>\n",
       "</tr>\n",
       "<tr>\n",
       "  <th>depreciation</th> <td>  -45.0241</td> <td>    0.927</td> <td>  -48.562</td> <td> 0.000</td> <td>  -46.841</td> <td>  -43.207</td>\n",
       "</tr>\n",
       "<tr>\n",
       "  <th>mileage</th>      <td>    0.0010</td> <td>    0.000</td> <td>    4.333</td> <td> 0.000</td> <td>    0.001</td> <td>    0.001</td>\n",
       "</tr>\n",
       "</table>\n",
       "<table class=\"simpletable\">\n",
       "<tr>\n",
       "  <th>Omnibus:</th>       <td>39950.054</td> <th>  Durbin-Watson:     </th>  <td>   1.683</td>  \n",
       "</tr>\n",
       "<tr>\n",
       "  <th>Prob(Omnibus):</th>  <td> 0.000</td>   <th>  Jarque-Bera (JB):  </th> <td>3466170.878</td>\n",
       "</tr>\n",
       "<tr>\n",
       "  <th>Skew:</th>           <td> 4.019</td>   <th>  Prob(JB):          </th>  <td>    0.00</td>  \n",
       "</tr>\n",
       "<tr>\n",
       "  <th>Kurtosis:</th>       <td>45.609</td>   <th>  Cond. No.          </th>  <td>1.27e+08</td>  \n",
       "</tr>\n",
       "</table><br/><br/>Notes:<br/>[1] Standard Errors assume that the covariance matrix of the errors is correctly specified.<br/>[2] The condition number is large, 1.27e+08. This might indicate that there are<br/>strong multicollinearity or other numerical problems."
      ],
      "text/plain": [
       "<class 'statsmodels.iolib.summary.Summary'>\n",
       "\"\"\"\n",
       "                            OLS Regression Results                            \n",
       "==============================================================================\n",
       "Dep. Variable:                  price   R-squared:                       0.304\n",
       "Model:                            OLS   Adj. R-squared:                  0.304\n",
       "Method:                 Least Squares   F-statistic:                     6442.\n",
       "Date:                Wed, 25 May 2022   Prob (F-statistic):               0.00\n",
       "Time:                        17:08:50   Log-Likelihood:            -4.0031e+05\n",
       "No. Observations:               44246   AIC:                         8.006e+05\n",
       "Df Residuals:                   44242   BIC:                         8.007e+05\n",
       "Df Model:                           3                                         \n",
       "Covariance Type:            nonrobust                                         \n",
       "================================================================================\n",
       "                   coef    std err          t      P>|t|      [0.025      0.975]\n",
       "--------------------------------------------------------------------------------\n",
       "Intercept    -1.965e+05   1.08e+04    -18.141      0.000   -2.18e+05   -1.75e+05\n",
       "year            99.8580      5.357     18.641      0.000      89.358     110.358\n",
       "depreciation   -45.0241      0.927    -48.562      0.000     -46.841     -43.207\n",
       "mileage          0.0010      0.000      4.333      0.000       0.001       0.001\n",
       "==============================================================================\n",
       "Omnibus:                    39950.054   Durbin-Watson:                   1.683\n",
       "Prob(Omnibus):                  0.000   Jarque-Bera (JB):          3466170.878\n",
       "Skew:                           4.019   Prob(JB):                         0.00\n",
       "Kurtosis:                      45.609   Cond. No.                     1.27e+08\n",
       "==============================================================================\n",
       "\n",
       "Notes:\n",
       "[1] Standard Errors assume that the covariance matrix of the errors is correctly specified.\n",
       "[2] The condition number is large, 1.27e+08. This might indicate that there are\n",
       "strong multicollinearity or other numerical problems.\n",
       "\"\"\""
      ]
     },
     "execution_count": 15,
     "metadata": {},
     "output_type": "execute_result"
    }
   ],
   "source": [
    "from statsmodels.formula.api import ols\n",
    "\n",
    "folmula = \"price ~ \" + \"+\".join(df_sub.columns[1:])\n",
    "\n",
    "model = ols(folmula, data = df_sub).fit()\n",
    "model.summary()"
   ]
  },
  {
   "cell_type": "code",
   "execution_count": 16,
   "metadata": {},
   "outputs": [
    {
     "data": {
      "text/html": [
       "<div>\n",
       "<style scoped>\n",
       "    .dataframe tbody tr th:only-of-type {\n",
       "        vertical-align: middle;\n",
       "    }\n",
       "\n",
       "    .dataframe tbody tr th {\n",
       "        vertical-align: top;\n",
       "    }\n",
       "\n",
       "    .dataframe thead th {\n",
       "        text-align: right;\n",
       "    }\n",
       "</style>\n",
       "<table border=\"1\" class=\"dataframe\">\n",
       "  <thead>\n",
       "    <tr style=\"text-align: right;\">\n",
       "      <th></th>\n",
       "      <th>price</th>\n",
       "      <th>year</th>\n",
       "      <th>depreciation</th>\n",
       "      <th>mileage</th>\n",
       "    </tr>\n",
       "  </thead>\n",
       "  <tbody>\n",
       "    <tr>\n",
       "      <th>0</th>\n",
       "      <td>849</td>\n",
       "      <td>2011</td>\n",
       "      <td>90</td>\n",
       "      <td>198485</td>\n",
       "    </tr>\n",
       "  </tbody>\n",
       "</table>\n",
       "</div>"
      ],
      "text/plain": [
       "   price  year  depreciation  mileage\n",
       "0    849  2011            90   198485"
      ]
     },
     "execution_count": 16,
     "metadata": {},
     "output_type": "execute_result"
    }
   ],
   "source": [
    "# 테스트 데이터 재설정\n",
    "df_test = df.iloc[[0],[0]]\n",
    "df_test['year'] = 2011\n",
    "df_test['depreciation'] = 90\n",
    "df_test['mileage'] = 198485\n",
    "\n",
    "df_test"
   ]
  },
  {
   "cell_type": "code",
   "execution_count": 17,
   "metadata": {},
   "outputs": [
    {
     "data": {
      "text/plain": [
       "0    441.818866\n",
       "dtype: float64"
      ]
     },
     "execution_count": 17,
     "metadata": {},
     "output_type": "execute_result"
    }
   ],
   "source": [
    "model.predict(df_test)"
   ]
  },
  {
   "cell_type": "code",
   "execution_count": 18,
   "metadata": {},
   "outputs": [
    {
     "data": {
      "text/plain": [
       "0.3040097483170444"
      ]
     },
     "execution_count": 18,
     "metadata": {},
     "output_type": "execute_result"
    }
   ],
   "source": [
    "ols_pred = model.predict(X_test)\n",
    "model.rsquared"
   ]
  },
  {
   "cell_type": "code",
   "execution_count": 19,
   "metadata": {},
   "outputs": [
    {
     "data": {
      "image/png": "[encoded data removed]",
      "text/plain": [
       "<Figure size 360x1440 with 1 Axes>"
      ]
     },
     "metadata": {},
     "output_type": "display_data"
    }
   ],
   "source": [
    "sns.set(font=\"Malgun Gothic\", \n",
    "        rc={\"axes.unicode_minus\":False,\n",
    "        'figure.figsize':(5,20)},\n",
    "        style='darkgrid')\n",
    "ax1 = sns.distplot(y, hist = False, label = 'y실제')\n",
    "ax2 = sns.distplot(ols_pred, hist = False, label = 'y예측')\n",
    "plt.legend()\n",
    "plt.show()"
   ]
  },
  {
   "cell_type": "code",
   "execution_count": 20,
   "metadata": {},
   "outputs": [
    {
     "name": "stdout",
     "output_type": "stream",
     "text": [
      "0.3071380038208501\n",
      "0.30316269539963725\n",
      "[463.2273944]\n"
     ]
    }
   ],
   "source": [
    "x = df[['year', 'depreciation', 'mileage']]\n",
    "\n",
    "y = df.price\n",
    "\n",
    "X_test, X_train, y_test, y_train = train_test_split(x, y, train_size=0.8, test_size=0.2)\n",
    "\n",
    "mlr = LinearRegression()\n",
    "mlr.fit(X_train, y_train)\n",
    "mlr_pred = mlr.predict(X_test)\n",
    "\n",
    "test = [[2011, 90, 198485]]\n",
    "print(mlr.score(X_train,y_train))\n",
    "print(mlr.score(X_test,y_test))\n",
    "print(mlr.predict(test))"
   ]
  },
  {
   "cell_type": "code",
   "execution_count": 21,
   "metadata": {},
   "outputs": [
    {
     "name": "stdout",
     "output_type": "stream",
     "text": [
      "0.3071379953757156\n",
      "0.30316192972352685\n",
      "[463.32173289]\n"
     ]
    }
   ],
   "source": [
    "from sklearn.linear_model import Ridge,Lasso,ElasticNet\n",
    "from sklearn.pipeline import make_pipeline\n",
    "from sklearn.preprocessing import StandardScaler\n",
    "from sklearn.model_selection import GridSearchCV\n",
    "\n",
    "model_ridge = make_pipeline(StandardScaler(),Ridge())\n",
    "model_ridge.fit(X_train,y_train)\n",
    "print(model_ridge.score(X_train,y_train))\n",
    "print(model_ridge.score(X_test,y_test))\n",
    "print(model_ridge.predict(test))"
   ]
  },
  {
   "cell_type": "code",
   "execution_count": 22,
   "metadata": {},
   "outputs": [
    {
     "name": "stdout",
     "output_type": "stream",
     "text": [
      "{'alpha': 0.0001}\n",
      "0.3087954560578585\n"
     ]
    }
   ],
   "source": [
    "param_value = {'alpha':[0.0001,0.01,1,2,3,4]}\n",
    "modelRidge = Ridge()\n",
    "gridSearch_ridge = GridSearchCV(modelRidge,param_grid = param_value,cv=10)\n",
    "gridSearch_ridge.fit(X_train,y_train)\n",
    "\n",
    "print(gridSearch_ridge.best_params_)\n",
    "print(gridSearch_ridge.best_score_)\n"
   ]
  },
  {
   "cell_type": "code",
   "execution_count": 23,
   "metadata": {},
   "outputs": [
    {
     "name": "stdout",
     "output_type": "stream",
     "text": [
      "0.3071380037144511\n",
      "0.3031628200724923\n",
      "[463.2201867]\n"
     ]
    }
   ],
   "source": [
    "modelRidge = Ridge(alpha=0.0001)\n",
    "modelRidge.fit(X_train,y_train)\n",
    "\n",
    "print(modelRidge.score(X_train,y_train))\n",
    "print(modelRidge.score(X_test,y_test))\n",
    "print(modelRidge.predict(test))"
   ]
  },
  {
   "cell_type": "code",
   "execution_count": 24,
   "metadata": {},
   "outputs": [
    {
     "name": "stdout",
     "output_type": "stream",
     "text": [
      "0.3071379687829713\n",
      "0.30316486879718985\n",
      "[463.11279113]\n"
     ]
    }
   ],
   "source": [
    "model_lasso = Lasso()\n",
    "model_lasso.fit(X_train,y_train)\n",
    "print(model_lasso.score(X_train,y_train))\n",
    "print(model_lasso.score(X_test,y_test))\n",
    "print(model_lasso.predict(test))"
   ]
  },
  {
   "cell_type": "code",
   "execution_count": 25,
   "metadata": {},
   "outputs": [
    {
     "name": "stdout",
     "output_type": "stream",
     "text": [
      "{'alpha': 0.0001}\n",
      "0.30879545602640335\n"
     ]
    }
   ],
   "source": [
    "modelLasso = Lasso()\n",
    "gridSearch_lasso = GridSearchCV(modelLasso,param_grid = param_value,cv=10)\n",
    "gridSearch_lasso.fit(X_train,y_train)\n",
    "\n",
    "print(gridSearch_lasso.best_params_)\n",
    "print(gridSearch_lasso.best_score_)"
   ]
  },
  {
   "cell_type": "code",
   "execution_count": 26,
   "metadata": {},
   "outputs": [
    {
     "name": "stdout",
     "output_type": "stream",
     "text": [
      "0.30713800382084944\n",
      "0.3031626956203435\n",
      "[463.22738295]\n"
     ]
    }
   ],
   "source": [
    "modelLasso = Lasso(alpha=0.0001)\n",
    "modelLasso.fit(X_train,y_train)\n",
    "\n",
    "print(modelLasso.score(X_train,y_train))\n",
    "print(modelLasso.score(X_test,y_test))\n",
    "print(modelLasso.predict(test))"
   ]
  },
  {
   "cell_type": "code",
   "execution_count": 27,
   "metadata": {},
   "outputs": [
    {
     "name": "stdout",
     "output_type": "stream",
     "text": [
      "0.30703884895415656\n",
      "0.3031828450792453\n",
      "[456.36954831]\n"
     ]
    }
   ],
   "source": [
    "model_elastic = ElasticNet(l1_ratio=0.5)\n",
    "model_elastic.fit(X_train,y_train)\n",
    "print(model_elastic.score(X_train,y_train))\n",
    "print(model_elastic.score(X_test,y_test))\n",
    "print(model_elastic.predict(test))"
   ]
  },
  {
   "cell_type": "code",
   "execution_count": 28,
   "metadata": {},
   "outputs": [
    {
     "name": "stdout",
     "output_type": "stream",
     "text": [
      "{'elasticnet__alpha': 0.01}\n",
      "0.30882215939287067\n"
     ]
    }
   ],
   "source": [
    "modelElastic = make_pipeline(StandardScaler(),ElasticNet())\n",
    "gridSearch_elastic = GridSearchCV(modelElastic,param_grid = param_value,cv=10)\n",
    "gridSearch_elastic.fit(X_train,y_train)\n",
    "\n",
    "print(gridSearch_elastic.best_params_)\n",
    "print(gridSearch_elastic.best_score_)"
   ]
  },
  {
   "cell_type": "code",
   "execution_count": 34,
   "metadata": {},
   "outputs": [
    {
     "name": "stdout",
     "output_type": "stream",
     "text": [
      "0.30712252653917727\n",
      "0.3031142654873511\n",
      "[467.31183893]\n"
     ]
    }
   ],
   "source": [
    "modelElastic = make_pipeline(StandardScaler(),ElasticNet(alpha=0.01))\n",
    "modelElastic.fit(X_train,y_train)\n",
    "\n",
    "print(modelElastic.score(X_train,y_train))\n",
    "print(modelElastic.score(X_test,y_test))\n",
    "print(modelElastic.predict(test))"
   ]
  },
  {
   "cell_type": "code",
   "execution_count": 30,
   "metadata": {},
   "outputs": [
    {
     "name": "stdout",
     "output_type": "stream",
     "text": [
      "0.32131119940424224\n",
      "0.31278460974219446\n",
      "[655.91517943]\n"
     ]
    }
   ],
   "source": [
    "from sklearn.preprocessing import PolynomialFeatures\n",
    "\n",
    "model = make_pipeline(PolynomialFeatures(degree=2),StandardScaler(),\n",
    "                      LinearRegression())\n",
    "model.fit(X_train,y_train)\n",
    "\n",
    "print(model.score(X_train,y_train))\n",
    "print(model.score(X_test,y_test))\n",
    "print(model.predict(test))"
   ]
  },
  {
   "cell_type": "code",
   "execution_count": 31,
   "metadata": {},
   "outputs": [
    {
     "name": "stdout",
     "output_type": "stream",
     "text": [
      "Iteration 1, loss = 6562600.54208882\n",
      "Iteration 2, loss = 4346359.59711684\n",
      "Iteration 3, loss = 2530475.50990783\n",
      "Iteration 4, loss = 2422641.15342771\n",
      "Iteration 5, loss = 2421985.89004491\n",
      "Iteration 6, loss = 2401421.02107353\n",
      "Iteration 7, loss = 2408749.58908155\n",
      "Iteration 8, loss = 2404750.71538751\n",
      "Iteration 9, loss = 2420064.93876439\n",
      "Iteration 10, loss = 2418500.32824993\n",
      "Iteration 11, loss = 2459665.16542413\n",
      "Iteration 12, loss = 2380525.23484733\n",
      "Iteration 13, loss = 2398144.22223805\n",
      "Iteration 14, loss = 2381938.38363627\n",
      "Iteration 15, loss = 2379766.48900478\n",
      "Iteration 16, loss = 2356837.54964106\n",
      "Iteration 17, loss = 2395304.91713691\n",
      "Iteration 18, loss = 2359540.51747861\n",
      "Iteration 19, loss = 2372797.92087515\n",
      "Iteration 20, loss = 2389515.39015628\n",
      "Iteration 21, loss = 2363289.97417053\n",
      "Iteration 22, loss = 2331142.32624724\n",
      "Iteration 23, loss = 2314021.28384744\n",
      "Iteration 24, loss = 2357649.13096328\n",
      "Iteration 25, loss = 2313632.80278686\n",
      "Iteration 26, loss = 2331960.21734960\n",
      "Iteration 27, loss = 2334081.47169617\n",
      "Iteration 28, loss = 2300697.99386915\n",
      "Iteration 29, loss = 2296119.54093573\n",
      "Iteration 30, loss = 2297769.01932838\n",
      "Iteration 31, loss = 2399218.17168014\n",
      "Iteration 32, loss = 2473486.32241050\n",
      "Iteration 33, loss = 2339739.77537921\n",
      "Iteration 34, loss = 2283853.85421244\n",
      "Iteration 35, loss = 2309954.84864710\n",
      "Iteration 36, loss = 2292738.70396061\n",
      "Iteration 37, loss = 2251472.93004687\n",
      "Iteration 38, loss = 2260900.40507899\n",
      "Iteration 39, loss = 2274807.49043541\n",
      "Iteration 40, loss = 2288827.57269327\n",
      "Iteration 41, loss = 2257827.30106604\n",
      "Iteration 42, loss = 2344820.76371748\n",
      "Iteration 43, loss = 2230218.39622795\n",
      "Iteration 44, loss = 2233631.29309478\n",
      "Iteration 45, loss = 2250332.46305286\n",
      "Iteration 46, loss = 2229508.10038099\n",
      "Iteration 47, loss = 2212964.80174432\n",
      "Iteration 48, loss = 2253705.34429748\n",
      "Iteration 49, loss = 2224655.88665045\n",
      "Iteration 50, loss = 2208908.48123977\n",
      "Iteration 51, loss = 2226496.11655301\n",
      "Iteration 52, loss = 2264904.37815714\n",
      "Iteration 53, loss = 2218686.47545768\n",
      "Iteration 54, loss = 2176610.17727715\n",
      "Iteration 55, loss = 2203062.79116149\n",
      "Iteration 56, loss = 2185386.20158461\n",
      "Iteration 57, loss = 2170782.62874068\n",
      "Iteration 58, loss = 2197500.33528693\n",
      "Iteration 59, loss = 2249811.78659267\n",
      "Iteration 60, loss = 2201448.72178837\n",
      "Iteration 61, loss = 2237196.14238286\n",
      "Iteration 62, loss = 2174337.73823747\n",
      "Iteration 63, loss = 2181288.99939268\n",
      "Iteration 64, loss = 2207660.42705962\n",
      "Iteration 65, loss = 2182892.32305753\n",
      "Iteration 66, loss = 2333701.49060818\n",
      "Iteration 67, loss = 2160000.32183689\n",
      "Iteration 68, loss = 2220837.45988475\n",
      "Iteration 69, loss = 2181418.97991393\n",
      "Iteration 70, loss = 2196835.21712919\n",
      "Iteration 71, loss = 2191969.92759228\n",
      "Iteration 72, loss = 2164059.16813452\n",
      "Iteration 73, loss = 2158219.70364656\n",
      "Iteration 74, loss = 2133612.96263276\n",
      "Iteration 75, loss = 2154992.14861539\n",
      "Iteration 76, loss = 2180528.27109776\n",
      "Iteration 77, loss = 2183265.09618584\n",
      "Iteration 78, loss = 2126033.39926999\n",
      "Iteration 79, loss = 2177693.98003966\n",
      "Iteration 80, loss = 2224790.77657065\n",
      "Iteration 81, loss = 2148757.23822758\n",
      "Iteration 82, loss = 2184754.69649921\n",
      "Iteration 83, loss = 2215449.19963152\n",
      "Iteration 84, loss = 2157502.58123044\n",
      "Iteration 85, loss = 2179902.25673145\n",
      "Iteration 86, loss = 2137836.75500064\n",
      "Iteration 87, loss = 2162001.69997922\n",
      "Iteration 88, loss = 2207718.97656127\n",
      "Iteration 89, loss = 2173363.15857208\n",
      "Training loss did not improve more than tol=0.000100 for 10 consecutive epochs. Stopping.\n"
     ]
    },
    {
     "data": {
      "text/plain": [
       "array([33.91325748])"
      ]
     },
     "execution_count": 31,
     "metadata": {},
     "output_type": "execute_result"
    }
   ],
   "source": [
    "from sklearn.neural_network import MLPRegressor\n",
    "\n",
    "modelML = MLPRegressor(hidden_layer_sizes=[500,4],max_iter=5000,alpha=0.005,verbose=1)\n",
    "modelML.fit(X_train,y_train)\n",
    "modelML.score(X_test,y_test)\n",
    "modelML.predict(test)"
   ]
  },
  {
   "cell_type": "code",
   "execution_count": 32,
   "metadata": {},
   "outputs": [
    {
     "name": "stdout",
     "output_type": "stream",
     "text": [
      "Iteration 1, loss = 4154973.72680474\n",
      "Iteration 2, loss = 2742520.45625888\n",
      "Iteration 3, loss = 2483659.44277865\n",
      "Iteration 4, loss = 2509675.18911086\n",
      "Iteration 5, loss = 2435907.04720874\n",
      "Iteration 6, loss = 2413280.09732038\n",
      "Iteration 7, loss = 2415388.57488914\n",
      "Iteration 8, loss = 2480684.11922088\n",
      "Iteration 9, loss = 2403370.33245834\n",
      "Iteration 10, loss = 2385060.10328417\n",
      "Iteration 11, loss = 2432211.80755005\n",
      "Iteration 12, loss = 2407216.63550804\n",
      "Iteration 13, loss = 2376054.06595717\n",
      "Iteration 14, loss = 2400357.06262859\n",
      "Iteration 15, loss = 2391190.32801720\n",
      "Iteration 16, loss = 2354071.25450371\n",
      "Iteration 17, loss = 2402878.00592103\n",
      "Iteration 18, loss = 2373354.41887952\n",
      "Iteration 19, loss = 2366994.47423278\n",
      "Iteration 20, loss = 2335154.97248214\n",
      "Iteration 21, loss = 2356676.54553518\n",
      "Iteration 22, loss = 2368007.41062991\n",
      "Iteration 23, loss = 2358786.47659503\n",
      "Iteration 24, loss = 2302240.95129561\n",
      "Iteration 25, loss = 2310221.06872149\n",
      "Iteration 26, loss = 2307166.60828219\n",
      "Iteration 27, loss = 2366830.37723892\n",
      "Iteration 28, loss = 2311493.71018363\n",
      "Iteration 29, loss = 2303207.20920706\n",
      "Iteration 30, loss = 2333315.05215659\n",
      "Iteration 31, loss = 2339904.75168399\n",
      "Iteration 32, loss = 2329426.25632980\n",
      "Iteration 33, loss = 2280970.66845689\n",
      "Iteration 34, loss = 2317263.17814434\n",
      "Iteration 35, loss = 2256534.82565468\n",
      "Iteration 36, loss = 2256577.54948117\n",
      "Iteration 37, loss = 2253893.02687730\n",
      "Iteration 38, loss = 2280707.86929301\n",
      "Iteration 39, loss = 2242123.20388073\n",
      "Iteration 40, loss = 2261581.88337932\n",
      "Iteration 41, loss = 2300141.21644949\n",
      "Iteration 42, loss = 2292713.76056527\n",
      "Iteration 43, loss = 2214237.34190510\n",
      "Iteration 44, loss = 2289435.08178819\n",
      "Iteration 45, loss = 2251172.88294156\n",
      "Iteration 46, loss = 2233030.88469430\n",
      "Iteration 47, loss = 2301803.34313001\n",
      "Iteration 48, loss = 2208146.79144618\n",
      "Iteration 49, loss = 2209175.43753276\n",
      "Iteration 50, loss = 2212966.56075158\n",
      "Iteration 51, loss = 2199646.04557840\n",
      "Iteration 52, loss = 2213302.82425942\n",
      "Iteration 53, loss = 2171323.01664555\n",
      "Iteration 54, loss = 2242948.62344986\n",
      "Iteration 55, loss = 2206143.11386707\n",
      "Iteration 56, loss = 2241487.66937402\n",
      "Iteration 57, loss = 2154257.11473433\n",
      "Iteration 58, loss = 2174959.76767610\n",
      "Iteration 59, loss = 2146917.26180630\n",
      "Iteration 60, loss = 2199657.42036740\n",
      "Iteration 61, loss = 2202721.70916162\n",
      "Iteration 62, loss = 2187535.26985542\n",
      "Iteration 63, loss = 2152197.35029139\n",
      "Iteration 64, loss = 2152013.92672874\n",
      "Iteration 65, loss = 2191077.73712122\n",
      "Iteration 66, loss = 2146115.86368230\n",
      "Iteration 67, loss = 2171301.93278018\n",
      "Iteration 68, loss = 2166113.67152818\n",
      "Iteration 69, loss = 2198971.85096021\n",
      "Iteration 70, loss = 2144308.46450022\n",
      "Iteration 71, loss = 2116183.18842149\n",
      "Iteration 72, loss = 2162124.01932172\n",
      "Iteration 73, loss = 2183796.67789887\n",
      "Iteration 74, loss = 2177156.76904749\n",
      "Iteration 75, loss = 2163456.81772422\n",
      "Iteration 76, loss = 2137391.66404694\n",
      "Iteration 77, loss = 2206610.86161918\n",
      "Iteration 78, loss = 2148499.77554360\n",
      "Iteration 79, loss = 2147992.32219632\n",
      "Iteration 80, loss = 2108461.85889146\n",
      "Iteration 81, loss = 2195818.41146011\n",
      "Iteration 82, loss = 2225576.76841070\n",
      "Iteration 83, loss = 2117646.88539243\n",
      "Iteration 84, loss = 2129171.89357973\n",
      "Iteration 85, loss = 2219111.75272929\n",
      "Iteration 86, loss = 2170549.67369280\n",
      "Iteration 87, loss = 2147369.10211164\n",
      "Iteration 88, loss = 2188122.93149869\n",
      "Iteration 89, loss = 2114955.58503312\n",
      "Iteration 90, loss = 2177199.63658475\n",
      "Iteration 91, loss = 2111921.96508286\n",
      "Training loss did not improve more than tol=0.000100 for 10 consecutive epochs. Stopping.\n"
     ]
    },
    {
     "data": {
      "text/plain": [
       "array([779.64648501])"
      ]
     },
     "execution_count": 32,
     "metadata": {},
     "output_type": "execute_result"
    }
   ],
   "source": [
    "modelML = MLPRegressor(hidden_layer_sizes=[1000,4],max_iter=5000,alpha=0.005,\n",
    "                       verbose=1,random_state=1)\n",
    "modelML.fit(X_train,y_train)\n",
    "modelML.score(X_test,y_test)\n",
    "modelML.predict(test)"
   ]
  },
  {
   "cell_type": "code",
   "execution_count": 33,
   "metadata": {},
   "outputs": [
    {
     "name": "stdout",
     "output_type": "stream",
     "text": [
      "<class 'sklearn.linear_model._base.LinearRegression'>\n",
      "0.3071380038208501\n",
      "0.30316269539963725\n",
      "<class 'sklearn.neural_network._multilayer_perceptron.MLPRegressor'>\n",
      "0.2944649332264444\n",
      "0.2881838455955702\n",
      "<class 'sklearn.neural_network._multilayer_perceptron.MLPRegressor'>\n",
      "0.271947746818359\n",
      "0.2641051894477182\n",
      "<class 'sklearn.neural_network._multilayer_perceptron.MLPRegressor'>\n",
      "0.2944649332264444\n",
      "0.2881838455955702\n",
      "<class 'sklearn.neural_network._multilayer_perceptron.MLPRegressor'>\n",
      "0.2775592366332673\n",
      "0.26985002847559825\n",
      "<class 'sklearn.neural_network._multilayer_perceptron.MLPRegressor'>\n",
      "0.269724605911529\n",
      "0.261004880344026\n"
     ]
    }
   ],
   "source": [
    "from sklearn.metrics import r2_score\n",
    "\n",
    "models = [\n",
    "    LinearRegression(), \n",
    "    MLPRegressor(hidden_layer_sizes=[512, 4], alpha=0.005, random_state=42),\n",
    "    MLPRegressor(hidden_layer_sizes=[48, 4], max_iter=5000, alpha=0.005, random_state=42), \n",
    "    MLPRegressor(hidden_layer_sizes=[512, 4], max_iter=5000, alpha=0.005, random_state=42), \n",
    "    MLPRegressor(hidden_layer_sizes=[1024, 4], max_iter=5000, alpha=0.005, random_state=42),\n",
    "    MLPRegressor(hidden_layer_sizes=[1024, 512, 4], max_iter=5000, alpha=0.005, random_state=42),\n",
    "]\n",
    "\n",
    "for m in models:\n",
    "    m.fit(X_train, y_train)\n",
    "    print(m.__class__)\n",
    "    print(r2_score(y_train, m.predict(X_train)))\n",
    "    print(r2_score(y_test, m.predict(X_test)))  "
   ]
  }
 ],
 "metadata": {
  "interpreter": {
   "hash": "263930470851f494f0ed2879c35b57985588df20f9e529b86e97dd5eb9ddc466"
  },
  "kernelspec": {
   "display_name": "Python 3 (ipykernel)",
   "language": "python",
   "name": "python3"
  },
  "language_info": {
   "codemirror_mode": {
    "name": "ipython",
    "version": 3
   },
   "file_extension": ".py",
   "mimetype": "text/x-python",
   "name": "python",
   "nbconvert_exporter": "python",
   "pygments_lexer": "ipython3",
   "version": "3.10.4"
  }
 },
 "nbformat": 4,
 "nbformat_minor": 2
}
