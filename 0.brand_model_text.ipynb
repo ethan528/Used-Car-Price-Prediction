{
 "cells": [
  {
   "cell_type": "code",
   "execution_count": 1,
   "id": "befe9f06",
   "metadata": {},
   "outputs": [],
   "source": [
    "현대 = '''\n",
    "i30\n",
    "i40\n",
    "갤로퍼\n",
    "그랜저\n",
    "그레이스\n",
    "기타\n",
    "넥쏘\n",
    "다이너스티\n",
    "라비타\n",
    "리베로\n",
    "마르샤\n",
    "마이티\n",
    "맥스크루즈\n",
    "버스(16~36인)\n",
    "버스(26인이상)\n",
    "베뉴\n",
    "베라크루즈\n",
    "베르나\n",
    "벨로스터\n",
    "스타렉스\n",
    "스타리아\n",
    "스텔라\n",
    "싼타모\n",
    "싼타페\n",
    "쏘나타\n",
    "쏠라티\n",
    "아반떼\n",
    "아슬란\n",
    "아이오닉\n",
    "아이오닉5\n",
    "에쿠스\n",
    "엑센트\n",
    "엑셀\n",
    "엘란트라\n",
    "제네시스\n",
    "제네시스쿠페\n",
    "캐스퍼\n",
    "코나\n",
    "클릭\n",
    "테라칸\n",
    "투스카니\n",
    "투싼\n",
    "트라고\n",
    "트라제XG\n",
    "트럭(2.5~4.5톤)\n",
    "트럭(4.5톤이상)\n",
    "티뷰론\n",
    "펠리세이드\n",
    "포니\n",
    "포터\n",
    "프레스토\n",
    "'''"
   ]
  },
  {
   "cell_type": "code",
   "execution_count": 2,
   "id": "c2630331",
   "metadata": {},
   "outputs": [],
   "source": [
    "기아 = '''\n",
    "EV6\n",
    "K3\n",
    "K5\n",
    "K7\n",
    "K8\n",
    "K9\n",
    "니로\n",
    "레이\n",
    "레토나\n",
    "로체\n",
    "리오\n",
    "모닝\n",
    "모하비\n",
    "버스(26인이상)\n",
    "봉고\n",
    "비스토\n",
    "세레스\n",
    "세피아\n",
    "셀토스\n",
    "스토닉\n",
    "스팅어\n",
    "스펙트라\n",
    "스포티지\n",
    "쎄라토\n",
    "쏘렌토\n",
    "쏘울\n",
    "엑스트렉\n",
    "엔터프라이즈\n",
    "엘란\n",
    "오피러스\n",
    "옵티마\n",
    "카니발\n",
    "카렌스\n",
    "카스타\n",
    "캐피탈\n",
    "크레도스\n",
    "타우너\n",
    "트럭(2.5~4.5톤)\n",
    "트럭(4.5톤이상)\n",
    "포르테\n",
    "포텐샤\n",
    "프라이드\n",
    "프런티어\n",
    "프레지오\n",
    "'''"
   ]
  },
  {
   "cell_type": "code",
   "execution_count": 3,
   "id": "07bb9eee",
   "metadata": {},
   "outputs": [],
   "source": [
    "한국GM = '''\n",
    "G2X\n",
    "다마스\n",
    "대우버스\n",
    "라노스\n",
    "라보\n",
    "라세티\n",
    "레조\n",
    "르망\n",
    "마티즈\n",
    "매그너스\n",
    "베리타스\n",
    "브로엄\n",
    "쉐보레 말리부\n",
    "쉐보레 볼트\n",
    "쉐보레 스파크\n",
    "쉐보레 아베오\n",
    "쉐보레 올란도\n",
    "쉐보레 이쿼녹스\n",
    "쉐보레 임팔라\n",
    "쉐보레 카마로\n",
    "쉐보레 캡티바\n",
    "쉐보레 콜로라도\n",
    "쉐보레 콜벳\n",
    "쉐보레 크루즈\n",
    "쉐보레 트래버스\n",
    "쉐보레 트랙스\n",
    "쉐보레 트레일블레이저\n",
    "스테이츠맨\n",
    "아카디아\n",
    "알페온\n",
    "윈스톰\n",
    "젠트라\n",
    "토스카\n",
    "트럭(4.5톤이상)\n",
    "티코\n",
    "프린스\n",
    "'''"
   ]
  },
  {
   "cell_type": "code",
   "execution_count": 4,
   "id": "f5342f18",
   "metadata": {},
   "outputs": [],
   "source": [
    "쌍용 ='''\n",
    "렉스턴\n",
    "로디우스\n",
    "무쏘\n",
    "액티언\n",
    "이스타나\n",
    "체어맨\n",
    "카이런\n",
    "코란도\n",
    "티볼리\n",
    "'''"
   ]
  },
  {
   "cell_type": "code",
   "execution_count": 5,
   "id": "d16919b5",
   "metadata": {},
   "outputs": [],
   "source": [
    "르노코리아 = '''\n",
    "QM3\n",
    "QM5\n",
    "QM6\n",
    "SM3\n",
    "SM5\n",
    "SM6\n",
    "SM7\n",
    "XM3\n",
    "마스터\n",
    "조에\n",
    "캡처\n",
    "클리오\n",
    "트위지\n",
    "'''"
   ]
  },
  {
   "cell_type": "code",
   "execution_count": 6,
   "id": "1d342f4f",
   "metadata": {},
   "outputs": [],
   "source": [
    "제네시스 = '''\n",
    "EQ900\n",
    "G70\n",
    "G80\n",
    "G90\n",
    "GV60\n",
    "GV70\n",
    "GV80\n",
    "'''"
   ]
  },
  {
   "cell_type": "markdown",
   "id": "190378fe",
   "metadata": {},
   "source": [
    "# 국산/수입 경계선"
   ]
  },
  {
   "cell_type": "code",
   "execution_count": 7,
   "id": "c7a5ab4d",
   "metadata": {},
   "outputs": [],
   "source": [
    "벤츠 = '''\n",
    "A-클래스\n",
    "AMG GT\n",
    "B-클래스 (MY B)\n",
    "C-클래스\n",
    "CL-클래스\n",
    "CLA-클래스\n",
    "CLK-클래스\n",
    "CLS-클래스\n",
    "E-클래스\n",
    "EQA\n",
    "EQC\n",
    "G-클래스 (G바겐)\n",
    "GL-클래스\n",
    "GLA-클래스\n",
    "GLB-클래스\n",
    "GLC-클래스\n",
    "GLE-클래스\n",
    "GLK-클래스\n",
    "GLS-클래스\n",
    "M-클래스\n",
    "R-클래스\n",
    "S-클래스\n",
    "SL-클래스\n",
    "SLC-클래스\n",
    "SLK-클래스\n",
    "V-클래스\n",
    "기타\n",
    "스프린터\n",
    "트럭\n",
    "'''"
   ]
  },
  {
   "cell_type": "code",
   "execution_count": 8,
   "id": "b9b3305a",
   "metadata": {},
   "outputs": [],
   "source": [
    "bmw = '''\n",
    "1시리즈\n",
    "2시리즈\n",
    "3시리즈\n",
    "4시리즈\n",
    "5시리즈\n",
    "6시리즈\n",
    "7시리즈\n",
    "8시리즈\n",
    "M시리즈\n",
    "X1\n",
    "X2\n",
    "X3\n",
    "X4\n",
    "X5\n",
    "X6\n",
    "X7\n",
    "Z4\n",
    "i3\n",
    "i8\n",
    "iX\n",
    "그란투리스모 (GT)\n",
    "'''"
   ]
  },
  {
   "cell_type": "code",
   "execution_count": 9,
   "id": "14b5ec35",
   "metadata": {},
   "outputs": [],
   "source": [
    "아우디 = '''\n",
    "A1\n",
    "A3\n",
    "A4\n",
    "A5\n",
    "A6\n",
    "A7\n",
    "A8\n",
    "Q2\n",
    "Q3\n",
    "Q5\n",
    "Q7\n",
    "Q8\n",
    "R8\n",
    "RS Q8\n",
    "RS5\n",
    "RS7\n",
    "S3\n",
    "S4\n",
    "S5\n",
    "S6\n",
    "S7\n",
    "S8\n",
    "SQ5\n",
    "SQ8\n",
    "TT\n",
    "TTS\n",
    "e-tron\n",
    "'''"
   ]
  },
  {
   "cell_type": "code",
   "execution_count": 10,
   "id": "20738aed",
   "metadata": {},
   "outputs": [],
   "source": [
    "폭스바겐 = '''\n",
    "CC\n",
    "EOS\n",
    "T-Roc\n",
    "골프\n",
    "기타\n",
    "보라\n",
    "비틀\n",
    "시로코\n",
    "아테온\n",
    "제타\n",
    "투아렉\n",
    "티구안\n",
    "파사트\n",
    "페이톤\n",
    "폴로\n",
    "'''"
   ]
  },
  {
   "cell_type": "code",
   "execution_count": 11,
   "id": "664791fc",
   "metadata": {},
   "outputs": [],
   "source": [
    "미니 = '''\n",
    "로드스터\n",
    "컨트리맨\n",
    "쿠퍼\n",
    "쿠퍼 컨버터블\n",
    "쿠페\n",
    "클럽맨\n",
    "페이스맨\n",
    "'''"
   ]
  },
  {
   "cell_type": "code",
   "execution_count": 12,
   "id": "c096713e",
   "metadata": {},
   "outputs": [],
   "source": [
    "랜드로버 = '''\n",
    "디스커버리\n",
    "디스커버리 스포츠\n",
    "디펜더\n",
    "레인지로버\n",
    "레인지로버 벨라\n",
    "레인지로버 스포츠\n",
    "레인지로버 이보크\n",
    "프리랜더\n",
    "'''"
   ]
  },
  {
   "cell_type": "code",
   "execution_count": 13,
   "id": "9355606d",
   "metadata": {},
   "outputs": [],
   "source": [
    "볼보 = '''\n",
    "C30\n",
    "C70\n",
    "S40\n",
    "S60\n",
    "S70\n",
    "S80\n",
    "S90\n",
    "V40\n",
    "V50\n",
    "V60\n",
    "V90\n",
    "XC40\n",
    "XC60\n",
    "XC70\n",
    "XC90\n",
    "트럭\n",
    "'''"
   ]
  },
  {
   "cell_type": "code",
   "execution_count": 14,
   "id": "17f32134",
   "metadata": {},
   "outputs": [],
   "source": [
    "포드 = '''\n",
    "E-Series\n",
    "F150\n",
    "S-MA1\n",
    "기타\n",
    "레인저\n",
    "머스탱\n",
    "몬데오\n",
    "윈드스타\n",
    "이스케이프\n",
    "익스플로러\n",
    "익스플로러 스포츠트랙\n",
    "익스피디션\n",
    "쿠가\n",
    "토러스\n",
    "트랜짓\n",
    "파이브 헌드레드\n",
    "포커스\n",
    "퓨전\n",
    "'''"
   ]
  },
  {
   "cell_type": "code",
   "execution_count": 15,
   "id": "42e08678",
   "metadata": {},
   "outputs": [],
   "source": [
    "지프 = '''\n",
    "글래디에이터\n",
    "랭글러\n",
    "레니게이드\n",
    "체로키\n",
    "커맨더\n",
    "컴패스\n",
    "'''"
   ]
  },
  {
   "cell_type": "code",
   "execution_count": 16,
   "id": "b2064901",
   "metadata": {},
   "outputs": [],
   "source": [
    "포르쉐 = '''\n",
    "911\n",
    "마칸\n",
    "박스터\n",
    "카이맨\n",
    "카이엔\n",
    "타이칸\n",
    "파나메라\n",
    "'''"
   ]
  },
  {
   "cell_type": "code",
   "execution_count": 17,
   "id": "45a88595",
   "metadata": {},
   "outputs": [],
   "source": [
    "재규어 = '''\n",
    "E-PACE\n",
    "F-PACE\n",
    "F-TYPE\n",
    "I-PACE\n",
    "S-TYPE\n",
    "X-TYPE\n",
    "XE\n",
    "XF\n",
    "XJ\n",
    "XJ-6\n",
    "XJ-8\n",
    "XJR\n",
    "XKR\n",
    "소버린\n",
    "'''"
   ]
  },
  {
   "cell_type": "code",
   "execution_count": 18,
   "id": "b5c2be5e",
   "metadata": {},
   "outputs": [],
   "source": [
    "렉서스 = '''\n",
    "CT\n",
    "ES\n",
    "GS\n",
    "IS\n",
    "LC\n",
    "LS\n",
    "NX\n",
    "RC\n",
    "RX\n",
    "SC\n",
    "UX\n",
    "'''"
   ]
  },
  {
   "cell_type": "code",
   "execution_count": 19,
   "id": "9a6da0e3",
   "metadata": {},
   "outputs": [],
   "source": [
    "푸조 = '''\n",
    "2008\n",
    "206\n",
    "207\n",
    "208\n",
    "3008\n",
    "307\n",
    "308\n",
    "406\n",
    "407\n",
    "5008\n",
    "508\n",
    "607\n",
    "RCZ\n",
    "'''"
   ]
  },
  {
   "cell_type": "code",
   "execution_count": 20,
   "id": "a5420efd",
   "metadata": {},
   "outputs": [],
   "source": [
    "인피니티 = '''\n",
    "EX\n",
    "FX\n",
    "G\n",
    "JX\n",
    "M\n",
    "Q\n",
    "QX\n",
    "'''"
   ]
  },
  {
   "cell_type": "code",
   "execution_count": 21,
   "id": "9215ba0d",
   "metadata": {},
   "outputs": [],
   "source": [
    "혼다 = '''\n",
    "CR-V\n",
    "HR-V\n",
    "N Box\n",
    "S660\n",
    "델솔\n",
    "레전드\n",
    "리지라인\n",
    "시빅\n",
    "어코드\n",
    "엘리멘트\n",
    "오딧세이\n",
    "인사이트\n",
    "크로스투어\n",
    "파일럿\n",
    "'''"
   ]
  },
  {
   "cell_type": "code",
   "execution_count": 22,
   "id": "321084a5",
   "metadata": {},
   "outputs": [],
   "source": [
    "닛산 = '''\n",
    "350Z\n",
    "370Z\n",
    "GT-R\n",
    "NV\n",
    "X-Trail\n",
    "로그\n",
    "리프\n",
    "마치\n",
    "맥시마\n",
    "모코\n",
    "무라노\n",
    "센트라\n",
    "알티마\n",
    "엑스테라\n",
    "엘그란드\n",
    "쥬크\n",
    "캐시카이\n",
    "퀘스트\n",
    "큐브\n",
    "타이탄\n",
    "티아나\n",
    "패스파인더\n",
    "프론티어\n",
    "휘가로\n",
    "'''"
   ]
  },
  {
   "cell_type": "code",
   "execution_count": 23,
   "id": "95e18176",
   "metadata": {},
   "outputs": [],
   "source": [
    "마세라티 = '''\n",
    "그란카브리오\n",
    "그란투리스모\n",
    "기블리\n",
    "르반떼\n",
    "스파이더\n",
    "콰트로포르테\n",
    "쿠페\n",
    "'''"
   ]
  },
  {
   "cell_type": "code",
   "execution_count": 24,
   "id": "9635f144",
   "metadata": {},
   "outputs": [],
   "source": [
    "도요타 = '''\n",
    "86\n",
    "BB\n",
    "FJ 크루져\n",
    "RAV 4\n",
    "WiLL\n",
    "기타\n",
    "벤자\n",
    "소아라\n",
    "솔라라\n",
    "수프라\n",
    "시에나\n",
    "아발론\n",
    "캠리\n",
    "코롤라\n",
    "타코마\n",
    "툰드라\n",
    "파쏘\n",
    "프리우스\n",
    "하이랜더\n",
    "'''"
   ]
  },
  {
   "cell_type": "code",
   "execution_count": 25,
   "id": "197f313a",
   "metadata": {},
   "outputs": [],
   "source": [
    "링컨 = '''\n",
    "LS\n",
    "MKC\n",
    "MKS\n",
    "MKX\n",
    "MKZ\n",
    "네비게이터\n",
    "노틸러스\n",
    "에비에이터\n",
    "컨티넨탈\n",
    "코세어\n",
    "타운카\n",
    "'''"
   ]
  },
  {
   "cell_type": "code",
   "execution_count": 26,
   "id": "ea33c9ba",
   "metadata": {},
   "outputs": [],
   "source": [
    "캐딜락 = '''\n",
    "ATS\n",
    "ATS-V\n",
    "BLS\n",
    "CT5\n",
    "CT6\n",
    "CTS\n",
    "CTS-V\n",
    "DTS\n",
    "SRX\n",
    "STS\n",
    "XT5\n",
    "XT6\n",
    "기타\n",
    "드빌\n",
    "에스컬레이드\n",
    "'''"
   ]
  },
  {
   "cell_type": "code",
   "execution_count": 27,
   "id": "b5f35143",
   "metadata": {},
   "outputs": [],
   "source": [
    "크라이슬러 = '''\n",
    "200\n",
    "300C\n",
    "PT 크루저\n",
    "그랜드 보이저\n",
    "세브링\n",
    "캐러밴\n",
    "크로스파이어\n",
    "타운 앤 컨트리\n",
    "퍼시피카\n",
    "'''"
   ]
  },
  {
   "cell_type": "code",
   "execution_count": 28,
   "id": "7ca969f7",
   "metadata": {},
   "outputs": [],
   "source": [
    "쉐보레 ='''\n",
    "기타\n",
    "블레이저\n",
    "서버밴\n",
    "스타크래프트밴\n",
    "실버라도\n",
    "아발란치\n",
    "아스트로밴\n",
    "익스프레스밴\n",
    "익스플로러밴\n",
    "카마로\n",
    "콜로라도\n",
    "콜벳\n",
    "타호\n",
    "트럭밴\n",
    "'''"
   ]
  },
  {
   "cell_type": "code",
   "execution_count": 29,
   "id": "5ee1060e",
   "metadata": {},
   "outputs": [],
   "source": [
    "시트로엥 = '''\n",
    "C3\n",
    "C4\n",
    "C5\n",
    "DS3\n",
    "DS4\n",
    "DS5\n",
    "DS7\n",
    "'''"
   ]
  },
  {
   "cell_type": "code",
   "execution_count": 30,
   "id": "535def9d",
   "metadata": {},
   "outputs": [],
   "source": [
    "테슬라 = '''\n",
    "Model 3\n",
    "Model S\n",
    "Model X\n",
    "Model Y\n",
    "'''"
   ]
  },
  {
   "cell_type": "code",
   "execution_count": 31,
   "id": "6e1c912b",
   "metadata": {},
   "outputs": [],
   "source": [
    "벤틀리 = '''\n",
    "뮬산\n",
    "벤테이가\n",
    "컨티넨탈\n",
    "플라잉스퍼\n",
    "'''"
   ]
  },
  {
   "cell_type": "code",
   "execution_count": 32,
   "id": "7483857a",
   "metadata": {},
   "outputs": [],
   "source": [
    "피아트 ='''\n",
    "124\n",
    "500\n",
    "500X\n",
    "프리몬트\n",
    "'''"
   ]
  },
  {
   "cell_type": "code",
   "execution_count": 33,
   "id": "0f97d4eb",
   "metadata": {},
   "outputs": [],
   "source": [
    "닷지 ='''\n",
    "기타\n",
    "니트로\n",
    "다코타\n",
    "듀랑고\n",
    "램밴\n",
    "램픽업\n",
    "챌린저\n",
    "캘리버\n",
    "'''"
   ]
  },
  {
   "cell_type": "code",
   "execution_count": 34,
   "id": "a9d5e538",
   "metadata": {},
   "outputs": [],
   "source": [
    "스마트 = '''\n",
    "포투\n",
    "포포\n",
    "'''"
   ]
  },
  {
   "cell_type": "code",
   "execution_count": 35,
   "id": "4a7b469d",
   "metadata": {},
   "outputs": [],
   "source": [
    "허머 = '''\n",
    "H2\n",
    "H3\n",
    "'''"
   ]
  },
  {
   "cell_type": "code",
   "execution_count": 36,
   "id": "cf6f7f64",
   "metadata": {},
   "outputs": [],
   "source": [
    "중한자동차 = '''\n",
    "CK\n",
    "KENBO 600\n",
    "'''"
   ]
  },
  {
   "cell_type": "code",
   "execution_count": 37,
   "id": "4f0f2b10",
   "metadata": {},
   "outputs": [],
   "source": [
    "스즈키 = '''\n",
    "기타\n",
    "스위프트\n",
    "스페시아\n",
    "알토라팡\n",
    "카푸치노\n",
    "허슬러\n",
    "'''"
   ]
  },
  {
   "cell_type": "code",
   "execution_count": 38,
   "id": "4f6445f9",
   "metadata": {},
   "outputs": [],
   "source": [
    "롤스로이스 = '''\n",
    "고스트\n",
    "던\n",
    "레이스\n",
    "'''"
   ]
  },
  {
   "cell_type": "code",
   "execution_count": 39,
   "id": "6cba48fa",
   "metadata": {},
   "outputs": [],
   "source": [
    "다이하쓰 = '''\n",
    "마테리아\n",
    "미라지노\n",
    "미라코코아\n",
    "웨이크\n",
    "코펜\n",
    "'''"
   ]
  },
  {
   "cell_type": "code",
   "execution_count": 40,
   "id": "ec3bcd63",
   "metadata": {},
   "outputs": [],
   "source": [
    "람보르기니 = '''\n",
    "가야르도\n",
    "무르시엘라고\n",
    "아벤타도르\n",
    "우라칸\n",
    "우르스\n",
    "'''"
   ]
  },
  {
   "cell_type": "code",
   "execution_count": 41,
   "id": "4ff7d77d",
   "metadata": {},
   "outputs": [],
   "source": [
    "미쯔비시 = '''\n",
    "RVR\n",
    "갤랑\n",
    "랜서\n",
    "랜서 에볼루션\n",
    "아웃랜더\n",
    "이클립스\n",
    "파제로\n",
    "'''"
   ]
  },
  {
   "cell_type": "code",
   "execution_count": 42,
   "id": "7d984d2d",
   "metadata": {},
   "outputs": [],
   "source": [
    "스바루 = '''\n",
    "레거시\n",
    "아웃백\n",
    "임프레자\n",
    "포레스터\n",
    "'''"
   ]
  },
  {
   "cell_type": "code",
   "execution_count": 43,
   "id": "c388c1e0",
   "metadata": {},
   "outputs": [],
   "source": [
    "애스턴마틴 = '''\n",
    "DB11\n",
    "DB9\n",
    "라피드\n",
    "밴티지\n",
    "뱅퀴시\n",
    "'''"
   ]
  },
  {
   "cell_type": "code",
   "execution_count": 44,
   "id": "b040ef93",
   "metadata": {},
   "outputs": [],
   "source": [
    "사브 = '''\n",
    "9-3\n",
    "9-5\n",
    "900\n",
    "9000\n",
    "'''"
   ]
  },
  {
   "cell_type": "code",
   "execution_count": 45,
   "id": "02843a0e",
   "metadata": {},
   "outputs": [],
   "source": [
    "동풍자동차 = '''\n",
    "ix5\n",
    "밴\n",
    "트럭\n",
    "'''"
   ]
  },
  {
   "cell_type": "code",
   "execution_count": 46,
   "id": "9c4a9ab4",
   "metadata": {},
   "outputs": [],
   "source": [
    "페라리 = '''\n",
    "488\n",
    "F430\n",
    "FF\n",
    "캘리포니아\n",
    "포르토피노\n",
    "'''"
   ]
  },
  {
   "cell_type": "code",
   "execution_count": 47,
   "id": "3526be01",
   "metadata": {},
   "outputs": [],
   "source": [
    "마쯔다 = '''\n",
    "CX-5\n",
    "MX-5 MIATA\n",
    "기타\n",
    "'''"
   ]
  },
  {
   "cell_type": "code",
   "execution_count": 48,
   "id": "282780e6",
   "metadata": {},
   "outputs": [],
   "source": [
    "맥라렌 = '''\n",
    "570S\n",
    "650S\n",
    "675LT\n",
    "720S\n",
    "GT\n",
    "'''"
   ]
  },
  {
   "cell_type": "code",
   "execution_count": 49,
   "id": "85aab191",
   "metadata": {},
   "outputs": [],
   "source": [
    "gmc = '''\n",
    "기타\n",
    "사바나\n",
    "시에라\n",
    "'''"
   ]
  },
  {
   "cell_type": "code",
   "execution_count": 50,
   "id": "e5a2355c",
   "metadata": {},
   "outputs": [],
   "source": [
    "로버 = '''\n",
    "기타\n",
    "'''"
   ]
  },
  {
   "cell_type": "code",
   "execution_count": 51,
   "id": "166f9f36",
   "metadata": {},
   "outputs": [],
   "source": [
    "선롱버스 = '''\n",
    "DUEGO\n",
    "'''"
   ]
  },
  {
   "cell_type": "code",
   "execution_count": 52,
   "id": "3d02bcb6",
   "metadata": {},
   "outputs": [],
   "source": [
    "어큐라 = '''\n",
    "MDX\n",
    "RSX\n",
    "'''"
   ]
  },
  {
   "cell_type": "code",
   "execution_count": 53,
   "id": "4a9f0430",
   "metadata": {},
   "outputs": [],
   "source": [
    "로터스 = '''\n",
    "에보라\n",
    "엑시지\n",
    "'''"
   ]
  },
  {
   "cell_type": "code",
   "execution_count": 54,
   "id": "6ba5460d",
   "metadata": {},
   "outputs": [],
   "source": [
    "폰티악 = '''\n",
    "파이어버드\n",
    "'''"
   ]
  },
  {
   "cell_type": "code",
   "execution_count": 55,
   "id": "55035042",
   "metadata": {},
   "outputs": [],
   "source": [
    "포톤 = '''\n",
    "툰랜드\n",
    "'''"
   ]
  },
  {
   "cell_type": "code",
   "execution_count": 56,
   "id": "445ab565",
   "metadata": {},
   "outputs": [],
   "source": [
    "폴스타 = '''\n",
    "폴스타2\n",
    "'''"
   ]
  },
  {
   "cell_type": "code",
   "execution_count": 57,
   "id": "992600a4",
   "metadata": {},
   "outputs": [],
   "source": [
    "마이바흐 = '''\n",
    "62s\n",
    "'''"
   ]
  },
  {
   "cell_type": "code",
   "execution_count": 58,
   "id": "4a3c56c4",
   "metadata": {},
   "outputs": [],
   "source": [
    "이베코 = '''\n",
    "기타\n",
    "'''"
   ]
  },
  {
   "cell_type": "code",
   "execution_count": 59,
   "id": "b02e212f",
   "metadata": {},
   "outputs": [],
   "source": [
    "MAN ='''\n",
    "트럭\n",
    "'''"
   ]
  }
 ],
 "metadata": {
  "kernelspec": {
   "display_name": "Python 3.9.12 ('base')",
   "language": "python",
   "name": "python3"
  },
  "language_info": {
   "codemirror_mode": {
    "name": "ipython",
    "version": 3
   },
   "file_extension": ".py",
   "mimetype": "text/x-python",
   "name": "python",
   "nbconvert_exporter": "python",
   "pygments_lexer": "ipython3",
   "version": "3.9.12"
  },
  "vscode": {
   "interpreter": {
    "hash": "ad2bdc8ecc057115af97d19610ffacc2b4e99fae6737bb82f5d7fb13d2f2c186"
   }
  }
 },
 "nbformat": 4,
 "nbformat_minor": 5
}
