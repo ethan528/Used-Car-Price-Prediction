{
 "cells": [
  {
   "cell_type": "code",
   "execution_count": 1,
   "id": "a852b176",
   "metadata": {},
   "outputs": [],
   "source": [
    "import requests\n",
    "from bs4 import BeautifulSoup\n",
    "import pandas as pd\n",
    "from tqdm import tqdm\n",
    "from time import sleep\n",
    "from selenium import webdriver"
   ]
  },
  {
   "cell_type": "code",
   "execution_count": 12,
   "id": "286726e6",
   "metadata": {},
   "outputs": [],
   "source": [
    "sample = []"
   ]
  },
  {
   "cell_type": "code",
   "execution_count": 13,
   "id": "808d33cb",
   "metadata": {
    "scrolled": true
   },
   "outputs": [
    {
     "name": "stdout",
     "output_type": "stream",
     "text": [
      "['현대', '그랜저', '포터', '쏘나타', '아반떼', '싼타페', 'i30', 'i40', '갤로퍼', '그랜저', '그레이스', '기타', '넥쏘', '다이너스티', '라비타', '리베로', '마르샤', '마이티', '맥스크루즈', '버스(16~36인)', '버스(26인이상)', '베뉴', '베라크루즈', '베르나', '벨로스터', '스타렉스', '스타리아', '스텔라', '싼타모', '싼타페', '쏘나타', '쏠라티', '아반떼', '아슬란', '아이오닉', '아이오닉5', '에쿠스', '엑센트', '엑셀', '엑시언트', '엘란트라', '제네시스', '제네시스쿠페', '캐스퍼', '코나', '클릭', '테라칸', '투스카니', '투싼', '트라고', '트라제XG', '트럭(2.5~4.5톤)', '트럭(4.5톤이상)', '티뷰론', '펠리세이드', '포니', '포터', '프레스토']\n"
     ]
    }
   ],
   "source": [
    "for i in range(len(car_name)):\n",
    "    x = car_name[i].find('span').text\n",
    "    sample.append(x)\n",
    "\n",
    "print(sample)"
   ]
  },
  {
   "cell_type": "code",
   "execution_count": 18,
   "id": "bb1b0aa4",
   "metadata": {},
   "outputs": [
    {
     "name": "stdout",
     "output_type": "stream",
     "text": [
      "현대 현대\n",
      "현대 그랜저\n",
      "현대 포터\n",
      "현대 쏘나타\n",
      "현대 아반떼\n",
      "현대 싼타페\n",
      "현대 i30\n",
      "현대 i40\n",
      "현대 갤로퍼\n",
      "현대 그랜저\n",
      "현대 그레이스\n",
      "현대 기타\n",
      "현대 넥쏘\n",
      "현대 다이너스티\n",
      "현대 라비타\n",
      "현대 리베로\n",
      "현대 마르샤\n",
      "현대 마이티\n",
      "현대 맥스크루즈\n",
      "현대 버스(16~36인)\n",
      "현대 버스(26인이상)\n",
      "현대 베뉴\n",
      "현대 베라크루즈\n",
      "현대 베르나\n",
      "현대 벨로스터\n",
      "현대 스타렉스\n",
      "현대 스타리아\n",
      "현대 스텔라\n",
      "현대 싼타모\n",
      "현대 싼타페\n",
      "현대 쏘나타\n",
      "현대 쏠라티\n",
      "현대 아반떼\n",
      "현대 아슬란\n",
      "현대 아이오닉\n",
      "현대 아이오닉5\n",
      "현대 에쿠스\n",
      "현대 엑센트\n",
      "현대 엑셀\n",
      "현대 엑시언트\n",
      "현대 엘란트라\n",
      "현대 제네시스\n",
      "현대 제네시스쿠페\n",
      "현대 캐스퍼\n",
      "현대 코나\n",
      "현대 클릭\n",
      "현대 테라칸\n",
      "현대 투스카니\n",
      "현대 투싼\n",
      "현대 트라고\n",
      "현대 트라제XG\n",
      "현대 트럭(2.5~4.5톤)\n",
      "현대 트럭(4.5톤이상)\n",
      "현대 티뷰론\n",
      "현대 펠리세이드\n",
      "현대 포니\n",
      "현대 포터\n",
      "현대 프레스토\n"
     ]
    }
   ],
   "source": [
    "for a in range(len(sample)):\n",
    "    print(f'현대 {sample[a]}')"
   ]
  },
  {
   "cell_type": "code",
   "execution_count": 14,
   "id": "9108517b",
   "metadata": {},
   "outputs": [],
   "source": [
    "maker_code = [102]"
   ]
  },
  {
   "cell_type": "code",
   "execution_count": 19,
   "id": "a37a704c",
   "metadata": {},
   "outputs": [],
   "source": [
    "sample2 = []"
   ]
  },
  {
   "cell_type": "code",
   "execution_count": 20,
   "id": "ecac4347",
   "metadata": {},
   "outputs": [
    {
     "name": "stderr",
     "output_type": "stream",
     "text": [
      "  0%|                                                                                            | 0/1 [00:00<?, ?it/s]C:\\Users\\ksy94\\AppData\\Local\\Temp/ipykernel_18420/4288915746.py:5: DeprecationWarning: executable_path has been deprecated, please pass in a Service object\n",
      "  driver = webdriver.Chrome(\"./chromedriver.exe\")\n",
      "C:\\Users\\ksy94\\AppData\\Local\\Temp/ipykernel_18420/4288915746.py:9: DeprecationWarning: find_elements_by_xpath is deprecated. Please use find_elements(by=By.XPATH, value=xpath) instead\n",
      "  code_check = driver.find_elements_by_xpath('//*[@id=\"mCSB_1_container\"]/div/div/div[3]')\n",
      "100%|████████████████████████████████████████████████████████████████████████████████████| 1/1 [00:11<00:00, 11.29s/it]"
     ]
    },
    {
     "name": "stdout",
     "output_type": "stream",
     "text": [
      "['기아', '모닝', '카니발', 'K5', '봉고', '쏘렌토', 'EV6', 'K3', 'K5', 'K7', 'K8', 'K9', '니로', '레이', '레토나', '로체', '리오', '모닝', '모하비', '버스(26인이상)', '봉고', '비스토', '세레스', '세피아', '셀토스', '스토닉', '스팅어', '스펙트라', '스포티지', '쎄라토', '쏘렌토', '쏘울', '엑스트렉', '엔터프라이즈', '엘란', '오피러스', '옵티마', '카니발', '카렌스', '카스타', '캐피탈', '크레도스', '타우너', '트럭(2.5~4.5톤)', '트럭(4.5톤이상)', '포르테', '포텐샤', '프라이드', '프런티어', '프레지오']\n"
     ]
    },
    {
     "name": "stderr",
     "output_type": "stream",
     "text": [
      "\n"
     ]
    }
   ],
   "source": [
    "maker_code = []\n",
    "sample2 = []\n",
    "\n",
    "for code in tqdm(maker_code):\n",
    "    url = f'https://www.kbchachacha.com/public/search/main.kbc#!?page=1&sort=-orderDate&makerCode={code}'\n",
    "    \n",
    "    try:\n",
    "        driver = webdriver.Chrome(\"./chromedriver.exe\")\n",
    "        driver.get(url)\n",
    "        driver.implicitly_wait(10)\n",
    "        driver.maximize_window()\n",
    "        code_check = driver.find_elements_by_xpath('//*[@id=\"mCSB_1_container\"]/div/div/div[3]')\n",
    "        \n",
    "    except Exception as e:\n",
    "        print(f'{e}')\n",
    "        break\n",
    "        \n",
    "    else:\n",
    "        html = driver.page_source\n",
    "        driver.implicitly_wait(10)\n",
    "        soup = BeautifulSoup(html, 'html.parser')\n",
    "        car_name = soup.findAll(\"a\",{\"class\":\"checkListLink\"})\n",
    "        \n",
    "        for i in range(len(car_name)):\n",
    "            x = car_name[i].find('span').text\n",
    "            sample2.append(x)\n",
    "            \n",
    "print(sample2)"
   ]
  },
  {
   "cell_type": "code",
   "execution_count": null,
   "id": "dd028d6e",
   "metadata": {},
   "outputs": [],
   "source": []
  }
 ],
 "metadata": {
  "kernelspec": {
   "display_name": "Python 3 (ipykernel)",
   "language": "python",
   "name": "python3"
  },
  "language_info": {
   "codemirror_mode": {
    "name": "ipython",
    "version": 3
   },
   "file_extension": ".py",
   "mimetype": "text/x-python",
   "name": "python",
   "nbconvert_exporter": "python",
   "pygments_lexer": "ipython3",
   "version": "3.9.7"
  }
 },
 "nbformat": 4,
 "nbformat_minor": 5
}
