{
 "cells": [
  {
   "cell_type": "markdown",
   "id": "c9eef8cc",
   "metadata": {},
   "source": [
    "### - 덮어쓰기 방지를 위해 'append' 옵션 선택함\n",
    "### - 브랜드 마다 최초 1번만 선언한다\n",
    "### - 상단 col_name을 먼저 지정해주어 후처리 시 편리함을 가져온다\n"
   ]
  },
  {
   "cell_type": "code",
   "execution_count": 1,
   "id": "dcac7f44",
   "metadata": {},
   "outputs": [],
   "source": [
    "brand_name ='Kia'"
   ]
  },
  {
   "cell_type": "code",
   "execution_count": 2,
   "id": "742ee8c1",
   "metadata": {},
   "outputs": [],
   "source": [
    "f = open(f\"{brand_name}_codes.csv\", 'a')\n",
    "f.write(\"codes\\n\")\n",
    "f.close()"
   ]
  },
  {
   "cell_type": "code",
   "execution_count": 2,
   "id": "db8c7ed0",
   "metadata": {},
   "outputs": [],
   "source": [
    "f = open(f\"{brand_name}_usedCar.csv\", 'a')\n",
    "f.write(f\"car_url,car_area,car_no,car_brand,car_name,name_datailed,price,year,use,depreciation,mileage,fuel,forecast_min,forecast_max,car_type,car_cc,color,trans,loss,flood,usage,change,insurance,sales_corp,sales_loca,options\\n\")\n",
    "f.close()"
   ]
  },
  {
   "cell_type": "code",
   "execution_count": null,
   "id": "eb47bc38",
   "metadata": {},
   "outputs": [],
   "source": []
  }
 ],
 "metadata": {
  "kernelspec": {
   "display_name": "Python 3 (ipykernel)",
   "language": "python",
   "name": "python3"
  },
  "language_info": {
   "codemirror_mode": {
    "name": "ipython",
    "version": 3
   },
   "file_extension": ".py",
   "mimetype": "text/x-python",
   "name": "python",
   "nbconvert_exporter": "python",
   "pygments_lexer": "ipython3",
   "version": "3.9.7"
  }
 },
 "nbformat": 4,
 "nbformat_minor": 5
}
