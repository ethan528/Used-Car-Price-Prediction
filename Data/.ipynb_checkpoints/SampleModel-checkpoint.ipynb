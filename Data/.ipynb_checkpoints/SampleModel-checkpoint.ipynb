{
 "cells": [
  {
   "cell_type": "code",
   "execution_count": 1,
   "id": "65bcd749",
   "metadata": {},
   "outputs": [],
   "source": [
    "import pandas as pd\n",
    "import matplotlib.pyplot as plt\n",
    "import seaborn as sns\n",
    "from sklearn.preprocessing import StandardScaler\n",
    "from sklearn.model_selection import train_test_split\n",
    "from sklearn.metrics import accuracy_score, confusion_matrix,r2_score,mean_absolute_error,mean_squared_error\n",
    "from sklearn.ensemble import RandomForestRegressor"
   ]
  },
  {
   "cell_type": "code",
   "execution_count": 2,
   "id": "e7dcf91e",
   "metadata": {},
   "outputs": [],
   "source": [
    "df = pd.read_csv('preprocessed_total_0529.csv')"
   ]
  },
  {
   "cell_type": "code",
   "execution_count": 3,
   "id": "8b176b65",
   "metadata": {},
   "outputs": [
    {
     "data": {
      "text/html": [
       "<div>\n",
       "<style scoped>\n",
       "    .dataframe tbody tr th:only-of-type {\n",
       "        vertical-align: middle;\n",
       "    }\n",
       "\n",
       "    .dataframe tbody tr th {\n",
       "        vertical-align: top;\n",
       "    }\n",
       "\n",
       "    .dataframe thead th {\n",
       "        text-align: right;\n",
       "    }\n",
       "</style>\n",
       "<table border=\"1\" class=\"dataframe\">\n",
       "  <thead>\n",
       "    <tr style=\"text-align: right;\">\n",
       "      <th></th>\n",
       "      <th>car_url</th>\n",
       "      <th>car_area</th>\n",
       "      <th>car_no</th>\n",
       "      <th>car_brand</th>\n",
       "      <th>nation</th>\n",
       "      <th>car_name</th>\n",
       "      <th>name_datailed</th>\n",
       "      <th>new_price</th>\n",
       "      <th>price</th>\n",
       "      <th>year</th>\n",
       "      <th>...</th>\n",
       "      <th>flood</th>\n",
       "      <th>usage</th>\n",
       "      <th>change</th>\n",
       "      <th>insurance</th>\n",
       "      <th>sales_corp</th>\n",
       "      <th>sales_loca</th>\n",
       "      <th>lat</th>\n",
       "      <th>lng</th>\n",
       "      <th>options</th>\n",
       "      <th>options_count</th>\n",
       "    </tr>\n",
       "  </thead>\n",
       "  <tbody>\n",
       "    <tr>\n",
       "      <th>0</th>\n",
       "      <td>22274652</td>\n",
       "      <td>경기</td>\n",
       "      <td>29너6142</td>\n",
       "      <td>한국GM</td>\n",
       "      <td>국산</td>\n",
       "      <td>쉐보레 올란도</td>\n",
       "      <td>LPG LS 일반형</td>\n",
       "      <td>2122</td>\n",
       "      <td>849</td>\n",
       "      <td>2013</td>\n",
       "      <td>...</td>\n",
       "      <td>없음</td>\n",
       "      <td>없음</td>\n",
       "      <td>1</td>\n",
       "      <td>있음</td>\n",
       "      <td>주식회사 노빌리티 경기지점</td>\n",
       "      <td>경기 수원시</td>\n",
       "      <td>37.263332</td>\n",
       "      <td>127.028747</td>\n",
       "      <td>[]</td>\n",
       "      <td>0</td>\n",
       "    </tr>\n",
       "    <tr>\n",
       "      <th>1</th>\n",
       "      <td>22274154</td>\n",
       "      <td>광주</td>\n",
       "      <td>156서1980</td>\n",
       "      <td>한국GM</td>\n",
       "      <td>국산</td>\n",
       "      <td>더 뉴 트랙스</td>\n",
       "      <td>1.6 디젤 LT 기본형</td>\n",
       "      <td>1986</td>\n",
       "      <td>1450</td>\n",
       "      <td>2018</td>\n",
       "      <td>...</td>\n",
       "      <td>없음</td>\n",
       "      <td>있음</td>\n",
       "      <td>2</td>\n",
       "      <td>없음</td>\n",
       "      <td>주식회사 즐거운모터스</td>\n",
       "      <td>광주 서구</td>\n",
       "      <td>35.152140</td>\n",
       "      <td>126.890056</td>\n",
       "      <td>['주차감지센서', '가죽시트', '열선시트', '사이드커튼에어백', '전동접이사이...</td>\n",
       "      <td>7</td>\n",
       "    </tr>\n",
       "    <tr>\n",
       "      <th>2</th>\n",
       "      <td>22274071</td>\n",
       "      <td>경기</td>\n",
       "      <td>01서3666</td>\n",
       "      <td>한국GM</td>\n",
       "      <td>국산</td>\n",
       "      <td>더 뉴 스파크</td>\n",
       "      <td>LT 기본형</td>\n",
       "      <td>1423</td>\n",
       "      <td>655</td>\n",
       "      <td>2017</td>\n",
       "      <td>...</td>\n",
       "      <td>없음</td>\n",
       "      <td>없음</td>\n",
       "      <td>1</td>\n",
       "      <td>없음</td>\n",
       "      <td>창대모터스</td>\n",
       "      <td>경기 수원시</td>\n",
       "      <td>37.263332</td>\n",
       "      <td>127.028747</td>\n",
       "      <td>['스마트키', '가죽시트', '알루미늄휠']</td>\n",
       "      <td>3</td>\n",
       "    </tr>\n",
       "    <tr>\n",
       "      <th>3</th>\n",
       "      <td>22269730</td>\n",
       "      <td>광주</td>\n",
       "      <td>196버2246</td>\n",
       "      <td>한국GM</td>\n",
       "      <td>국산</td>\n",
       "      <td>올 뉴 크루즈</td>\n",
       "      <td>1.4 터보 LT 디럭스</td>\n",
       "      <td>1264</td>\n",
       "      <td>999</td>\n",
       "      <td>2017</td>\n",
       "      <td>...</td>\n",
       "      <td>없음</td>\n",
       "      <td>있음</td>\n",
       "      <td>1</td>\n",
       "      <td>있음</td>\n",
       "      <td>(주)파랑새모터스</td>\n",
       "      <td>광주광역시 서구</td>\n",
       "      <td>35.152140</td>\n",
       "      <td>126.890056</td>\n",
       "      <td>['오토라이트', '주차감지센서', '가죽시트', '열선시트', '사이드커튼에어백'...</td>\n",
       "      <td>8</td>\n",
       "    </tr>\n",
       "    <tr>\n",
       "      <th>4</th>\n",
       "      <td>22269296</td>\n",
       "      <td>부산</td>\n",
       "      <td>19저3500</td>\n",
       "      <td>한국GM</td>\n",
       "      <td>국산</td>\n",
       "      <td>알페온</td>\n",
       "      <td>CL240 프리미엄</td>\n",
       "      <td>3411</td>\n",
       "      <td>580</td>\n",
       "      <td>2011</td>\n",
       "      <td>...</td>\n",
       "      <td>없음</td>\n",
       "      <td>없음</td>\n",
       "      <td>1</td>\n",
       "      <td>있음</td>\n",
       "      <td>청산자동차상사</td>\n",
       "      <td>부산광역시 사상구</td>\n",
       "      <td>35.152100</td>\n",
       "      <td>128.991100</td>\n",
       "      <td>['오토라이트', '가죽시트', '열선시트', '사이드커튼에어백', '레인선서와이퍼...</td>\n",
       "      <td>8</td>\n",
       "    </tr>\n",
       "  </tbody>\n",
       "</table>\n",
       "<p>5 rows × 31 columns</p>\n",
       "</div>"
      ],
      "text/plain": [
       "    car_url car_area    car_no car_brand nation car_name  name_datailed  \\\n",
       "0  22274652       경기   29너6142      한국GM     국산  쉐보레 올란도     LPG LS 일반형   \n",
       "1  22274154       광주  156서1980      한국GM     국산  더 뉴 트랙스  1.6 디젤 LT 기본형   \n",
       "2  22274071       경기   01서3666      한국GM     국산  더 뉴 스파크         LT 기본형   \n",
       "3  22269730       광주  196버2246      한국GM     국산  올 뉴 크루즈  1.4 터보 LT 디럭스   \n",
       "4  22269296       부산   19저3500      한국GM     국산      알페온     CL240 프리미엄   \n",
       "\n",
       "   new_price  price  year  ...  flood  usage  change insurance  \\\n",
       "0       2122    849  2013  ...     없음     없음       1        있음   \n",
       "1       1986   1450  2018  ...     없음     있음       2        없음   \n",
       "2       1423    655  2017  ...     없음     없음       1        없음   \n",
       "3       1264    999  2017  ...     없음     있음       1        있음   \n",
       "4       3411    580  2011  ...     없음     없음       1        있음   \n",
       "\n",
       "       sales_corp  sales_loca        lat         lng  \\\n",
       "0  주식회사 노빌리티 경기지점      경기 수원시  37.263332  127.028747   \n",
       "1     주식회사 즐거운모터스       광주 서구  35.152140  126.890056   \n",
       "2           창대모터스      경기 수원시  37.263332  127.028747   \n",
       "3       (주)파랑새모터스    광주광역시 서구  35.152140  126.890056   \n",
       "4         청산자동차상사   부산광역시 사상구  35.152100  128.991100   \n",
       "\n",
       "                                             options options_count  \n",
       "0                                                 []             0  \n",
       "1  ['주차감지센서', '가죽시트', '열선시트', '사이드커튼에어백', '전동접이사이...             7  \n",
       "2                          ['스마트키', '가죽시트', '알루미늄휠']             3  \n",
       "3  ['오토라이트', '주차감지센서', '가죽시트', '열선시트', '사이드커튼에어백'...             8  \n",
       "4  ['오토라이트', '가죽시트', '열선시트', '사이드커튼에어백', '레인선서와이퍼...             8  \n",
       "\n",
       "[5 rows x 31 columns]"
      ]
     },
     "execution_count": 3,
     "metadata": {},
     "output_type": "execute_result"
    }
   ],
   "source": [
    "df.head()"
   ]
  },
  {
   "cell_type": "code",
   "execution_count": 4,
   "id": "2a00f8c2",
   "metadata": {},
   "outputs": [
    {
     "name": "stdout",
     "output_type": "stream",
     "text": [
      "<class 'pandas.core.frame.DataFrame'>\n",
      "RangeIndex: 90804 entries, 0 to 90803\n",
      "Data columns (total 31 columns):\n",
      " #   Column         Non-Null Count  Dtype  \n",
      "---  ------         --------------  -----  \n",
      " 0   car_url        90804 non-null  int64  \n",
      " 1   car_area       90804 non-null  object \n",
      " 2   car_no         90804 non-null  object \n",
      " 3   car_brand      90804 non-null  object \n",
      " 4   nation         90804 non-null  object \n",
      " 5   car_name       90804 non-null  object \n",
      " 6   name_datailed  90804 non-null  object \n",
      " 7   new_price      90804 non-null  int64  \n",
      " 8   price          90804 non-null  int64  \n",
      " 9   year           90804 non-null  int64  \n",
      " 10  use            90804 non-null  int64  \n",
      " 11  depreciation   90804 non-null  int64  \n",
      " 12  mileage        90804 non-null  int64  \n",
      " 13  fuel           90804 non-null  object \n",
      " 14  forecast_min   90804 non-null  int64  \n",
      " 15  forecast_max   90804 non-null  int64  \n",
      " 16  car_type       90804 non-null  object \n",
      " 17  car_cc         90804 non-null  int64  \n",
      " 18  color          90804 non-null  object \n",
      " 19  trans          90804 non-null  object \n",
      " 20  loss           90804 non-null  object \n",
      " 21  flood          90804 non-null  object \n",
      " 22  usage          90804 non-null  object \n",
      " 23  change         90804 non-null  int64  \n",
      " 24  insurance      90804 non-null  object \n",
      " 25  sales_corp     90804 non-null  object \n",
      " 26  sales_loca     90804 non-null  object \n",
      " 27  lat            90804 non-null  float64\n",
      " 28  lng            90804 non-null  float64\n",
      " 29  options        90804 non-null  object \n",
      " 30  options_count  90804 non-null  int64  \n",
      "dtypes: float64(2), int64(12), object(17)\n",
      "memory usage: 21.5+ MB\n"
     ]
    }
   ],
   "source": [
    "df.info()"
   ]
  },
  {
   "cell_type": "code",
   "execution_count": 5,
   "id": "e793842c",
   "metadata": {},
   "outputs": [],
   "source": [
    "model_name = []\n",
    "model_train_acc = []\n",
    "model_test_acc = []\n",
    "model_mae = []\n",
    "model_mse = []\n",
    "model_r2_score = []"
   ]
  },
  {
   "cell_type": "code",
   "execution_count": 6,
   "id": "423427b2",
   "metadata": {},
   "outputs": [],
   "source": [
    "X = df[['use','car_name','mileage','year','car_type','fuel','trans','loss','flood','usage','change','insurance']] \n",
    "Y = df[['depreciation']]"
   ]
  },
  {
   "cell_type": "code",
   "execution_count": 7,
   "id": "d0a02778",
   "metadata": {},
   "outputs": [],
   "source": [
    "encoded_X = pd.get_dummies(data = X, columns = ['car_name','car_type','fuel','trans','loss','flood','usage','change','insurance'])"
   ]
  },
  {
   "cell_type": "code",
   "execution_count": 8,
   "id": "125f3aa2",
   "metadata": {},
   "outputs": [
    {
     "data": {
      "text/plain": [
       "(90804, 1044)"
      ]
     },
     "execution_count": 8,
     "metadata": {},
     "output_type": "execute_result"
    }
   ],
   "source": [
    "encoded_X.shape"
   ]
  },
  {
   "cell_type": "code",
   "execution_count": 10,
   "id": "9c35ecc4",
   "metadata": {},
   "outputs": [],
   "source": [
    "s_scale = StandardScaler()"
   ]
  },
  {
   "cell_type": "code",
   "execution_count": 11,
   "id": "baa785db",
   "metadata": {},
   "outputs": [],
   "source": [
    "scaled_X= s_scale.fit_transform(encoded_X)"
   ]
  },
  {
   "cell_type": "code",
   "execution_count": 12,
   "id": "e03c5613",
   "metadata": {},
   "outputs": [],
   "source": [
    "X_train, X_test, y_train, y_test = train_test_split(scaled_X,Y, random_state = 5, test_size = 0.25)"
   ]
  },
  {
   "cell_type": "code",
   "execution_count": 13,
   "id": "9dd11507",
   "metadata": {},
   "outputs": [
    {
     "name": "stderr",
     "output_type": "stream",
     "text": [
      "C:\\Users\\ksy94\\AppData\\Local\\Temp/ipykernel_5664/3252463281.py:2: DataConversionWarning: A column-vector y was passed when a 1d array was expected. Please change the shape of y to (n_samples,), for example using ravel().\n",
      "  randforest_mix.fit(X_train, y_train)\n"
     ]
    },
    {
     "data": {
      "text/plain": [
       "RandomForestRegressor()"
      ]
     },
     "execution_count": 13,
     "metadata": {},
     "output_type": "execute_result"
    }
   ],
   "source": [
    "randforest_mix = RandomForestRegressor() # 모델 정의\n",
    "randforest_mix.fit(X_train, y_train)"
   ]
  },
  {
   "cell_type": "code",
   "execution_count": 14,
   "id": "9527c8b7",
   "metadata": {},
   "outputs": [],
   "source": [
    "# 모델명 변경해주기\n",
    "\n",
    "y_predict = randforest_mix.predict(X_test)"
   ]
  },
  {
   "cell_type": "code",
   "execution_count": 15,
   "id": "14f9153d",
   "metadata": {},
   "outputs": [
    {
     "name": "stdout",
     "output_type": "stream",
     "text": [
      "train acc : 0.9873405522991482\n",
      "test acc : 0.9093281044930648\n",
      "MAE : 5.051521139723234\n",
      "MSE : 50.89844044760977\n",
      "r2_score : 0.9093281044930648\n"
     ]
    }
   ],
   "source": [
    "# 모델명, acc.append 부분 model 이름 변경해주기\n",
    "\n",
    "print(f'train acc : {randforest_mix.score(X_train, y_train)}')\n",
    "print(f'test acc : {randforest_mix.score(X_test, y_test)}')\n",
    "print(f'MAE : {mean_absolute_error(y_test, y_predict)}')\n",
    "print(f'MSE : {mean_squared_error(y_test, y_predict)}')\n",
    "print(f'r2_score : {r2_score(y_test,y_predict)}')"
   ]
  },
  {
   "cell_type": "code",
   "execution_count": 16,
   "id": "f5a5a8e7",
   "metadata": {},
   "outputs": [
    {
     "name": "stderr",
     "output_type": "stream",
     "text": [
      "C:\\ProgramData\\Anaconda3\\lib\\site-packages\\seaborn\\distributions.py:2619: FutureWarning: `distplot` is a deprecated function and will be removed in a future version. Please adapt your code to use either `displot` (a figure-level function with similar flexibility) or `kdeplot` (an axes-level function for kernel density plots).\n",
      "  warnings.warn(msg, FutureWarning)\n",
      "C:\\ProgramData\\Anaconda3\\lib\\site-packages\\seaborn\\distributions.py:2619: FutureWarning: `distplot` is a deprecated function and will be removed in a future version. Please adapt your code to use either `displot` (a figure-level function with similar flexibility) or `kdeplot` (an axes-level function for kernel density plots).\n",
      "  warnings.warn(msg, FutureWarning)\n"
     ]
    },
    {
     "data": {
      "image/png": "[encoded data removed]",
      "text/plain": [
       "<Figure size 576x576 with 1 Axes>"
      ]
     },
     "metadata": {
      "needs_background": "light"
     },
     "output_type": "display_data"
    }
   ],
   "source": [
    "plt.figure(figsize=(8, 8))\n",
    "\n",
    "ax1 = sns.distplot(y_test, hist=False, color=\"r\", label=\"Actual Value\")\n",
    "sns.distplot(y_predict, hist=False, color=\"b\", label=\"Fitted Values\" , ax=ax1)\n",
    "\n",
    "plt.title('Actual vs Fitted Values for Depreciation ')\n",
    "plt.xlabel('Usedcar Depreciation  rate')\n",
    "plt.ylabel('Proportion of Cars')\n",
    "\n",
    "plt.show()\n",
    "plt.close()"
   ]
  },
  {
   "cell_type": "code",
   "execution_count": null,
   "id": "e3d15c93",
   "metadata": {},
   "outputs": [],
   "source": []
  }
 ],
 "metadata": {
  "kernelspec": {
   "display_name": "Python 3 (ipykernel)",
   "language": "python",
   "name": "python3"
  },
  "language_info": {
   "codemirror_mode": {
    "name": "ipython",
    "version": 3
   },
   "file_extension": ".py",
   "mimetype": "text/x-python",
   "name": "python",
   "nbconvert_exporter": "python",
   "pygments_lexer": "ipython3",
   "version": "3.9.7"
  }
 },
 "nbformat": 4,
 "nbformat_minor": 5
}
