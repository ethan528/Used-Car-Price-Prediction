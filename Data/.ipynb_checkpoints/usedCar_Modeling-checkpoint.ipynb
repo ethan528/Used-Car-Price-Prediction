{
 "cells": [
  {
   "cell_type": "code",
   "execution_count": 100,
   "id": "GMoBhPTR4Dkq",
   "metadata": {
    "colab": {
     "base_uri": "https://localhost:8080/"
    },
    "executionInfo": {
     "elapsed": 4276,
     "status": "ok",
     "timestamp": 1653963646791,
     "user": {
      "displayName": "김세영",
      "userId": "04104912043964290912"
     },
     "user_tz": -540
    },
    "id": "GMoBhPTR4Dkq",
    "outputId": "2b5c2b82-017c-4baf-95a8-2997f81dde72"
   },
   "outputs": [
    {
     "name": "stdout",
     "output_type": "stream",
     "text": [
      "Drive already mounted at /content/drive; to attempt to forcibly remount, call drive.mount(\"/content/drive\", force_remount=True).\n"
     ]
    }
   ],
   "source": [
    "from google.colab import drive\n",
    "drive.mount('/content/drive')"
   ]
  },
  {
   "cell_type": "code",
   "execution_count": 1,
   "id": "644bcb7b",
   "metadata": {
    "colab": {
     "base_uri": "https://localhost:8080/"
    },
    "executionInfo": {
     "elapsed": 18,
     "status": "ok",
     "timestamp": 1653963646792,
     "user": {
      "displayName": "김세영",
      "userId": "04104912043964290912"
     },
     "user_tz": -540
    },
    "id": "644bcb7b",
    "outputId": "20168f2d-2c0d-4716-9ba0-55873507022b"
   },
   "outputs": [
    {
     "name": "stdout",
     "output_type": "stream",
     "text": [
      "C:\\Users\\ksy94\\Desktop\\Final_project\\Data\n"
     ]
    }
   ],
   "source": [
    "import pandas as pd\n",
    "import numpy as np\n",
    "import matplotlib.pyplot as plt\n",
    "import seaborn as sns\n",
    "from sklearn.preprocessing import StandardScaler\n",
    "from sklearn.model_selection import train_test_split\n",
    "from sklearn.linear_model import LinearRegression\n",
    "from sklearn.metrics import accuracy_score, confusion_matrix,r2_score,mean_absolute_error,mean_squared_error\n",
    "from sklearn import preprocessing\n",
    "import os\n",
    "\n",
    "print(os.getcwd())"
   ]
  },
  {
   "cell_type": "code",
   "execution_count": 2,
   "id": "b05dd21f",
   "metadata": {
    "executionInfo": {
     "elapsed": 975,
     "status": "ok",
     "timestamp": 1653963647755,
     "user": {
      "displayName": "김세영",
      "userId": "04104912043964290912"
     },
     "user_tz": -540
    },
    "id": "b05dd21f"
   },
   "outputs": [],
   "source": [
    "df = pd.read_csv('preprocessed_total_0529.csv')"
   ]
  },
  {
   "cell_type": "code",
   "execution_count": 3,
   "id": "37e1e566",
   "metadata": {
    "colab": {
     "base_uri": "https://localhost:8080/",
     "height": 418
    },
    "executionInfo": {
     "elapsed": 15,
     "status": "ok",
     "timestamp": 1653963647757,
     "user": {
      "displayName": "김세영",
      "userId": "04104912043964290912"
     },
     "user_tz": -540
    },
    "id": "37e1e566",
    "outputId": "1d60624c-f3ec-4b32-a63d-61c2cde33635",
    "scrolled": true
   },
   "outputs": [
    {
     "data": {
      "text/html": [
       "<div>\n",
       "<style scoped>\n",
       "    .dataframe tbody tr th:only-of-type {\n",
       "        vertical-align: middle;\n",
       "    }\n",
       "\n",
       "    .dataframe tbody tr th {\n",
       "        vertical-align: top;\n",
       "    }\n",
       "\n",
       "    .dataframe thead th {\n",
       "        text-align: right;\n",
       "    }\n",
       "</style>\n",
       "<table border=\"1\" class=\"dataframe\">\n",
       "  <thead>\n",
       "    <tr style=\"text-align: right;\">\n",
       "      <th></th>\n",
       "      <th>car_url</th>\n",
       "      <th>car_area</th>\n",
       "      <th>car_no</th>\n",
       "      <th>car_brand</th>\n",
       "      <th>nation</th>\n",
       "      <th>car_name</th>\n",
       "      <th>name_datailed</th>\n",
       "      <th>new_price</th>\n",
       "      <th>price</th>\n",
       "      <th>year</th>\n",
       "      <th>...</th>\n",
       "      <th>flood</th>\n",
       "      <th>usage</th>\n",
       "      <th>change</th>\n",
       "      <th>insurance</th>\n",
       "      <th>sales_corp</th>\n",
       "      <th>sales_loca</th>\n",
       "      <th>lat</th>\n",
       "      <th>lng</th>\n",
       "      <th>options</th>\n",
       "      <th>options_count</th>\n",
       "    </tr>\n",
       "  </thead>\n",
       "  <tbody>\n",
       "    <tr>\n",
       "      <th>0</th>\n",
       "      <td>22274652</td>\n",
       "      <td>경기</td>\n",
       "      <td>29너6142</td>\n",
       "      <td>한국GM</td>\n",
       "      <td>국산</td>\n",
       "      <td>쉐보레 올란도</td>\n",
       "      <td>LPG LS 일반형</td>\n",
       "      <td>2122</td>\n",
       "      <td>849</td>\n",
       "      <td>2013</td>\n",
       "      <td>...</td>\n",
       "      <td>없음</td>\n",
       "      <td>없음</td>\n",
       "      <td>1</td>\n",
       "      <td>있음</td>\n",
       "      <td>주식회사 노빌리티 경기지점</td>\n",
       "      <td>경기 수원시</td>\n",
       "      <td>37.263332</td>\n",
       "      <td>127.028747</td>\n",
       "      <td>[]</td>\n",
       "      <td>0</td>\n",
       "    </tr>\n",
       "    <tr>\n",
       "      <th>1</th>\n",
       "      <td>22274154</td>\n",
       "      <td>광주</td>\n",
       "      <td>156서1980</td>\n",
       "      <td>한국GM</td>\n",
       "      <td>국산</td>\n",
       "      <td>더 뉴 트랙스</td>\n",
       "      <td>1.6 디젤 LT 기본형</td>\n",
       "      <td>1986</td>\n",
       "      <td>1450</td>\n",
       "      <td>2018</td>\n",
       "      <td>...</td>\n",
       "      <td>없음</td>\n",
       "      <td>있음</td>\n",
       "      <td>2</td>\n",
       "      <td>없음</td>\n",
       "      <td>주식회사 즐거운모터스</td>\n",
       "      <td>광주 서구</td>\n",
       "      <td>35.152140</td>\n",
       "      <td>126.890056</td>\n",
       "      <td>['주차감지센서', '가죽시트', '열선시트', '사이드커튼에어백', '전동접이사이...</td>\n",
       "      <td>7</td>\n",
       "    </tr>\n",
       "    <tr>\n",
       "      <th>2</th>\n",
       "      <td>22274071</td>\n",
       "      <td>경기</td>\n",
       "      <td>01서3666</td>\n",
       "      <td>한국GM</td>\n",
       "      <td>국산</td>\n",
       "      <td>더 뉴 스파크</td>\n",
       "      <td>LT 기본형</td>\n",
       "      <td>1423</td>\n",
       "      <td>655</td>\n",
       "      <td>2017</td>\n",
       "      <td>...</td>\n",
       "      <td>없음</td>\n",
       "      <td>없음</td>\n",
       "      <td>1</td>\n",
       "      <td>없음</td>\n",
       "      <td>창대모터스</td>\n",
       "      <td>경기 수원시</td>\n",
       "      <td>37.263332</td>\n",
       "      <td>127.028747</td>\n",
       "      <td>['스마트키', '가죽시트', '알루미늄휠']</td>\n",
       "      <td>3</td>\n",
       "    </tr>\n",
       "    <tr>\n",
       "      <th>3</th>\n",
       "      <td>22269730</td>\n",
       "      <td>광주</td>\n",
       "      <td>196버2246</td>\n",
       "      <td>한국GM</td>\n",
       "      <td>국산</td>\n",
       "      <td>올 뉴 크루즈</td>\n",
       "      <td>1.4 터보 LT 디럭스</td>\n",
       "      <td>1264</td>\n",
       "      <td>999</td>\n",
       "      <td>2017</td>\n",
       "      <td>...</td>\n",
       "      <td>없음</td>\n",
       "      <td>있음</td>\n",
       "      <td>1</td>\n",
       "      <td>있음</td>\n",
       "      <td>(주)파랑새모터스</td>\n",
       "      <td>광주광역시 서구</td>\n",
       "      <td>35.152140</td>\n",
       "      <td>126.890056</td>\n",
       "      <td>['오토라이트', '주차감지센서', '가죽시트', '열선시트', '사이드커튼에어백'...</td>\n",
       "      <td>8</td>\n",
       "    </tr>\n",
       "    <tr>\n",
       "      <th>4</th>\n",
       "      <td>22269296</td>\n",
       "      <td>부산</td>\n",
       "      <td>19저3500</td>\n",
       "      <td>한국GM</td>\n",
       "      <td>국산</td>\n",
       "      <td>알페온</td>\n",
       "      <td>CL240 프리미엄</td>\n",
       "      <td>3411</td>\n",
       "      <td>580</td>\n",
       "      <td>2011</td>\n",
       "      <td>...</td>\n",
       "      <td>없음</td>\n",
       "      <td>없음</td>\n",
       "      <td>1</td>\n",
       "      <td>있음</td>\n",
       "      <td>청산자동차상사</td>\n",
       "      <td>부산광역시 사상구</td>\n",
       "      <td>35.152100</td>\n",
       "      <td>128.991100</td>\n",
       "      <td>['오토라이트', '가죽시트', '열선시트', '사이드커튼에어백', '레인선서와이퍼...</td>\n",
       "      <td>8</td>\n",
       "    </tr>\n",
       "  </tbody>\n",
       "</table>\n",
       "<p>5 rows × 31 columns</p>\n",
       "</div>"
      ],
      "text/plain": [
       "    car_url car_area    car_no car_brand nation car_name  name_datailed  \\\n",
       "0  22274652       경기   29너6142      한국GM     국산  쉐보레 올란도     LPG LS 일반형   \n",
       "1  22274154       광주  156서1980      한국GM     국산  더 뉴 트랙스  1.6 디젤 LT 기본형   \n",
       "2  22274071       경기   01서3666      한국GM     국산  더 뉴 스파크         LT 기본형   \n",
       "3  22269730       광주  196버2246      한국GM     국산  올 뉴 크루즈  1.4 터보 LT 디럭스   \n",
       "4  22269296       부산   19저3500      한국GM     국산      알페온     CL240 프리미엄   \n",
       "\n",
       "   new_price  price  year  ...  flood  usage  change insurance  \\\n",
       "0       2122    849  2013  ...     없음     없음       1        있음   \n",
       "1       1986   1450  2018  ...     없음     있음       2        없음   \n",
       "2       1423    655  2017  ...     없음     없음       1        없음   \n",
       "3       1264    999  2017  ...     없음     있음       1        있음   \n",
       "4       3411    580  2011  ...     없음     없음       1        있음   \n",
       "\n",
       "       sales_corp  sales_loca        lat         lng  \\\n",
       "0  주식회사 노빌리티 경기지점      경기 수원시  37.263332  127.028747   \n",
       "1     주식회사 즐거운모터스       광주 서구  35.152140  126.890056   \n",
       "2           창대모터스      경기 수원시  37.263332  127.028747   \n",
       "3       (주)파랑새모터스    광주광역시 서구  35.152140  126.890056   \n",
       "4         청산자동차상사   부산광역시 사상구  35.152100  128.991100   \n",
       "\n",
       "                                             options options_count  \n",
       "0                                                 []             0  \n",
       "1  ['주차감지센서', '가죽시트', '열선시트', '사이드커튼에어백', '전동접이사이...             7  \n",
       "2                          ['스마트키', '가죽시트', '알루미늄휠']             3  \n",
       "3  ['오토라이트', '주차감지센서', '가죽시트', '열선시트', '사이드커튼에어백'...             8  \n",
       "4  ['오토라이트', '가죽시트', '열선시트', '사이드커튼에어백', '레인선서와이퍼...             8  \n",
       "\n",
       "[5 rows x 31 columns]"
      ]
     },
     "execution_count": 3,
     "metadata": {},
     "output_type": "execute_result"
    }
   ],
   "source": [
    "df.head()"
   ]
  },
  {
   "cell_type": "code",
   "execution_count": 4,
   "id": "9679373f",
   "metadata": {
    "colab": {
     "base_uri": "https://localhost:8080/"
    },
    "executionInfo": {
     "elapsed": 626,
     "status": "ok",
     "timestamp": 1653963648372,
     "user": {
      "displayName": "김세영",
      "userId": "04104912043964290912"
     },
     "user_tz": -540
    },
    "id": "9679373f",
    "outputId": "40d7f770-7dac-4a6c-d345-7765299002c0"
   },
   "outputs": [
    {
     "name": "stdout",
     "output_type": "stream",
     "text": [
      "<class 'pandas.core.frame.DataFrame'>\n",
      "RangeIndex: 90804 entries, 0 to 90803\n",
      "Data columns (total 31 columns):\n",
      " #   Column         Non-Null Count  Dtype  \n",
      "---  ------         --------------  -----  \n",
      " 0   car_url        90804 non-null  int64  \n",
      " 1   car_area       90804 non-null  object \n",
      " 2   car_no         90804 non-null  object \n",
      " 3   car_brand      90804 non-null  object \n",
      " 4   nation         90804 non-null  object \n",
      " 5   car_name       90804 non-null  object \n",
      " 6   name_datailed  90804 non-null  object \n",
      " 7   new_price      90804 non-null  int64  \n",
      " 8   price          90804 non-null  int64  \n",
      " 9   year           90804 non-null  int64  \n",
      " 10  use            90804 non-null  int64  \n",
      " 11  depreciation   90804 non-null  int64  \n",
      " 12  mileage        90804 non-null  int64  \n",
      " 13  fuel           90804 non-null  object \n",
      " 14  forecast_min   90804 non-null  int64  \n",
      " 15  forecast_max   90804 non-null  int64  \n",
      " 16  car_type       90804 non-null  object \n",
      " 17  car_cc         90804 non-null  int64  \n",
      " 18  color          90804 non-null  object \n",
      " 19  trans          90804 non-null  object \n",
      " 20  loss           90804 non-null  object \n",
      " 21  flood          90804 non-null  object \n",
      " 22  usage          90804 non-null  object \n",
      " 23  change         90804 non-null  int64  \n",
      " 24  insurance      90804 non-null  object \n",
      " 25  sales_corp     90804 non-null  object \n",
      " 26  sales_loca     90804 non-null  object \n",
      " 27  lat            90804 non-null  float64\n",
      " 28  lng            90804 non-null  float64\n",
      " 29  options        90804 non-null  object \n",
      " 30  options_count  90804 non-null  int64  \n",
      "dtypes: float64(2), int64(12), object(17)\n",
      "memory usage: 21.5+ MB\n"
     ]
    }
   ],
   "source": [
    "df.info()"
   ]
  },
  {
   "cell_type": "code",
   "execution_count": null,
   "id": "8f42VFugB97v",
   "metadata": {
    "id": "8f42VFugB97v"
   },
   "outputs": [],
   "source": [
    "model_name = []\n",
    "model_train_acc = []\n",
    "model_test_acc = []\n",
    "model_mae = []\n",
    "model_mse = []\n",
    "model_r2_score = []"
   ]
  },
  {
   "cell_type": "markdown",
   "id": "a5a0cddb",
   "metadata": {
    "id": "a5a0cddb"
   },
   "source": [
    "## 1. RandomForestRegerssor  - 수치형( )"
   ]
  },
  {
   "cell_type": "code",
   "execution_count": 5,
   "id": "5e725f27",
   "metadata": {
    "id": "5e725f27"
   },
   "outputs": [],
   "source": [
    "X = df[['new_price','year','use','mileage','change','lat','lng','options_count']] \n",
    "Y = df[['depreciation']]"
   ]
  },
  {
   "cell_type": "code",
   "execution_count": 6,
   "id": "fdb34a37",
   "metadata": {
    "id": "fdb34a37"
   },
   "outputs": [],
   "source": [
    "s_scale = StandardScaler()\n",
    "scaled_X= s_scale.fit_transform(X)"
   ]
  },
  {
   "cell_type": "code",
   "execution_count": 7,
   "id": "f6fd4e5b",
   "metadata": {
    "id": "f6fd4e5b"
   },
   "outputs": [],
   "source": [
    "X_train, X_test, y_train, y_test = train_test_split(scaled_X,Y, random_state = 5, test_size = 0.25)"
   ]
  },
  {
   "cell_type": "code",
   "execution_count": 8,
   "id": "01d165b7",
   "metadata": {
    "colab": {
     "base_uri": "https://localhost:8080/"
    },
    "executionInfo": {
     "elapsed": 48577,
     "status": "ok",
     "timestamp": 1653958188226,
     "user": {
      "displayName": "김세영",
      "userId": "04104912043964290912"
     },
     "user_tz": -540
    },
    "id": "01d165b7",
    "outputId": "a6faa55d-6c86-4713-b45f-aab5b240ea84"
   },
   "outputs": [
    {
     "name": "stderr",
     "output_type": "stream",
     "text": [
      "C:\\Users\\ksy94\\AppData\\Local\\Temp/ipykernel_13448/108160022.py:4: DataConversionWarning: A column-vector y was passed when a 1d array was expected. Please change the shape of y to (n_samples,), for example using ravel().\n",
      "  randforest.fit(X_train, y_train)\n"
     ]
    },
    {
     "data": {
      "text/plain": [
       "RandomForestRegressor()"
      ]
     },
     "execution_count": 8,
     "metadata": {},
     "output_type": "execute_result"
    }
   ],
   "source": [
    "from sklearn.ensemble import RandomForestRegressor\n",
    "\n",
    "randforest = RandomForestRegressor() # 모델 정의\n",
    "randforest.fit(X_train, y_train)"
   ]
  },
  {
   "cell_type": "code",
   "execution_count": 12,
   "id": "b7d38eba",
   "metadata": {},
   "outputs": [
    {
     "ename": "AttributeError",
     "evalue": "'RandomForestRegressor' object has no attribute 'save'",
     "output_type": "error",
     "traceback": [
      "\u001b[1;31m---------------------------------------------------------------------------\u001b[0m",
      "\u001b[1;31mAttributeError\u001b[0m                            Traceback (most recent call last)",
      "\u001b[1;32m~\\AppData\\Local\\Temp/ipykernel_13448/4122653270.py\u001b[0m in \u001b[0;36m<module>\u001b[1;34m\u001b[0m\n\u001b[1;32m----> 1\u001b[1;33m \u001b[0mrandforest\u001b[0m\u001b[1;33m.\u001b[0m\u001b[0msave\u001b[0m\u001b[1;33m(\u001b[0m\u001b[1;34m'randforest(numeric)'\u001b[0m\u001b[1;33m)\u001b[0m\u001b[1;33m\u001b[0m\u001b[1;33m\u001b[0m\u001b[0m\n\u001b[0m",
      "\u001b[1;31mAttributeError\u001b[0m: 'RandomForestRegressor' object has no attribute 'save'"
     ]
    }
   ],
   "source": [
    "randforest.save('randforest(numeric)')"
   ]
  },
  {
   "cell_type": "code",
   "execution_count": 9,
   "id": "e7443db9",
   "metadata": {
    "id": "e7443db9"
   },
   "outputs": [],
   "source": [
    "# 모델명 변경해주기\n",
    "\n",
    "y_predict_1 = randforest.predict(X_test)"
   ]
  },
  {
   "cell_type": "code",
   "execution_count": 10,
   "id": "d10a707b",
   "metadata": {
    "colab": {
     "base_uri": "https://localhost:8080/"
    },
    "executionInfo": {
     "elapsed": 5551,
     "status": "ok",
     "timestamp": 1653958195407,
     "user": {
      "displayName": "김세영",
      "userId": "04104912043964290912"
     },
     "user_tz": -540
    },
    "id": "d10a707b",
    "outputId": "2de70d90-3e4b-4807-c0c7-9d9d3ce68726"
   },
   "outputs": [
    {
     "name": "stdout",
     "output_type": "stream",
     "text": [
      "train acc : 0.9790528587849192\n",
      "test acc : 0.8535138617239175\n",
      "MAE : 6.667586890445356\n",
      "MSE : 82.22962521915333\n",
      "r2_score : 0.8535138617239175\n"
     ]
    }
   ],
   "source": [
    "# 모델명, acc.append 부분 model 이름 변경해주기\n",
    "\n",
    "print(f'train acc : {randforest.score(X_train, y_train)}')\n",
    "print(f'test acc : {randforest.score(X_test, y_test)}')\n",
    "print(f'MAE : {mean_absolute_error(y_test, y_predict_1)}')\n",
    "print(f'MSE : {mean_squared_error(y_test, y_predict_1)}')\n",
    "print(f'r2_score : {r2_score(y_test,y_predict_1)}')"
   ]
  },
  {
   "cell_type": "code",
   "execution_count": null,
   "id": "j3c_hxyoIAyz",
   "metadata": {
    "id": "j3c_hxyoIAyz"
   },
   "outputs": [],
   "source": [
    "# 모델명, acc.append 부분 model 이름 변경해주기\n",
    "\n",
    "model_name.append('RandomForest(numerical)')\n",
    "model_train_acc.append(randforest.score(X_train, y_train))\n",
    "model_test_acc.append(randforest.score(X_test, y_test))\n",
    "model_mae.append(mean_absolute_error(y_test, y_predict_1))\n",
    "model_mse.append(mean_squared_error(y_test, y_predict_1))\n",
    "model_r2_score.append(r2_score(y_test,y_predict_1))"
   ]
  },
  {
   "cell_type": "code",
   "execution_count": 11,
   "id": "mKZstrjRh1Bs",
   "metadata": {
    "colab": {
     "base_uri": "https://localhost:8080/",
     "height": 606
    },
    "executionInfo": {
     "elapsed": 984,
     "status": "ok",
     "timestamp": 1653958201079,
     "user": {
      "displayName": "김세영",
      "userId": "04104912043964290912"
     },
     "user_tz": -540
    },
    "id": "mKZstrjRh1Bs",
    "outputId": "abc192ed-89e7-4b90-9a11-8171481906e9"
   },
   "outputs": [
    {
     "name": "stderr",
     "output_type": "stream",
     "text": [
      "C:\\ProgramData\\Anaconda3\\lib\\site-packages\\seaborn\\distributions.py:2619: FutureWarning: `distplot` is a deprecated function and will be removed in a future version. Please adapt your code to use either `displot` (a figure-level function with similar flexibility) or `kdeplot` (an axes-level function for kernel density plots).\n",
      "  warnings.warn(msg, FutureWarning)\n",
      "C:\\ProgramData\\Anaconda3\\lib\\site-packages\\seaborn\\distributions.py:2619: FutureWarning: `distplot` is a deprecated function and will be removed in a future version. Please adapt your code to use either `displot` (a figure-level function with similar flexibility) or `kdeplot` (an axes-level function for kernel density plots).\n",
      "  warnings.warn(msg, FutureWarning)\n"
     ]
    },
    {
     "data": {
      "image/png": "[encoded data removed]",
      "text/plain": [
       "<Figure size 576x576 with 1 Axes>"
      ]
     },
     "metadata": {
      "needs_background": "light"
     },
     "output_type": "display_data"
    }
   ],
   "source": [
    "plt.figure(figsize=(8, 8))\n",
    "\n",
    "ax1 = sns.distplot(y_test, hist=False, color=\"r\", label=\"Actual Value\")\n",
    "sns.distplot(y_predict_1, hist=False, color=\"b\", label=\"Fitted Values\" , ax=ax1)\n",
    "\n",
    "plt.title('Actual vs Fitted Values for Depreciation ')\n",
    "plt.xlabel('Usedcar Depreciation  rate')\n",
    "plt.ylabel('Proportion of Cars')\n",
    "\n",
    "plt.show()\n",
    "plt.close()"
   ]
  },
  {
   "cell_type": "markdown",
   "id": "-rM2VL2VKzoC",
   "metadata": {
    "id": "-rM2VL2VKzoC"
   },
   "source": [
    "---\n",
    "---\n",
    "---"
   ]
  },
  {
   "cell_type": "markdown",
   "id": "d0b24de4",
   "metadata": {
    "id": "d0b24de4"
   },
   "source": [
    "## 1-1 . XGB Regressor - 수치형"
   ]
  },
  {
   "cell_type": "markdown",
   "id": "9f492776",
   "metadata": {
    "id": "9f492776"
   },
   "source": [
    "- n_estimatiors : 나무의 개수 (default=100)\n",
    "- learning_rate : 이전의 결과를 얼만큼 방영할 것인지(default=0.1, general=0.01~0.2)\n",
    "- gamma : 나무에서 추가적으로 가지를 나눌지 결정할 '최소 손실감소 값'(default=0, 클수록 과적합방지)\n",
    "- subsample : 과적합 방지를 위한 나무마다 데이터 샘플링 비율(default=1, general=0.5~1)\n",
    "- colsample_bytree : 각 나무마다 Feature 샘플링 비율(default=1, general=0.5~1)\n"
   ]
  },
  {
   "cell_type": "code",
   "execution_count": null,
   "id": "052a83cf",
   "metadata": {
    "id": "052a83cf"
   },
   "outputs": [],
   "source": [
    "import xgboost"
   ]
  },
  {
   "cell_type": "code",
   "execution_count": null,
   "id": "56be67e2",
   "metadata": {
    "id": "56be67e2"
   },
   "outputs": [],
   "source": [
    "X = df[['new_price','year','use','mileage','change','lat','lng','options_count']] \n",
    "Y = df[['depreciation']]"
   ]
  },
  {
   "cell_type": "code",
   "execution_count": null,
   "id": "13e7cf4a",
   "metadata": {
    "id": "13e7cf4a"
   },
   "outputs": [],
   "source": [
    "scaled_X= s_scale.fit_transform(X)"
   ]
  },
  {
   "cell_type": "code",
   "execution_count": null,
   "id": "21f30538",
   "metadata": {
    "id": "21f30538"
   },
   "outputs": [],
   "source": [
    "X_train, X_test, y_train, y_test = train_test_split(scaled_X,Y, random_state = 5, test_size = 0.25)"
   ]
  },
  {
   "cell_type": "code",
   "execution_count": null,
   "id": "756b2b0b",
   "metadata": {
    "colab": {
     "base_uri": "https://localhost:8080/"
    },
    "executionInfo": {
     "elapsed": 11809,
     "status": "ok",
     "timestamp": 1653958212875,
     "user": {
      "displayName": "김세영",
      "userId": "04104912043964290912"
     },
     "user_tz": -540
    },
    "id": "756b2b0b",
    "outputId": "8d215023-9686-4423-8132-8b127d20a3ac"
   },
   "outputs": [
    {
     "name": "stdout",
     "output_type": "stream",
     "text": [
      "[00:50:01] WARNING: /workspace/src/objective/regression_obj.cu:152: reg:linear is now deprecated in favor of reg:squarederror.\n"
     ]
    },
    {
     "data": {
      "text/plain": [
       "XGBRegressor(learning_rate=0.08, max_depth=7, subsample=0.75)"
      ]
     },
     "execution_count": 19,
     "metadata": {},
     "output_type": "execute_result"
    }
   ],
   "source": [
    "xgb_reg = xgboost.XGBRegressor(n_estimators=100, learning_rate=0.08, gamma=0, subsample=0.75,\n",
    "                           colsample_bytree=1, max_depth=7)\n",
    "\n",
    "xgb_reg.fit(X_train,y_train)"
   ]
  },
  {
   "cell_type": "code",
   "execution_count": null,
   "id": "6Qe8LzSHKj9d",
   "metadata": {
    "id": "6Qe8LzSHKj9d"
   },
   "outputs": [],
   "source": [
    "# 모델명 변경해주기\n",
    "\n",
    "y_predict_2 = xgb_reg.predict(X_test)"
   ]
  },
  {
   "cell_type": "code",
   "execution_count": null,
   "id": "2XxQJ_bDJaW2",
   "metadata": {
    "colab": {
     "base_uri": "https://localhost:8080/"
    },
    "executionInfo": {
     "elapsed": 8,
     "status": "ok",
     "timestamp": 1653958213804,
     "user": {
      "displayName": "김세영",
      "userId": "04104912043964290912"
     },
     "user_tz": -540
    },
    "id": "2XxQJ_bDJaW2",
    "outputId": "a98d2ad8-46d4-4608-8d26-2409272e16f2"
   },
   "outputs": [
    {
     "name": "stdout",
     "output_type": "stream",
     "text": [
      "train acc : 0.8754299263693343\n",
      "test acc : 0.8581985588889367\n",
      "MAE : 6.604006183393715\n",
      "MSE : 79.599882250445\n",
      "r2_score : 0.8581985588889367\n"
     ]
    }
   ],
   "source": [
    "# 모델명, acc.append 부분 model 이름 변경해주기\n",
    "\n",
    "print(f'train acc : {xgb_reg.score(X_train, y_train)}')\n",
    "print(f'test acc : {xgb_reg.score(X_test, y_test)}')\n",
    "print(f'MAE : {mean_absolute_error(y_test, y_predict_2)}')\n",
    "print(f'MSE : {mean_squared_error(y_test, y_predict_2)}')\n",
    "print(f'r2_score : {r2_score(y_test,y_predict_2)}')"
   ]
  },
  {
   "cell_type": "code",
   "execution_count": null,
   "id": "8rBSt71GC-IA",
   "metadata": {
    "id": "8rBSt71GC-IA"
   },
   "outputs": [],
   "source": [
    "# 모델명, acc.append 부분 model 이름 변경해주기\n",
    "\n",
    "model_name.append('XGBRegressor')\n",
    "model_train_acc.append(xgb_reg.score(X_train, y_train))\n",
    "model_test_acc.append(xgb_reg.score(X_test, y_test))\n",
    "model_mae.append(mean_absolute_error(y_test, y_predict_2))\n",
    "model_mse.append(mean_squared_error(y_test, y_predict_2))\n",
    "model_r2_score.append(r2_score(y_test,y_predict_2))"
   ]
  },
  {
   "cell_type": "code",
   "execution_count": null,
   "id": "Rg3l58K5lr68",
   "metadata": {
    "colab": {
     "base_uri": "https://localhost:8080/",
     "height": 606
    },
    "executionInfo": {
     "elapsed": 1320,
     "status": "ok",
     "timestamp": 1653958217881,
     "user": {
      "displayName": "김세영",
      "userId": "04104912043964290912"
     },
     "user_tz": -540
    },
    "id": "Rg3l58K5lr68",
    "outputId": "1d9bae80-eb7b-473d-9d00-7a550764f8b2"
   },
   "outputs": [
    {
     "name": "stderr",
     "output_type": "stream",
     "text": [
      "/usr/local/lib/python3.7/dist-packages/seaborn/distributions.py:2619: FutureWarning: `distplot` is a deprecated function and will be removed in a future version. Please adapt your code to use either `displot` (a figure-level function with similar flexibility) or `kdeplot` (an axes-level function for kernel density plots).\n",
      "  warnings.warn(msg, FutureWarning)\n",
      "/usr/local/lib/python3.7/dist-packages/seaborn/distributions.py:2619: FutureWarning: `distplot` is a deprecated function and will be removed in a future version. Please adapt your code to use either `displot` (a figure-level function with similar flexibility) or `kdeplot` (an axes-level function for kernel density plots).\n",
      "  warnings.warn(msg, FutureWarning)\n"
     ]
    },
    {
     "data": {
      "image/png": "[encoded data removed]",
      "text/plain": [
       "<Figure size 576x576 with 1 Axes>"
      ]
     },
     "metadata": {
      "needs_background": "light"
     },
     "output_type": "display_data"
    }
   ],
   "source": [
    "plt.figure(figsize=(8, 8))\n",
    "\n",
    "ax1 = sns.distplot(y_test, hist=False, color=\"r\", label=\"Actual Value\")\n",
    "sns.distplot(y_predict_2, hist=False, color=\"b\", label=\"Fitted Values\" , ax=ax1)\n",
    "\n",
    "plt.title('Actual vs Fitted Values for Depreciation ')\n",
    "plt.xlabel('Usedcar Depreciation  rate')\n",
    "plt.ylabel('Proportion of Cars')\n",
    "\n",
    "plt.show()\n",
    "plt.close()"
   ]
  },
  {
   "cell_type": "markdown",
   "id": "AF-i8rMm1RBE",
   "metadata": {
    "id": "AF-i8rMm1RBE"
   },
   "source": [
    "## 1-2 . XGB Regressor - 범주형"
   ]
  },
  {
   "cell_type": "code",
   "execution_count": null,
   "id": "cm8ezTK-1Quv",
   "metadata": {
    "id": "cm8ezTK-1Quv"
   },
   "outputs": [],
   "source": []
  },
  {
   "cell_type": "code",
   "execution_count": null,
   "id": "y0t50IsQ1PQB",
   "metadata": {
    "id": "y0t50IsQ1PQB"
   },
   "outputs": [],
   "source": [
    "#"
   ]
  },
  {
   "cell_type": "markdown",
   "id": "W9y6d8ug1Z7C",
   "metadata": {
    "id": "W9y6d8ug1Z7C"
   },
   "source": [
    "## 1-3 . XGB Regressor - 혼합형\n"
   ]
  },
  {
   "cell_type": "code",
   "execution_count": null,
   "id": "_zOlkJTi1ePs",
   "metadata": {
    "id": "_zOlkJTi1ePs"
   },
   "outputs": [],
   "source": [
    "X = df[['use','car_name','mileage','year','car_type','fuel','trans','loss','flood','usage','change','insurance']] \n",
    "Y = df[['depreciation']]"
   ]
  },
  {
   "cell_type": "code",
   "execution_count": null,
   "id": "11AySAna1d38",
   "metadata": {
    "id": "11AySAna1d38"
   },
   "outputs": [],
   "source": [
    "encoded_X = pd.get_dummies(data = X, columns = ['car_name','car_type','fuel','trans','loss','flood','usage','change','insurance'])"
   ]
  },
  {
   "cell_type": "code",
   "execution_count": null,
   "id": "Q7YJ9KIK1dmZ",
   "metadata": {
    "id": "Q7YJ9KIK1dmZ"
   },
   "outputs": [],
   "source": [
    "s_scale = StandardScaler()\n",
    "scaled_X= s_scale.fit_transform(encoded_X)"
   ]
  },
  {
   "cell_type": "code",
   "execution_count": null,
   "id": "-ZoA6Vv41ziu",
   "metadata": {
    "id": "-ZoA6Vv41ziu"
   },
   "outputs": [],
   "source": [
    "X_train, X_test, y_train, y_test = train_test_split(scaled_X,Y, random_state = 5, test_size = 0.25)"
   ]
  },
  {
   "cell_type": "code",
   "execution_count": null,
   "id": "miVCbwqA1zXW",
   "metadata": {
    "colab": {
     "base_uri": "https://localhost:8080/"
    },
    "executionInfo": {
     "elapsed": 350382,
     "status": "ok",
     "timestamp": 1653962786933,
     "user": {
      "displayName": "김세영",
      "userId": "04104912043964290912"
     },
     "user_tz": -540
    },
    "id": "miVCbwqA1zXW",
    "outputId": "b1a0c1bb-dd86-45fb-9cd6-4815af3fb6e7"
   },
   "outputs": [
    {
     "name": "stdout",
     "output_type": "stream",
     "text": [
      "[02:00:38] WARNING: /workspace/src/objective/regression_obj.cu:152: reg:linear is now deprecated in favor of reg:squarederror.\n"
     ]
    },
    {
     "data": {
      "text/plain": [
       "XGBRegressor(learning_rate=0.08, max_depth=7, subsample=0.75)"
      ]
     },
     "execution_count": 94,
     "metadata": {},
     "output_type": "execute_result"
    }
   ],
   "source": [
    "xgb_reg_mix = xgboost.XGBRegressor(n_estimators=100, learning_rate=0.08, gamma=0, subsample=0.75,\n",
    "                           colsample_bytree=1, max_depth=7)\n",
    "\n",
    "xgb_reg_mix.fit(X_train,y_train)"
   ]
  },
  {
   "cell_type": "code",
   "execution_count": null,
   "id": "nKC2k5F91zNs",
   "metadata": {
    "id": "nKC2k5F91zNs"
   },
   "outputs": [],
   "source": [
    "# 모델명 변경해주기\n",
    "\n",
    "y_predict_7 = xgb_reg_mix.predict(X_test)"
   ]
  },
  {
   "cell_type": "code",
   "execution_count": null,
   "id": "shEsS5J01y_D",
   "metadata": {
    "colab": {
     "base_uri": "https://localhost:8080/"
    },
    "executionInfo": {
     "elapsed": 5320,
     "status": "ok",
     "timestamp": 1653962853868,
     "user": {
      "displayName": "김세영",
      "userId": "04104912043964290912"
     },
     "user_tz": -540
    },
    "id": "shEsS5J01y_D",
    "outputId": "394e5f9a-d710-4b6e-b89e-addc20511763"
   },
   "outputs": [
    {
     "name": "stdout",
     "output_type": "stream",
     "text": [
      "train acc : 0.9110411391142474\n",
      "test acc : 0.90215509736371\n",
      "MAE : 5.453736635605295\n",
      "MSE : 54.92498995517814\n",
      "r2_score : 0.90215509736371\n"
     ]
    }
   ],
   "source": [
    "# 모델명, acc.append 부분 model 이름 변경해주기\n",
    "\n",
    "print(f'train acc : {xgb_reg_mix.score(X_train, y_train)}')\n",
    "print(f'test acc : {xgb_reg_mix.score(X_test, y_test)}')\n",
    "print(f'MAE : {mean_absolute_error(y_test, y_predict_7)}')\n",
    "print(f'MSE : {mean_squared_error(y_test, y_predict_7)}')\n",
    "print(f'r2_score : {r2_score(y_test,y_predict_7)}')"
   ]
  },
  {
   "cell_type": "code",
   "execution_count": null,
   "id": "cyUQ1geL2Iig",
   "metadata": {
    "colab": {
     "base_uri": "https://localhost:8080/",
     "height": 606
    },
    "executionInfo": {
     "elapsed": 2615,
     "status": "ok",
     "timestamp": 1653962821896,
     "user": {
      "displayName": "김세영",
      "userId": "04104912043964290912"
     },
     "user_tz": -540
    },
    "id": "cyUQ1geL2Iig",
    "outputId": "4b678137-c778-4627-cccd-cc1c15493b6b"
   },
   "outputs": [
    {
     "name": "stderr",
     "output_type": "stream",
     "text": [
      "/usr/local/lib/python3.7/dist-packages/seaborn/distributions.py:2619: FutureWarning: `distplot` is a deprecated function and will be removed in a future version. Please adapt your code to use either `displot` (a figure-level function with similar flexibility) or `kdeplot` (an axes-level function for kernel density plots).\n",
      "  warnings.warn(msg, FutureWarning)\n",
      "/usr/local/lib/python3.7/dist-packages/seaborn/distributions.py:2619: FutureWarning: `distplot` is a deprecated function and will be removed in a future version. Please adapt your code to use either `displot` (a figure-level function with similar flexibility) or `kdeplot` (an axes-level function for kernel density plots).\n",
      "  warnings.warn(msg, FutureWarning)\n"
     ]
    },
    {
     "data": {
      "image/png": "[encoded data removed]",
      "text/plain": [
       "<Figure size 576x576 with 1 Axes>"
      ]
     },
     "metadata": {
      "needs_background": "light"
     },
     "output_type": "display_data"
    }
   ],
   "source": [
    "plt.figure(figsize=(8, 8))\n",
    "\n",
    "ax1 = sns.distplot(y_test, hist=False, color=\"r\", label=\"Actual Value\")\n",
    "sns.distplot(y_predict_7, hist=False, color=\"b\", label=\"Fitted Values\" , ax=ax1)\n",
    "\n",
    "plt.title('Actual vs Fitted Values for Depreciation ')\n",
    "plt.xlabel('Usedcar Depreciation  rate')\n",
    "plt.ylabel('Proportion of Cars')\n",
    "\n",
    "plt.show()\n",
    "plt.close()"
   ]
  },
  {
   "cell_type": "markdown",
   "id": "krukZDcuK8tC",
   "metadata": {
    "id": "krukZDcuK8tC"
   },
   "source": [
    "---\n",
    "---\n",
    "---"
   ]
  },
  {
   "cell_type": "markdown",
   "id": "069a919c",
   "metadata": {
    "id": "069a919c"
   },
   "source": [
    "## 1-2 XGB Classifier - 수치형( )"
   ]
  },
  {
   "cell_type": "code",
   "execution_count": null,
   "id": "32347526",
   "metadata": {
    "id": "32347526"
   },
   "outputs": [],
   "source": [
    "X = df[['new_price','year','use','mileage','change','lat','lng','options_count']] \n",
    "Y = df[['depreciation']]"
   ]
  },
  {
   "cell_type": "code",
   "execution_count": null,
   "id": "e2fd5242",
   "metadata": {
    "id": "e2fd5242"
   },
   "outputs": [],
   "source": [
    "scaled_X= s_scale.fit_transform(X)"
   ]
  },
  {
   "cell_type": "code",
   "execution_count": null,
   "id": "84e1aa36",
   "metadata": {
    "id": "84e1aa36"
   },
   "outputs": [],
   "source": [
    "X_train, X_test, y_train, y_test = train_test_split(scaled_X,Y, random_state = 5, test_size = 0.25)"
   ]
  },
  {
   "cell_type": "code",
   "execution_count": null,
   "id": "bcb1ff74",
   "metadata": {
    "colab": {
     "base_uri": "https://localhost:8080/"
    },
    "executionInfo": {
     "elapsed": 698511,
     "status": "ok",
     "timestamp": 1653958916380,
     "user": {
      "displayName": "김세영",
      "userId": "04104912043964290912"
     },
     "user_tz": -540
    },
    "id": "bcb1ff74",
    "outputId": "fead9086-1cd8-43b5-bc97-452ecdd2411d"
   },
   "outputs": [
    {
     "name": "stderr",
     "output_type": "stream",
     "text": [
      "/usr/local/lib/python3.7/dist-packages/sklearn/preprocessing/_label.py:98: DataConversionWarning: A column-vector y was passed when a 1d array was expected. Please change the shape of y to (n_samples, ), for example using ravel().\n",
      "  y = column_or_1d(y, warn=True)\n",
      "/usr/local/lib/python3.7/dist-packages/sklearn/preprocessing/_label.py:133: DataConversionWarning: A column-vector y was passed when a 1d array was expected. Please change the shape of y to (n_samples, ), for example using ravel().\n",
      "  y = column_or_1d(y, warn=True)\n"
     ]
    },
    {
     "data": {
      "text/plain": [
       "XGBClassifier(learning_rate=0.08, max_depth=7, objective='multi:softprob',\n",
       "              subsample=0.75)"
      ]
     },
     "execution_count": 27,
     "metadata": {},
     "output_type": "execute_result"
    }
   ],
   "source": [
    "xgb_clf = xgboost.XGBClassifier(n_estimators=100, learning_rate=0.08, gamma=0, subsample=0.75,\n",
    "                           colsample_bytree=1, max_depth=7)\n",
    "\n",
    "xgb_clf.fit(X_train,y_train)"
   ]
  },
  {
   "cell_type": "code",
   "execution_count": null,
   "id": "Kqe1yRWNLFKh",
   "metadata": {
    "id": "Kqe1yRWNLFKh"
   },
   "outputs": [],
   "source": [
    "# 모델명 변경해주기\n",
    "\n",
    "y_predict_3 = xgb_clf.predict(X_test)"
   ]
  },
  {
   "cell_type": "code",
   "execution_count": null,
   "id": "rukYIakvKAcj",
   "metadata": {
    "colab": {
     "base_uri": "https://localhost:8080/"
    },
    "executionInfo": {
     "elapsed": 238175,
     "status": "ok",
     "timestamp": 1653959214515,
     "user": {
      "displayName": "김세영",
      "userId": "04104912043964290912"
     },
     "user_tz": -540
    },
    "id": "rukYIakvKAcj",
    "outputId": "f141777a-3b92-4267-d079-ff8e165ca040"
   },
   "outputs": [
    {
     "name": "stdout",
     "output_type": "stream",
     "text": [
      "train acc : 0.5409893837275891\n",
      "test acc : 0.15334126249944938\n",
      "MAE : 7.226950354609929\n",
      "MSE : 111.27390863838598\n",
      "r2_score : 0.8017735685419847\n"
     ]
    }
   ],
   "source": [
    "# 모델명, acc.append 부분 model 이름 변경해주기\n",
    "\n",
    "print(f'train acc : {xgb_clf.score(X_train, y_train)}')\n",
    "print(f'test acc : {xgb_clf.score(X_test, y_test)}')\n",
    "print(f'MAE : {mean_absolute_error(y_test, y_predict_3)}')\n",
    "print(f'MSE : {mean_squared_error(y_test, y_predict_3)}')\n",
    "print(f'r2_score : {r2_score(y_test,y_predict_3)}')"
   ]
  },
  {
   "cell_type": "code",
   "execution_count": null,
   "id": "TW4hHo4OKAUq",
   "metadata": {
    "id": "TW4hHo4OKAUq"
   },
   "outputs": [],
   "source": [
    "# 모델명, acc.append 부분 model 이름 변경해주기\n",
    "\n",
    "model_name.append('XGBClassifier')\n",
    "model_train_acc.append(xgb_clf.score(X_train, y_train))\n",
    "model_test_acc.append(xgb_clf.score(X_test, y_test))\n",
    "model_mae.append(mean_absolute_error(y_test, y_predict_3))\n",
    "model_mse.append(mean_squared_error(y_test, y_predict_3))\n",
    "model_r2_score.append(r2_score(y_test,y_predict_3))"
   ]
  },
  {
   "cell_type": "code",
   "execution_count": null,
   "id": "W2QHTI7Hlyr2",
   "metadata": {
    "colab": {
     "base_uri": "https://localhost:8080/",
     "height": 606
    },
    "executionInfo": {
     "elapsed": 1801,
     "status": "ok",
     "timestamp": 1653959430181,
     "user": {
      "displayName": "김세영",
      "userId": "04104912043964290912"
     },
     "user_tz": -540
    },
    "id": "W2QHTI7Hlyr2",
    "outputId": "2a278cea-c543-4e2b-b6b3-4eeda05ea84b"
   },
   "outputs": [
    {
     "name": "stderr",
     "output_type": "stream",
     "text": [
      "/usr/local/lib/python3.7/dist-packages/seaborn/distributions.py:2619: FutureWarning: `distplot` is a deprecated function and will be removed in a future version. Please adapt your code to use either `displot` (a figure-level function with similar flexibility) or `kdeplot` (an axes-level function for kernel density plots).\n",
      "  warnings.warn(msg, FutureWarning)\n",
      "/usr/local/lib/python3.7/dist-packages/seaborn/distributions.py:2619: FutureWarning: `distplot` is a deprecated function and will be removed in a future version. Please adapt your code to use either `displot` (a figure-level function with similar flexibility) or `kdeplot` (an axes-level function for kernel density plots).\n",
      "  warnings.warn(msg, FutureWarning)\n"
     ]
    },
    {
     "data": {
      "image/png": "[encoded data removed]",
      "text/plain": [
       "<Figure size 576x576 with 1 Axes>"
      ]
     },
     "metadata": {
      "needs_background": "light"
     },
     "output_type": "display_data"
    }
   ],
   "source": [
    "plt.figure(figsize=(8, 8))\n",
    "\n",
    "ax1 = sns.distplot(y_test, hist=False, color=\"r\", label=\"Actual Value\")\n",
    "sns.distplot(y_predict_3, hist=False, color=\"b\", label=\"Fitted Values\" , ax=ax1)\n",
    "\n",
    "plt.title('Actual vs Fitted Values for Depreciation ')\n",
    "plt.xlabel('Usedcar Depreciation  rate')\n",
    "plt.ylabel('Proportion of Cars')\n",
    "\n",
    "plt.show()\n",
    "plt.close()"
   ]
  },
  {
   "cell_type": "markdown",
   "id": "c85144f6",
   "metadata": {
    "id": "c85144f6"
   },
   "source": [
    "### 1-2.1) 감가상각률을 5% 단위로 20개 이진분류로 바꿔서 진행해보자"
   ]
  },
  {
   "cell_type": "code",
   "execution_count": null,
   "id": "9ea9b3b4",
   "metadata": {
    "id": "9ea9b3b4"
   },
   "outputs": [],
   "source": [
    "from tqdm import tqdm"
   ]
  },
  {
   "cell_type": "code",
   "execution_count": null,
   "id": "49d16d7e",
   "metadata": {
    "id": "49d16d7e"
   },
   "outputs": [],
   "source": [
    "X = df[['new_price','year','use','mileage','change','lat','lng','options_count']] \n",
    "Y = df[['depreciation']]"
   ]
  },
  {
   "cell_type": "code",
   "execution_count": null,
   "id": "6011767d",
   "metadata": {
    "id": "6011767d",
    "outputId": "224dfb3d-71db-4f22-a76a-d627e440c526"
   },
   "outputs": [
    {
     "data": {
      "text/html": [
       "<div>\n",
       "<style scoped>\n",
       "    .dataframe tbody tr th:only-of-type {\n",
       "        vertical-align: middle;\n",
       "    }\n",
       "\n",
       "    .dataframe tbody tr th {\n",
       "        vertical-align: top;\n",
       "    }\n",
       "\n",
       "    .dataframe thead th {\n",
       "        text-align: right;\n",
       "    }\n",
       "</style>\n",
       "<table border=\"1\" class=\"dataframe\">\n",
       "  <thead>\n",
       "    <tr style=\"text-align: right;\">\n",
       "      <th></th>\n",
       "      <th>depreciation</th>\n",
       "    </tr>\n",
       "  </thead>\n",
       "  <tbody>\n",
       "    <tr>\n",
       "      <th>0</th>\n",
       "      <td>60</td>\n",
       "    </tr>\n",
       "    <tr>\n",
       "      <th>1</th>\n",
       "      <td>27</td>\n",
       "    </tr>\n",
       "    <tr>\n",
       "      <th>2</th>\n",
       "      <td>54</td>\n",
       "    </tr>\n",
       "    <tr>\n",
       "      <th>3</th>\n",
       "      <td>21</td>\n",
       "    </tr>\n",
       "    <tr>\n",
       "      <th>4</th>\n",
       "      <td>83</td>\n",
       "    </tr>\n",
       "    <tr>\n",
       "      <th>...</th>\n",
       "      <td>...</td>\n",
       "    </tr>\n",
       "    <tr>\n",
       "      <th>90799</th>\n",
       "      <td>83</td>\n",
       "    </tr>\n",
       "    <tr>\n",
       "      <th>90800</th>\n",
       "      <td>46</td>\n",
       "    </tr>\n",
       "    <tr>\n",
       "      <th>90801</th>\n",
       "      <td>62</td>\n",
       "    </tr>\n",
       "    <tr>\n",
       "      <th>90802</th>\n",
       "      <td>52</td>\n",
       "    </tr>\n",
       "    <tr>\n",
       "      <th>90803</th>\n",
       "      <td>84</td>\n",
       "    </tr>\n",
       "  </tbody>\n",
       "</table>\n",
       "<p>90804 rows × 1 columns</p>\n",
       "</div>"
      ],
      "text/plain": [
       "       depreciation\n",
       "0                60\n",
       "1                27\n",
       "2                54\n",
       "3                21\n",
       "4                83\n",
       "...             ...\n",
       "90799            83\n",
       "90800            46\n",
       "90801            62\n",
       "90802            52\n",
       "90803            84\n",
       "\n",
       "[90804 rows x 1 columns]"
      ]
     },
     "execution_count": 78,
     "metadata": {},
     "output_type": "execute_result"
    }
   ],
   "source": [
    "Y"
   ]
  },
  {
   "cell_type": "code",
   "execution_count": null,
   "id": "680cb1d7",
   "metadata": {
    "id": "680cb1d7",
    "outputId": "5504f487-35b7-4d0e-b330-7cca499d90f4"
   },
   "outputs": [
    {
     "name": "stderr",
     "output_type": "stream",
     "text": [
      "  0%|                                                                                        | 0/90804 [00:00<?, ?it/s]C:\\Users\\ksy94\\AppData\\Local\\Temp/ipykernel_13980/648394314.py:26: SettingWithCopyWarning: \n",
      "A value is trying to be set on a copy of a slice from a DataFrame\n",
      "\n",
      "See the caveats in the documentation: https://pandas.pydata.org/pandas-docs/stable/user_guide/indexing.html#returning-a-view-versus-a-copy\n",
      "  Y['depreciation'][i] = 12\n",
      "C:\\Users\\ksy94\\AppData\\Local\\Temp/ipykernel_13980/648394314.py:14: SettingWithCopyWarning: \n",
      "A value is trying to be set on a copy of a slice from a DataFrame\n",
      "\n",
      "See the caveats in the documentation: https://pandas.pydata.org/pandas-docs/stable/user_guide/indexing.html#returning-a-view-versus-a-copy\n",
      "  Y['depreciation'][i] = 6\n",
      "C:\\Users\\ksy94\\AppData\\Local\\Temp/ipykernel_13980/648394314.py:24: SettingWithCopyWarning: \n",
      "A value is trying to be set on a copy of a slice from a DataFrame\n",
      "\n",
      "See the caveats in the documentation: https://pandas.pydata.org/pandas-docs/stable/user_guide/indexing.html#returning-a-view-versus-a-copy\n",
      "  Y['depreciation'][i] = 11\n",
      "C:\\Users\\ksy94\\AppData\\Local\\Temp/ipykernel_13980/648394314.py:12: SettingWithCopyWarning: \n",
      "A value is trying to be set on a copy of a slice from a DataFrame\n",
      "\n",
      "See the caveats in the documentation: https://pandas.pydata.org/pandas-docs/stable/user_guide/indexing.html#returning-a-view-versus-a-copy\n",
      "  Y['depreciation'][i] = 5\n",
      "C:\\Users\\ksy94\\AppData\\Local\\Temp/ipykernel_13980/648394314.py:36: SettingWithCopyWarning: \n",
      "A value is trying to be set on a copy of a slice from a DataFrame\n",
      "\n",
      "See the caveats in the documentation: https://pandas.pydata.org/pandas-docs/stable/user_guide/indexing.html#returning-a-view-versus-a-copy\n",
      "  Y['depreciation'][i] = 17\n",
      "C:\\Users\\ksy94\\AppData\\Local\\Temp/ipykernel_13980/648394314.py:32: SettingWithCopyWarning: \n",
      "A value is trying to be set on a copy of a slice from a DataFrame\n",
      "\n",
      "See the caveats in the documentation: https://pandas.pydata.org/pandas-docs/stable/user_guide/indexing.html#returning-a-view-versus-a-copy\n",
      "  Y['depreciation'][i] = 15\n",
      "C:\\Users\\ksy94\\AppData\\Local\\Temp/ipykernel_13980/648394314.py:22: SettingWithCopyWarning: \n",
      "A value is trying to be set on a copy of a slice from a DataFrame\n",
      "\n",
      "See the caveats in the documentation: https://pandas.pydata.org/pandas-docs/stable/user_guide/indexing.html#returning-a-view-versus-a-copy\n",
      "  Y['depreciation'][i] = 10\n",
      "C:\\Users\\ksy94\\AppData\\Local\\Temp/ipykernel_13980/648394314.py:38: SettingWithCopyWarning: \n",
      "A value is trying to be set on a copy of a slice from a DataFrame\n",
      "\n",
      "See the caveats in the documentation: https://pandas.pydata.org/pandas-docs/stable/user_guide/indexing.html#returning-a-view-versus-a-copy\n",
      "  Y['depreciation'][i] = 18\n",
      "C:\\Users\\ksy94\\AppData\\Local\\Temp/ipykernel_13980/648394314.py:6: SettingWithCopyWarning: \n",
      "A value is trying to be set on a copy of a slice from a DataFrame\n",
      "\n",
      "See the caveats in the documentation: https://pandas.pydata.org/pandas-docs/stable/user_guide/indexing.html#returning-a-view-versus-a-copy\n",
      "  Y['depreciation'][i] = 2\n",
      "C:\\Users\\ksy94\\AppData\\Local\\Temp/ipykernel_13980/648394314.py:30: SettingWithCopyWarning: \n",
      "A value is trying to be set on a copy of a slice from a DataFrame\n",
      "\n",
      "See the caveats in the documentation: https://pandas.pydata.org/pandas-docs/stable/user_guide/indexing.html#returning-a-view-versus-a-copy\n",
      "  Y['depreciation'][i] = 14\n",
      "C:\\Users\\ksy94\\AppData\\Local\\Temp/ipykernel_13980/648394314.py:20: SettingWithCopyWarning: \n",
      "A value is trying to be set on a copy of a slice from a DataFrame\n",
      "\n",
      "See the caveats in the documentation: https://pandas.pydata.org/pandas-docs/stable/user_guide/indexing.html#returning-a-view-versus-a-copy\n",
      "  Y['depreciation'][i] = 9\n",
      "C:\\Users\\ksy94\\AppData\\Local\\Temp/ipykernel_13980/648394314.py:16: SettingWithCopyWarning: \n",
      "A value is trying to be set on a copy of a slice from a DataFrame\n",
      "\n",
      "See the caveats in the documentation: https://pandas.pydata.org/pandas-docs/stable/user_guide/indexing.html#returning-a-view-versus-a-copy\n",
      "  Y['depreciation'][i] = 7\n",
      "C:\\Users\\ksy94\\AppData\\Local\\Temp/ipykernel_13980/648394314.py:28: SettingWithCopyWarning: \n",
      "A value is trying to be set on a copy of a slice from a DataFrame\n",
      "\n",
      "See the caveats in the documentation: https://pandas.pydata.org/pandas-docs/stable/user_guide/indexing.html#returning-a-view-versus-a-copy\n",
      "  Y['depreciation'][i] = 13\n",
      "C:\\Users\\ksy94\\AppData\\Local\\Temp/ipykernel_13980/648394314.py:18: SettingWithCopyWarning: \n",
      "A value is trying to be set on a copy of a slice from a DataFrame\n",
      "\n",
      "See the caveats in the documentation: https://pandas.pydata.org/pandas-docs/stable/user_guide/indexing.html#returning-a-view-versus-a-copy\n",
      "  Y['depreciation'][i] = 8\n",
      "C:\\Users\\ksy94\\AppData\\Local\\Temp/ipykernel_13980/648394314.py:42: SettingWithCopyWarning: \n",
      "A value is trying to be set on a copy of a slice from a DataFrame\n",
      "\n",
      "See the caveats in the documentation: https://pandas.pydata.org/pandas-docs/stable/user_guide/indexing.html#returning-a-view-versus-a-copy\n",
      "  Y['depreciation'][i] = 20\n",
      "C:\\Users\\ksy94\\AppData\\Local\\Temp/ipykernel_13980/648394314.py:4: SettingWithCopyWarning: \n",
      "A value is trying to be set on a copy of a slice from a DataFrame\n",
      "\n",
      "See the caveats in the documentation: https://pandas.pydata.org/pandas-docs/stable/user_guide/indexing.html#returning-a-view-versus-a-copy\n",
      "  Y['depreciation'][i] = 1\n",
      "C:\\Users\\ksy94\\AppData\\Local\\Temp/ipykernel_13980/648394314.py:40: SettingWithCopyWarning: \n",
      "A value is trying to be set on a copy of a slice from a DataFrame\n",
      "\n",
      "See the caveats in the documentation: https://pandas.pydata.org/pandas-docs/stable/user_guide/indexing.html#returning-a-view-versus-a-copy\n",
      "  Y['depreciation'][i] = 19\n",
      "C:\\Users\\ksy94\\AppData\\Local\\Temp/ipykernel_13980/648394314.py:34: SettingWithCopyWarning: \n",
      "A value is trying to be set on a copy of a slice from a DataFrame\n",
      "\n",
      "See the caveats in the documentation: https://pandas.pydata.org/pandas-docs/stable/user_guide/indexing.html#returning-a-view-versus-a-copy\n",
      "  Y['depreciation'][i] = 16\n",
      "C:\\Users\\ksy94\\AppData\\Local\\Temp/ipykernel_13980/648394314.py:8: SettingWithCopyWarning: \n",
      "A value is trying to be set on a copy of a slice from a DataFrame\n",
      "\n",
      "See the caveats in the documentation: https://pandas.pydata.org/pandas-docs/stable/user_guide/indexing.html#returning-a-view-versus-a-copy\n",
      "  Y['depreciation'][i] = 3\n",
      "C:\\Users\\ksy94\\AppData\\Local\\Temp/ipykernel_13980/648394314.py:10: SettingWithCopyWarning: \n",
      "A value is trying to be set on a copy of a slice from a DataFrame\n",
      "\n",
      "See the caveats in the documentation: https://pandas.pydata.org/pandas-docs/stable/user_guide/indexing.html#returning-a-view-versus-a-copy\n",
      "  Y['depreciation'][i] = 4\n",
      "100%|██████████████████████████████████████████████████████████████████████████| 90804/90804 [00:15<00:00, 5703.69it/s]\n"
     ]
    }
   ],
   "source": [
    "for i,y in enumerate(tqdm(Y['depreciation'])):\n",
    "    \n",
    "    if 0<y<=5 :\n",
    "        Y['depreciation'][i] = 1\n",
    "    elif 5<y<=10 :\n",
    "        Y['depreciation'][i] = 2\n",
    "    elif 10<y<=15 :\n",
    "        Y['depreciation'][i] = 3\n",
    "    elif 15<y<=20 :\n",
    "        Y['depreciation'][i] = 4\n",
    "    elif 20<y<=25 :\n",
    "        Y['depreciation'][i] = 5\n",
    "    elif 25<y<=30 :\n",
    "        Y['depreciation'][i] = 6\n",
    "    elif 30<y<=35 :\n",
    "        Y['depreciation'][i] = 7\n",
    "    elif 35<y<=40 :\n",
    "        Y['depreciation'][i] = 8\n",
    "    elif 40<y<=45 :\n",
    "        Y['depreciation'][i] = 9\n",
    "    elif 45<y<=50 :\n",
    "        Y['depreciation'][i] = 10\n",
    "    elif 50<y<=55 :\n",
    "        Y['depreciation'][i] = 11\n",
    "    elif 55<y<=60 :\n",
    "        Y['depreciation'][i] = 12\n",
    "    elif 60<y<=65 :\n",
    "        Y['depreciation'][i] = 13\n",
    "    elif 65<y<=70 :\n",
    "        Y['depreciation'][i] = 14\n",
    "    elif 70<y<=75 :\n",
    "        Y['depreciation'][i] = 15\n",
    "    elif 75<y<=80 :\n",
    "        Y['depreciation'][i] = 16\n",
    "    elif 80<y<=85 :\n",
    "        Y['depreciation'][i] = 17\n",
    "    elif 85<y<=90 :\n",
    "        Y['depreciation'][i] = 18\n",
    "    elif 90<y<=95 :\n",
    "        Y['depreciation'][i] = 19\n",
    "    else :\n",
    "        Y['depreciation'][i] = 20"
   ]
  },
  {
   "cell_type": "code",
   "execution_count": null,
   "id": "a14f4cfd",
   "metadata": {
    "id": "a14f4cfd",
    "outputId": "f245dd06-9303-4e1c-eed1-e909dc54a51d"
   },
   "outputs": [
    {
     "data": {
      "text/html": [
       "<div>\n",
       "<style scoped>\n",
       "    .dataframe tbody tr th:only-of-type {\n",
       "        vertical-align: middle;\n",
       "    }\n",
       "\n",
       "    .dataframe tbody tr th {\n",
       "        vertical-align: top;\n",
       "    }\n",
       "\n",
       "    .dataframe thead th {\n",
       "        text-align: right;\n",
       "    }\n",
       "</style>\n",
       "<table border=\"1\" class=\"dataframe\">\n",
       "  <thead>\n",
       "    <tr style=\"text-align: right;\">\n",
       "      <th></th>\n",
       "      <th>depreciation</th>\n",
       "    </tr>\n",
       "  </thead>\n",
       "  <tbody>\n",
       "    <tr>\n",
       "      <th>0</th>\n",
       "      <td>12</td>\n",
       "    </tr>\n",
       "    <tr>\n",
       "      <th>1</th>\n",
       "      <td>6</td>\n",
       "    </tr>\n",
       "    <tr>\n",
       "      <th>2</th>\n",
       "      <td>11</td>\n",
       "    </tr>\n",
       "    <tr>\n",
       "      <th>3</th>\n",
       "      <td>5</td>\n",
       "    </tr>\n",
       "    <tr>\n",
       "      <th>4</th>\n",
       "      <td>17</td>\n",
       "    </tr>\n",
       "    <tr>\n",
       "      <th>...</th>\n",
       "      <td>...</td>\n",
       "    </tr>\n",
       "    <tr>\n",
       "      <th>90799</th>\n",
       "      <td>17</td>\n",
       "    </tr>\n",
       "    <tr>\n",
       "      <th>90800</th>\n",
       "      <td>10</td>\n",
       "    </tr>\n",
       "    <tr>\n",
       "      <th>90801</th>\n",
       "      <td>13</td>\n",
       "    </tr>\n",
       "    <tr>\n",
       "      <th>90802</th>\n",
       "      <td>11</td>\n",
       "    </tr>\n",
       "    <tr>\n",
       "      <th>90803</th>\n",
       "      <td>17</td>\n",
       "    </tr>\n",
       "  </tbody>\n",
       "</table>\n",
       "<p>90804 rows × 1 columns</p>\n",
       "</div>"
      ],
      "text/plain": [
       "       depreciation\n",
       "0                12\n",
       "1                 6\n",
       "2                11\n",
       "3                 5\n",
       "4                17\n",
       "...             ...\n",
       "90799            17\n",
       "90800            10\n",
       "90801            13\n",
       "90802            11\n",
       "90803            17\n",
       "\n",
       "[90804 rows x 1 columns]"
      ]
     },
     "execution_count": 80,
     "metadata": {},
     "output_type": "execute_result"
    }
   ],
   "source": [
    "Y"
   ]
  },
  {
   "cell_type": "markdown",
   "id": "00Ti5O18MF7I",
   "metadata": {
    "id": "00Ti5O18MF7I"
   },
   "source": [
    "---\n",
    "---\n",
    "---"
   ]
  },
  {
   "cell_type": "markdown",
   "id": "9bf234c5",
   "metadata": {
    "id": "9bf234c5"
   },
   "source": [
    "## 2. RandomForestRegerssor  - 범주형()  >>> 전체행 오류 >>> 일부 행 진행"
   ]
  },
  {
   "cell_type": "markdown",
   "id": "wTBucrBM6zPQ",
   "metadata": {
    "id": "wTBucrBM6zPQ"
   },
   "source": [
    "#### 하드웨어 능력상 일부 범주형데이터만 활용\n"
   ]
  },
  {
   "cell_type": "code",
   "execution_count": null,
   "id": "FFx8G5Ma7eZ4",
   "metadata": {
    "id": "FFx8G5Ma7eZ4"
   },
   "outputs": [],
   "source": [
    "from sklearn.ensemble import RandomForestRegressor"
   ]
  },
  {
   "cell_type": "code",
   "execution_count": null,
   "id": "7WAe_e9j6383",
   "metadata": {
    "id": "7WAe_e9j6383"
   },
   "outputs": [],
   "source": [
    "X = df[['car_brand','nation','car_name','fuel','car_type','trans','loss','flood','usage','insurance']] \n",
    "Y = df[['depreciation']]"
   ]
  },
  {
   "cell_type": "code",
   "execution_count": null,
   "id": "b8iyYdGA7HKJ",
   "metadata": {
    "id": "b8iyYdGA7HKJ"
   },
   "outputs": [],
   "source": [
    "encoded_X = pd.get_dummies(data = X)"
   ]
  },
  {
   "cell_type": "code",
   "execution_count": null,
   "id": "Do3S8_X37MaX",
   "metadata": {
    "id": "Do3S8_X37MaX"
   },
   "outputs": [],
   "source": [
    "s_scale = StandardScaler()\n",
    "scaled_X= s_scale.fit_transform(encoded_X)"
   ]
  },
  {
   "cell_type": "code",
   "execution_count": null,
   "id": "kQ-JkaKu7OmY",
   "metadata": {
    "id": "kQ-JkaKu7OmY"
   },
   "outputs": [],
   "source": [
    "X_train, X_test, y_train, y_test = train_test_split(scaled_X,Y, random_state = 5, test_size = 0.25)"
   ]
  },
  {
   "cell_type": "code",
   "execution_count": null,
   "id": "TSClCYiA7RDG",
   "metadata": {
    "colab": {
     "base_uri": "https://localhost:8080/"
    },
    "executionInfo": {
     "elapsed": 15,
     "status": "ok",
     "timestamp": 1653961620502,
     "user": {
      "displayName": "김세영",
      "userId": "04104912043964290912"
     },
     "user_tz": -540
    },
    "id": "TSClCYiA7RDG",
    "outputId": "34ee649d-a1c0-4357-df17-7ac709868985"
   },
   "outputs": [
    {
     "data": {
      "text/plain": [
       "(90804, 1070)"
      ]
     },
     "execution_count": 83,
     "metadata": {},
     "output_type": "execute_result"
    }
   ],
   "source": [
    "scaled_X.shape"
   ]
  },
  {
   "cell_type": "code",
   "execution_count": null,
   "id": "H7MVl5L37S83",
   "metadata": {
    "colab": {
     "base_uri": "https://localhost:8080/"
    },
    "executionInfo": {
     "elapsed": 30112,
     "status": "ok",
     "timestamp": 1653962017937,
     "user": {
      "displayName": "김세영",
      "userId": "04104912043964290912"
     },
     "user_tz": -540
    },
    "id": "H7MVl5L37S83",
    "outputId": "63556133-6532-48a3-bc15-628292b372e2"
   },
   "outputs": [
    {
     "metadata": {
      "tags": null
     },
     "name": "stderr",
     "output_type": "stream",
     "text": [
      "/usr/local/lib/python3.7/dist-packages/ipykernel_launcher.py:2: DataConversionWarning: A column-vector y was passed when a 1d array was expected. Please change the shape of y to (n_samples,), for example using ravel().\n",
      "  \n"
     ]
    },
    {
     "data": {
      "text/plain": [
       "RandomForestRegressor()"
      ]
     },
     "execution_count": 84,
     "metadata": {},
     "output_type": "execute_result"
    }
   ],
   "source": [
    "randforest_text = RandomForestRegressor() # 모델 정의\n",
    "randforest_text.fit(X_train, y_train)"
   ]
  },
  {
   "cell_type": "code",
   "execution_count": null,
   "id": "eDsV7OCZL0LK",
   "metadata": {
    "id": "eDsV7OCZL0LK"
   },
   "outputs": [],
   "source": [
    "# 모델명 변경해주기\n",
    "\n",
    "y_predict_4 = randforest_text.predict(X_test)"
   ]
  },
  {
   "cell_type": "code",
   "execution_count": null,
   "id": "gIfZz0ykL0Bm",
   "metadata": {
    "colab": {
     "base_uri": "https://localhost:8080/"
    },
    "executionInfo": {
     "elapsed": 4352,
     "status": "ok",
     "timestamp": 1653962022772,
     "user": {
      "displayName": "김세영",
      "userId": "04104912043964290912"
     },
     "user_tz": -540
    },
    "id": "gIfZz0ykL0Bm",
    "outputId": "a7b5b442-920a-4928-dc6d-8bf4686e1fc1"
   },
   "outputs": [
    {
     "name": "stdout",
     "output_type": "stream",
     "text": [
      "train acc : 0.7857066108562193\n",
      "test acc : 0.750677425950588\n",
      "MAE : 8.75145472306821\n",
      "MSE : 139.95659974405348\n",
      "r2_score : 0.750677425950588\n"
     ]
    }
   ],
   "source": [
    "# 모델명, acc.append 부분 model 이름 변경해주기\n",
    "\n",
    "print(f'train acc : {randforest_text.score(X_train, y_train)}')\n",
    "print(f'test acc : {randforest_text.score(X_test, y_test)}')\n",
    "print(f'MAE : {mean_absolute_error(y_test, y_predict_4)}')\n",
    "print(f'MSE : {mean_squared_error(y_test, y_predict_4)}')\n",
    "print(f'r2_score : {r2_score(y_test,y_predict_4)}')"
   ]
  },
  {
   "cell_type": "code",
   "execution_count": null,
   "id": "yKE9Go_K-omC",
   "metadata": {
    "id": "yKE9Go_K-omC"
   },
   "outputs": [],
   "source": [
    "# 모델명, acc.append 부분 model 이름 변경해주기\n",
    "\n",
    "model_name.append('RandomForestRegressor(categorical)')\n",
    "model_train_acc.append(randforest_text.score(X_train, y_train))\n",
    "model_test_acc.append(randforest_text.score(X_test, y_test))\n",
    "model_mae.append(mean_absolute_error(y_test, y_predict_4))\n",
    "model_mse.append(mean_squared_error(y_test, y_predict_4))\n",
    "model_r2_score.append(r2_score(y_test,y_predict_4))"
   ]
  },
  {
   "cell_type": "code",
   "execution_count": null,
   "id": "NgZmXuADl3sY",
   "metadata": {
    "colab": {
     "base_uri": "https://localhost:8080/",
     "height": 606
    },
    "executionInfo": {
     "elapsed": 1977,
     "status": "ok",
     "timestamp": 1653962024747,
     "user": {
      "displayName": "김세영",
      "userId": "04104912043964290912"
     },
     "user_tz": -540
    },
    "id": "NgZmXuADl3sY",
    "outputId": "37d237cf-a4ec-4f1b-a0df-6b31744ac1ae"
   },
   "outputs": [
    {
     "name": "stderr",
     "output_type": "stream",
     "text": [
      "/usr/local/lib/python3.7/dist-packages/seaborn/distributions.py:2619: FutureWarning: `distplot` is a deprecated function and will be removed in a future version. Please adapt your code to use either `displot` (a figure-level function with similar flexibility) or `kdeplot` (an axes-level function for kernel density plots).\n",
      "  warnings.warn(msg, FutureWarning)\n",
      "/usr/local/lib/python3.7/dist-packages/seaborn/distributions.py:2619: FutureWarning: `distplot` is a deprecated function and will be removed in a future version. Please adapt your code to use either `displot` (a figure-level function with similar flexibility) or `kdeplot` (an axes-level function for kernel density plots).\n",
      "  warnings.warn(msg, FutureWarning)\n"
     ]
    },
    {
     "data": {
      "image/png": "[encoded data removed]",
      "text/plain": [
       "<Figure size 576x576 with 1 Axes>"
      ]
     },
     "metadata": {
      "needs_background": "light"
     },
     "output_type": "display_data"
    }
   ],
   "source": [
    "plt.figure(figsize=(8, 8))\n",
    "\n",
    "ax1 = sns.distplot(y_test, hist=False, color=\"r\", label=\"Actual Value\")\n",
    "sns.distplot(y_predict_4, hist=False, color=\"b\", label=\"Fitted Values\" , ax=ax1)\n",
    "\n",
    "plt.title('Actual vs Fitted Values for Depreciation ')\n",
    "plt.xlabel('Usedcar Depreciation  rate')\n",
    "plt.ylabel('Proportion of Cars')\n",
    "\n",
    "plt.show()\n",
    "plt.close()"
   ]
  },
  {
   "cell_type": "markdown",
   "id": "qVqiQzHYMDmo",
   "metadata": {
    "id": "qVqiQzHYMDmo"
   },
   "source": [
    "---\n",
    "---\n",
    "---"
   ]
  },
  {
   "cell_type": "markdown",
   "id": "Mfos_AzW-0ly",
   "metadata": {
    "id": "Mfos_AzW-0ly"
   },
   "source": [
    "### KB차차차 자료 기반 수치형 + 범주형\n"
   ]
  },
  {
   "cell_type": "code",
   "execution_count": null,
   "id": "juj_n6Ho-_mX",
   "metadata": {
    "id": "juj_n6Ho-_mX"
   },
   "outputs": [],
   "source": [
    "X = df[['use','car_name','mileage','year','car_type','fuel','trans','loss','flood','usage','change','insurance']] \n",
    "Y = df[['depreciation']]"
   ]
  },
  {
   "cell_type": "code",
   "execution_count": null,
   "id": "z0FSLqst_W6i",
   "metadata": {
    "id": "z0FSLqst_W6i"
   },
   "outputs": [],
   "source": [
    "encoded_X = pd.get_dummies(data = X, columns = ['car_name','car_type','fuel','trans','loss','flood','usage','change','insurance'])"
   ]
  },
  {
   "cell_type": "code",
   "execution_count": null,
   "id": "qLkCHiwg_fGY",
   "metadata": {
    "colab": {
     "base_uri": "https://localhost:8080/"
    },
    "executionInfo": {
     "elapsed": 6,
     "status": "ok",
     "timestamp": 1653961110684,
     "user": {
      "displayName": "김세영",
      "userId": "04104912043964290912"
     },
     "user_tz": -540
    },
    "id": "qLkCHiwg_fGY",
    "outputId": "3fb7da74-949b-4f2e-91b4-d579890944a7"
   },
   "outputs": [
    {
     "data": {
      "text/plain": [
       "(90804, 1044)"
      ]
     },
     "execution_count": 71,
     "metadata": {},
     "output_type": "execute_result"
    }
   ],
   "source": [
    "encoded_X.shape"
   ]
  },
  {
   "cell_type": "code",
   "execution_count": null,
   "id": "Ce9GYm-5_jj4",
   "metadata": {
    "id": "Ce9GYm-5_jj4"
   },
   "outputs": [],
   "source": [
    "scaled_X= s_scale.fit_transform(encoded_X)"
   ]
  },
  {
   "cell_type": "code",
   "execution_count": null,
   "id": "BgrGLncZ_2iX",
   "metadata": {
    "id": "BgrGLncZ_2iX"
   },
   "outputs": [],
   "source": [
    "X_train, X_test, y_train, y_test = train_test_split(scaled_X,Y, random_state = 5, test_size = 0.25)"
   ]
  },
  {
   "cell_type": "code",
   "execution_count": null,
   "id": "6VQJxcCC_3g_",
   "metadata": {
    "colab": {
     "base_uri": "https://localhost:8080/"
    },
    "executionInfo": {
     "elapsed": 243710,
     "status": "ok",
     "timestamp": 1653961358432,
     "user": {
      "displayName": "김세영",
      "userId": "04104912043964290912"
     },
     "user_tz": -540
    },
    "id": "6VQJxcCC_3g_",
    "outputId": "355a1843-27a1-45f3-f842-ef4ea7d89140"
   },
   "outputs": [
    {
     "name": "stderr",
     "output_type": "stream",
     "text": [
      "/usr/local/lib/python3.7/dist-packages/ipykernel_launcher.py:2: DataConversionWarning: A column-vector y was passed when a 1d array was expected. Please change the shape of y to (n_samples,), for example using ravel().\n",
      "  \n"
     ]
    },
    {
     "data": {
      "text/plain": [
       "RandomForestRegressor()"
      ]
     },
     "execution_count": 74,
     "metadata": {},
     "output_type": "execute_result"
    }
   ],
   "source": [
    "randforest_mix = RandomForestRegressor() # 모델 정의\n",
    "randforest_mix.fit(X_train, y_train)"
   ]
  },
  {
   "cell_type": "code",
   "execution_count": null,
   "id": "8GKk01IcBfx0",
   "metadata": {
    "id": "8GKk01IcBfx0"
   },
   "outputs": [],
   "source": [
    "# 모델명 변경해주기\n",
    "\n",
    "y_predict_5 = randforest_mix.predict(X_test)"
   ]
  },
  {
   "cell_type": "code",
   "execution_count": null,
   "id": "FKDbfbnmNBsR",
   "metadata": {
    "colab": {
     "base_uri": "https://localhost:8080/"
    },
    "executionInfo": {
     "elapsed": 5184,
     "status": "ok",
     "timestamp": 1653961364365,
     "user": {
      "displayName": "김세영",
      "userId": "04104912043964290912"
     },
     "user_tz": -540
    },
    "id": "FKDbfbnmNBsR",
    "outputId": "56fe9317-893e-42ea-c6ce-c68deebf6a5d"
   },
   "outputs": [
    {
     "name": "stdout",
     "output_type": "stream",
     "text": [
      "train acc : 0.9874121022011081\n",
      "test acc : 0.9099420085293374\n",
      "MAE : 5.046946350171274\n",
      "MSE : 50.55382696119183\n",
      "r2_score : 0.9099420085293374\n"
     ]
    }
   ],
   "source": [
    "# 모델명, acc.append 부분 model 이름 변경해주기\n",
    "\n",
    "print(f'train acc : {randforest_mix.score(X_train, y_train)}')\n",
    "print(f'test acc : {randforest_mix.score(X_test, y_test)}')\n",
    "print(f'MAE : {mean_absolute_error(y_test, y_predict_5)}')\n",
    "print(f'MSE : {mean_squared_error(y_test, y_predict_5)}')\n",
    "print(f'r2_score : {r2_score(y_test,y_predict_5)}')"
   ]
  },
  {
   "cell_type": "code",
   "execution_count": null,
   "id": "8S3mYse4NBjI",
   "metadata": {
    "id": "8S3mYse4NBjI"
   },
   "outputs": [],
   "source": [
    "# 모델명, acc.append 부분 model 이름 변경해주기\n",
    "\n",
    "model_name.append('RandomForestRegressor(mix)')\n",
    "model_train_acc.append(randforest_mix.score(X_train, y_train))\n",
    "model_test_acc.append(randforest_mix.score(X_test, y_test))\n",
    "model_mae.append(mean_absolute_error(y_test, y_predict_5))\n",
    "model_mse.append(mean_squared_error(y_test, y_predict_5))\n",
    "model_r2_score.append(r2_score(y_test,y_predict_5))"
   ]
  },
  {
   "cell_type": "code",
   "execution_count": null,
   "id": "gIJZtbeVl9rL",
   "metadata": {
    "colab": {
     "base_uri": "https://localhost:8080/",
     "height": 606
    },
    "executionInfo": {
     "elapsed": 938,
     "status": "ok",
     "timestamp": 1653961367497,
     "user": {
      "displayName": "김세영",
      "userId": "04104912043964290912"
     },
     "user_tz": -540
    },
    "id": "gIJZtbeVl9rL",
    "outputId": "32567180-cedc-41b7-dc2a-d1c7f7e78444"
   },
   "outputs": [
    {
     "name": "stderr",
     "output_type": "stream",
     "text": [
      "/usr/local/lib/python3.7/dist-packages/seaborn/distributions.py:2619: FutureWarning: `distplot` is a deprecated function and will be removed in a future version. Please adapt your code to use either `displot` (a figure-level function with similar flexibility) or `kdeplot` (an axes-level function for kernel density plots).\n",
      "  warnings.warn(msg, FutureWarning)\n",
      "/usr/local/lib/python3.7/dist-packages/seaborn/distributions.py:2619: FutureWarning: `distplot` is a deprecated function and will be removed in a future version. Please adapt your code to use either `displot` (a figure-level function with similar flexibility) or `kdeplot` (an axes-level function for kernel density plots).\n",
      "  warnings.warn(msg, FutureWarning)\n"
     ]
    },
    {
     "data": {
      "image/png": "[encoded data removed]",
      "text/plain": [
       "<Figure size 576x576 with 1 Axes>"
      ]
     },
     "metadata": {
      "needs_background": "light"
     },
     "output_type": "display_data"
    }
   ],
   "source": [
    "plt.figure(figsize=(8, 8))\n",
    "\n",
    "ax1 = sns.distplot(y_test, hist=False, color=\"r\", label=\"Actual Value\")\n",
    "sns.distplot(y_predict_5, hist=False, color=\"b\", label=\"Fitted Values\" , ax=ax1)\n",
    "\n",
    "plt.title('Actual vs Fitted Values for Depreciation ')\n",
    "plt.xlabel('Usedcar Depreciation  rate')\n",
    "plt.ylabel('Proportion of Cars')\n",
    "\n",
    "plt.show()\n",
    "plt.close()"
   ]
  },
  {
   "cell_type": "markdown",
   "id": "fNkfSYkCW00G",
   "metadata": {
    "id": "fNkfSYkCW00G"
   },
   "source": [
    "---\n",
    "---\n",
    "---\n",
    "# 3. 다중선형회귀"
   ]
  },
  {
   "cell_type": "markdown",
   "id": "8ojOX62MXNWp",
   "metadata": {
    "id": "8ojOX62MXNWp"
   },
   "source": [
    "### 1) 수치형"
   ]
  },
  {
   "cell_type": "code",
   "execution_count": null,
   "id": "lVLylpOoWyYa",
   "metadata": {
    "id": "lVLylpOoWyYa"
   },
   "outputs": [],
   "source": [
    "X = df[['new_price','year','use','mileage','change','lat','lng','options_count']] \n",
    "Y = df[['depreciation']]"
   ]
  },
  {
   "cell_type": "code",
   "execution_count": null,
   "id": "FORLIyUjXRnp",
   "metadata": {
    "id": "FORLIyUjXRnp"
   },
   "outputs": [],
   "source": [
    "s_scale = StandardScaler()\n",
    "scaled_X= s_scale.fit_transform(X)"
   ]
  },
  {
   "cell_type": "code",
   "execution_count": null,
   "id": "eUVe1X8AXTzP",
   "metadata": {
    "id": "eUVe1X8AXTzP"
   },
   "outputs": [],
   "source": [
    "X_train, X_test, y_train, y_test = train_test_split(scaled_X,Y, random_state = 5, test_size = 0.25)"
   ]
  },
  {
   "cell_type": "code",
   "execution_count": null,
   "id": "CpQ7QyN-XUCJ",
   "metadata": {
    "colab": {
     "base_uri": "https://localhost:8080/"
    },
    "executionInfo": {
     "elapsed": 30,
     "status": "ok",
     "timestamp": 1653960096686,
     "user": {
      "displayName": "김세영",
      "userId": "04104912043964290912"
     },
     "user_tz": -540
    },
    "id": "CpQ7QyN-XUCJ",
    "outputId": "c4a2dc65-7e70-44df-fe78-e24370eb7fcc"
   },
   "outputs": [
    {
     "data": {
      "text/plain": [
       "LinearRegression()"
      ]
     },
     "execution_count": 56,
     "metadata": {},
     "output_type": "execute_result"
    }
   ],
   "source": [
    "mlr = LinearRegression()\n",
    "mlr.fit(X_train, y_train)"
   ]
  },
  {
   "cell_type": "code",
   "execution_count": null,
   "id": "F_g_KEvzXUSP",
   "metadata": {
    "id": "F_g_KEvzXUSP"
   },
   "outputs": [],
   "source": [
    "# 모델명 변경해주기\n",
    "\n",
    "y_predict_6 = mlr.predict(X_test)"
   ]
  },
  {
   "cell_type": "code",
   "execution_count": null,
   "id": "5uNgENg7XU7y",
   "metadata": {
    "colab": {
     "base_uri": "https://localhost:8080/"
    },
    "executionInfo": {
     "elapsed": 35,
     "status": "ok",
     "timestamp": 1653960096695,
     "user": {
      "displayName": "김세영",
      "userId": "04104912043964290912"
     },
     "user_tz": -540
    },
    "id": "5uNgENg7XU7y",
    "outputId": "956cefd7-c4b2-4e2a-b2a7-458f9a86376e"
   },
   "outputs": [
    {
     "name": "stdout",
     "output_type": "stream",
     "text": [
      "train acc : 0.7444715460600957\n",
      "test acc : 0.745979556439186\n",
      "MAE : 9.078934496625193\n",
      "MSE : 142.59373697626725\n",
      "r2_score : 0.745979556439186\n"
     ]
    }
   ],
   "source": [
    "# 모델명, acc.append 부분 model 이름 변경해주기\n",
    "\n",
    "print(f'train acc : {mlr.score(X_train, y_train)}')\n",
    "print(f'test acc : {mlr.score(X_test, y_test)}')\n",
    "print(f'MAE : {mean_absolute_error(y_test, y_predict_6)}')\n",
    "print(f'MSE : {mean_squared_error(y_test, y_predict_6)}')\n",
    "print(f'r2_score : {r2_score(y_test,y_predict_6)}')"
   ]
  },
  {
   "cell_type": "code",
   "execution_count": null,
   "id": "U11LjfxSX4Ln",
   "metadata": {
    "id": "U11LjfxSX4Ln"
   },
   "outputs": [],
   "source": [
    "# 모델명, acc.append 부분 model 이름 변경해주기\n",
    "\n",
    "model_name.append('LinearRegression(numerical)')\n",
    "model_train_acc.append(mlr.score(X_train, y_train))\n",
    "model_test_acc.append(mlr.score(X_test, y_test))\n",
    "model_mae.append(mean_absolute_error(y_test, y_predict_6))\n",
    "model_mse.append(mean_squared_error(y_test, y_predict_6))\n",
    "model_r2_score.append(r2_score(y_test,y_predict_6))"
   ]
  },
  {
   "cell_type": "code",
   "execution_count": null,
   "id": "MsTwQz1nmCPa",
   "metadata": {
    "colab": {
     "base_uri": "https://localhost:8080/",
     "height": 606
    },
    "executionInfo": {
     "elapsed": 1033,
     "status": "ok",
     "timestamp": 1653960097698,
     "user": {
      "displayName": "김세영",
      "userId": "04104912043964290912"
     },
     "user_tz": -540
    },
    "id": "MsTwQz1nmCPa",
    "outputId": "419b8137-b186-4987-a06f-0593518d096d"
   },
   "outputs": [
    {
     "name": "stderr",
     "output_type": "stream",
     "text": [
      "/usr/local/lib/python3.7/dist-packages/seaborn/distributions.py:2619: FutureWarning: `distplot` is a deprecated function and will be removed in a future version. Please adapt your code to use either `displot` (a figure-level function with similar flexibility) or `kdeplot` (an axes-level function for kernel density plots).\n",
      "  warnings.warn(msg, FutureWarning)\n",
      "/usr/local/lib/python3.7/dist-packages/seaborn/distributions.py:2619: FutureWarning: `distplot` is a deprecated function and will be removed in a future version. Please adapt your code to use either `displot` (a figure-level function with similar flexibility) or `kdeplot` (an axes-level function for kernel density plots).\n",
      "  warnings.warn(msg, FutureWarning)\n"
     ]
    },
    {
     "data": {
      "image/png": "[encoded data removed]",
      "text/plain": [
       "<Figure size 576x576 with 1 Axes>"
      ]
     },
     "metadata": {
      "needs_background": "light"
     },
     "output_type": "display_data"
    }
   ],
   "source": [
    "plt.figure(figsize=(8, 8))\n",
    "\n",
    "ax1 = sns.distplot(y_test, hist=False, color=\"r\", label=\"Actual Value\")\n",
    "sns.distplot(y_predict_6, hist=False, color=\"b\", label=\"Fitted Values\" , ax=ax1)\n",
    "\n",
    "plt.title('Actual vs Fitted Values for Depreciation ')\n",
    "plt.xlabel('Usedcar Depreciation  rate')\n",
    "plt.ylabel('Proportion of Cars')\n",
    "\n",
    "plt.show()\n",
    "plt.close()"
   ]
  },
  {
   "cell_type": "markdown",
   "id": "T_22C_QPXVQ6",
   "metadata": {
    "id": "T_22C_QPXVQ6"
   },
   "source": [
    "### 2) 범주형 ( 독립변수가 종속변수에 선형적이지 않아 틀린 모델 )"
   ]
  },
  {
   "cell_type": "code",
   "execution_count": null,
   "id": "GZ4aPG2wXXYe",
   "metadata": {
    "id": "GZ4aPG2wXXYe"
   },
   "outputs": [],
   "source": [
    "X = df[['car_brand','nation','car_name','fuel','car_type','trans','loss','flood','usage','insurance']] \n",
    "Y = df[['depreciation']]"
   ]
  },
  {
   "cell_type": "code",
   "execution_count": null,
   "id": "BtQW1tLhZUAm",
   "metadata": {
    "id": "BtQW1tLhZUAm"
   },
   "outputs": [],
   "source": [
    "encoded_X = pd.get_dummies(data = X)"
   ]
  },
  {
   "cell_type": "code",
   "execution_count": null,
   "id": "475Zf_cGZT11",
   "metadata": {
    "id": "475Zf_cGZT11"
   },
   "outputs": [],
   "source": [
    "s_scale = StandardScaler()\n",
    "scaled_X= s_scale.fit_transform(encoded_X)"
   ]
  },
  {
   "cell_type": "code",
   "execution_count": null,
   "id": "Ox3UoD9CZalA",
   "metadata": {
    "id": "Ox3UoD9CZalA"
   },
   "outputs": [],
   "source": [
    "X_train, X_test, y_train, y_test = train_test_split(scaled_X,Y, random_state = 5, test_size = 0.25)"
   ]
  },
  {
   "cell_type": "code",
   "execution_count": null,
   "id": "aA9z7Kt4ZdoN",
   "metadata": {
    "colab": {
     "base_uri": "https://localhost:8080/"
    },
    "executionInfo": {
     "elapsed": 11,
     "status": "ok",
     "timestamp": 1653955086250,
     "user": {
      "displayName": "김세영",
      "userId": "04104912043964290912"
     },
     "user_tz": -540
    },
    "id": "aA9z7Kt4ZdoN",
    "outputId": "e26f37f5-02f8-4a2c-f2e7-dfa86df13fd2"
   },
   "outputs": [
    {
     "data": {
      "text/plain": [
       "(90804, 1070)"
      ]
     },
     "execution_count": 62,
     "metadata": {},
     "output_type": "execute_result"
    }
   ],
   "source": [
    "scaled_X.shape"
   ]
  },
  {
   "cell_type": "code",
   "execution_count": null,
   "id": "UFE9kAKjXX4G",
   "metadata": {
    "colab": {
     "base_uri": "https://localhost:8080/"
    },
    "executionInfo": {
     "elapsed": 9385,
     "status": "ok",
     "timestamp": 1653955095627,
     "user": {
      "displayName": "김세영",
      "userId": "04104912043964290912"
     },
     "user_tz": -540
    },
    "id": "UFE9kAKjXX4G",
    "outputId": "6256c4b2-fa72-462b-8afe-45c38fc39901"
   },
   "outputs": [
    {
     "data": {
      "text/plain": [
       "LinearRegression()"
      ]
     },
     "execution_count": 63,
     "metadata": {},
     "output_type": "execute_result"
    }
   ],
   "source": [
    "mlr_text = LinearRegression()\n",
    "mlr_text.fit(X_train, y_train)"
   ]
  },
  {
   "cell_type": "code",
   "execution_count": null,
   "id": "S5rmJASNX_wt",
   "metadata": {
    "id": "S5rmJASNX_wt"
   },
   "outputs": [],
   "source": [
    "# 모델명 변경해주기\n",
    "\n",
    "y_predict = mlr_text.predict(X_test)"
   ]
  },
  {
   "cell_type": "code",
   "execution_count": null,
   "id": "qKcL94PWXYHm",
   "metadata": {
    "colab": {
     "base_uri": "https://localhost:8080/"
    },
    "executionInfo": {
     "elapsed": 15,
     "status": "ok",
     "timestamp": 1653955095629,
     "user": {
      "displayName": "김세영",
      "userId": "04104912043964290912"
     },
     "user_tz": -540
    },
    "id": "qKcL94PWXYHm",
    "outputId": "ca1bc5ef-0c0f-40db-aa2e-d1967e1d37b2"
   },
   "outputs": [
    {
     "name": "stdout",
     "output_type": "stream",
     "text": [
      "train acc : 0.7499028983475522\n",
      "test acc : -1.3324611709490232e+26\n",
      "MAE : 8561308389640.004\n",
      "MSE : 7.479737263583937e+28\n",
      "r2_score : -1.3324611709490232e+26\n"
     ]
    }
   ],
   "source": [
    "# 모델명, acc.append 부분 model 이름 변경해주기\n",
    "\n",
    "print(f'train acc : {mlr_text.score(X_train, y_train)}')\n",
    "print(f'test acc : {mlr_text.score(X_test, y_test)}')\n",
    "print(f'MAE : {mean_absolute_error(y_test, y_predict)}')\n",
    "print(f'MSE : {mean_squared_error(y_test, y_predict)}')\n",
    "print(f'r2_score : {r2_score(y_test,y_predict)}')"
   ]
  },
  {
   "cell_type": "code",
   "execution_count": null,
   "id": "ZjslXIWeXYsp",
   "metadata": {
    "id": "ZjslXIWeXYsp"
   },
   "outputs": [],
   "source": [
    "# 모델명, acc.append 부분 model 이름 변경해주기\n",
    "\n",
    "model_name.append('LinearRegression(numerical)')\n",
    "model_train_acc.append(mlr_text.score(X_train, y_train))\n",
    "model_test_acc.append(mlr_text.score(X_test, y_test))\n",
    "model_mae.append(mean_absolute_error(y_test, y_predict))\n",
    "model_mse.append(mean_squared_error(y_test, y_predict))\n",
    "model_r2_score.append(r2_score(y_test,y_predict))"
   ]
  },
  {
   "cell_type": "markdown",
   "id": "HmoJEe1xXY9X",
   "metadata": {
    "id": "HmoJEe1xXY9X"
   },
   "source": [
    "### 3) 수치형 + 범주형( 독립변수가 종속변수에 선형적이지 않아 틀린 모델 )"
   ]
  },
  {
   "cell_type": "code",
   "execution_count": null,
   "id": "j8bePjLIZuMD",
   "metadata": {
    "id": "j8bePjLIZuMD"
   },
   "outputs": [],
   "source": [
    "X = df[['use','car_name','mileage','year','car_type','fuel','trans','loss','flood','usage','change','insurance']] \n",
    "Y = df[['depreciation']]"
   ]
  },
  {
   "cell_type": "code",
   "execution_count": null,
   "id": "cKT-1q1sZtx-",
   "metadata": {
    "id": "cKT-1q1sZtx-"
   },
   "outputs": [],
   "source": [
    "encoded_X = pd.get_dummies(data = X, columns = ['car_name','car_type','fuel','trans','loss','flood','usage','change','insurance'])"
   ]
  },
  {
   "cell_type": "code",
   "execution_count": null,
   "id": "HU_FCi36Ztq3",
   "metadata": {
    "colab": {
     "base_uri": "https://localhost:8080/"
    },
    "executionInfo": {
     "elapsed": 8,
     "status": "ok",
     "timestamp": 1653955097399,
     "user": {
      "displayName": "김세영",
      "userId": "04104912043964290912"
     },
     "user_tz": -540
    },
    "id": "HU_FCi36Ztq3",
    "outputId": "27064384-cc34-439b-8049-6dccf717c8c2"
   },
   "outputs": [
    {
     "data": {
      "text/plain": [
       "(90804, 1044)"
      ]
     },
     "execution_count": 69,
     "metadata": {},
     "output_type": "execute_result"
    }
   ],
   "source": [
    "encoded_X.shape"
   ]
  },
  {
   "cell_type": "code",
   "execution_count": null,
   "id": "xFxGWmgQZtgN",
   "metadata": {
    "id": "xFxGWmgQZtgN"
   },
   "outputs": [],
   "source": [
    "scaled_X= s_scale.fit_transform(encoded_X)"
   ]
  },
  {
   "cell_type": "code",
   "execution_count": null,
   "id": "ucUXqbDzZ1by",
   "metadata": {
    "id": "ucUXqbDzZ1by"
   },
   "outputs": [],
   "source": [
    "X_train, X_test, y_train, y_test = train_test_split(scaled_X,Y, random_state = 5, test_size = 0.25)"
   ]
  },
  {
   "cell_type": "code",
   "execution_count": null,
   "id": "50phHH7gXcW1",
   "metadata": {
    "colab": {
     "base_uri": "https://localhost:8080/"
    },
    "executionInfo": {
     "elapsed": 8799,
     "status": "ok",
     "timestamp": 1653955109416,
     "user": {
      "displayName": "김세영",
      "userId": "04104912043964290912"
     },
     "user_tz": -540
    },
    "id": "50phHH7gXcW1",
    "outputId": "d122e0fd-ff9f-4ae5-b4a8-2b1022c1e250"
   },
   "outputs": [
    {
     "data": {
      "text/plain": [
       "LinearRegression()"
      ]
     },
     "execution_count": 72,
     "metadata": {},
     "output_type": "execute_result"
    }
   ],
   "source": [
    "mlr_mix = LinearRegression()\n",
    "mlr_mix.fit(X_train, y_train)"
   ]
  },
  {
   "cell_type": "code",
   "execution_count": null,
   "id": "dmP7awhlX_K9",
   "metadata": {
    "id": "dmP7awhlX_K9"
   },
   "outputs": [],
   "source": [
    "# 모델명 변경해주기\n",
    "\n",
    "y_predict = mlr_mix.predict(X_test)"
   ]
  },
  {
   "cell_type": "code",
   "execution_count": null,
   "id": "71ZzICAnXcxp",
   "metadata": {
    "colab": {
     "base_uri": "https://localhost:8080/"
    },
    "executionInfo": {
     "elapsed": 30,
     "status": "ok",
     "timestamp": 1653955109418,
     "user": {
      "displayName": "김세영",
      "userId": "04104912043964290912"
     },
     "user_tz": -540
    },
    "id": "71ZzICAnXcxp",
    "outputId": "1bb6ab25-5364-457e-b3ad-1e11fa5af786"
   },
   "outputs": [
    {
     "name": "stdout",
     "output_type": "stream",
     "text": [
      "train acc : 0.9032340545732991\n",
      "test acc : -3.9117683937458656e+24\n",
      "MAE : 1516095880056.4895\n",
      "MSE : 2.1958613473420465e+27\n",
      "r2_score : -3.9117683937458656e+24\n"
     ]
    }
   ],
   "source": [
    "# 모델명, acc.append 부분 model 이름 변경해주기\n",
    "\n",
    "print(f'train acc : {mlr_mix.score(X_train, y_train)}')\n",
    "print(f'test acc : {mlr_mix.score(X_test, y_test)}')\n",
    "print(f'MAE : {mean_absolute_error(y_test, y_predict)}')\n",
    "print(f'MSE : {mean_squared_error(y_test, y_predict)}')\n",
    "print(f'r2_score : {r2_score(y_test,y_predict)}')"
   ]
  },
  {
   "cell_type": "code",
   "execution_count": null,
   "id": "bdmxMhSxXdCM",
   "metadata": {
    "id": "bdmxMhSxXdCM"
   },
   "outputs": [],
   "source": [
    "# 모델명, acc.append 부분 model 이름 변경해주기\n",
    "\n",
    "model_name.append('LinearRegression(mix)')\n",
    "model_train_acc.append(mlr_mix.score(X_train, y_train))\n",
    "model_test_acc.append(mlr_mix.score(X_test, y_test))\n",
    "model_mae.append(mean_absolute_error(y_test, y_predict))\n",
    "model_mse.append(mean_squared_error(y_test, y_predict))\n",
    "model_r2_score.append(r2_score(y_test,y_predict))"
   ]
  },
  {
   "cell_type": "markdown",
   "id": "qR7BOJTGPdwk",
   "metadata": {
    "id": "qR7BOJTGPdwk"
   },
   "source": [
    "---\n",
    "---\n",
    "---\n",
    "---"
   ]
  },
  {
   "cell_type": "markdown",
   "id": "ecXHeSGHPgR1",
   "metadata": {
    "id": "ecXHeSGHPgR1"
   },
   "source": [
    "# 성능 시각화 "
   ]
  },
  {
   "cell_type": "code",
   "execution_count": null,
   "id": "M17d0i8WPe5F",
   "metadata": {
    "colab": {
     "base_uri": "https://localhost:8080/"
    },
    "executionInfo": {
     "elapsed": 20,
     "status": "ok",
     "timestamp": 1653960097699,
     "user": {
      "displayName": "김세영",
      "userId": "04104912043964290912"
     },
     "user_tz": -540
    },
    "id": "M17d0i8WPe5F",
    "outputId": "ff10ec61-7150-4796-f2e7-7d6695ee6eaa"
   },
   "outputs": [
    {
     "name": "stdout",
     "output_type": "stream",
     "text": [
      "['RandomForest(numerical)', 'XGBRegressor', 'XGBClassifier', 'RandomForestRegressor(categorical)', 'RandomForestRegressor(mix)', 'LinearRegression(numerical)']\n",
      "[0.9791068095576116, 0.8754299263693343, 0.5409893837275891, 0.7856854380333669, 0.9874909915412522, 0.7444715460600957]\n",
      "[0.8534989075868855, 0.8581985588889367, 0.15334126249944938, 0.7509966157847536, 0.9100263743801411, 0.745979556439186]\n",
      "[6.659619840535658, 6.604006183393715, 7.226950354609929, 8.750705979311007, 5.034954737676754, 9.078934496625193]\n",
      "[82.23801968635743, 79.599882250445, 111.27390863838598, 139.77742333360203, 50.506468403074805, 142.59373697626725]\n",
      "[0.8534989075868855, 0.8581985588889367, 0.8017735685419847, 0.7509966157847536, 0.9100263743801411, 0.745979556439186]\n"
     ]
    }
   ],
   "source": [
    "print(model_name)\n",
    "print(model_train_acc)\n",
    "print(model_test_acc)\n",
    "print(model_mae)\n",
    "print(model_mse)\n",
    "print(model_r2_score)"
   ]
  },
  {
   "cell_type": "code",
   "execution_count": 107,
   "id": "1kzCJgVqQeAb",
   "metadata": {
    "colab": {
     "base_uri": "https://localhost:8080/",
     "height": 900
    },
    "executionInfo": {
     "elapsed": 2295,
     "status": "ok",
     "timestamp": 1653963816923,
     "user": {
      "displayName": "김세영",
      "userId": "04104912043964290912"
     },
     "user_tz": -540
    },
    "id": "1kzCJgVqQeAb",
    "outputId": "eafa9d58-29eb-4ea8-a1ab-99f0af138165"
   },
   "outputs": [
    {
     "name": "stderr",
     "output_type": "stream",
     "text": [
      "/usr/local/lib/python3.7/dist-packages/seaborn/distributions.py:2619: FutureWarning: `distplot` is a deprecated function and will be removed in a future version. Please adapt your code to use either `displot` (a figure-level function with similar flexibility) or `kdeplot` (an axes-level function for kernel density plots).\n",
      "  warnings.warn(msg, FutureWarning)\n",
      "/usr/local/lib/python3.7/dist-packages/seaborn/distributions.py:2619: FutureWarning: `distplot` is a deprecated function and will be removed in a future version. Please adapt your code to use either `displot` (a figure-level function with similar flexibility) or `kdeplot` (an axes-level function for kernel density plots).\n",
      "  warnings.warn(msg, FutureWarning)\n",
      "/usr/local/lib/python3.7/dist-packages/seaborn/distributions.py:2619: FutureWarning: `distplot` is a deprecated function and will be removed in a future version. Please adapt your code to use either `displot` (a figure-level function with similar flexibility) or `kdeplot` (an axes-level function for kernel density plots).\n",
      "  warnings.warn(msg, FutureWarning)\n",
      "/usr/local/lib/python3.7/dist-packages/ipykernel_launcher.py:11: MatplotlibDeprecationWarning: Unrecognized location 'upper rigth'. Falling back on 'best'; valid locations are\n",
      "\tbest\n",
      "\tupper right\n",
      "\tupper left\n",
      "\tlower left\n",
      "\tlower right\n",
      "\tright\n",
      "\tcenter left\n",
      "\tcenter right\n",
      "\tlower center\n",
      "\tupper center\n",
      "\tcenter\n",
      "This will raise an exception in 3.3.\n",
      "  # This is added back by InteractiveShellApp.init_path()\n"
     ]
    },
    {
     "data": {
      "image/png": "[encoded data removed]",
      "text/plain": [
       "<Figure size 576x576 with 1 Axes>"
      ]
     },
     "metadata": {
      "needs_background": "light"
     },
     "output_type": "display_data"
    }
   ],
   "source": [
    "plt.figure(figsize=(8, 8))\n",
    "\n",
    "ax1 = sns.distplot(y_test, hist=False, color=\"black\", label=\"Actual Value\")\n",
    "sns.distplot(y_predict_7, hist=False, color=\"r\", label=\"RandomForest\" , ax=ax1)\n",
    "sns.distplot(y_predict_5, hist=False, color=\"b\", label=\"XGBRegressor\" , ax=ax1)\n",
    "\n",
    "\n",
    "plt.title('Actual vs Fitted Values for Depreciation ')\n",
    "plt.xlabel('Usedcar Depreciation  rate')\n",
    "plt.ylabel('Proportion of Cars')\n",
    "plt.legend(loc = 'upper rigth')\n",
    "\n",
    "plt.show()\n",
    "plt.close()"
   ]
  },
  {
   "cell_type": "code",
   "execution_count": null,
   "id": "uBspi_Lv343p",
   "metadata": {
    "id": "uBspi_Lv343p"
   },
   "outputs": [],
   "source": []
  }
 ],
 "metadata": {
  "accelerator": "GPU",
  "colab": {
   "collapsed_sections": [
    "c85144f6",
    "T_22C_QPXVQ6",
    "HmoJEe1xXY9X"
   ],
   "name": "usedCar_Modeling.ipynb",
   "provenance": []
  },
  "kernelspec": {
   "display_name": "Python 3 (ipykernel)",
   "language": "python",
   "name": "python3"
  },
  "language_info": {
   "codemirror_mode": {
    "name": "ipython",
    "version": 3
   },
   "file_extension": ".py",
   "mimetype": "text/x-python",
   "name": "python",
   "nbconvert_exporter": "python",
   "pygments_lexer": "ipython3",
   "version": "3.9.7"
  }
 },
 "nbformat": 4,
 "nbformat_minor": 5
}
