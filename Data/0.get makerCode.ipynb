{
 "cells": [
  {
   "cell_type": "code",
   "execution_count": null,
   "id": "a852b176",
   "metadata": {},
   "outputs": [],
   "source": [
    "import requests\n",
    "from bs4 import BeautifulSoup\n",
    "import pandas as pd\n",
    "from tqdm import tqdm\n",
    "from time import sleep\n",
    "from selenium import webdriver"
   ]
  },
  {
   "cell_type": "code",
   "execution_count": 4,
   "id": "ecac4347",
   "metadata": {},
   "outputs": [
    {
     "name": "stderr",
     "output_type": "stream",
     "text": [
      "0it [00:00, ?it/s]"
     ]
    },
    {
     "name": "stdout",
     "output_type": "stream",
     "text": [
      "[]\n"
     ]
    },
    {
     "name": "stderr",
     "output_type": "stream",
     "text": [
      "\n"
     ]
    }
   ],
   "source": [
    "maker_code = []\n",
    "sample2 = []\n",
    "\n",
    "for code in tqdm(maker_code):\n",
    "    url = f'https://www.kbchachacha.com/public/search/main.kbc#!?page=1&sort=-orderDate&makerCode={code}'\n",
    "    \n",
    "    try:\n",
    "        driver = webdriver.Chrome(\"./chromedriver.exe\")\n",
    "        driver.get(url)\n",
    "        driver.implicitly_wait(10)\n",
    "        driver.maximize_window()\n",
    "        code_check = driver.find_elements_by_xpath('//*[@id=\"mCSB_1_container\"]/div/div/div[3]')\n",
    "        \n",
    "    except Exception as e:\n",
    "        print(f'{e}')\n",
    "        break\n",
    "        \n",
    "    else:\n",
    "        html = driver.page_source\n",
    "        driver.implicitly_wait(10)\n",
    "        soup = BeautifulSoup(html, 'html.parser')\n",
    "        brand_code = soup.findAll(\"div\",{\"class\":\"checkList checkList--model\"})\n",
    "        \n",
    "        for i in range(len(brand_code)):\n",
    "            print(brand_code[i])\n",
    "            #x = car_name[i].find('span').text\n",
    "            #sample2.append(x)\n",
    "            \n",
    "#print(sample2)"
   ]
  },
  {
   "cell_type": "code",
   "execution_count": null,
   "id": "dd028d6e",
   "metadata": {},
   "outputs": [],
   "source": []
  }
 ],
 "metadata": {
  "kernelspec": {
   "display_name": "Python 3 (ipykernel)",
   "language": "python",
   "name": "python3"
  },
  "language_info": {
   "codemirror_mode": {
    "name": "ipython",
    "version": 3
   },
   "file_extension": ".py",
   "mimetype": "text/x-python",
   "name": "python",
   "nbconvert_exporter": "python",
   "pygments_lexer": "ipython3",
   "version": "3.9.7"
  }
 },
 "nbformat": 4,
 "nbformat_minor": 5
}
