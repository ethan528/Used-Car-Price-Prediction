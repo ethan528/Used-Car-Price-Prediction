{
 "cells": [
  {
   "cell_type": "code",
   "execution_count": 121,
   "id": "c46e2443",
   "metadata": {},
   "outputs": [],
   "source": [
    "import requests\n",
    "from bs4 import BeautifulSoup\n",
    "import pandas as pd\n",
    "from tqdm import tqdm\n",
    "from time import sleep\n",
    "from selenium import webdriver"
   ]
  },
  {
   "cell_type": "code",
   "execution_count": 122,
   "id": "b24b78e7",
   "metadata": {},
   "outputs": [],
   "source": [
    "from selenium.webdriver.chrome.options import Options\n",
    "options = Options()\n",
    "options.add_argument('headless')"
   ]
  },
  {
   "cell_type": "markdown",
   "id": "728b7b4d",
   "metadata": {},
   "source": [
    "### 어떠한 브랜드에 대해 진행했는지 def drop_dupCode를 참고한다"
   ]
  },
  {
   "cell_type": "code",
   "execution_count": 123,
   "id": "1a1f7807",
   "metadata": {},
   "outputs": [
    {
     "name": "stdout",
     "output_type": "stream",
     "text": [
      "Brand:Kia 의 KB차차차 정보를 crawling\n"
     ]
    }
   ],
   "source": [
    "brand_name = 'Kia'\n",
    "print(f'Brand:{brand_name} 의 KB차차차 정보를 crawling')"
   ]
  },
  {
   "cell_type": "code",
   "execution_count": 124,
   "id": "fcc9dc9c",
   "metadata": {},
   "outputs": [],
   "source": [
    "maker = '102'"
   ]
  },
  {
   "cell_type": "code",
   "execution_count": 125,
   "id": "f1a0bda1",
   "metadata": {},
   "outputs": [],
   "source": [
    "page_amount,total_amount = 25, 4443"
   ]
  },
  {
   "cell_type": "code",
   "execution_count": 116,
   "id": "fea76ba9",
   "metadata": {},
   "outputs": [
    {
     "name": "stdout",
     "output_type": "stream",
     "text": [
      "177\n"
     ]
    }
   ],
   "source": [
    "last_page = int(total_amount/page_amount)\n",
    "if last_page == 0:\n",
    "    last_page =1\n",
    "else:\n",
    "    pass\n",
    "print(last_page)"
   ]
  },
  {
   "cell_type": "code",
   "execution_count": 117,
   "id": "35facc16",
   "metadata": {},
   "outputs": [],
   "source": [
    "if last_page > 400:\n",
    "    last_page = 400\n",
    "else:\n",
    "    pass"
   ]
  },
  {
   "cell_type": "code",
   "execution_count": 118,
   "id": "5b20e781",
   "metadata": {},
   "outputs": [
    {
     "name": "stdout",
     "output_type": "stream",
     "text": [
      "177\n"
     ]
    }
   ],
   "source": [
    "print(last_page)"
   ]
  },
  {
   "cell_type": "code",
   "execution_count": 119,
   "id": "67fe3625",
   "metadata": {},
   "outputs": [],
   "source": [
    "# page도 여지없이 총 매물 수 * 25 를 맥시멈으로 잡았습니다.\n",
    "# 총 매물수를 구해와서 총 페이지 수를 반환하는 함수는 금방할거 같아서 아침에 구현하겠습니다.\n",
    "pages = [n for n in range(1,last_page+1)]"
   ]
  },
  {
   "cell_type": "code",
   "execution_count": 120,
   "id": "7291b07b",
   "metadata": {},
   "outputs": [
    {
     "name": "stderr",
     "output_type": "stream",
     "text": [
      "  0%|                                                                                          | 0/177 [00:00<?, ?it/s]C:\\Users\\ksy94\\AppData\\Local\\Temp/ipykernel_15220/1250468012.py:6: DeprecationWarning: executable_path has been deprecated, please pass in a Service object\n",
      "  driver = webdriver.Chrome(\"./chromedriver.exe\",options=options)\n",
      "C:\\Users\\ksy94\\AppData\\Local\\Temp/ipykernel_15220/1250468012.py:10: DeprecationWarning: find_elements_by_xpath is deprecated. Please use find_elements(by=By.XPATH, value=xpath) instead\n",
      "  car_list = driver.find_elements_by_xpath('//*[@id=\"content\"]/div[2]/div/div[2]/div[2]/div[3]/div[4]')\n",
      "100%|████████████████████████████████████████████████████████████████████████████████| 177/177 [29:59<00:00, 10.16s/it]"
     ]
    },
    {
     "name": "stdout",
     "output_type": "stream",
     "text": [
      "Success!\n"
     ]
    },
    {
     "name": "stderr",
     "output_type": "stream",
     "text": [
      "\n"
     ]
    }
   ],
   "source": [
    "for page in tqdm(pages):\n",
    "    #sleep(3)\n",
    "    url = f'https://www.kbchachacha.com/public/search/main.kbc#!?page={page}&sort=-orderDate&makerCode={maker}&classCode={1152}'\n",
    "    \n",
    "    try:\n",
    "        driver = webdriver.Chrome(\"./chromedriver.exe\",options=options)\n",
    "        driver.get(url)\n",
    "        driver.implicitly_wait(10)\n",
    "        driver.maximize_window()\n",
    "        car_list = driver.find_elements_by_xpath('//*[@id=\"content\"]/div[2]/div/div[2]/div[2]/div[3]/div[4]')\n",
    "    except:\n",
    "        print(f'{page}가 마지막이기 때문에 멈춥니다')\n",
    "        break\n",
    "    else:\n",
    "        html = driver.page_source\n",
    "        driver.implicitly_wait(10)\n",
    "        soup = BeautifulSoup(html, 'html.parser')\n",
    "        con_list = soup.findAll(\"div\",{\"class\":\"con\"})\n",
    "        for j in range(len(con_list)):\n",
    "            try:\n",
    "                url_code = con_list[j].find('a')['href'].split('=')[1]\n",
    "            except:\n",
    "                pass\n",
    "            else: \n",
    "                f = open(f\"{brand_name}_codes.csv\", 'a')\n",
    "                f.write(f\"{url_code}\\n\")\n",
    "                f.close()\n",
    "        driver.close()\n",
    "print('Success!')"
   ]
  },
  {
   "cell_type": "code",
   "execution_count": null,
   "id": "16ddffda",
   "metadata": {},
   "outputs": [],
   "source": []
  }
 ],
 "metadata": {
  "kernelspec": {
   "display_name": "Python 3 (ipykernel)",
   "language": "python",
   "name": "python3"
  },
  "language_info": {
   "codemirror_mode": {
    "name": "ipython",
    "version": 3
   },
   "file_extension": ".py",
   "mimetype": "text/x-python",
   "name": "python",
   "nbconvert_exporter": "python",
   "pygments_lexer": "ipython3",
   "version": "3.9.7"
  }
 },
 "nbformat": 4,
 "nbformat_minor": 5
}
