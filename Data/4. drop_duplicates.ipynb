{
 "cells": [
  {
   "cell_type": "code",
   "execution_count": 1,
   "id": "d01070a4",
   "metadata": {},
   "outputs": [],
   "source": [
    "import pandas as pd"
   ]
  },
  {
   "cell_type": "code",
   "execution_count": 2,
   "id": "3e79329a",
   "metadata": {},
   "outputs": [],
   "source": [
    "# brand_name : 파일처리 시 저장했던 브랜드 명\n",
    "\n",
    "def drop_dupcode(brand_name):\n",
    "    \n",
    "    try:\n",
    "        df = pd.read_csv(f'{brand_name}_codes.csv') \n",
    "        print(f'len(df) 중복 제거 전 : {len(df)}')               \n",
    "    except Exception as e:\n",
    "        print('e')\n",
    "    else:\n",
    "        df = df.drop_duplicates() # !!주의점 : 모든 열에 대한 중복값 제거 > 하나의 열만 있어서 사용가능 \n",
    "        print(f'len(df) 중복 제거 후 : {len(df)}')\n",
    "        df.to_csv(f'{brand_name}_codes.csv', index = False)\n",
    "        print(f'{brand_name}_codes.csv으로 저장되었습니다')"
   ]
  },
  {
   "cell_type": "markdown",
   "id": "96689c9b",
   "metadata": {},
   "source": [
    "### 어떠한 브랜드를 했는지 기록을 남기기 위해 함수에 Str형태로 직접 넣어서 코딩 흔적을 남긴다"
   ]
  },
  {
   "cell_type": "code",
   "execution_count": 3,
   "id": "6901acc1",
   "metadata": {},
   "outputs": [
    {
     "name": "stdout",
     "output_type": "stream",
     "text": [
      "len(df) 중복 제거 전 : 33530\n",
      "len(df) 중복 제거 후 : 33530\n",
      "Kia_codes.csv으로 저장되었습니다\n"
     ]
    }
   ],
   "source": [
    "drop_dupcode('Kia')"
   ]
  },
  {
   "cell_type": "code",
   "execution_count": 4,
   "id": "48a85f6a",
   "metadata": {
    "scrolled": true
   },
   "outputs": [
    {
     "name": "stdout",
     "output_type": "stream",
     "text": [
      "len(df) 중복 제거 전 : 4885\n",
      "len(df) 중복 제거 후 : 4885\n",
      "total_2_codes.csv으로 저장되었습니다\n"
     ]
    }
   ],
   "source": [
    "drop_dupcode('total_2')"
   ]
  },
  {
   "cell_type": "code",
   "execution_count": 5,
   "id": "da1d8ef9",
   "metadata": {},
   "outputs": [
    {
     "name": "stdout",
     "output_type": "stream",
     "text": [
      "len(df) 중복 제거 전 : 38680\n",
      "len(df) 중복 제거 후 : 38680\n",
      "Hyundai_codes.csv으로 저장되었습니다\n"
     ]
    }
   ],
   "source": [
    "drop_dupcode('Hyundai')"
   ]
  },
  {
   "cell_type": "code",
   "execution_count": 6,
   "id": "622445d5",
   "metadata": {},
   "outputs": [
    {
     "name": "stdout",
     "output_type": "stream",
     "text": [
      "e\n"
     ]
    }
   ],
   "source": [
    "drop_dupcode('Audi')"
   ]
  },
  {
   "cell_type": "code",
   "execution_count": 7,
   "id": "a8f40ae6",
   "metadata": {},
   "outputs": [
    {
     "name": "stdout",
     "output_type": "stream",
     "text": [
      "e\n"
     ]
    }
   ],
   "source": [
    "drop_dupcode('Benz')"
   ]
  },
  {
   "cell_type": "code",
   "execution_count": 8,
   "id": "07b84763",
   "metadata": {},
   "outputs": [
    {
     "name": "stdout",
     "output_type": "stream",
     "text": [
      "e\n"
     ]
    }
   ],
   "source": [
    "drop_dupcode('BMW')"
   ]
  },
  {
   "cell_type": "code",
   "execution_count": 9,
   "id": "3964a845",
   "metadata": {},
   "outputs": [
    {
     "name": "stdout",
     "output_type": "stream",
     "text": [
      "e\n"
     ]
    }
   ],
   "source": [
    "drop_dupcode('ssangyong')"
   ]
  },
  {
   "cell_type": "code",
   "execution_count": 10,
   "id": "a17284fb",
   "metadata": {},
   "outputs": [
    {
     "name": "stdout",
     "output_type": "stream",
     "text": [
      "e\n"
     ]
    }
   ],
   "source": [
    "drop_dupcode('renault')"
   ]
  },
  {
   "cell_type": "code",
   "execution_count": 11,
   "id": "19f6c879",
   "metadata": {},
   "outputs": [
    {
     "name": "stdout",
     "output_type": "stream",
     "text": [
      "e\n"
     ]
    }
   ],
   "source": [
    "drop_dupcode('GENESIS')"
   ]
  },
  {
   "cell_type": "code",
   "execution_count": 12,
   "id": "7ef0735f",
   "metadata": {},
   "outputs": [
    {
     "name": "stdout",
     "output_type": "stream",
     "text": [
      "len(df) 중복 제거 전 : 38839\n",
      "len(df) 중복 제거 후 : 38839\n",
      "total_codes.csv으로 저장되었습니다\n"
     ]
    }
   ],
   "source": [
    "drop_dupcode('total')"
   ]
  },
  {
   "cell_type": "code",
   "execution_count": null,
   "id": "dc769cff",
   "metadata": {},
   "outputs": [],
   "source": []
  },
  {
   "cell_type": "code",
   "execution_count": null,
   "id": "a09fb96b",
   "metadata": {},
   "outputs": [],
   "source": []
  }
 ],
 "metadata": {
  "kernelspec": {
   "display_name": "Python 3 (ipykernel)",
   "language": "python",
   "name": "python3"
  },
  "language_info": {
   "codemirror_mode": {
    "name": "ipython",
    "version": 3
   },
   "file_extension": ".py",
   "mimetype": "text/x-python",
   "name": "python",
   "nbconvert_exporter": "python",
   "pygments_lexer": "ipython3",
   "version": "3.9.7"
  }
 },
 "nbformat": 4,
 "nbformat_minor": 5
}
