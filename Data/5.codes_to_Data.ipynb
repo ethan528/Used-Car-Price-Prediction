{
 "cells": [
  {
   "cell_type": "code",
   "execution_count": 1,
   "id": "d9aecf7e",
   "metadata": {},
   "outputs": [],
   "source": [
    "import requests\n",
    "from bs4 import BeautifulSoup\n",
    "import pandas as pd\n",
    "from tqdm import tqdm\n",
    "from time import sleep\n",
    "from selenium import webdriver"
   ]
  },
  {
   "cell_type": "code",
   "execution_count": 2,
   "id": "989f3ae6",
   "metadata": {},
   "outputs": [],
   "source": [
    "brand_name = 'Kia'"
   ]
  },
  {
   "cell_type": "code",
   "execution_count": 3,
   "id": "599f6038",
   "metadata": {},
   "outputs": [],
   "source": [
    "# 데이터프레임으로 읽어온다( columns = index, col1 )\n",
    "df = pd.read_csv(f'{brand_name}_codes.csv')"
   ]
  },
  {
   "cell_type": "code",
   "execution_count": 4,
   "id": "be4445d8",
   "metadata": {
    "scrolled": true
   },
   "outputs": [
    {
     "data": {
      "text/html": [
       "<div>\n",
       "<style scoped>\n",
       "    .dataframe tbody tr th:only-of-type {\n",
       "        vertical-align: middle;\n",
       "    }\n",
       "\n",
       "    .dataframe tbody tr th {\n",
       "        vertical-align: top;\n",
       "    }\n",
       "\n",
       "    .dataframe thead th {\n",
       "        text-align: right;\n",
       "    }\n",
       "</style>\n",
       "<table border=\"1\" class=\"dataframe\">\n",
       "  <thead>\n",
       "    <tr style=\"text-align: right;\">\n",
       "      <th></th>\n",
       "      <th>codes</th>\n",
       "    </tr>\n",
       "  </thead>\n",
       "  <tbody>\n",
       "    <tr>\n",
       "      <th>0</th>\n",
       "      <td>23004792</td>\n",
       "    </tr>\n",
       "    <tr>\n",
       "      <th>1</th>\n",
       "      <td>23004790</td>\n",
       "    </tr>\n",
       "    <tr>\n",
       "      <th>2</th>\n",
       "      <td>23004783</td>\n",
       "    </tr>\n",
       "    <tr>\n",
       "      <th>3</th>\n",
       "      <td>23004771</td>\n",
       "    </tr>\n",
       "    <tr>\n",
       "      <th>4</th>\n",
       "      <td>23004769</td>\n",
       "    </tr>\n",
       "  </tbody>\n",
       "</table>\n",
       "</div>"
      ],
      "text/plain": [
       "      codes\n",
       "0  23004792\n",
       "1  23004790\n",
       "2  23004783\n",
       "3  23004771\n",
       "4  23004769"
      ]
     },
     "execution_count": 4,
     "metadata": {},
     "output_type": "execute_result"
    }
   ],
   "source": [
    "df.head()"
   ]
  },
  {
   "cell_type": "code",
   "execution_count": 5,
   "id": "f22414fd",
   "metadata": {},
   "outputs": [
    {
     "name": "stdout",
     "output_type": "stream",
     "text": [
      "<class 'list'>,33530\n"
     ]
    }
   ],
   "source": [
    "# def drop_dupCode 에서 중복값 제거 해줬기 때문에 바로 list\n",
    "code_list = list(df['codes'])\n",
    "print(f'{type(code_list)},{len(code_list)}')"
   ]
  },
  {
   "cell_type": "code",
   "execution_count": 6,
   "id": "ee3b7a8e",
   "metadata": {},
   "outputs": [
    {
     "data": {
      "text/plain": [
       "33530"
      ]
     },
     "execution_count": 6,
     "metadata": {},
     "output_type": "execute_result"
    }
   ],
   "source": [
    "len(code_list)"
   ]
  },
  {
   "cell_type": "code",
   "execution_count": 7,
   "id": "0e792b54",
   "metadata": {},
   "outputs": [
    {
     "data": {
      "text/plain": [
       "27301"
      ]
     },
     "execution_count": 7,
     "metadata": {},
     "output_type": "execute_result"
    }
   ],
   "source": [
    "code_list.index(22523816)"
   ]
  },
  {
   "cell_type": "code",
   "execution_count": 8,
   "id": "cf52fdba",
   "metadata": {},
   "outputs": [],
   "source": [
    "code_list = code_list[27302:]"
   ]
  },
  {
   "cell_type": "code",
   "execution_count": 9,
   "id": "989637fa",
   "metadata": {},
   "outputs": [
    {
     "data": {
      "text/plain": [
       "6228"
      ]
     },
     "execution_count": 9,
     "metadata": {},
     "output_type": "execute_result"
    }
   ],
   "source": [
    "len(code_list)"
   ]
  },
  {
   "cell_type": "code",
   "execution_count": 10,
   "id": "e16177bc",
   "metadata": {},
   "outputs": [],
   "source": [
    "base_url = 'https://www.kbchachacha.com/public/car/detail.kbc?carSeq='"
   ]
  },
  {
   "cell_type": "code",
   "execution_count": 11,
   "id": "e98ef692",
   "metadata": {
    "scrolled": true
   },
   "outputs": [
    {
     "name": "stderr",
     "output_type": "stream",
     "text": [
      "C:\\Users\\ksy94\\AppData\\Local\\Temp/ipykernel_13000/2356098939.py:2: DeprecationWarning: executable_path has been deprecated, please pass in a Service object\n",
      "  driver = webdriver.Chrome(\"./chromedriver.exe\")\n",
      "  0%|                                                                                         | 0/6228 [00:00<?, ?it/s]C:\\Users\\ksy94\\AppData\\Local\\Temp/ipykernel_13000/2356098939.py:12: DeprecationWarning: find_element_by_xpath is deprecated. Please use find_element(by=By.XPATH, value=xpath) instead\n",
      "  server_check = driver.find_element_by_xpath('//*[@id=\"content\"]/div[1]/div[2]/div[2]/div[1]/div[2]/div[1]/strong')\n",
      "C:\\Users\\ksy94\\AppData\\Local\\Temp/ipykernel_13000/2356098939.py:22: DeprecationWarning: find_element_by_xpath is deprecated. Please use find_element(by=By.XPATH, value=xpath) instead\n",
      "  sold_out = driver.find_element_by_xpath('//*[@id=\"content\"]/div[1]/div[2]/div[2]/div[1]/div[1]/div[2]/div')\n",
      "C:\\Users\\ksy94\\AppData\\Local\\Temp/ipykernel_13000/2356098939.py:34: DeprecationWarning: find_element_by_xpath is deprecated. Please use find_element(by=By.XPATH, value=xpath) instead\n",
      "  full_name = driver.find_element_by_xpath('//*[@id=\"content\"]/div[1]/div[2]/div[2]/div[1]/div[2]/div[1]/strong').text\n",
      "100%|███████████████████████████████████████████████████████████████████████████| 6228/6228 [18:20:22<00:00, 10.60s/it]\n"
     ]
    }
   ],
   "source": [
    "headers = {\"user-agent\": \"Mozilla/5.0 (Windows NT 10.0; Win64; x64) AppleWebKit/537.36 (KHTML, like Gecko) Chrome/101.0.4951.54 Safari/537.36\"}\n",
    "driver = webdriver.Chrome(\"./chromedriver.exe\")\n",
    "\n",
    "for code in tqdm(code_list):\n",
    "    sleep(4)\n",
    "    url = f'{base_url}{code}' # code를 url에서 for문을 돌며 받아옴\n",
    "    try: # url을 받아서 서버 상태를 받고\n",
    "        res = requests.get(url, headers = headers)\n",
    "        res.raise_for_status()\n",
    "        driver.get(url)\n",
    "        driver.implicitly_wait(10)\n",
    "        server_check = driver.find_element_by_xpath('//*[@id=\"content\"]/div[1]/div[2]/div[2]/div[1]/div[2]/div[1]/strong')\n",
    "        \n",
    "    except Exception as e:\n",
    "        print(f'{e}')\n",
    "        sleep(4)\n",
    "        pass # 에러가 나면 pass해서 다음 for문 돌려라\n",
    "    \n",
    "    else: # 서버에러가 없이 열린다면\n",
    "\n",
    "        try: # 판매완료 xpath 받아올수 있니?\n",
    "            sold_out = driver.find_element_by_xpath('//*[@id=\"content\"]/div[1]/div[2]/div[2]/div[1]/div[1]/div[2]/div')\n",
    "            sold_out.click()\n",
    "            sleep(1.0)\n",
    "            \n",
    "        except: # 에러가 난다면 판매중이니까 파싱하자\n",
    "            \n",
    "            html = driver.page_source\n",
    "            sleep(1.0)\n",
    "            soup = BeautifulSoup(html,'html.parser')\n",
    "            \n",
    "            try:\n",
    "                c_url = driver.current_url.split('=')[-1]\n",
    "                full_name = driver.find_element_by_xpath('//*[@id=\"content\"]/div[1]/div[2]/div[2]/div[1]/div[2]/div[1]/strong').text\n",
    "                price = soup.select_one('#content > div:nth-child(18) > div.common-sub-content.common-container.fix-content > div.cmm-cardt-area.adj1740.adj1670.adj1500.adj1441 > div.car-dt-info > div.car-buy-info > div.car-buy-price > div > dl > dd > strong').text\n",
    "                use = soup.select_one('#divMarketPriceWrap > div > div.m-price-list02 > div.graph-area > strong > span').text[:-1]\n",
    "                depreciation = soup.select_one('#divMarketPriceWrap > div > div.m-price-list02 > div.graph-area > strong > strong').text.split()[0]\n",
    "                year = soup.select_one('#content > div:nth-child(18) > div.common-sub-content.common-container.fix-content > div.cmm-cardt-area.adj1740.adj1670.adj1500.adj1441 > div.car-dt-info > div.car-buy-info > div.car-buy-share > div.txt-info > span:nth-child(1)').text\n",
    "                mileage = soup.select_one('#content > div:nth-child(18) > div.common-sub-content.common-container.fix-content > div.cmm-cardt-area.adj1740.adj1670.adj1500.adj1441 > div.car-dt-info > div.car-buy-info > div.car-buy-share > div.txt-info > span:nth-child(2)').text\n",
    "                fuel = soup.select_one('#content > div:nth-child(18) > div.common-sub-content.common-container.fix-content > div.cmm-cardt-area.adj1740.adj1670.adj1500.adj1441 > div.car-dt-info > div.car-buy-info > div.car-buy-share > div.txt-info > span:nth-child(3)').text\n",
    "                car_area = soup.select_one('#content > div:nth-child(18) > div.common-sub-content.common-container.fix-content > div.cmm-cardt-area.adj1740.adj1670.adj1500.adj1441 > div.car-dt-info > div.car-buy-info > div.car-buy-share > div.txt-info > span:nth-child(4)').text\n",
    "                forecast = soup.select_one('#divMarketPriceWrap > div > div.m-price-list01 > div.cmm-price > strong').text\n",
    "                sleep(1)\n",
    "                c_type = soup.select_one('#content > div:nth-child(18) > div.common-sub-content.common-container.fix-content > div.cmm-cardt-area.adj1740.adj1670.adj1500.adj1441 > div.car-detail-info > div > div.detail-info01 > table > tbody > tr:nth-child(4) > td:nth-child(2)').text\n",
    "                car_cc = soup.select_one('#content > div:nth-child(18) > div.common-sub-content.common-container.fix-content > div.cmm-cardt-area.adj1740.adj1670.adj1500.adj1441 > div.car-detail-info > div > div.detail-info01 > table > tbody > tr:nth-child(4) > td:nth-child(4)').text\n",
    "                color = soup.select_one('#content > div:nth-child(18) > div.common-sub-content.common-container.fix-content > div.cmm-cardt-area.adj1740.adj1670.adj1500.adj1441 > div.car-detail-info > div > div.detail-info01 > table > tbody > tr:nth-child(5) > td:nth-child(2)').text\n",
    "                trans = soup.select_one('#content > div:nth-child(18) > div.common-sub-content.common-container.fix-content > div.cmm-cardt-area.adj1740.adj1670.adj1500.adj1441 > div.car-detail-info > div > div.detail-info01 > table > tbody > tr:nth-child(3) > td:nth-child(2)').text\n",
    "                loss = soup.select_one('#content > div:nth-child(18) > div.common-sub-content.common-container.fix-content > div.cmm-cardt-area.adj1740.adj1670.adj1500 > div.car-detail-info > div > div.detail-info02 > div > dl > dd:nth-child(2)').text.split()[0]\n",
    "                flood = soup.select_one('#content > div:nth-child(18) > div.common-sub-content.common-container.fix-content > div.cmm-cardt-area.adj1740.adj1670.adj1500 > div.car-detail-info > div > div.detail-info02 > div > dl > dd:nth-child(4)').text.split()[0]\n",
    "                usage = soup.select_one('#content > div:nth-child(18) > div.common-sub-content.common-container.fix-content > div.cmm-cardt-area.adj1740.adj1670.adj1500 > div.car-detail-info > div > div.detail-info02 > div > dl > dd:nth-child(6)').text.split()[0]\n",
    "                change = soup.select_one('#content > div:nth-child(18) > div.common-sub-content.common-container.fix-content > div.cmm-cardt-area.adj1740.adj1670.adj1500 > div.car-detail-info > div > div.detail-info02 > div > dl > dd:nth-child(8)').text.split()[0]\n",
    "                insurance = soup.select_one('#btnCarHistoryView2').text.split()[0]\n",
    "                option = soup.select_one('#content > div:nth-child(18) > div.common-sub-content.common-container.fix-content > div.cmm-cardt-area.adj1740.adj1670.adj1500.adj1441 > div.car-option > ul').text.split()[:-1]\n",
    "                sales_corp = soup.select_one('#content > div:nth-child(18) > div.common-sub-content.common-container.fix-content > div.cmm-cardt-area.adj1740.adj1670.adj1500.adj1441 > div.seller-info > div > div.dealer-location > div.map-txt > p:nth-child(1)').text.split(':')[1][1:]\n",
    "                sales_loca = soup.select_one('#content > div:nth-child(18) > div.common-sub-content.common-container.fix-content > div.cmm-cardt-area.adj1740.adj1670.adj1500.adj1441 > div.seller-info > div > div.dealer-location > div.map-txt > p:nth-child(2)').text.split(':')[1][1:]\n",
    "                sleep(1)\n",
    "                \n",
    "            except:\n",
    "                sleep(3)\n",
    "                pass\n",
    "            \n",
    "            else:\n",
    "                sleep(1)\n",
    "                color = color.replace(',',' ')\n",
    "                sales_loca = sales_loca.replace(',',' ')\n",
    "                car_no = full_name.split(')')[0][1:]\n",
    "                car_name = full_name.split('\\n')[0].replace(f'({car_no})','')\n",
    "                car_brand = car_name.split()[0]\n",
    "                name_detailed = full_name.split('\\n')[1]\n",
    "                option = str(option).replace(',','/')\n",
    "                option = option.replace(\"'\",\"\")\n",
    "                option = option.replace(\"\\n\",\"/\")\n",
    "                price = price.replace(',','')\n",
    "                mileage = mileage.replace(',','')\n",
    "                forecast_min = forecast.split('~')[0].replace(',','')\n",
    "                forecast_max = forecast.split('~')[1].replace(',','')\n",
    "                car_cc = car_cc.replace(',','')\n",
    "                \n",
    "                f = open(f\"{brand_name}_usedCar.csv\", 'a')\n",
    "                f.write(f'{str(c_url)},{car_area},{car_no},{car_brand},{car_name},{name_detailed},{price},{year},{use},{depreciation},{mileage},{fuel},{forecast_min},{forecast_max},{c_type},{car_cc},{color},{trans},{loss},{flood},{usage},{change},{insurance},{sales_corp},{sales_loca},{option}\\n')\n",
    "                \n",
    "                f.close()\n",
    "\n",
    "        else :\n",
    "            sleep(3)\n",
    "            pass\n",
    "driver.close()\n",
    "            # 받아올 수 있으면 아쉽게도 이미 팔렸으니 다음 단계로 pass 하자"
   ]
  },
  {
   "cell_type": "markdown",
   "id": "f96eaadb",
   "metadata": {},
   "source": [
    "# checkpoint \n",
    "- 27302/33530"
   ]
  },
  {
   "cell_type": "code",
   "execution_count": null,
   "id": "3c3803b1",
   "metadata": {},
   "outputs": [],
   "source": []
  }
 ],
 "metadata": {
  "kernelspec": {
   "display_name": "Python 3 (ipykernel)",
   "language": "python",
   "name": "python3"
  },
  "language_info": {
   "codemirror_mode": {
    "name": "ipython",
    "version": 3
   },
   "file_extension": ".py",
   "mimetype": "text/x-python",
   "name": "python",
   "nbconvert_exporter": "python",
   "pygments_lexer": "ipython3",
   "version": "3.9.7"
  }
 },
 "nbformat": 4,
 "nbformat_minor": 5
}
