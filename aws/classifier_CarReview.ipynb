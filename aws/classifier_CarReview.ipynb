{
 "cells": [
  {
   "cell_type": "code",
   "execution_count": 1,
   "id": "91b0cca8",
   "metadata": {},
   "outputs": [],
   "source": [
    "import pandas as pd\n",
    "import numpy as np\n",
    "from tqdm import tqdm\n",
    "import seaborn as sns\n",
    "import os\n",
    "import joblib\n",
    "import matplotlib.pyplot as plt\n",
    "from matplotlib import rc\n",
    "%matplotlib inline\n",
    "from matplotlib import font_manager\n",
    "\n",
    "font_name = font_manager.FontProperties().get_name()\n",
    "rc('font', family=font_name)\n",
    "plt.rcParams['axes.unicode_minus'] = False\n",
    "#plt.title('테스트입니다')"
   ]
  },
  {
   "cell_type": "code",
   "execution_count": 2,
   "id": "geological-illness",
   "metadata": {},
   "outputs": [],
   "source": [
    "font_path = '/usr/share/fonts/truetype/NanumGothic.ttf'\n",
    "font = font_manager.FontProperties(fname = font_path).get_name()\n",
    "rc('font', family = font)"
   ]
  },
  {
   "cell_type": "code",
   "execution_count": 3,
   "id": "7d43c999",
   "metadata": {},
   "outputs": [],
   "source": [
    "car_df = pd.read_csv('usedcar_total_0604.csv')\n",
    "youtube_df = pd.read_csv('youtube_total_0604.csv')"
   ]
  },
  {
   "cell_type": "code",
   "execution_count": 5,
   "id": "90bb344c",
   "metadata": {
    "scrolled": true
   },
   "outputs": [
    {
     "name": "stdout",
     "output_type": "stream",
     "text": [
      "<class 'pandas.core.frame.DataFrame'>\n",
      "RangeIndex: 259237 entries, 0 to 259236\n",
      "Data columns (total 4 columns):\n",
      " #   Column     Non-Null Count   Dtype \n",
      "---  ------     --------------   ----- \n",
      " 0   car_brand  259237 non-null  object\n",
      " 1   car_model  259237 non-null  object\n",
      " 2   comments   259237 non-null  object\n",
      " 3   likes      259237 non-null  int64 \n",
      "dtypes: int64(1), object(3)\n",
      "memory usage: 7.9+ MB\n"
     ]
    }
   ],
   "source": [
    "youtube_df.info()"
   ]
  },
  {
   "cell_type": "code",
   "execution_count": 6,
   "id": "adopted-presentation",
   "metadata": {},
   "outputs": [
    {
     "data": {
      "text/html": [
       "<div>\n",
       "<style scoped>\n",
       "    .dataframe tbody tr th:only-of-type {\n",
       "        vertical-align: middle;\n",
       "    }\n",
       "\n",
       "    .dataframe tbody tr th {\n",
       "        vertical-align: top;\n",
       "    }\n",
       "\n",
       "    .dataframe thead th {\n",
       "        text-align: right;\n",
       "    }\n",
       "</style>\n",
       "<table border=\"1\" class=\"dataframe\">\n",
       "  <thead>\n",
       "    <tr style=\"text-align: right;\">\n",
       "      <th></th>\n",
       "      <th>car_brand</th>\n",
       "      <th>car_model</th>\n",
       "      <th>comments</th>\n",
       "      <th>likes</th>\n",
       "    </tr>\n",
       "  </thead>\n",
       "  <tbody>\n",
       "    <tr>\n",
       "      <th>0</th>\n",
       "      <td>BMW</td>\n",
       "      <td>1시리즈</td>\n",
       "      <td>주제선정 좋아요. 더운 여름 잘 지내세요. 비싼차, 싼차, 슈퍼카, 경차 가리지 않...</td>\n",
       "      <td>3</td>\n",
       "    </tr>\n",
       "    <tr>\n",
       "      <th>1</th>\n",
       "      <td>BMW</td>\n",
       "      <td>1시리즈</td>\n",
       "      <td>주차장 시승평 잘봤네요ㅋ 그냥 외관이랑 실내평만 보면 편안할듯ㅋㅋ 매력적인 차네요 ...</td>\n",
       "      <td>3</td>\n",
       "    </tr>\n",
       "    <tr>\n",
       "      <th>2</th>\n",
       "      <td>BMW</td>\n",
       "      <td>1시리즈</td>\n",
       "      <td>차 가격도 싸고 디자인도 예쁘고 엄청 좋다</td>\n",
       "      <td>5</td>\n",
       "    </tr>\n",
       "    <tr>\n",
       "      <th>3</th>\n",
       "      <td>BMW</td>\n",
       "      <td>1시리즈</td>\n",
       "      <td>좀 끄럽다 하셨는데 g30 5시리즈랑 어느정도 차이가 날까요? ㅎㅎ</td>\n",
       "      <td>2</td>\n",
       "    </tr>\n",
       "    <tr>\n",
       "      <th>4</th>\n",
       "      <td>BMW</td>\n",
       "      <td>1시리즈</td>\n",
       "      <td>그나마 전륜으로 바뀌면서 공간이 좀 쓸만해 졌죠. 이전세대 1시리즈는 정말.... ...</td>\n",
       "      <td>2</td>\n",
       "    </tr>\n",
       "  </tbody>\n",
       "</table>\n",
       "</div>"
      ],
      "text/plain": [
       "  car_brand car_model                                           comments  \\\n",
       "0       BMW      1시리즈  주제선정 좋아요. 더운 여름 잘 지내세요. 비싼차, 싼차, 슈퍼카, 경차 가리지 않...   \n",
       "1       BMW      1시리즈  주차장 시승평 잘봤네요ㅋ 그냥 외관이랑 실내평만 보면 편안할듯ㅋㅋ 매력적인 차네요 ...   \n",
       "2       BMW      1시리즈                            차 가격도 싸고 디자인도 예쁘고 엄청 좋다   \n",
       "3       BMW      1시리즈              좀 끄럽다 하셨는데 g30 5시리즈랑 어느정도 차이가 날까요? ㅎㅎ   \n",
       "4       BMW      1시리즈  그나마 전륜으로 바뀌면서 공간이 좀 쓸만해 졌죠. 이전세대 1시리즈는 정말.... ...   \n",
       "\n",
       "   likes  \n",
       "0      3  \n",
       "1      3  \n",
       "2      5  \n",
       "3      2  \n",
       "4      2  "
      ]
     },
     "execution_count": 6,
     "metadata": {},
     "output_type": "execute_result"
    }
   ],
   "source": [
    "youtube_df.head(5)"
   ]
  },
  {
   "cell_type": "markdown",
   "id": "sublime-mitchell",
   "metadata": {},
   "source": [
    "## 유튜브 관련도 분류모델 진행\n",
    "\n",
    "1. label_columns 생성\n",
    "2. 라벨링 진행 ( 비관련: 0 , 관련 : 1 )"
   ]
  },
  {
   "cell_type": "code",
   "execution_count": 7,
   "id": "handed-necklace",
   "metadata": {},
   "outputs": [],
   "source": [
    "y_df = youtube_df.copy()"
   ]
  },
  {
   "cell_type": "code",
   "execution_count": 8,
   "id": "cooperative-circulation",
   "metadata": {},
   "outputs": [],
   "source": [
    "y_df.insert(4,'related',0)"
   ]
  },
  {
   "cell_type": "code",
   "execution_count": 9,
   "id": "social-questionnaire",
   "metadata": {},
   "outputs": [
    {
     "data": {
      "text/html": [
       "<div>\n",
       "<style scoped>\n",
       "    .dataframe tbody tr th:only-of-type {\n",
       "        vertical-align: middle;\n",
       "    }\n",
       "\n",
       "    .dataframe tbody tr th {\n",
       "        vertical-align: top;\n",
       "    }\n",
       "\n",
       "    .dataframe thead th {\n",
       "        text-align: right;\n",
       "    }\n",
       "</style>\n",
       "<table border=\"1\" class=\"dataframe\">\n",
       "  <thead>\n",
       "    <tr style=\"text-align: right;\">\n",
       "      <th></th>\n",
       "      <th>car_brand</th>\n",
       "      <th>car_model</th>\n",
       "      <th>comments</th>\n",
       "      <th>likes</th>\n",
       "      <th>related</th>\n",
       "    </tr>\n",
       "  </thead>\n",
       "  <tbody>\n",
       "    <tr>\n",
       "      <th>0</th>\n",
       "      <td>BMW</td>\n",
       "      <td>1시리즈</td>\n",
       "      <td>주제선정 좋아요. 더운 여름 잘 지내세요. 비싼차, 싼차, 슈퍼카, 경차 가리지 않...</td>\n",
       "      <td>3</td>\n",
       "      <td>0</td>\n",
       "    </tr>\n",
       "    <tr>\n",
       "      <th>1</th>\n",
       "      <td>BMW</td>\n",
       "      <td>1시리즈</td>\n",
       "      <td>주차장 시승평 잘봤네요ㅋ 그냥 외관이랑 실내평만 보면 편안할듯ㅋㅋ 매력적인 차네요 ...</td>\n",
       "      <td>3</td>\n",
       "      <td>0</td>\n",
       "    </tr>\n",
       "    <tr>\n",
       "      <th>2</th>\n",
       "      <td>BMW</td>\n",
       "      <td>1시리즈</td>\n",
       "      <td>차 가격도 싸고 디자인도 예쁘고 엄청 좋다</td>\n",
       "      <td>5</td>\n",
       "      <td>0</td>\n",
       "    </tr>\n",
       "    <tr>\n",
       "      <th>3</th>\n",
       "      <td>BMW</td>\n",
       "      <td>1시리즈</td>\n",
       "      <td>좀 끄럽다 하셨는데 g30 5시리즈랑 어느정도 차이가 날까요? ㅎㅎ</td>\n",
       "      <td>2</td>\n",
       "      <td>0</td>\n",
       "    </tr>\n",
       "    <tr>\n",
       "      <th>4</th>\n",
       "      <td>BMW</td>\n",
       "      <td>1시리즈</td>\n",
       "      <td>그나마 전륜으로 바뀌면서 공간이 좀 쓸만해 졌죠. 이전세대 1시리즈는 정말.... ...</td>\n",
       "      <td>2</td>\n",
       "      <td>0</td>\n",
       "    </tr>\n",
       "    <tr>\n",
       "      <th>5</th>\n",
       "      <td>BMW</td>\n",
       "      <td>1시리즈</td>\n",
       "      <td>우리나라에서 MC12 시승기를 보는 날이 언제쯤 올까요? 슈퍼카 전문 유튜버 우파님...</td>\n",
       "      <td>1</td>\n",
       "      <td>0</td>\n",
       "    </tr>\n",
       "    <tr>\n",
       "      <th>6</th>\n",
       "      <td>BMW</td>\n",
       "      <td>1시리즈</td>\n",
       "      <td>궁금했던 차량 리뷰해주셔서 감사합니다~ 작은차를 좋아해서 그런지 충분히 매력적이네요</td>\n",
       "      <td>4</td>\n",
       "      <td>0</td>\n",
       "    </tr>\n",
       "    <tr>\n",
       "      <th>7</th>\n",
       "      <td>BMW</td>\n",
       "      <td>1시리즈</td>\n",
       "      <td>이뿐데 출력이 아쉽네요. 윗급 20d에 들어가는 190마력짜리를 디튠한거라면 칩튠이...</td>\n",
       "      <td>1</td>\n",
       "      <td>0</td>\n",
       "    </tr>\n",
       "    <tr>\n",
       "      <th>8</th>\n",
       "      <td>BMW</td>\n",
       "      <td>1시리즈</td>\n",
       "      <td>1시리즈도 뭔가 매력적인데ㅜㅜ 가격적인 부분도 매력적이고ㅜㅜ!!</td>\n",
       "      <td>5</td>\n",
       "      <td>0</td>\n",
       "    </tr>\n",
       "    <tr>\n",
       "      <th>9</th>\n",
       "      <td>BMW</td>\n",
       "      <td>1시리즈</td>\n",
       "      <td>우파님 영상보면 차를 엄청 사고 싶네요..</td>\n",
       "      <td>3</td>\n",
       "      <td>0</td>\n",
       "    </tr>\n",
       "  </tbody>\n",
       "</table>\n",
       "</div>"
      ],
      "text/plain": [
       "  car_brand car_model                                           comments  \\\n",
       "0       BMW      1시리즈  주제선정 좋아요. 더운 여름 잘 지내세요. 비싼차, 싼차, 슈퍼카, 경차 가리지 않...   \n",
       "1       BMW      1시리즈  주차장 시승평 잘봤네요ㅋ 그냥 외관이랑 실내평만 보면 편안할듯ㅋㅋ 매력적인 차네요 ...   \n",
       "2       BMW      1시리즈                            차 가격도 싸고 디자인도 예쁘고 엄청 좋다   \n",
       "3       BMW      1시리즈              좀 끄럽다 하셨는데 g30 5시리즈랑 어느정도 차이가 날까요? ㅎㅎ   \n",
       "4       BMW      1시리즈  그나마 전륜으로 바뀌면서 공간이 좀 쓸만해 졌죠. 이전세대 1시리즈는 정말.... ...   \n",
       "5       BMW      1시리즈  우리나라에서 MC12 시승기를 보는 날이 언제쯤 올까요? 슈퍼카 전문 유튜버 우파님...   \n",
       "6       BMW      1시리즈     궁금했던 차량 리뷰해주셔서 감사합니다~ 작은차를 좋아해서 그런지 충분히 매력적이네요   \n",
       "7       BMW      1시리즈  이뿐데 출력이 아쉽네요. 윗급 20d에 들어가는 190마력짜리를 디튠한거라면 칩튠이...   \n",
       "8       BMW      1시리즈                1시리즈도 뭔가 매력적인데ㅜㅜ 가격적인 부분도 매력적이고ㅜㅜ!!   \n",
       "9       BMW      1시리즈                            우파님 영상보면 차를 엄청 사고 싶네요..   \n",
       "\n",
       "   likes  related  \n",
       "0      3        0  \n",
       "1      3        0  \n",
       "2      5        0  \n",
       "3      2        0  \n",
       "4      2        0  \n",
       "5      1        0  \n",
       "6      4        0  \n",
       "7      1        0  \n",
       "8      5        0  \n",
       "9      3        0  "
      ]
     },
     "execution_count": 9,
     "metadata": {},
     "output_type": "execute_result"
    }
   ],
   "source": [
    "y_df.head(10)"
   ]
  },
  {
   "cell_type": "markdown",
   "id": "marked-eagle",
   "metadata": {},
   "source": [
    "---\n",
    "---\n",
    "## Label : 비관련 = 0,  관련 = 1\n",
    "----\n",
    "----\n"
   ]
  },
  {
   "cell_type": "code",
   "execution_count": 10,
   "id": "adverse-ending",
   "metadata": {
    "scrolled": true
   },
   "outputs": [
    {
     "data": {
      "text/html": [
       "<div>\n",
       "<style scoped>\n",
       "    .dataframe tbody tr th:only-of-type {\n",
       "        vertical-align: middle;\n",
       "    }\n",
       "\n",
       "    .dataframe tbody tr th {\n",
       "        vertical-align: top;\n",
       "    }\n",
       "\n",
       "    .dataframe thead th {\n",
       "        text-align: right;\n",
       "    }\n",
       "</style>\n",
       "<table border=\"1\" class=\"dataframe\">\n",
       "  <thead>\n",
       "    <tr style=\"text-align: right;\">\n",
       "      <th></th>\n",
       "      <th>car_brand</th>\n",
       "      <th>car_model</th>\n",
       "      <th>comments</th>\n",
       "      <th>likes</th>\n",
       "      <th>related</th>\n",
       "    </tr>\n",
       "  </thead>\n",
       "  <tbody>\n",
       "    <tr>\n",
       "      <th>15</th>\n",
       "      <td>BMW</td>\n",
       "      <td>1시리즈</td>\n",
       "      <td>와 많이 이뻐졌네요 저도 2016년식 하나 들고 있는데 애착 많이 가는 차에요:)</td>\n",
       "      <td>3</td>\n",
       "      <td>0</td>\n",
       "    </tr>\n",
       "    <tr>\n",
       "      <th>63</th>\n",
       "      <td>BMW</td>\n",
       "      <td>1시리즈</td>\n",
       "      <td>7:35 손바닥 자국 ㅋㅋㅋㅋㅋ</td>\n",
       "      <td>32</td>\n",
       "      <td>0</td>\n",
       "    </tr>\n",
       "    <tr>\n",
       "      <th>102</th>\n",
       "      <td>BMW</td>\n",
       "      <td>1시리즈</td>\n",
       "      <td>5:02 ㅋㅋㅋㅋㅋㅋㅋㅋㅋㅋ</td>\n",
       "      <td>19</td>\n",
       "      <td>0</td>\n",
       "    </tr>\n",
       "    <tr>\n",
       "      <th>142</th>\n",
       "      <td>BMW</td>\n",
       "      <td>1시리즈</td>\n",
       "      <td>2:04 는 BMW액티브투어러 입니다</td>\n",
       "      <td>34</td>\n",
       "      <td>0</td>\n",
       "    </tr>\n",
       "    <tr>\n",
       "      <th>179</th>\n",
       "      <td>BMW</td>\n",
       "      <td>1시리즈</td>\n",
       "      <td>1:54 감스트 지나감</td>\n",
       "      <td>11</td>\n",
       "      <td>0</td>\n",
       "    </tr>\n",
       "    <tr>\n",
       "      <th>...</th>\n",
       "      <td>...</td>\n",
       "      <td>...</td>\n",
       "      <td>...</td>\n",
       "      <td>...</td>\n",
       "      <td>...</td>\n",
       "    </tr>\n",
       "    <tr>\n",
       "      <th>259034</th>\n",
       "      <td>혼다</td>\n",
       "      <td>파일럿</td>\n",
       "      <td>파일럿 내구성 좋은차이긴 하지만..솔직히 좀 심심한 차인듯해요.폭스바겐 아틀라스 곧...</td>\n",
       "      <td>5</td>\n",
       "      <td>0</td>\n",
       "    </tr>\n",
       "    <tr>\n",
       "      <th>259063</th>\n",
       "      <td>혼다</td>\n",
       "      <td>파일럿</td>\n",
       "      <td>★노보스 한정판 보잉 선글라스!★\\rhttps://smartstore.naver.c...</td>\n",
       "      <td>12</td>\n",
       "      <td>0</td>\n",
       "    </tr>\n",
       "    <tr>\n",
       "      <th>259116</th>\n",
       "      <td>혼다</td>\n",
       "      <td>파일럿</td>\n",
       "      <td>4:32, 09:11, 20:50 에서 역시 혼다👏👏👏👏👏👏👏</td>\n",
       "      <td>10</td>\n",
       "      <td>0</td>\n",
       "    </tr>\n",
       "    <tr>\n",
       "      <th>259121</th>\n",
       "      <td>혼다</td>\n",
       "      <td>파일럿</td>\n",
       "      <td>11:58 캐딜락 에스컬레이드 지리네</td>\n",
       "      <td>2</td>\n",
       "      <td>0</td>\n",
       "    </tr>\n",
       "    <tr>\n",
       "      <th>259173</th>\n",
       "      <td>혼다</td>\n",
       "      <td>파일럿</td>\n",
       "      <td>0:50 본영상</td>\n",
       "      <td>1</td>\n",
       "      <td>0</td>\n",
       "    </tr>\n",
       "  </tbody>\n",
       "</table>\n",
       "<p>10926 rows × 5 columns</p>\n",
       "</div>"
      ],
      "text/plain": [
       "       car_brand car_model                                           comments  \\\n",
       "15           BMW      1시리즈      와 많이 이뻐졌네요 저도 2016년식 하나 들고 있는데 애착 많이 가는 차에요:)   \n",
       "63           BMW      1시리즈                                  7:35 손바닥 자국 ㅋㅋㅋㅋㅋ   \n",
       "102          BMW      1시리즈                                    5:02 ㅋㅋㅋㅋㅋㅋㅋㅋㅋㅋ   \n",
       "142          BMW      1시리즈                               2:04 는 BMW액티브투어러 입니다   \n",
       "179          BMW      1시리즈                                       1:54 감스트 지나감   \n",
       "...          ...       ...                                                ...   \n",
       "259034        혼다       파일럿  파일럿 내구성 좋은차이긴 하지만..솔직히 좀 심심한 차인듯해요.폭스바겐 아틀라스 곧...   \n",
       "259063        혼다       파일럿  ★노보스 한정판 보잉 선글라스!★\\rhttps://smartstore.naver.c...   \n",
       "259116        혼다       파일럿                 4:32, 09:11, 20:50 에서 역시 혼다👏👏👏👏👏👏👏   \n",
       "259121        혼다       파일럿                               11:58 캐딜락 에스컬레이드 지리네   \n",
       "259173        혼다       파일럿                                           0:50 본영상   \n",
       "\n",
       "        likes  related  \n",
       "15          3        0  \n",
       "63         32        0  \n",
       "102        19        0  \n",
       "142        34        0  \n",
       "179        11        0  \n",
       "...       ...      ...  \n",
       "259034      5        0  \n",
       "259063     12        0  \n",
       "259116     10        0  \n",
       "259121      2        0  \n",
       "259173      1        0  \n",
       "\n",
       "[10926 rows x 5 columns]"
      ]
     },
     "execution_count": 10,
     "metadata": {},
     "output_type": "execute_result"
    }
   ],
   "source": [
    "y_df[y_df['comments'].str.contains(':')]"
   ]
  },
  {
   "cell_type": "code",
   "execution_count": 11,
   "id": "three-mills",
   "metadata": {},
   "outputs": [
    {
     "data": {
      "text/html": [
       "<div>\n",
       "<style scoped>\n",
       "    .dataframe tbody tr th:only-of-type {\n",
       "        vertical-align: middle;\n",
       "    }\n",
       "\n",
       "    .dataframe tbody tr th {\n",
       "        vertical-align: top;\n",
       "    }\n",
       "\n",
       "    .dataframe thead th {\n",
       "        text-align: right;\n",
       "    }\n",
       "</style>\n",
       "<table border=\"1\" class=\"dataframe\">\n",
       "  <thead>\n",
       "    <tr style=\"text-align: right;\">\n",
       "      <th></th>\n",
       "      <th>car_brand</th>\n",
       "      <th>car_model</th>\n",
       "      <th>comments</th>\n",
       "      <th>likes</th>\n",
       "      <th>related</th>\n",
       "    </tr>\n",
       "  </thead>\n",
       "  <tbody>\n",
       "    <tr>\n",
       "      <th>236862</th>\n",
       "      <td>현대</td>\n",
       "      <td>엘란트라</td>\n",
       "      <td>어제 임진각에서 뵌 K3 오너입니다.주차하고 내렸는데 우연히 만나게되어 너무 신기했...</td>\n",
       "      <td>984</td>\n",
       "      <td>0</td>\n",
       "    </tr>\n",
       "    <tr>\n",
       "      <th>228788</th>\n",
       "      <td>현대</td>\n",
       "      <td>아반떼</td>\n",
       "      <td>어제 임진각에서 뵌 K3 오너입니다.주차하고 내렸는데 우연히 만나게되어 너무 신기했...</td>\n",
       "      <td>984</td>\n",
       "      <td>0</td>\n",
       "    </tr>\n",
       "    <tr>\n",
       "      <th>88790</th>\n",
       "      <td>르노코리아</td>\n",
       "      <td>트위지</td>\n",
       "      <td>...타본후기....  작고 귀엽고  단거리 출퇴근으로 좋다.. 단점..  수도권은...</td>\n",
       "      <td>866</td>\n",
       "      <td>0</td>\n",
       "    </tr>\n",
       "    <tr>\n",
       "      <th>238947</th>\n",
       "      <td>현대</td>\n",
       "      <td>제네시스</td>\n",
       "      <td>부사장으로 승진하신 분이 나오셨네요. 본인의 성공이 본인만의 공이 아님을 아는 겸손...</td>\n",
       "      <td>857</td>\n",
       "      <td>0</td>\n",
       "    </tr>\n",
       "    <tr>\n",
       "      <th>189610</th>\n",
       "      <td>한국GM</td>\n",
       "      <td>다마스</td>\n",
       "      <td>사실상 지붕있고 네 발 달린 오토바이 수준이라 충돌 안전성은 기대하면 안 됨</td>\n",
       "      <td>835</td>\n",
       "      <td>0</td>\n",
       "    </tr>\n",
       "    <tr>\n",
       "      <th>...</th>\n",
       "      <td>...</td>\n",
       "      <td>...</td>\n",
       "      <td>...</td>\n",
       "      <td>...</td>\n",
       "      <td>...</td>\n",
       "    </tr>\n",
       "    <tr>\n",
       "      <th>151012</th>\n",
       "      <td>재규어</td>\n",
       "      <td>I-PACE</td>\n",
       "      <td>역시 재규어...</td>\n",
       "      <td>1</td>\n",
       "      <td>0</td>\n",
       "    </tr>\n",
       "    <tr>\n",
       "      <th>151009</th>\n",
       "      <td>재규어</td>\n",
       "      <td>I-PACE</td>\n",
       "      <td>아직은 전기차 인프라 및 행정상의 모든 상황들이 너무 미미한 것 같네요. 불편해서 ...</td>\n",
       "      <td>1</td>\n",
       "      <td>0</td>\n",
       "    </tr>\n",
       "    <tr>\n",
       "      <th>151008</th>\n",
       "      <td>재규어</td>\n",
       "      <td>I-PACE</td>\n",
       "      <td>현대자동차를 옹호하는것은 아니지만요즘 사람들의 자동차 정비 부실도 약간은 한몫한다고...</td>\n",
       "      <td>1</td>\n",
       "      <td>0</td>\n",
       "    </tr>\n",
       "    <tr>\n",
       "      <th>151006</th>\n",
       "      <td>재규어</td>\n",
       "      <td>I-PACE</td>\n",
       "      <td>빨리 결과가 나와서 현대차놈들 무릎꿀는 모습을 보고싶네요</td>\n",
       "      <td>1</td>\n",
       "      <td>0</td>\n",
       "    </tr>\n",
       "    <tr>\n",
       "      <th>37536</th>\n",
       "      <td>기아</td>\n",
       "      <td>스포티지</td>\n",
       "      <td>근데 파노라마 선루프는 문제 많은 선루프 아닌가요? 쉽게 깨진다는데 그문제가 다 해...</td>\n",
       "      <td>1</td>\n",
       "      <td>0</td>\n",
       "    </tr>\n",
       "  </tbody>\n",
       "</table>\n",
       "<p>259237 rows × 5 columns</p>\n",
       "</div>"
      ],
      "text/plain": [
       "       car_brand car_model                                           comments  \\\n",
       "236862        현대      엘란트라  어제 임진각에서 뵌 K3 오너입니다.주차하고 내렸는데 우연히 만나게되어 너무 신기했...   \n",
       "228788        현대       아반떼  어제 임진각에서 뵌 K3 오너입니다.주차하고 내렸는데 우연히 만나게되어 너무 신기했...   \n",
       "88790      르노코리아       트위지  ...타본후기....  작고 귀엽고  단거리 출퇴근으로 좋다.. 단점..  수도권은...   \n",
       "238947        현대      제네시스  부사장으로 승진하신 분이 나오셨네요. 본인의 성공이 본인만의 공이 아님을 아는 겸손...   \n",
       "189610      한국GM       다마스         사실상 지붕있고 네 발 달린 오토바이 수준이라 충돌 안전성은 기대하면 안 됨   \n",
       "...          ...       ...                                                ...   \n",
       "151012       재규어    I-PACE                                          역시 재규어...   \n",
       "151009       재규어    I-PACE  아직은 전기차 인프라 및 행정상의 모든 상황들이 너무 미미한 것 같네요. 불편해서 ...   \n",
       "151008       재규어    I-PACE  현대자동차를 옹호하는것은 아니지만요즘 사람들의 자동차 정비 부실도 약간은 한몫한다고...   \n",
       "151006       재규어    I-PACE                    빨리 결과가 나와서 현대차놈들 무릎꿀는 모습을 보고싶네요   \n",
       "37536         기아      스포티지  근데 파노라마 선루프는 문제 많은 선루프 아닌가요? 쉽게 깨진다는데 그문제가 다 해...   \n",
       "\n",
       "        likes  related  \n",
       "236862    984        0  \n",
       "228788    984        0  \n",
       "88790     866        0  \n",
       "238947    857        0  \n",
       "189610    835        0  \n",
       "...       ...      ...  \n",
       "151012      1        0  \n",
       "151009      1        0  \n",
       "151008      1        0  \n",
       "151006      1        0  \n",
       "37536       1        0  \n",
       "\n",
       "[259237 rows x 5 columns]"
      ]
     },
     "execution_count": 11,
     "metadata": {},
     "output_type": "execute_result"
    }
   ],
   "source": [
    "y_df.sort_values(by=['likes'],ascending=False)"
   ]
  },
  {
   "cell_type": "code",
   "execution_count": 12,
   "id": "outdoor-qatar",
   "metadata": {},
   "outputs": [
    {
     "data": {
      "text/plain": [
       "'어제 임진각에서 뵌 K3 오너입니다.주차하고 내렸는데 우연히 만나게되어 너무 신기했네요~아반떼 정말 이쁘고 잘 나온듯 싶습니다.'"
      ]
     },
     "execution_count": 12,
     "metadata": {},
     "output_type": "execute_result"
    }
   ],
   "source": [
    "y_df['comments'][236862]"
   ]
  },
  {
   "cell_type": "markdown",
   "id": "chronic-makeup",
   "metadata": {},
   "source": [
    "## 중복된 영상에서 가져온 경우가 있어서 확인 필요"
   ]
  },
  {
   "cell_type": "code",
   "execution_count": 13,
   "id": "objective-transcript",
   "metadata": {},
   "outputs": [],
   "source": [
    "y_df.drop_duplicates(['comments'], keep ='first', inplace= True)\n",
    "y_df.reset_index(drop=True,inplace=True)"
   ]
  },
  {
   "cell_type": "code",
   "execution_count": 14,
   "id": "pregnant-deviation",
   "metadata": {},
   "outputs": [
    {
     "data": {
      "text/html": [
       "<div>\n",
       "<style scoped>\n",
       "    .dataframe tbody tr th:only-of-type {\n",
       "        vertical-align: middle;\n",
       "    }\n",
       "\n",
       "    .dataframe tbody tr th {\n",
       "        vertical-align: top;\n",
       "    }\n",
       "\n",
       "    .dataframe thead th {\n",
       "        text-align: right;\n",
       "    }\n",
       "</style>\n",
       "<table border=\"1\" class=\"dataframe\">\n",
       "  <thead>\n",
       "    <tr style=\"text-align: right;\">\n",
       "      <th></th>\n",
       "      <th>car_brand</th>\n",
       "      <th>car_model</th>\n",
       "      <th>comments</th>\n",
       "      <th>likes</th>\n",
       "      <th>related</th>\n",
       "    </tr>\n",
       "  </thead>\n",
       "  <tbody>\n",
       "    <tr>\n",
       "      <th>184856</th>\n",
       "      <td>현대</td>\n",
       "      <td>아반떼</td>\n",
       "      <td>어제 임진각에서 뵌 K3 오너입니다.주차하고 내렸는데 우연히 만나게되어 너무 신기했...</td>\n",
       "      <td>984</td>\n",
       "      <td>0</td>\n",
       "    </tr>\n",
       "    <tr>\n",
       "      <th>71437</th>\n",
       "      <td>르노코리아</td>\n",
       "      <td>트위지</td>\n",
       "      <td>...타본후기....  작고 귀엽고  단거리 출퇴근으로 좋다.. 단점..  수도권은...</td>\n",
       "      <td>866</td>\n",
       "      <td>0</td>\n",
       "    </tr>\n",
       "    <tr>\n",
       "      <th>192101</th>\n",
       "      <td>현대</td>\n",
       "      <td>제네시스</td>\n",
       "      <td>부사장으로 승진하신 분이 나오셨네요. 본인의 성공이 본인만의 공이 아님을 아는 겸손...</td>\n",
       "      <td>857</td>\n",
       "      <td>0</td>\n",
       "    </tr>\n",
       "    <tr>\n",
       "      <th>150572</th>\n",
       "      <td>한국GM</td>\n",
       "      <td>다마스</td>\n",
       "      <td>사실상 지붕있고 네 발 달린 오토바이 수준이라 충돌 안전성은 기대하면 안 됨</td>\n",
       "      <td>835</td>\n",
       "      <td>0</td>\n",
       "    </tr>\n",
       "    <tr>\n",
       "      <th>40149</th>\n",
       "      <td>기아</td>\n",
       "      <td>옵티마</td>\n",
       "      <td>2004년식 sm525v 43만km. 6년전 아버지 뇌출혈로 조수석에 모시고 응급실...</td>\n",
       "      <td>830</td>\n",
       "      <td>0</td>\n",
       "    </tr>\n",
       "    <tr>\n",
       "      <th>...</th>\n",
       "      <td>...</td>\n",
       "      <td>...</td>\n",
       "      <td>...</td>\n",
       "      <td>...</td>\n",
       "      <td>...</td>\n",
       "    </tr>\n",
       "    <tr>\n",
       "      <th>132386</th>\n",
       "      <td>포르쉐</td>\n",
       "      <td>911</td>\n",
       "      <td>재미있게 잘봤습니다~~!!</td>\n",
       "      <td>1</td>\n",
       "      <td>0</td>\n",
       "    </tr>\n",
       "    <tr>\n",
       "      <th>57445</th>\n",
       "      <td>랜드로버</td>\n",
       "      <td>디스커버리 스포츠</td>\n",
       "      <td>15년 디스커버리 스포츠 타는데. 써비스센타 오일교환비용 40만원 장난아니네. 넘 ...</td>\n",
       "      <td>1</td>\n",
       "      <td>0</td>\n",
       "    </tr>\n",
       "    <tr>\n",
       "      <th>132384</th>\n",
       "      <td>포르쉐</td>\n",
       "      <td>911</td>\n",
       "      <td>와... 진짜 911은 볼때마다 대박이다 근데 기어봉이 뭔가 이상해...</td>\n",
       "      <td>1</td>\n",
       "      <td>0</td>\n",
       "    </tr>\n",
       "    <tr>\n",
       "      <th>132383</th>\n",
       "      <td>포르쉐</td>\n",
       "      <td>911</td>\n",
       "      <td>항상 신형이 갑이네!</td>\n",
       "      <td>1</td>\n",
       "      <td>0</td>\n",
       "    </tr>\n",
       "    <tr>\n",
       "      <th>103944</th>\n",
       "      <td>쌍용</td>\n",
       "      <td>무쏘</td>\n",
       "      <td>처음 코란도로 갑시다 디자인을...</td>\n",
       "      <td>1</td>\n",
       "      <td>0</td>\n",
       "    </tr>\n",
       "  </tbody>\n",
       "</table>\n",
       "<p>207889 rows × 5 columns</p>\n",
       "</div>"
      ],
      "text/plain": [
       "       car_brand  car_model  \\\n",
       "184856        현대        아반떼   \n",
       "71437      르노코리아        트위지   \n",
       "192101        현대       제네시스   \n",
       "150572      한국GM        다마스   \n",
       "40149         기아        옵티마   \n",
       "...          ...        ...   \n",
       "132386       포르쉐        911   \n",
       "57445       랜드로버  디스커버리 스포츠   \n",
       "132384       포르쉐        911   \n",
       "132383       포르쉐        911   \n",
       "103944        쌍용         무쏘   \n",
       "\n",
       "                                                 comments  likes  related  \n",
       "184856  어제 임진각에서 뵌 K3 오너입니다.주차하고 내렸는데 우연히 만나게되어 너무 신기했...    984        0  \n",
       "71437   ...타본후기....  작고 귀엽고  단거리 출퇴근으로 좋다.. 단점..  수도권은...    866        0  \n",
       "192101  부사장으로 승진하신 분이 나오셨네요. 본인의 성공이 본인만의 공이 아님을 아는 겸손...    857        0  \n",
       "150572         사실상 지붕있고 네 발 달린 오토바이 수준이라 충돌 안전성은 기대하면 안 됨    835        0  \n",
       "40149   2004년식 sm525v 43만km. 6년전 아버지 뇌출혈로 조수석에 모시고 응급실...    830        0  \n",
       "...                                                   ...    ...      ...  \n",
       "132386                                     재미있게 잘봤습니다~~!!      1        0  \n",
       "57445   15년 디스커버리 스포츠 타는데. 써비스센타 오일교환비용 40만원 장난아니네. 넘 ...      1        0  \n",
       "132384           와... 진짜 911은 볼때마다 대박이다 근데 기어봉이 뭔가 이상해...      1        0  \n",
       "132383                                        항상 신형이 갑이네!      1        0  \n",
       "103944                                처음 코란도로 갑시다 디자인을...      1        0  \n",
       "\n",
       "[207889 rows x 5 columns]"
      ]
     },
     "execution_count": 14,
     "metadata": {},
     "output_type": "execute_result"
    }
   ],
   "source": [
    "y_df.sort_values(by=['likes'],ascending=False)"
   ]
  },
  {
   "cell_type": "markdown",
   "id": "professional-romania",
   "metadata": {},
   "source": [
    "### 1. 관련용어(차량관련, 브랜드,모델,연료,형태 등등)를 지정하여 1차 필터링( Label =1)"
   ]
  },
  {
   "cell_type": "code",
   "execution_count": 15,
   "id": "julian-rally",
   "metadata": {},
   "outputs": [
    {
     "data": {
      "text/html": [
       "<div>\n",
       "<style scoped>\n",
       "    .dataframe tbody tr th:only-of-type {\n",
       "        vertical-align: middle;\n",
       "    }\n",
       "\n",
       "    .dataframe tbody tr th {\n",
       "        vertical-align: top;\n",
       "    }\n",
       "\n",
       "    .dataframe thead th {\n",
       "        text-align: right;\n",
       "    }\n",
       "</style>\n",
       "<table border=\"1\" class=\"dataframe\">\n",
       "  <thead>\n",
       "    <tr style=\"text-align: right;\">\n",
       "      <th></th>\n",
       "      <th>car_brand</th>\n",
       "      <th>car_model</th>\n",
       "      <th>comments</th>\n",
       "      <th>likes</th>\n",
       "      <th>related</th>\n",
       "    </tr>\n",
       "  </thead>\n",
       "  <tbody>\n",
       "    <tr>\n",
       "      <th>307</th>\n",
       "      <td>BMW</td>\n",
       "      <td>1시리즈</td>\n",
       "      <td>나도 BMW 후륜구동때문에 타고 있는데, 후륜구동을 버렸다고? 누가 결정한건지 모르...</td>\n",
       "      <td>1</td>\n",
       "      <td>0</td>\n",
       "    </tr>\n",
       "    <tr>\n",
       "      <th>3663</th>\n",
       "      <td>BMW</td>\n",
       "      <td>5시리즈</td>\n",
       "      <td>역시 벤츠 걱정은 흉기가 할게 아니였다ㅋㅋ</td>\n",
       "      <td>7</td>\n",
       "      <td>0</td>\n",
       "    </tr>\n",
       "    <tr>\n",
       "      <th>6266</th>\n",
       "      <td>BMW</td>\n",
       "      <td>iX</td>\n",
       "      <td>5:52 흉기랑 비교를 하면안되죠 ㅋㅋ</td>\n",
       "      <td>1</td>\n",
       "      <td>0</td>\n",
       "    </tr>\n",
       "    <tr>\n",
       "      <th>6743</th>\n",
       "      <td>BMW</td>\n",
       "      <td>iX</td>\n",
       "      <td>BMW는 타면서도 계속 느끼는거지만 차 기본기는 물론이고 탑승자의 편의성에 대한 배...</td>\n",
       "      <td>6</td>\n",
       "      <td>0</td>\n",
       "    </tr>\n",
       "    <tr>\n",
       "      <th>6841</th>\n",
       "      <td>BMW</td>\n",
       "      <td>iX</td>\n",
       "      <td>역시 흉기는 못따라오겠네요. ㅎㅎ</td>\n",
       "      <td>1</td>\n",
       "      <td>0</td>\n",
       "    </tr>\n",
       "    <tr>\n",
       "      <th>...</th>\n",
       "      <td>...</td>\n",
       "      <td>...</td>\n",
       "      <td>...</td>\n",
       "      <td>...</td>\n",
       "      <td>...</td>\n",
       "    </tr>\n",
       "    <tr>\n",
       "      <th>206866</th>\n",
       "      <td>혼다</td>\n",
       "      <td>어코드</td>\n",
       "      <td>그래도   엔진망가지고  오일 먹는  흉기보단  좋아  하체랑   구성 은   얘기...</td>\n",
       "      <td>9</td>\n",
       "      <td>0</td>\n",
       "    </tr>\n",
       "    <tr>\n",
       "      <th>206873</th>\n",
       "      <td>혼다</td>\n",
       "      <td>어코드</td>\n",
       "      <td>그래도 흉기보단 믿음가네</td>\n",
       "      <td>3</td>\n",
       "      <td>0</td>\n",
       "    </tr>\n",
       "    <tr>\n",
       "      <th>207456</th>\n",
       "      <td>혼다</td>\n",
       "      <td>오딧세이</td>\n",
       "      <td>흉기차는 껍데기만 멀쩡 엔진은 결함과 고장으로 불안.  기술의 혼다차는 그 반대임....</td>\n",
       "      <td>15</td>\n",
       "      <td>0</td>\n",
       "    </tr>\n",
       "    <tr>\n",
       "      <th>207558</th>\n",
       "      <td>혼다</td>\n",
       "      <td>오딧세이</td>\n",
       "      <td>결론...  비유하자면   토목은 오딧세이..      건축은 카니발..      ...</td>\n",
       "      <td>1</td>\n",
       "      <td>0</td>\n",
       "    </tr>\n",
       "    <tr>\n",
       "      <th>207869</th>\n",
       "      <td>혼다</td>\n",
       "      <td>파일럿</td>\n",
       "      <td>자국민 마루타로 쓰는 흉기차나 족쳐라. 진짜 다른건 다 불매해도. 차는 불매 하지 ...</td>\n",
       "      <td>22</td>\n",
       "      <td>0</td>\n",
       "    </tr>\n",
       "  </tbody>\n",
       "</table>\n",
       "<p>644 rows × 5 columns</p>\n",
       "</div>"
      ],
      "text/plain": [
       "       car_brand car_model                                           comments  \\\n",
       "307          BMW      1시리즈  나도 BMW 후륜구동때문에 타고 있는데, 후륜구동을 버렸다고? 누가 결정한건지 모르...   \n",
       "3663         BMW      5시리즈                            역시 벤츠 걱정은 흉기가 할게 아니였다ㅋㅋ   \n",
       "6266         BMW        iX                              5:52 흉기랑 비교를 하면안되죠 ㅋㅋ   \n",
       "6743         BMW        iX  BMW는 타면서도 계속 느끼는거지만 차 기본기는 물론이고 탑승자의 편의성에 대한 배...   \n",
       "6841         BMW        iX                                 역시 흉기는 못따라오겠네요. ㅎㅎ   \n",
       "...          ...       ...                                                ...   \n",
       "206866        혼다       어코드  그래도   엔진망가지고  오일 먹는  흉기보단  좋아  하체랑   구성 은   얘기...   \n",
       "206873        혼다       어코드                                      그래도 흉기보단 믿음가네   \n",
       "207456        혼다      오딧세이  흉기차는 껍데기만 멀쩡 엔진은 결함과 고장으로 불안.  기술의 혼다차는 그 반대임....   \n",
       "207558        혼다      오딧세이  결론...  비유하자면   토목은 오딧세이..      건축은 카니발..      ...   \n",
       "207869        혼다       파일럿  자국민 마루타로 쓰는 흉기차나 족쳐라. 진짜 다른건 다 불매해도. 차는 불매 하지 ...   \n",
       "\n",
       "        likes  related  \n",
       "307         1        0  \n",
       "3663        7        0  \n",
       "6266        1        0  \n",
       "6743        6        0  \n",
       "6841        1        0  \n",
       "...       ...      ...  \n",
       "206866      9        0  \n",
       "206873      3        0  \n",
       "207456     15        0  \n",
       "207558      1        0  \n",
       "207869     22        0  \n",
       "\n",
       "[644 rows x 5 columns]"
      ]
     },
     "execution_count": 15,
     "metadata": {},
     "output_type": "execute_result"
    }
   ],
   "source": [
    "# 단어있는지 탐색해보는 창\n",
    "# 타임스탬프 댓글은 ':' 으로 탐색\n",
    "y_df[y_df['comments'].str.contains('흉기')]"
   ]
  },
  {
   "cell_type": "markdown",
   "id": "dress-saying",
   "metadata": {},
   "source": [
    "## upper랑 lower함수로 review내 영어를 대문자나 소문자 둘 중 하나로 통일시키자"
   ]
  },
  {
   "cell_type": "code",
   "execution_count": 43,
   "id": "unavailable-dairy",
   "metadata": {},
   "outputs": [
    {
     "name": "stderr",
     "output_type": "stream",
     "text": [
      "/home/ubuntu/anaconda3/envs/python3/lib/python3.6/site-packages/ipykernel_launcher.py:2: SettingWithCopyWarning: \n",
      "A value is trying to be set on a copy of a slice from a DataFrame\n",
      "\n",
      "See the caveats in the documentation: https://pandas.pydata.org/pandas-docs/stable/user_guide/indexing.html#returning-a-view-versus-a-copy\n",
      "  \n"
     ]
    }
   ],
   "source": [
    "for i in range(len(y_df)):\n",
    "    y_df['comments'][i] = y_df['comments'][i].upper()"
   ]
  },
  {
   "cell_type": "markdown",
   "id": "specified-arthur",
   "metadata": {},
   "source": [
    "## word_list만들어서 탐색해서 1차 필터링"
   ]
  },
  {
   "cell_type": "code",
   "execution_count": 44,
   "id": "juvenile-square",
   "metadata": {},
   "outputs": [],
   "source": [
    "related_words = ['핸들', '액셀', '디자인', '기어', '크락션', '경적', '앞유리', '본네트', '방향지시등', '사이드브레이크', '사이드 브레이크',\n",
    "               '트렁크', '썬루프', '썬팅', '백미러', '룸미러', '코너링', '주차', '싼차', '차량', '슈퍼카', '후미등', '전조등', '내연기관',\n",
    "               '코너링', '승차', '하차', '속도', '제로백', '서스펜더', '후진', '휠', '바퀴', '그랜져', '현기', '흉기', '비엠', '국산차',\n",
    "                '외제차', '후륜', '전륜', '4륜', '세단', '옆태', ' 차', '자율', '앞모습', '앞 모습', '뒷모습', '뒷 모습', '옆모습', '옆 모습',\n",
    "                 '이쁨', '이쁘네', '이쁘다', '콧구멍', '외관', '단점', '중고', '내수', '마력', 'sm', 'bm' ,'g', 'm', 'cc', 'i', '고급유',\n",
    "                 '출력', '2인승', '해치백', 'M', '벨엔', 'cla', 'Cla','CLA', '싸게', '비싸게', '비싼', '싼', 'A클', 'S클', 'C클', '옵션', 'E클'\n",
    "                 '가격', '드림카', '시트', '가격', 'A', 'S', '휘발유', '뒷자리', '뒷자석', '창문', '카푸어', '국산', '수입', '주행', '년식', \n",
    "                '연식', '년형', '연형']\n",
    "\n",
    "unrelated_words = ['한준', '우파', '구독', '진택', '오프닝', '썸네일', '썸넬', '수지', '감독', '편집']"
   ]
  },
  {
   "cell_type": "code",
   "execution_count": 45,
   "id": "flush-policy",
   "metadata": {
    "scrolled": true
   },
   "outputs": [
    {
     "name": "stdout",
     "output_type": "stream",
     "text": [
      "['핸들', '액셀', '디자인', '기어', '크락션', '경적', '앞유리', '본네트', '방향지시등', '사이드브레이크', '사이드 브레이크', '트렁크', '썬루프', '썬팅', '백미러', '룸미러', '코너링', '주차', '싼차', '차량', '슈퍼카', '후미등', '전조등', '내연기관', '코너링', '승차', '하차', '속도', '제로백', '서스펜더', '후진', '휠', '바퀴', '그랜져', '현기', '흉기', '비엠', '국산차', '외제차', '후륜', '전륜', '4륜', '세단', '옆태', ' 차', '자율', '앞모습', '앞 모습', '뒷모습', '뒷 모습', '옆모습', '옆 모습', '이쁨', '이쁘네', '이쁘다', '콧구멍', '외관', '단점', '중고', '내수', '마력', 'sm', 'bm', 'g', 'm', 'cc', 'i', '고급유', '출력', '2인승', '해치백', 'M', '벨엔', 'cla', 'Cla', 'CLA', '싸게', '비싸게', '비싼', '싼', 'A클', 'S클', 'C클', '옵션', 'E클가격', '드림카', '시트', '가격', 'A', 'S', '휘발유', '뒷자리', '뒷자석', '창문', '카푸어', '국산', '수입', '주행', '년식', '연식', '년형', '연형', '한국GM', '르노삼성', '르노코리아', '쌍용', '폭스바겐', '닛산', '지프', '미니', '푸조', '도요타', '마세라티', '혼다', '캐딜락', '렉서스', '랜드로버', '포르쉐', '포드', '재규어', '인피니티', '볼보', '링컨', '크라이슬러', '쉐보레', '시트로엥', '벤틀리', '피아트', '애스턴마틴', '닷지', '페라리', '테슬라', '제네시스', 'BMW', '다이하쓰', '로버', '사브', '벤츠', 'MAN', '아우디', '허머', '스즈키', '롤스로이스', '맥라렌', '어큐라', '스바루', '동풍자동차', '스마트', '미쯔비시', '람보르기니', 'GMC', '마쯔다', '중한자동차', '이베코', '마이바흐', '포톤', '선롱버스', '현대', '기아', '올란도', '트랙스', '스파크', '크루즈', '알페온', '말리부', '트럭', '라세티', '마티즈', '트레일블레이저', '다마스', '아베오', '윈스톰', '캡티바', '콜로라도', '토스카', '베리타스', '임팔라', 'G2X', '라보', '젠트라', '카마로', 'SM7', 'SM6', 'QM3', 'SM3', 'SM5', 'QM5', '클리오', 'QM6', 'XM3', '캡처', '마스터', '트위지', '조에', '렉스턴', '티볼리', '코란도', '체어맨', '액티언', '카이런', '무쏘', '로디우스', '렉카', '파사트', '패스파인더', '체로키', '쿠퍼', '2008', '컨트리맨', '캠리', '뉴 기블리', '뉴 클럽맨', '어코드', '골프', '쿠퍼 3도어', '508', '티구안', 'ATS', '프리우스', 'RX', '랭글러', '뉴 ES', '쿠퍼 5도어', '디스커버리', '파나메라', '레인지로버', '그랜드 체로키', 'CT6', '레니게이드', '익스플로러', '머스탱', 'CC', '카이엔', '이스케이프', '알티마', '쿠퍼 컨버터블', 'XF', '시빅', 'NX', 'G37', 'XC60', 'LS', '디펜더', '비틀', 'XC90', '911', '콰트로포르테', '시로코', 'Q50', '노틸러스', '308', 'Q70', 'ES', 'X-Trail', '제타', '마칸', '200', 'G25', 'CT5', 'F-PACE', 'RCZ', '207', '폴로', 'C4', 'CR-V', 'MKS', '캐시카이', '박스터', 'XE', '플라잉스퍼 1세대', '뉴 컴패스', 'C3', '큐브', 'S90', '3008', '기블리', '몬데오', '뉴 MKZ', '글래디에이터', '500', '컨티넨탈 10세대', 'XT5', '300C', 'EX35', 'S6', '랭글러 (JL)', '쿠퍼 로드스터', 'MKC', '뉴 LS', 'M35', '퓨전', '카이맨', '밴티지', 'E-PACE', 'CTS 3세대', 'CT', '클럽맨', 'F-TYPE', '토러스', '챌린저', '시에나', 'S-TYPE', '488 스파이더', '레인저', 'Model 3', '뉴 RX', '뉴 컨트리맨 (F60)', 'S660', 'XJ', '세브링', 'RC', 'G80(DH)', 'S5', 'GS', 'G80(RG3)', 'EQ900', 'G70', '컴패스', 'M37', 'G90', 'G70 SPORT', '오딧세이', '뉴 제너레이션 ES', '볼트', '아테온', 'G80 SPORT', 'GV80', '투아렉', 'F150', '리프', '쿠가', '3시리즈', '5시리즈', '코펜', 'X7', '페이스맨', 'X5', '307', 'QX70', 'M시리즈', '1시리즈', '아발론', 'X3', '2시리즈', 'X1', '램 픽업', '프리랜더', '뉴 MKS', '그란투리스모', 'ESCALADE(4세대)', '7시리즈', 'i8', 'i3', '뉴 컨버터블', 'QX30', '파일럿', 'RAV4', '6시리즈', 'T-Roc', '맥시마', 'X6', '뉴 IS', '더 뉴 G70', '미니', 'MKX 2세대', '9-3', '르반떼', 'G35', '익스프레스밴', '트래버스', 'X2', '뉴 E클래스', 'GLE', 'S3', 'E클래스 (W213)', 'C클래스', 'CLA클래스', '4시리즈', 'Z4', '페이톤', 'S클래스', 'A5', '무라노', 'Q3', 'Q7', 'Q5', '체로키(KL)', 'M클래스', 'A클래스', 'A6', 'GLE (V167)', '이쿼녹스', '포커스', 'A7', 'A4', 'A8', 'IS', 'X4', 'SLC클래스', 'Q30', 'B클래스 W246', 'CLK클래스', 'AMG GT', 'V40', '에비에이터 2세대(U611)', 'V클래스', '407', 'E클래스', '208', 'Q8', 'E클래스 (C238)', 'GV70', 'H3', '허슬러', '올뉴 컴패스', '대우버스', '뉴 MKX', 'GLA H247', 'ESCALADE(1~3세대)', 'A3', '올 뉴 SRX', 'SLK클래스', 'E-Series', 'GLS', 'S8', 'X-TYPE', 'XKR', '레이스', 'B클래스', 'GLK클래스', 'EQC', 'SQ5', 'F430', '고스트', '8시리즈', '벤테이가', '스프린터', 'G클래스', 'R8', 'Model X', '솔라라', '서버밴', 'S4', '타운카', '코세어', 'S7', 'QX60', '720S', 'UX', '컨티넨탈 플라잉스퍼', 'TT', '스마트', 'MDX', '다코타', '뉴 컨티넨탈 플라잉스퍼', '뉴 RAV4', '더 뉴 G70 SPORT', 'XT6', 'LS 5세대', 'QX50', '그랜드보이저', 'Q60', 'JX35', '쿠페', '370Z', '포레스터', 'CTS 2세대', '86', 'CL클래스', '올 뉴 FX', 'EX30d', 'PT 크루저', 'HR-V', '크로스파이어', '퀘스트', 'Taycan', 'CT4', '뉴 컨티넨탈 GT', '레전드', 'ix5', '컨티넨탈-GT', 'TTS', 'e-tron', '쥬크', 'QX50 2세대', '뉴 GS', '프리마', 'C5', 'MKX', '드빌', '플라잉스퍼 2세대', '포투 쿠페', '프리몬트', 'A1', '플라잉스퍼 3세대', '인사이트', '레스타', 'CTS-V', 'M45', '그랜드 체로키(WL)', '랜서', '툰드라', '익스피디션', 'SL클래스', 'MKZ', '벤자', '던', 'LC', 'XC70', 'GL클래스', '아웃랜더', 'ESCALADE(5세대)', 'FX35', '레거시', '그란카브리오', '9-5', '포투 카브리오', '아벤타도르', '익스플로러밴', '퍼시피카', '시에라', 'M30d', 'SQ8', 'CX-5', 'H2', '650S', '네비게이터 4세대(U554)', '마치', '206', 'V60', '리지라인', '스파이더', '쿠퍼 S 로드스터', '사바나밴', 'KENBO 600', '캘리버', 'EOS', 'RS Q8', 'RVR', '뉴 FX30d', 'ELECTRIFIED G80', '벤츠', '스위프트', 'XJR', '알토라팡', 'I-PACE', 'SCION', '가야르도', 'QX80', 'CTS 1세대', '아웃백', '리무진', 'DTS', 'V50', '로그', '크로스투어', '프론티어', '뉴 FX35', 'FJ크루저', 'STS', 'Q45', '스테이츠맨', '티아나', '이클립스', 'RX시리즈', '라피드', 'DB9', '기타', '이퀴녹스', 'ESCALADE', '뮬산', '406', 'C70', 'ALL NEW ESCALADE', '우라칸', '매그너스', 'Q2', '듀랑고', '보라', 'SRX', '코롤라', '뱅퀴시 S', '캘리포니아', 'NV', '파이브헌드레드', '모코', 'MX-5', 'ATS-V', 'DB11', '675LT', '트랜짓', '임프레자 WRX', '570S', 'SC', '57', '미라코코아', '커맨더', 'R클래스', '렌서에볼루션', 'GLC', 'QX', 'FF', 'BLS', '62s', 'BS', '툰랜드', '밴', '노부스', 'CK 미니 밴', '소형트럭', 'BH', 'CK 미니 트럭', 'DUEGO', '모델 S', '뉴 CT', '올 뉴 MKZ', '아반떼', '투싼', '쏘나타', '싼타페', '포터', '제네시스', '에쿠스', '스타렉스', '쏠라티', '베라크루즈', '엑센트', '아슬란', '코나', '그랜저', '맥스크루즈', '벨로스터', '마이티', '아이오닉', 'i30', '베뉴', 'i40', '넥쏘', 'e-카운티', '펠리세이드', '투스카니', '베르나', '리베로', '스타리아', '현대버스', '뉴카운티', '아이오닉5', '클릭', '다이너스티', '에어로타운', 'e-에어로타운 (04년~', '테라칸', '프레스토', '카운티', '트라제XG', '유니버스', '트라고', '갤로퍼', '그레이스', '카니발', '스포티지', '오피러스', 'K5', '모닝', 'K3', '레이', 'K7', '스팅어', '쏘렌토', '봉고', '쏘울', '카렌스', '프라이드', '모하비', '포르테', '니로', '스토닉', '셀토스', 'K9', 'K8', '옵티마', '로체', '쎄라토', '라이노', '비스토', '프런티어', '스펙트라', '뉴그랜버드', 'LPG', '디젤', '가솔린', '하이브리드(가솔린)', 'CNG', '전기', '가솔린+LPG', '기타', '하이브리드(디젤)', '하이브리드(LPG)', 'RV', 'SUV', '경차', '준중형', '대형', '중형', '트럭', '승합', '소형', '스포츠카', '특수', '버스']\n"
     ]
    }
   ],
   "source": [
    "col_list = ['car_brand','car_model','fuel','car_type']\n",
    "\n",
    "for col in col_list:\n",
    "    for text in car_df[col].unique():\n",
    "        related_words.append(text)\n",
    "print(related_words)"
   ]
  },
  {
   "cell_type": "code",
   "execution_count": 73,
   "id": "apart-pharmaceutical",
   "metadata": {},
   "outputs": [
    {
     "data": {
      "text/plain": [
       "74"
      ]
     },
     "execution_count": 73,
     "metadata": {},
     "output_type": "execute_result"
    }
   ],
   "source": [
    "related_words.index('Cla')"
   ]
  },
  {
   "cell_type": "code",
   "execution_count": 74,
   "id": "increasing-cigarette",
   "metadata": {},
   "outputs": [
    {
     "data": {
      "text/plain": [
       "'CLA'"
      ]
     },
     "execution_count": 74,
     "metadata": {},
     "output_type": "execute_result"
    }
   ],
   "source": [
    "related_words[74].upper()"
   ]
  },
  {
   "cell_type": "code",
   "execution_count": 75,
   "id": "indian-emperor",
   "metadata": {},
   "outputs": [],
   "source": [
    "for i in range(len(related_words)):\n",
    "    related_words[i] = related_words[i].upper()"
   ]
  },
  {
   "cell_type": "code",
   "execution_count": 46,
   "id": "emotional-american",
   "metadata": {},
   "outputs": [
    {
     "name": "stdout",
     "output_type": "stream",
     "text": [
      "<class 'pandas.core.frame.DataFrame'>\n",
      "RangeIndex: 207889 entries, 0 to 207888\n",
      "Data columns (total 5 columns):\n",
      " #   Column     Non-Null Count   Dtype \n",
      "---  ------     --------------   ----- \n",
      " 0   car_brand  207889 non-null  object\n",
      " 1   car_model  207889 non-null  object\n",
      " 2   comments   207889 non-null  object\n",
      " 3   likes      207889 non-null  int64 \n",
      " 4   related    207889 non-null  int64 \n",
      "dtypes: int64(2), object(3)\n",
      "memory usage: 7.9+ MB\n"
     ]
    }
   ],
   "source": [
    "y_df.info()"
   ]
  },
  {
   "cell_type": "code",
   "execution_count": 47,
   "id": "peripheral-mineral",
   "metadata": {
    "scrolled": true
   },
   "outputs": [
    {
     "name": "stderr",
     "output_type": "stream",
     "text": [
      "  0%|          | 0/710 [00:00<?, ?it/s]/home/ubuntu/anaconda3/envs/python3/lib/python3.6/site-packages/ipykernel_launcher.py:6: SettingWithCopyWarning: \n",
      "A value is trying to be set on a copy of a slice from a DataFrame\n",
      "\n",
      "See the caveats in the documentation: https://pandas.pydata.org/pandas-docs/stable/user_guide/indexing.html#returning-a-view-versus-a-copy\n",
      "  \n",
      " 40%|████      | 285/710 [00:35<00:39, 10.71it/s]/home/ubuntu/anaconda3/envs/python3/lib/python3.6/site-packages/pandas/core/strings.py:2001: UserWarning: This pattern has match groups. To actually get the groups, use str.extract.\n",
      "  return func(self, *args, **kwargs)\n",
      " 92%|█████████▏| 653/710 [01:09<00:04, 12.80it/s]"
     ]
    },
    {
     "name": "stdout",
     "output_type": "stream",
     "text": [
      "e-에어로타운 (04년~\n"
     ]
    },
    {
     "name": "stderr",
     "output_type": "stream",
     "text": [
      "100%|██████████| 710/710 [01:15<00:00,  9.36it/s]\n"
     ]
    }
   ],
   "source": [
    "for word in tqdm(related_words):\n",
    "    word.split(' ')[0].split('(')[0]\n",
    "    try:\n",
    "        related_idx = y_df[y_df['comments'].str.contains(word)].index\n",
    "        for idx in related_idx:\n",
    "            y_df['related'][idx] = 1\n",
    "    except:\n",
    "        print(word)\n"
   ]
  },
  {
   "cell_type": "code",
   "execution_count": 48,
   "id": "infinite-remove",
   "metadata": {},
   "outputs": [
    {
     "data": {
      "text/html": [
       "<div>\n",
       "<style scoped>\n",
       "    .dataframe tbody tr th:only-of-type {\n",
       "        vertical-align: middle;\n",
       "    }\n",
       "\n",
       "    .dataframe tbody tr th {\n",
       "        vertical-align: top;\n",
       "    }\n",
       "\n",
       "    .dataframe thead th {\n",
       "        text-align: right;\n",
       "    }\n",
       "</style>\n",
       "<table border=\"1\" class=\"dataframe\">\n",
       "  <thead>\n",
       "    <tr style=\"text-align: right;\">\n",
       "      <th></th>\n",
       "      <th>car_brand</th>\n",
       "      <th>car_model</th>\n",
       "      <th>comments</th>\n",
       "      <th>likes</th>\n",
       "      <th>related</th>\n",
       "    </tr>\n",
       "  </thead>\n",
       "  <tbody>\n",
       "    <tr>\n",
       "      <th>0</th>\n",
       "      <td>BMW</td>\n",
       "      <td>1시리즈</td>\n",
       "      <td>주제선정 좋아요. 더운 여름 잘 지내세요. 비싼차, 싼차, 슈퍼카, 경차 가리지 않...</td>\n",
       "      <td>3</td>\n",
       "      <td>1</td>\n",
       "    </tr>\n",
       "    <tr>\n",
       "      <th>1</th>\n",
       "      <td>BMW</td>\n",
       "      <td>1시리즈</td>\n",
       "      <td>주차장 시승평 잘봤네요ㅋ 그냥 외관이랑 실내평만 보면 편안할듯ㅋㅋ 매력적인 차네요 ...</td>\n",
       "      <td>3</td>\n",
       "      <td>1</td>\n",
       "    </tr>\n",
       "    <tr>\n",
       "      <th>2</th>\n",
       "      <td>BMW</td>\n",
       "      <td>1시리즈</td>\n",
       "      <td>차 가격도 싸고 디자인도 예쁘고 엄청 좋다</td>\n",
       "      <td>5</td>\n",
       "      <td>1</td>\n",
       "    </tr>\n",
       "    <tr>\n",
       "      <th>3</th>\n",
       "      <td>BMW</td>\n",
       "      <td>1시리즈</td>\n",
       "      <td>좀 끄럽다 하셨는데 G30 5시리즈랑 어느정도 차이가 날까요? ㅎㅎ</td>\n",
       "      <td>2</td>\n",
       "      <td>1</td>\n",
       "    </tr>\n",
       "    <tr>\n",
       "      <th>4</th>\n",
       "      <td>BMW</td>\n",
       "      <td>1시리즈</td>\n",
       "      <td>그나마 전륜으로 바뀌면서 공간이 좀 쓸만해 졌죠. 이전세대 1시리즈는 정말.... ...</td>\n",
       "      <td>2</td>\n",
       "      <td>1</td>\n",
       "    </tr>\n",
       "    <tr>\n",
       "      <th>...</th>\n",
       "      <td>...</td>\n",
       "      <td>...</td>\n",
       "      <td>...</td>\n",
       "      <td>...</td>\n",
       "      <td>...</td>\n",
       "    </tr>\n",
       "    <tr>\n",
       "      <th>207884</th>\n",
       "      <td>혼다</td>\n",
       "      <td>파일럿</td>\n",
       "      <td>파일럿 오너입니다. 패밀리카로는 정말 최고 입니다. 넓은공간, 조용하고 묵직한 주행...</td>\n",
       "      <td>3</td>\n",
       "      <td>1</td>\n",
       "    </tr>\n",
       "    <tr>\n",
       "      <th>207885</th>\n",
       "      <td>혼다</td>\n",
       "      <td>파일럿</td>\n",
       "      <td>제가 아는 현대차 카마스터님과 말투가 너무 비슷하시네요~ 파일럿 최고죠^^ 할인해줬...</td>\n",
       "      <td>2</td>\n",
       "      <td>1</td>\n",
       "    </tr>\n",
       "    <tr>\n",
       "      <th>207886</th>\n",
       "      <td>혼다</td>\n",
       "      <td>파일럿</td>\n",
       "      <td>혼다 변속기 버튼은 헷갈리지않습니다. 직관적입니다. 현대 전자식 변속기가 배워야할 ...</td>\n",
       "      <td>4</td>\n",
       "      <td>1</td>\n",
       "    </tr>\n",
       "    <tr>\n",
       "      <th>207887</th>\n",
       "      <td>혼다</td>\n",
       "      <td>파일럿</td>\n",
       "      <td>이전에 F10 520D 타신서 기억합니다. 그 이후에 F10 520D를 구매해서 타...</td>\n",
       "      <td>2</td>\n",
       "      <td>1</td>\n",
       "    </tr>\n",
       "    <tr>\n",
       "      <th>207888</th>\n",
       "      <td>혼다</td>\n",
       "      <td>파일럿</td>\n",
       "      <td>혼다 파일럿이랑 쉐보레 트래버스 페이스 리프트랑 둘중에 고민입니다. 아기가 셋이라서..</td>\n",
       "      <td>2</td>\n",
       "      <td>1</td>\n",
       "    </tr>\n",
       "  </tbody>\n",
       "</table>\n",
       "<p>122580 rows × 5 columns</p>\n",
       "</div>"
      ],
      "text/plain": [
       "       car_brand car_model                                           comments  \\\n",
       "0            BMW      1시리즈  주제선정 좋아요. 더운 여름 잘 지내세요. 비싼차, 싼차, 슈퍼카, 경차 가리지 않...   \n",
       "1            BMW      1시리즈  주차장 시승평 잘봤네요ㅋ 그냥 외관이랑 실내평만 보면 편안할듯ㅋㅋ 매력적인 차네요 ...   \n",
       "2            BMW      1시리즈                            차 가격도 싸고 디자인도 예쁘고 엄청 좋다   \n",
       "3            BMW      1시리즈              좀 끄럽다 하셨는데 G30 5시리즈랑 어느정도 차이가 날까요? ㅎㅎ   \n",
       "4            BMW      1시리즈  그나마 전륜으로 바뀌면서 공간이 좀 쓸만해 졌죠. 이전세대 1시리즈는 정말.... ...   \n",
       "...          ...       ...                                                ...   \n",
       "207884        혼다       파일럿  파일럿 오너입니다. 패밀리카로는 정말 최고 입니다. 넓은공간, 조용하고 묵직한 주행...   \n",
       "207885        혼다       파일럿  제가 아는 현대차 카마스터님과 말투가 너무 비슷하시네요~ 파일럿 최고죠^^ 할인해줬...   \n",
       "207886        혼다       파일럿  혼다 변속기 버튼은 헷갈리지않습니다. 직관적입니다. 현대 전자식 변속기가 배워야할 ...   \n",
       "207887        혼다       파일럿  이전에 F10 520D 타신서 기억합니다. 그 이후에 F10 520D를 구매해서 타...   \n",
       "207888        혼다       파일럿   혼다 파일럿이랑 쉐보레 트래버스 페이스 리프트랑 둘중에 고민입니다. 아기가 셋이라서..   \n",
       "\n",
       "        likes  related  \n",
       "0           3        1  \n",
       "1           3        1  \n",
       "2           5        1  \n",
       "3           2        1  \n",
       "4           2        1  \n",
       "...       ...      ...  \n",
       "207884      3        1  \n",
       "207885      2        1  \n",
       "207886      4        1  \n",
       "207887      2        1  \n",
       "207888      2        1  \n",
       "\n",
       "[122580 rows x 5 columns]"
      ]
     },
     "execution_count": 48,
     "metadata": {},
     "output_type": "execute_result"
    }
   ],
   "source": [
    "y_df[y_df['related'] == 1]"
   ]
  },
  {
   "cell_type": "code",
   "execution_count": 49,
   "id": "filled-simon",
   "metadata": {},
   "outputs": [
    {
     "data": {
      "text/html": [
       "<div>\n",
       "<style scoped>\n",
       "    .dataframe tbody tr th:only-of-type {\n",
       "        vertical-align: middle;\n",
       "    }\n",
       "\n",
       "    .dataframe tbody tr th {\n",
       "        vertical-align: top;\n",
       "    }\n",
       "\n",
       "    .dataframe thead th {\n",
       "        text-align: right;\n",
       "    }\n",
       "</style>\n",
       "<table border=\"1\" class=\"dataframe\">\n",
       "  <thead>\n",
       "    <tr style=\"text-align: right;\">\n",
       "      <th></th>\n",
       "      <th>car_brand</th>\n",
       "      <th>car_model</th>\n",
       "      <th>comments</th>\n",
       "      <th>likes</th>\n",
       "      <th>related</th>\n",
       "    </tr>\n",
       "  </thead>\n",
       "  <tbody>\n",
       "    <tr>\n",
       "      <th>11</th>\n",
       "      <td>BMW</td>\n",
       "      <td>1시리즈</td>\n",
       "      <td>우파님 영상보고 자동차 유튜브 찍고 있는데 항상 힘이 되어주는 좋은 영상들 감사합니...</td>\n",
       "      <td>22</td>\n",
       "      <td>0</td>\n",
       "    </tr>\n",
       "    <tr>\n",
       "      <th>12</th>\n",
       "      <td>BMW</td>\n",
       "      <td>1시리즈</td>\n",
       "      <td>사고싶다</td>\n",
       "      <td>4</td>\n",
       "      <td>0</td>\n",
       "    </tr>\n",
       "    <tr>\n",
       "      <th>21</th>\n",
       "      <td>BMW</td>\n",
       "      <td>1시리즈</td>\n",
       "      <td>2명타기엔 진짜 엄청 좋은거 같네요</td>\n",
       "      <td>47</td>\n",
       "      <td>0</td>\n",
       "    </tr>\n",
       "    <tr>\n",
       "      <th>22</th>\n",
       "      <td>BMW</td>\n",
       "      <td>1시리즈</td>\n",
       "      <td>형님 존경합니다..ㅎㄷㄷㄷ</td>\n",
       "      <td>4</td>\n",
       "      <td>0</td>\n",
       "    </tr>\n",
       "    <tr>\n",
       "      <th>29</th>\n",
       "      <td>BMW</td>\n",
       "      <td>1시리즈</td>\n",
       "      <td>좋아요~꾹우~하영상 잘 볼게요~</td>\n",
       "      <td>4</td>\n",
       "      <td>0</td>\n",
       "    </tr>\n",
       "    <tr>\n",
       "      <th>...</th>\n",
       "      <td>...</td>\n",
       "      <td>...</td>\n",
       "      <td>...</td>\n",
       "      <td>...</td>\n",
       "      <td>...</td>\n",
       "    </tr>\n",
       "    <tr>\n",
       "      <th>207858</th>\n",
       "      <td>혼다</td>\n",
       "      <td>파일럿</td>\n",
       "      <td>일본차 정말잘만들긴합니다 잔고장도없고</td>\n",
       "      <td>20</td>\n",
       "      <td>0</td>\n",
       "    </tr>\n",
       "    <tr>\n",
       "      <th>207870</th>\n",
       "      <td>혼다</td>\n",
       "      <td>파일럿</td>\n",
       "      <td>차는 좋은데  -,.-</td>\n",
       "      <td>6</td>\n",
       "      <td>0</td>\n",
       "    </tr>\n",
       "    <tr>\n",
       "      <th>207872</th>\n",
       "      <td>혼다</td>\n",
       "      <td>파일럿</td>\n",
       "      <td>8인승이라 가운데 통로가 없네요 그래서 패스.</td>\n",
       "      <td>1</td>\n",
       "      <td>0</td>\n",
       "    </tr>\n",
       "    <tr>\n",
       "      <th>207878</th>\n",
       "      <td>혼다</td>\n",
       "      <td>파일럿</td>\n",
       "      <td>아, , , ,일본차는 좀...아닌듯</td>\n",
       "      <td>3</td>\n",
       "      <td>0</td>\n",
       "    </tr>\n",
       "    <tr>\n",
       "      <th>207879</th>\n",
       "      <td>혼다</td>\n",
       "      <td>파일럿</td>\n",
       "      <td>아니 이시국에...? ;</td>\n",
       "      <td>3</td>\n",
       "      <td>0</td>\n",
       "    </tr>\n",
       "  </tbody>\n",
       "</table>\n",
       "<p>85309 rows × 5 columns</p>\n",
       "</div>"
      ],
      "text/plain": [
       "       car_brand car_model                                           comments  \\\n",
       "11           BMW      1시리즈  우파님 영상보고 자동차 유튜브 찍고 있는데 항상 힘이 되어주는 좋은 영상들 감사합니...   \n",
       "12           BMW      1시리즈                                               사고싶다   \n",
       "21           BMW      1시리즈                                2명타기엔 진짜 엄청 좋은거 같네요   \n",
       "22           BMW      1시리즈                                     형님 존경합니다..ㅎㄷㄷㄷ   \n",
       "29           BMW      1시리즈                                  좋아요~꾹우~하영상 잘 볼게요~   \n",
       "...          ...       ...                                                ...   \n",
       "207858        혼다       파일럿                               일본차 정말잘만들긴합니다 잔고장도없고   \n",
       "207870        혼다       파일럿                                       차는 좋은데  -,.-   \n",
       "207872        혼다       파일럿                          8인승이라 가운데 통로가 없네요 그래서 패스.   \n",
       "207878        혼다       파일럿                               아, , , ,일본차는 좀...아닌듯   \n",
       "207879        혼다       파일럿                                      아니 이시국에...? ;   \n",
       "\n",
       "        likes  related  \n",
       "11         22        0  \n",
       "12          4        0  \n",
       "21         47        0  \n",
       "22          4        0  \n",
       "29          4        0  \n",
       "...       ...      ...  \n",
       "207858     20        0  \n",
       "207870      6        0  \n",
       "207872      1        0  \n",
       "207878      3        0  \n",
       "207879      3        0  \n",
       "\n",
       "[85309 rows x 5 columns]"
      ]
     },
     "execution_count": 49,
     "metadata": {},
     "output_type": "execute_result"
    }
   ],
   "source": [
    "y_df[y_df['related'] == 0]"
   ]
  },
  {
   "cell_type": "markdown",
   "id": "painful-laptop",
   "metadata": {},
   "source": [
    "## unrelated_words 에 있는 것들이 포함되면 다시 0으로 라벨링"
   ]
  },
  {
   "cell_type": "code",
   "execution_count": 54,
   "id": "successful-contact",
   "metadata": {},
   "outputs": [
    {
     "name": "stderr",
     "output_type": "stream",
     "text": [
      "  0%|          | 0/10 [00:00<?, ?it/s]/home/ubuntu/anaconda3/envs/python3/lib/python3.6/site-packages/ipykernel_launcher.py:8: SettingWithCopyWarning: \n",
      "A value is trying to be set on a copy of a slice from a DataFrame\n",
      "\n",
      "See the caveats in the documentation: https://pandas.pydata.org/pandas-docs/stable/user_guide/indexing.html#returning-a-view-versus-a-copy\n",
      "  \n",
      "100%|██████████| 10/10 [00:01<00:00,  8.03it/s]\n"
     ]
    }
   ],
   "source": [
    "unrelated_words = ['한준', '우파', '구독', '진택', '오프닝', '썸네일', '썸넬', '수지', '감독', '편집']\n",
    "\n",
    "for word in tqdm(unrelated_words):\n",
    "    word.split(' ')[0].split('(')[0]\n",
    "    try:\n",
    "        unrelated_idx = y_df[y_df['comments'].str.contains(word)].index\n",
    "        for idx in unrelated_idx:\n",
    "            y_df['related'][idx] = 0\n",
    "    except:\n",
    "        print(word)\n"
   ]
  },
  {
   "cell_type": "code",
   "execution_count": 55,
   "id": "imperial-compromise",
   "metadata": {
    "scrolled": true
   },
   "outputs": [
    {
     "data": {
      "text/plain": [
       "<AxesSubplot:>"
      ]
     },
     "execution_count": 55,
     "metadata": {},
     "output_type": "execute_result"
    },
    {
     "data": {
      "image/png": "[encoded data removed]",
      "text/plain": [
       "<Figure size 432x288 with 1 Axes>"
      ]
     },
     "metadata": {
      "needs_background": "light"
     },
     "output_type": "display_data"
    }
   ],
   "source": [
    "y_df['related'].value_counts().plot(kind = 'bar')"
   ]
  },
  {
   "cell_type": "markdown",
   "id": "hollywood-reservoir",
   "metadata": {},
   "source": [
    "\n",
    "### 4. 저장 후 직접 데이터 확인해서 필터링 하기 ( 0과 1비율을 5:5로 맞추어서 준비하기)"
   ]
  },
  {
   "cell_type": "code",
   "execution_count": 56,
   "id": "enormous-arizona",
   "metadata": {},
   "outputs": [],
   "source": [
    "y_df.to_csv('labeled_youtube_0605.csv', index = False)"
   ]
  },
  {
   "cell_type": "markdown",
   "id": "adjusted-muslim",
   "metadata": {},
   "source": [
    "> 데이터 나쁘지 않은 수준이지만 확실히 재처리는 필요해보임"
   ]
  },
  {
   "cell_type": "markdown",
   "id": "pleasant-peace",
   "metadata": {},
   "source": [
    "## 리뷰데이터 확인해보기"
   ]
  },
  {
   "cell_type": "code",
   "execution_count": 66,
   "id": "sublime-middle",
   "metadata": {},
   "outputs": [
    {
     "data": {
      "text/html": [
       "<div>\n",
       "<style scoped>\n",
       "    .dataframe tbody tr th:only-of-type {\n",
       "        vertical-align: middle;\n",
       "    }\n",
       "\n",
       "    .dataframe tbody tr th {\n",
       "        vertical-align: top;\n",
       "    }\n",
       "\n",
       "    .dataframe thead th {\n",
       "        text-align: right;\n",
       "    }\n",
       "</style>\n",
       "<table border=\"1\" class=\"dataframe\">\n",
       "  <thead>\n",
       "    <tr style=\"text-align: right;\">\n",
       "      <th></th>\n",
       "      <th>car_brand</th>\n",
       "      <th>car_model</th>\n",
       "      <th>comments</th>\n",
       "      <th>likes</th>\n",
       "      <th>related</th>\n",
       "    </tr>\n",
       "  </thead>\n",
       "  <tbody>\n",
       "    <tr>\n",
       "      <th>57542</th>\n",
       "      <td>랜드로버</td>\n",
       "      <td>디스커버리 스포츠</td>\n",
       "      <td>🥰🥰🥰👍👍👍👍👍👍</td>\n",
       "      <td>1</td>\n",
       "      <td>0</td>\n",
       "    </tr>\n",
       "    <tr>\n",
       "      <th>51055</th>\n",
       "      <td>닛산</td>\n",
       "      <td>타이탄</td>\n",
       "      <td>🥰😍🙌</td>\n",
       "      <td>2</td>\n",
       "      <td>0</td>\n",
       "    </tr>\n",
       "    <tr>\n",
       "      <th>189700</th>\n",
       "      <td>현대</td>\n",
       "      <td>아이오닉5</td>\n",
       "      <td>🤩파🤩다🤩사🤩워🤩리🤩 쳐보세요 유튜브에 하는법도 간단하고 집에서 할 수 있고 코로나...</td>\n",
       "      <td>1</td>\n",
       "      <td>0</td>\n",
       "    </tr>\n",
       "    <tr>\n",
       "      <th>166239</th>\n",
       "      <td>한국GM</td>\n",
       "      <td>트럭(4.5톤이상)</td>\n",
       "      <td>🤩물론 차는탐나는차인데~우리나라도로상황이나주차공간생각할때ᆢ스트레스받고,짜증날 두통차...</td>\n",
       "      <td>1</td>\n",
       "      <td>1</td>\n",
       "    </tr>\n",
       "    <tr>\n",
       "      <th>191956</th>\n",
       "      <td>현대</td>\n",
       "      <td>엘란트라</td>\n",
       "      <td>🤣</td>\n",
       "      <td>1</td>\n",
       "      <td>0</td>\n",
       "    </tr>\n",
       "    <tr>\n",
       "      <th>182161</th>\n",
       "      <td>현대</td>\n",
       "      <td>쏘나타</td>\n",
       "      <td>🤢껍데기는 빤지르하게 진화하는데 속은 말썽많은 '세타2'달았겠네 😵💩~</td>\n",
       "      <td>1</td>\n",
       "      <td>0</td>\n",
       "    </tr>\n",
       "    <tr>\n",
       "      <th>136997</th>\n",
       "      <td>포르쉐</td>\n",
       "      <td>타이칸</td>\n",
       "      <td>🤞🤗👌 PORCHE...DASHINGLY PERFECT.</td>\n",
       "      <td>2</td>\n",
       "      <td>1</td>\n",
       "    </tr>\n",
       "    <tr>\n",
       "      <th>46241</th>\n",
       "      <td>기타</td>\n",
       "      <td>굴삭기</td>\n",
       "      <td>🤗</td>\n",
       "      <td>1</td>\n",
       "      <td>0</td>\n",
       "    </tr>\n",
       "    <tr>\n",
       "      <th>92448</th>\n",
       "      <td>벤츠</td>\n",
       "      <td>트럭</td>\n",
       "      <td>🤔🤔👍👍👍</td>\n",
       "      <td>3</td>\n",
       "      <td>0</td>\n",
       "    </tr>\n",
       "    <tr>\n",
       "      <th>96188</th>\n",
       "      <td>볼보</td>\n",
       "      <td>XC60</td>\n",
       "      <td>🤔 아... 요즘 티맵 경로 추천 쓰레기 같은데....</td>\n",
       "      <td>2</td>\n",
       "      <td>0</td>\n",
       "    </tr>\n",
       "    <tr>\n",
       "      <th>194949</th>\n",
       "      <td>현대</td>\n",
       "      <td>캐스퍼</td>\n",
       "      <td>🤔</td>\n",
       "      <td>1</td>\n",
       "      <td>0</td>\n",
       "    </tr>\n",
       "    <tr>\n",
       "      <th>201198</th>\n",
       "      <td>현대</td>\n",
       "      <td>티뷰론</td>\n",
       "      <td>🛸</td>\n",
       "      <td>2</td>\n",
       "      <td>0</td>\n",
       "    </tr>\n",
       "    <tr>\n",
       "      <th>207654</th>\n",
       "      <td>혼다</td>\n",
       "      <td>크로스투어</td>\n",
       "      <td>🚣‍♂️혼다 ㅋ 크로스 SUV 라 어떤차일까 난 CRV가 좋터라 ㅎ</td>\n",
       "      <td>2</td>\n",
       "      <td>1</td>\n",
       "    </tr>\n",
       "    <tr>\n",
       "      <th>80588</th>\n",
       "      <td>벤츠</td>\n",
       "      <td>CL-클래스</td>\n",
       "      <td>🚘🚘🚘👏👏👏👏👍</td>\n",
       "      <td>3</td>\n",
       "      <td>0</td>\n",
       "    </tr>\n",
       "    <tr>\n",
       "      <th>44715</th>\n",
       "      <td>기아</td>\n",
       "      <td>크레도스</td>\n",
       "      <td>🚘🚘🚘👍</td>\n",
       "      <td>2</td>\n",
       "      <td>0</td>\n",
       "    </tr>\n",
       "    <tr>\n",
       "      <th>3543</th>\n",
       "      <td>BMW</td>\n",
       "      <td>5시리즈</td>\n",
       "      <td>🚘😎👍</td>\n",
       "      <td>1</td>\n",
       "      <td>0</td>\n",
       "    </tr>\n",
       "    <tr>\n",
       "      <th>155478</th>\n",
       "      <td>한국GM</td>\n",
       "      <td>쉐보레 볼트</td>\n",
       "      <td>🚗🚗🧚‍♀️🐸🐸광고모델💚💚임금인상💚💚💚💚💚💚💚💚강츄❤️❤️열일</td>\n",
       "      <td>2</td>\n",
       "      <td>0</td>\n",
       "    </tr>\n",
       "    <tr>\n",
       "      <th>190514</th>\n",
       "      <td>현대</td>\n",
       "      <td>에쿠스</td>\n",
       "      <td>🚗 SK에너지주유소 스태프 8,350원 / 주당 법정 근로시간 52시간을 기준으로 ...</td>\n",
       "      <td>45</td>\n",
       "      <td>1</td>\n",
       "    </tr>\n",
       "    <tr>\n",
       "      <th>19110</th>\n",
       "      <td>기아</td>\n",
       "      <td>K8</td>\n",
       "      <td>🙏🏻</td>\n",
       "      <td>1</td>\n",
       "      <td>0</td>\n",
       "    </tr>\n",
       "    <tr>\n",
       "      <th>55497</th>\n",
       "      <td>도요타</td>\n",
       "      <td>수프라</td>\n",
       "      <td>😳</td>\n",
       "      <td>1</td>\n",
       "      <td>0</td>\n",
       "    </tr>\n",
       "  </tbody>\n",
       "</table>\n",
       "</div>"
      ],
      "text/plain": [
       "       car_brand   car_model  \\\n",
       "57542       랜드로버   디스커버리 스포츠   \n",
       "51055         닛산         타이탄   \n",
       "189700        현대       아이오닉5   \n",
       "166239      한국GM  트럭(4.5톤이상)   \n",
       "191956        현대        엘란트라   \n",
       "182161        현대         쏘나타   \n",
       "136997       포르쉐         타이칸   \n",
       "46241         기타         굴삭기   \n",
       "92448         벤츠          트럭   \n",
       "96188         볼보        XC60   \n",
       "194949        현대         캐스퍼   \n",
       "201198        현대         티뷰론   \n",
       "207654        혼다       크로스투어   \n",
       "80588         벤츠      CL-클래스   \n",
       "44715         기아        크레도스   \n",
       "3543         BMW        5시리즈   \n",
       "155478      한국GM      쉐보레 볼트   \n",
       "190514        현대         에쿠스   \n",
       "19110         기아          K8   \n",
       "55497        도요타         수프라   \n",
       "\n",
       "                                                 comments  likes  related  \n",
       "57542                                           🥰🥰🥰👍👍👍👍👍👍      1        0  \n",
       "51055                                                 🥰😍🙌      2        0  \n",
       "189700  🤩파🤩다🤩사🤩워🤩리🤩 쳐보세요 유튜브에 하는법도 간단하고 집에서 할 수 있고 코로나...      1        0  \n",
       "166239  🤩물론 차는탐나는차인데~우리나라도로상황이나주차공간생각할때ᆢ스트레스받고,짜증날 두통차...      1        1  \n",
       "191956                                                  🤣      1        0  \n",
       "182161            🤢껍데기는 빤지르하게 진화하는데 속은 말썽많은 '세타2'달았겠네 😵💩~      1        0  \n",
       "136997                    🤞🤗👌 PORCHE...DASHINGLY PERFECT.      2        1  \n",
       "46241                                                   🤗      1        0  \n",
       "92448                                               🤔🤔👍👍👍      3        0  \n",
       "96188                      🤔 아... 요즘 티맵 경로 추천 쓰레기 같은데....      2        0  \n",
       "194949                                                  🤔      1        0  \n",
       "201198                                                  🛸      2        0  \n",
       "207654              🚣‍♂️혼다 ㅋ 크로스 SUV 라 어떤차일까 난 CRV가 좋터라 ㅎ      2        1  \n",
       "80588                                            🚘🚘🚘👏👏👏👏👍      3        0  \n",
       "44715                                                🚘🚘🚘👍      2        0  \n",
       "3543                                                  🚘😎👍      1        0  \n",
       "155478                 🚗🚗🧚‍♀️🐸🐸광고모델💚💚임금인상💚💚💚💚💚💚💚💚강츄❤️❤️열일      2        0  \n",
       "190514  🚗 SK에너지주유소 스태프 8,350원 / 주당 법정 근로시간 52시간을 기준으로 ...     45        1  \n",
       "19110                                                  🙏🏻      1        0  \n",
       "55497                                                   😳      1        0  "
      ]
     },
     "execution_count": 66,
     "metadata": {},
     "output_type": "execute_result"
    }
   ],
   "source": [
    "y_df.sort_values(by=['comments'],ascending=False).head(20)"
   ]
  },
  {
   "cell_type": "code",
   "execution_count": 61,
   "id": "contemporary-emphasis",
   "metadata": {},
   "outputs": [
    {
     "data": {
      "text/html": [
       "<div>\n",
       "<style scoped>\n",
       "    .dataframe tbody tr th:only-of-type {\n",
       "        vertical-align: middle;\n",
       "    }\n",
       "\n",
       "    .dataframe tbody tr th {\n",
       "        vertical-align: top;\n",
       "    }\n",
       "\n",
       "    .dataframe thead th {\n",
       "        text-align: right;\n",
       "    }\n",
       "</style>\n",
       "<table border=\"1\" class=\"dataframe\">\n",
       "  <thead>\n",
       "    <tr style=\"text-align: right;\">\n",
       "      <th></th>\n",
       "      <th>car_brand</th>\n",
       "      <th>car_model</th>\n",
       "      <th>comments</th>\n",
       "      <th>likes</th>\n",
       "      <th>related</th>\n",
       "    </tr>\n",
       "  </thead>\n",
       "  <tbody>\n",
       "  </tbody>\n",
       "</table>\n",
       "</div>"
      ],
      "text/plain": [
       "Empty DataFrame\n",
       "Columns: [car_brand, car_model, comments, likes, related]\n",
       "Index: []"
      ]
     },
     "execution_count": 61,
     "metadata": {},
     "output_type": "execute_result"
    }
   ],
   "source": [
    "y_df[y_df['comments'] == None]"
   ]
  },
  {
   "cell_type": "code",
   "execution_count": 67,
   "id": "judicial-measure",
   "metadata": {},
   "outputs": [
    {
     "data": {
      "text/plain": [
       "'🚗 SK에너지주유소 스태프 8,350원 / 주당 법정 근로시간 52시간을 기준으로 산출한 금액입니다. (참고: 근로기준법, 19.10.2 알바천국 기준)🚕 자동차를 취득할때 발생하는 보험료, 취득세 등은 제외한 금액입니다.🚙 중고 자동차의 가격은 ‘엔카’를 참조하였습니다.🚌 비판은 감사하게 받아들이겠습니다. 하지만 이유없는 악플과 욕설 등은 예고없이 차단합니다. 이해부탁합니다.🚓 개인적인 견해의 자동차에 관한 이야기를 다룬 채널입니다. 의견은 여러분들과 다를 수 있으며 저의 안내가 100% 정확한 정보를 제공하지 못합니다.🚑 자동차를 판매하거나 브로커 역할은 하지 않습니다.'"
      ]
     },
     "execution_count": 67,
     "metadata": {},
     "output_type": "execute_result"
    }
   ],
   "source": [
    "y_df['comments'][190514]"
   ]
  },
  {
   "cell_type": "markdown",
   "id": "representative-finance",
   "metadata": {},
   "source": [
    "## 전처리\n",
    "### re정규식\n",
    "1. 영어(대문자) 남김\n",
    "2. 한글 남김\n",
    "3. .,?! 남기기"
   ]
  },
  {
   "cell_type": "markdown",
   "id": "numeric-corporation",
   "metadata": {},
   "source": [
    "## 관련도 분류 모델 돌려보기"
   ]
  },
  {
   "cell_type": "code",
   "execution_count": 105,
   "id": "built-productivity",
   "metadata": {
    "scrolled": true
   },
   "outputs": [],
   "source": [
    "import pandas as pd\n",
    "from konlpy.tag import Hannanum\n",
    "from hanspell import spell_checker\n",
    "import re"
   ]
  },
  {
   "cell_type": "code",
   "execution_count": 110,
   "id": "ceramic-auction",
   "metadata": {},
   "outputs": [],
   "source": [
    "df = pd.read_csv('emotion_labeled_youtube_0607.csv', lineterminator='\\n')"
   ]
  },
  {
   "cell_type": "code",
   "execution_count": 114,
   "id": "round-tissue",
   "metadata": {},
   "outputs": [
    {
     "data": {
      "text/html": [
       "<div>\n",
       "<style scoped>\n",
       "    .dataframe tbody tr th:only-of-type {\n",
       "        vertical-align: middle;\n",
       "    }\n",
       "\n",
       "    .dataframe tbody tr th {\n",
       "        vertical-align: top;\n",
       "    }\n",
       "\n",
       "    .dataframe thead th {\n",
       "        text-align: right;\n",
       "    }\n",
       "</style>\n",
       "<table border=\"1\" class=\"dataframe\">\n",
       "  <thead>\n",
       "    <tr style=\"text-align: right;\">\n",
       "      <th></th>\n",
       "      <th>Unnamed: 0</th>\n",
       "      <th>index</th>\n",
       "      <th>car_brand</th>\n",
       "      <th>car_model</th>\n",
       "      <th>comments</th>\n",
       "      <th>likes</th>\n",
       "      <th>related</th>\n",
       "      <th>emotion</th>\n",
       "    </tr>\n",
       "  </thead>\n",
       "  <tbody>\n",
       "    <tr>\n",
       "      <th>0</th>\n",
       "      <td>0</td>\n",
       "      <td>0</td>\n",
       "      <td>BMW</td>\n",
       "      <td>1시리즈</td>\n",
       "      <td>주제선정 좋아요. 더운 여름 잘 지내세요. 비싼차, 싼차, 슈퍼카, 경차 가리지 않...</td>\n",
       "      <td>3</td>\n",
       "      <td>1</td>\n",
       "      <td>0</td>\n",
       "    </tr>\n",
       "    <tr>\n",
       "      <th>1</th>\n",
       "      <td>1</td>\n",
       "      <td>1</td>\n",
       "      <td>BMW</td>\n",
       "      <td>1시리즈</td>\n",
       "      <td>주차장 시승평 잘봤네요ㅋ 그냥 외관이랑 실내평만 보면 편안할듯ㅋㅋ 매력적인 차네요 ...</td>\n",
       "      <td>3</td>\n",
       "      <td>1</td>\n",
       "      <td>0</td>\n",
       "    </tr>\n",
       "    <tr>\n",
       "      <th>2</th>\n",
       "      <td>2</td>\n",
       "      <td>2</td>\n",
       "      <td>BMW</td>\n",
       "      <td>1시리즈</td>\n",
       "      <td>차 가격도 싸고 디자인도 예쁘고 엄청 좋다</td>\n",
       "      <td>5</td>\n",
       "      <td>1</td>\n",
       "      <td>0</td>\n",
       "    </tr>\n",
       "    <tr>\n",
       "      <th>3</th>\n",
       "      <td>3</td>\n",
       "      <td>3</td>\n",
       "      <td>BMW</td>\n",
       "      <td>1시리즈</td>\n",
       "      <td>좀 끄럽다 하셨는데 G30 5시리즈랑 어느정도 차이가 날까요? ㅎㅎ</td>\n",
       "      <td>2</td>\n",
       "      <td>1</td>\n",
       "      <td>0</td>\n",
       "    </tr>\n",
       "    <tr>\n",
       "      <th>4</th>\n",
       "      <td>4</td>\n",
       "      <td>4</td>\n",
       "      <td>BMW</td>\n",
       "      <td>1시리즈</td>\n",
       "      <td>그나마 전륜으로 바뀌면서 공간이 좀 쓸만해 졌죠. 이전세대 1시리즈는 정말.... ...</td>\n",
       "      <td>2</td>\n",
       "      <td>1</td>\n",
       "      <td>1</td>\n",
       "    </tr>\n",
       "    <tr>\n",
       "      <th>...</th>\n",
       "      <td>...</td>\n",
       "      <td>...</td>\n",
       "      <td>...</td>\n",
       "      <td>...</td>\n",
       "      <td>...</td>\n",
       "      <td>...</td>\n",
       "      <td>...</td>\n",
       "      <td>...</td>\n",
       "    </tr>\n",
       "    <tr>\n",
       "      <th>120483</th>\n",
       "      <td>120483</td>\n",
       "      <td>207884</td>\n",
       "      <td>혼다</td>\n",
       "      <td>파일럿</td>\n",
       "      <td>파일럿 오너입니다. 패밀리카로는 정말 최고 입니다. 넓은공간, 조용하고 묵직한 주행...</td>\n",
       "      <td>3</td>\n",
       "      <td>1</td>\n",
       "      <td>0</td>\n",
       "    </tr>\n",
       "    <tr>\n",
       "      <th>120484</th>\n",
       "      <td>120484</td>\n",
       "      <td>207885</td>\n",
       "      <td>혼다</td>\n",
       "      <td>파일럿</td>\n",
       "      <td>제가 아는 현대차 카마스터님과 말투가 너무 비슷하시네요~ 파일럿 최고죠^^ 할인해줬...</td>\n",
       "      <td>2</td>\n",
       "      <td>1</td>\n",
       "      <td>1</td>\n",
       "    </tr>\n",
       "    <tr>\n",
       "      <th>120485</th>\n",
       "      <td>120485</td>\n",
       "      <td>207886</td>\n",
       "      <td>혼다</td>\n",
       "      <td>파일럿</td>\n",
       "      <td>혼다 변속기 버튼은 헷갈리지않습니다. 직관적입니다. 현대 전자식 변속기가 배워야할 ...</td>\n",
       "      <td>4</td>\n",
       "      <td>1</td>\n",
       "      <td>0</td>\n",
       "    </tr>\n",
       "    <tr>\n",
       "      <th>120486</th>\n",
       "      <td>120486</td>\n",
       "      <td>207887</td>\n",
       "      <td>혼다</td>\n",
       "      <td>파일럿</td>\n",
       "      <td>이전에 F10 520D 타신서 기억합니다. 그 이후에 F10 520D를 구매해서 타...</td>\n",
       "      <td>2</td>\n",
       "      <td>1</td>\n",
       "      <td>0</td>\n",
       "    </tr>\n",
       "    <tr>\n",
       "      <th>120487</th>\n",
       "      <td>120487</td>\n",
       "      <td>207888</td>\n",
       "      <td>혼다</td>\n",
       "      <td>파일럿</td>\n",
       "      <td>혼다 파일럿이랑 쉐보레 트래버스 페이스 리프트랑 둘중에 고민입니다. 아기가 셋이라서..</td>\n",
       "      <td>2</td>\n",
       "      <td>1</td>\n",
       "      <td>0</td>\n",
       "    </tr>\n",
       "  </tbody>\n",
       "</table>\n",
       "<p>120488 rows × 8 columns</p>\n",
       "</div>"
      ],
      "text/plain": [
       "        Unnamed: 0   index car_brand car_model  \\\n",
       "0                0       0       BMW      1시리즈   \n",
       "1                1       1       BMW      1시리즈   \n",
       "2                2       2       BMW      1시리즈   \n",
       "3                3       3       BMW      1시리즈   \n",
       "4                4       4       BMW      1시리즈   \n",
       "...            ...     ...       ...       ...   \n",
       "120483      120483  207884        혼다       파일럿   \n",
       "120484      120484  207885        혼다       파일럿   \n",
       "120485      120485  207886        혼다       파일럿   \n",
       "120486      120486  207887        혼다       파일럿   \n",
       "120487      120487  207888        혼다       파일럿   \n",
       "\n",
       "                                                 comments  likes  related  \\\n",
       "0       주제선정 좋아요. 더운 여름 잘 지내세요. 비싼차, 싼차, 슈퍼카, 경차 가리지 않...      3        1   \n",
       "1       주차장 시승평 잘봤네요ㅋ 그냥 외관이랑 실내평만 보면 편안할듯ㅋㅋ 매력적인 차네요 ...      3        1   \n",
       "2                                 차 가격도 싸고 디자인도 예쁘고 엄청 좋다      5        1   \n",
       "3                   좀 끄럽다 하셨는데 G30 5시리즈랑 어느정도 차이가 날까요? ㅎㅎ      2        1   \n",
       "4       그나마 전륜으로 바뀌면서 공간이 좀 쓸만해 졌죠. 이전세대 1시리즈는 정말.... ...      2        1   \n",
       "...                                                   ...    ...      ...   \n",
       "120483  파일럿 오너입니다. 패밀리카로는 정말 최고 입니다. 넓은공간, 조용하고 묵직한 주행...      3        1   \n",
       "120484  제가 아는 현대차 카마스터님과 말투가 너무 비슷하시네요~ 파일럿 최고죠^^ 할인해줬...      2        1   \n",
       "120485  혼다 변속기 버튼은 헷갈리지않습니다. 직관적입니다. 현대 전자식 변속기가 배워야할 ...      4        1   \n",
       "120486  이전에 F10 520D 타신서 기억합니다. 그 이후에 F10 520D를 구매해서 타...      2        1   \n",
       "120487   혼다 파일럿이랑 쉐보레 트래버스 페이스 리프트랑 둘중에 고민입니다. 아기가 셋이라서..      2        1   \n",
       "\n",
       "        emotion  \n",
       "0             0  \n",
       "1             0  \n",
       "2             0  \n",
       "3             0  \n",
       "4             1  \n",
       "...         ...  \n",
       "120483        0  \n",
       "120484        1  \n",
       "120485        0  \n",
       "120486        0  \n",
       "120487        0  \n",
       "\n",
       "[120488 rows x 8 columns]"
      ]
     },
     "execution_count": 114,
     "metadata": {},
     "output_type": "execute_result"
    }
   ],
   "source": [
    "df"
   ]
  },
  {
   "cell_type": "code",
   "execution_count": 116,
   "id": "84876593",
   "metadata": {},
   "outputs": [],
   "source": [
    "df = df[['car_brand','car_model','comments','likes','related','emotion']]"
   ]
  },
  {
   "cell_type": "code",
   "execution_count": 117,
   "id": "demographic-document",
   "metadata": {},
   "outputs": [
    {
     "data": {
      "text/html": [
       "<div>\n",
       "<style scoped>\n",
       "    .dataframe tbody tr th:only-of-type {\n",
       "        vertical-align: middle;\n",
       "    }\n",
       "\n",
       "    .dataframe tbody tr th {\n",
       "        vertical-align: top;\n",
       "    }\n",
       "\n",
       "    .dataframe thead th {\n",
       "        text-align: right;\n",
       "    }\n",
       "</style>\n",
       "<table border=\"1\" class=\"dataframe\">\n",
       "  <thead>\n",
       "    <tr style=\"text-align: right;\">\n",
       "      <th></th>\n",
       "      <th>car_brand</th>\n",
       "      <th>car_model</th>\n",
       "      <th>comments</th>\n",
       "      <th>likes</th>\n",
       "      <th>related</th>\n",
       "      <th>emotion</th>\n",
       "    </tr>\n",
       "  </thead>\n",
       "  <tbody>\n",
       "    <tr>\n",
       "      <th>0</th>\n",
       "      <td>BMW</td>\n",
       "      <td>1시리즈</td>\n",
       "      <td>주제선정 좋아요. 더운 여름 잘 지내세요. 비싼차, 싼차, 슈퍼카, 경차 가리지 않...</td>\n",
       "      <td>3</td>\n",
       "      <td>1</td>\n",
       "      <td>0</td>\n",
       "    </tr>\n",
       "    <tr>\n",
       "      <th>1</th>\n",
       "      <td>BMW</td>\n",
       "      <td>1시리즈</td>\n",
       "      <td>주차장 시승평 잘봤네요ㅋ 그냥 외관이랑 실내평만 보면 편안할듯ㅋㅋ 매력적인 차네요 ...</td>\n",
       "      <td>3</td>\n",
       "      <td>1</td>\n",
       "      <td>0</td>\n",
       "    </tr>\n",
       "    <tr>\n",
       "      <th>2</th>\n",
       "      <td>BMW</td>\n",
       "      <td>1시리즈</td>\n",
       "      <td>차 가격도 싸고 디자인도 예쁘고 엄청 좋다</td>\n",
       "      <td>5</td>\n",
       "      <td>1</td>\n",
       "      <td>0</td>\n",
       "    </tr>\n",
       "    <tr>\n",
       "      <th>3</th>\n",
       "      <td>BMW</td>\n",
       "      <td>1시리즈</td>\n",
       "      <td>좀 끄럽다 하셨는데 G30 5시리즈랑 어느정도 차이가 날까요? ㅎㅎ</td>\n",
       "      <td>2</td>\n",
       "      <td>1</td>\n",
       "      <td>0</td>\n",
       "    </tr>\n",
       "    <tr>\n",
       "      <th>4</th>\n",
       "      <td>BMW</td>\n",
       "      <td>1시리즈</td>\n",
       "      <td>그나마 전륜으로 바뀌면서 공간이 좀 쓸만해 졌죠. 이전세대 1시리즈는 정말.... ...</td>\n",
       "      <td>2</td>\n",
       "      <td>1</td>\n",
       "      <td>1</td>\n",
       "    </tr>\n",
       "    <tr>\n",
       "      <th>...</th>\n",
       "      <td>...</td>\n",
       "      <td>...</td>\n",
       "      <td>...</td>\n",
       "      <td>...</td>\n",
       "      <td>...</td>\n",
       "      <td>...</td>\n",
       "    </tr>\n",
       "    <tr>\n",
       "      <th>120483</th>\n",
       "      <td>혼다</td>\n",
       "      <td>파일럿</td>\n",
       "      <td>파일럿 오너입니다. 패밀리카로는 정말 최고 입니다. 넓은공간, 조용하고 묵직한 주행...</td>\n",
       "      <td>3</td>\n",
       "      <td>1</td>\n",
       "      <td>0</td>\n",
       "    </tr>\n",
       "    <tr>\n",
       "      <th>120484</th>\n",
       "      <td>혼다</td>\n",
       "      <td>파일럿</td>\n",
       "      <td>제가 아는 현대차 카마스터님과 말투가 너무 비슷하시네요~ 파일럿 최고죠^^ 할인해줬...</td>\n",
       "      <td>2</td>\n",
       "      <td>1</td>\n",
       "      <td>1</td>\n",
       "    </tr>\n",
       "    <tr>\n",
       "      <th>120485</th>\n",
       "      <td>혼다</td>\n",
       "      <td>파일럿</td>\n",
       "      <td>혼다 변속기 버튼은 헷갈리지않습니다. 직관적입니다. 현대 전자식 변속기가 배워야할 ...</td>\n",
       "      <td>4</td>\n",
       "      <td>1</td>\n",
       "      <td>0</td>\n",
       "    </tr>\n",
       "    <tr>\n",
       "      <th>120486</th>\n",
       "      <td>혼다</td>\n",
       "      <td>파일럿</td>\n",
       "      <td>이전에 F10 520D 타신서 기억합니다. 그 이후에 F10 520D를 구매해서 타...</td>\n",
       "      <td>2</td>\n",
       "      <td>1</td>\n",
       "      <td>0</td>\n",
       "    </tr>\n",
       "    <tr>\n",
       "      <th>120487</th>\n",
       "      <td>혼다</td>\n",
       "      <td>파일럿</td>\n",
       "      <td>혼다 파일럿이랑 쉐보레 트래버스 페이스 리프트랑 둘중에 고민입니다. 아기가 셋이라서..</td>\n",
       "      <td>2</td>\n",
       "      <td>1</td>\n",
       "      <td>0</td>\n",
       "    </tr>\n",
       "  </tbody>\n",
       "</table>\n",
       "<p>120488 rows × 6 columns</p>\n",
       "</div>"
      ],
      "text/plain": [
       "       car_brand car_model                                           comments  \\\n",
       "0            BMW      1시리즈  주제선정 좋아요. 더운 여름 잘 지내세요. 비싼차, 싼차, 슈퍼카, 경차 가리지 않...   \n",
       "1            BMW      1시리즈  주차장 시승평 잘봤네요ㅋ 그냥 외관이랑 실내평만 보면 편안할듯ㅋㅋ 매력적인 차네요 ...   \n",
       "2            BMW      1시리즈                            차 가격도 싸고 디자인도 예쁘고 엄청 좋다   \n",
       "3            BMW      1시리즈              좀 끄럽다 하셨는데 G30 5시리즈랑 어느정도 차이가 날까요? ㅎㅎ   \n",
       "4            BMW      1시리즈  그나마 전륜으로 바뀌면서 공간이 좀 쓸만해 졌죠. 이전세대 1시리즈는 정말.... ...   \n",
       "...          ...       ...                                                ...   \n",
       "120483        혼다       파일럿  파일럿 오너입니다. 패밀리카로는 정말 최고 입니다. 넓은공간, 조용하고 묵직한 주행...   \n",
       "120484        혼다       파일럿  제가 아는 현대차 카마스터님과 말투가 너무 비슷하시네요~ 파일럿 최고죠^^ 할인해줬...   \n",
       "120485        혼다       파일럿  혼다 변속기 버튼은 헷갈리지않습니다. 직관적입니다. 현대 전자식 변속기가 배워야할 ...   \n",
       "120486        혼다       파일럿  이전에 F10 520D 타신서 기억합니다. 그 이후에 F10 520D를 구매해서 타...   \n",
       "120487        혼다       파일럿   혼다 파일럿이랑 쉐보레 트래버스 페이스 리프트랑 둘중에 고민입니다. 아기가 셋이라서..   \n",
       "\n",
       "        likes  related  emotion  \n",
       "0           3        1        0  \n",
       "1           3        1        0  \n",
       "2           5        1        0  \n",
       "3           2        1        0  \n",
       "4           2        1        1  \n",
       "...       ...      ...      ...  \n",
       "120483      3        1        0  \n",
       "120484      2        1        1  \n",
       "120485      4        1        0  \n",
       "120486      2        1        0  \n",
       "120487      2        1        0  \n",
       "\n",
       "[120488 rows x 6 columns]"
      ]
     },
     "execution_count": 117,
     "metadata": {},
     "output_type": "execute_result"
    }
   ],
   "source": [
    "df"
   ]
  },
  {
   "cell_type": "markdown",
   "id": "modified-brand",
   "metadata": {},
   "source": [
    "# 0 : 긍정  1: 부정  -1: 중립"
   ]
  },
  {
   "cell_type": "code",
   "execution_count": 118,
   "id": "inner-vitamin",
   "metadata": {},
   "outputs": [
    {
     "data": {
      "text/plain": [
       "<AxesSubplot:>"
      ]
     },
     "execution_count": 118,
     "metadata": {},
     "output_type": "execute_result"
    },
    {
     "data": {
      "image/png": "[encoded data removed]",
      "text/plain": [
       "<Figure size 432x288 with 1 Axes>"
      ]
     },
     "metadata": {
      "needs_background": "light"
     },
     "output_type": "display_data"
    }
   ],
   "source": [
    "df['emotion'].value_counts().plot(kind = 'bar')"
   ]
  },
  {
   "cell_type": "code",
   "execution_count": null,
   "id": "indonesian-builder",
   "metadata": {},
   "outputs": [],
   "source": []
  },
  {
   "cell_type": "code",
   "execution_count": 143,
   "id": "accessory-friend",
   "metadata": {},
   "outputs": [],
   "source": [
    "def preprocessing(text):# str, 맞춥법(hanspell)\n",
    "    \n",
    "    text = re.sub(' +', ' ',text) # 다중공백 >> 공백 한개\n",
    "    text = re.sub('[^A-Za-z0-9ㄱ-ㅎㅏ-ㅣ가-힣.,!?]','',text) # .,?!와 한글 영어만 남김\n",
    "    text = spell_checker.check(text) # 맞춤법 검사기 pip install py-hanspell\n",
    "    text = text.checked # 맞춤법검사 후 결과만 뽑아내기\n",
    "    \n",
    "    \n",
    "    return text # str"
   ]
  },
  {
   "cell_type": "code",
   "execution_count": null,
   "id": "dental-bolivia",
   "metadata": {},
   "outputs": [],
   "source": []
  },
  {
   "cell_type": "code",
   "execution_count": 146,
   "id": "turned-figure",
   "metadata": {},
   "outputs": [
    {
     "data": {
      "text/plain": [
       "'와.. 진심 가지고싶다...쌍용 힘내라'"
      ]
     },
     "execution_count": 146,
     "metadata": {},
     "output_type": "execute_result"
    }
   ],
   "source": [
    "df['comments'][57542]"
   ]
  },
  {
   "cell_type": "code",
   "execution_count": 153,
   "id": "focal-spank",
   "metadata": {},
   "outputs": [
    {
     "data": {
      "text/html": [
       "<div>\n",
       "<style scoped>\n",
       "    .dataframe tbody tr th:only-of-type {\n",
       "        vertical-align: middle;\n",
       "    }\n",
       "\n",
       "    .dataframe tbody tr th {\n",
       "        vertical-align: top;\n",
       "    }\n",
       "\n",
       "    .dataframe thead th {\n",
       "        text-align: right;\n",
       "    }\n",
       "</style>\n",
       "<table border=\"1\" class=\"dataframe\">\n",
       "  <thead>\n",
       "    <tr style=\"text-align: right;\">\n",
       "      <th></th>\n",
       "      <th>car_brand</th>\n",
       "      <th>car_model</th>\n",
       "      <th>comments</th>\n",
       "      <th>likes</th>\n",
       "      <th>related</th>\n",
       "      <th>emotion</th>\n",
       "    </tr>\n",
       "  </thead>\n",
       "  <tbody>\n",
       "    <tr>\n",
       "      <th>96170</th>\n",
       "      <td>한국GM</td>\n",
       "      <td>트럭(4.5톤이상)</td>\n",
       "      <td>🤩물론 차는탐나는차인데~우리나라도로상황이나주차공간생각할때ᆢ스트레스받고,짜증날 두통차...</td>\n",
       "      <td>1</td>\n",
       "      <td>1</td>\n",
       "      <td>1</td>\n",
       "    </tr>\n",
       "    <tr>\n",
       "      <th>78173</th>\n",
       "      <td>포르쉐</td>\n",
       "      <td>타이칸</td>\n",
       "      <td>🤞🤗👌 PORCHE...DASHINGLY PERFECT.</td>\n",
       "      <td>2</td>\n",
       "      <td>1</td>\n",
       "      <td>0</td>\n",
       "    </tr>\n",
       "    <tr>\n",
       "      <th>120322</th>\n",
       "      <td>혼다</td>\n",
       "      <td>크로스투어</td>\n",
       "      <td>🚣‍♂️혼다 ㅋ 크로스 SUV 라 어떤차일까 난 CRV가 좋터라 ㅎ</td>\n",
       "      <td>2</td>\n",
       "      <td>1</td>\n",
       "      <td>0</td>\n",
       "    </tr>\n",
       "    <tr>\n",
       "      <th>110628</th>\n",
       "      <td>현대</td>\n",
       "      <td>에쿠스</td>\n",
       "      <td>🚗 SK에너지주유소 스태프 8,350원 / 주당 법정 근로시간 52시간을 기준으로 ...</td>\n",
       "      <td>45</td>\n",
       "      <td>1</td>\n",
       "      <td>1</td>\n",
       "    </tr>\n",
       "    <tr>\n",
       "      <th>58251</th>\n",
       "      <td>쌍용</td>\n",
       "      <td>로디우스</td>\n",
       "      <td>😘판매완료😘언니네중고차 상담문의 010 - 8615 - 2966 😘</td>\n",
       "      <td>2</td>\n",
       "      <td>1</td>\n",
       "      <td>1</td>\n",
       "    </tr>\n",
       "    <tr>\n",
       "      <th>58173</th>\n",
       "      <td>쌍용</td>\n",
       "      <td>로디우스</td>\n",
       "      <td>😘판매완료😘언니네중고차 010-8691-2966😘</td>\n",
       "      <td>2</td>\n",
       "      <td>1</td>\n",
       "      <td>1</td>\n",
       "    </tr>\n",
       "    <tr>\n",
       "      <th>78166</th>\n",
       "      <td>포르쉐</td>\n",
       "      <td>타이칸</td>\n",
       "      <td>😍😍😍YOU ARE AWESOME🙌</td>\n",
       "      <td>3</td>\n",
       "      <td>1</td>\n",
       "      <td>0</td>\n",
       "    </tr>\n",
       "    <tr>\n",
       "      <th>113931</th>\n",
       "      <td>현대</td>\n",
       "      <td>캐스퍼</td>\n",
       "      <td>😍전주현대버스 전주현대트럭 최고  군산대우타타 트럭 최고  광주현대캐스퍼 최고  광...</td>\n",
       "      <td>1</td>\n",
       "      <td>1</td>\n",
       "      <td>0</td>\n",
       "    </tr>\n",
       "    <tr>\n",
       "      <th>113013</th>\n",
       "      <td>현대</td>\n",
       "      <td>캐스퍼</td>\n",
       "      <td>🔴 ÇAN ÇİN,  YA SÜPER KAR HUYANDAY.</td>\n",
       "      <td>1</td>\n",
       "      <td>1</td>\n",
       "      <td>0</td>\n",
       "    </tr>\n",
       "    <tr>\n",
       "      <th>31396</th>\n",
       "      <td>도요타</td>\n",
       "      <td>수프라</td>\n",
       "      <td>🔥🔥🔥엔토리모델 2,000CC인기 많아요^ ^고맙습니다 좋은시청했어요</td>\n",
       "      <td>1</td>\n",
       "      <td>1</td>\n",
       "      <td>0</td>\n",
       "    </tr>\n",
       "    <tr>\n",
       "      <th>22461</th>\n",
       "      <td>기아</td>\n",
       "      <td>엔터프라이즈</td>\n",
       "      <td>👼정주영 회장 현대차 각그랜져 타신걸로 아는데 🤔 ㅋ 너무나 웃기내 기아차 엔터프라...</td>\n",
       "      <td>2</td>\n",
       "      <td>1</td>\n",
       "      <td>1</td>\n",
       "    </tr>\n",
       "    <tr>\n",
       "      <th>113029</th>\n",
       "      <td>현대</td>\n",
       "      <td>캐스퍼</td>\n",
       "      <td>👍이번 영상은 오디오 볼륨이 좀 낮네요. 기존에 올라왔던 영상보다도 낮고 다른 유튜...</td>\n",
       "      <td>6</td>\n",
       "      <td>1</td>\n",
       "      <td>0</td>\n",
       "    </tr>\n",
       "    <tr>\n",
       "      <th>70584</th>\n",
       "      <td>재규어</td>\n",
       "      <td>XJR</td>\n",
       "      <td>👍  디자인은 최고입니다 가지고싶은차네요 영상잘보았어요 ㅎㅎ</td>\n",
       "      <td>1</td>\n",
       "      <td>1</td>\n",
       "      <td>0</td>\n",
       "    </tr>\n",
       "    <tr>\n",
       "      <th>11261</th>\n",
       "      <td>기아</td>\n",
       "      <td>K8</td>\n",
       "      <td>👉K8 견적 알아보실 겟차 링크 : HTTP://BIT.LY/3JT54UV👉겟차 견...</td>\n",
       "      <td>2</td>\n",
       "      <td>1</td>\n",
       "      <td>0</td>\n",
       "    </tr>\n",
       "    <tr>\n",
       "      <th>110121</th>\n",
       "      <td>현대</td>\n",
       "      <td>아이오닉5</td>\n",
       "      <td>👄파👄다👄사👄워👄리👄는 워낙 유명해서 앞전부터 핫했는데 ;; 지금 선착 10자리만 ...</td>\n",
       "      <td>1</td>\n",
       "      <td>1</td>\n",
       "      <td>0</td>\n",
       "    </tr>\n",
       "    <tr>\n",
       "      <th>69073</th>\n",
       "      <td>재규어</td>\n",
       "      <td>F-TYPE</td>\n",
       "      <td>🐆 재규어 1등 ㅋ</td>\n",
       "      <td>10</td>\n",
       "      <td>1</td>\n",
       "      <td>0</td>\n",
       "    </tr>\n",
       "    <tr>\n",
       "      <th>108633</th>\n",
       "      <td>현대</td>\n",
       "      <td>아슬란</td>\n",
       "      <td>🇰🇿? MY CAR</td>\n",
       "      <td>2</td>\n",
       "      <td>1</td>\n",
       "      <td>0</td>\n",
       "    </tr>\n",
       "    <tr>\n",
       "      <th>38795</th>\n",
       "      <td>르노코리아</td>\n",
       "      <td>조에</td>\n",
       "      <td>🇫🇷프랑스(자동차) 르노에서 만든 전기차 (조에)저거.....끄는 사람 많이 없을듯...</td>\n",
       "      <td>3</td>\n",
       "      <td>1</td>\n",
       "      <td>1</td>\n",
       "    </tr>\n",
       "    <tr>\n",
       "      <th>32408</th>\n",
       "      <td>도요타</td>\n",
       "      <td>프리우스</td>\n",
       "      <td>＞195タイヤ　ZC32S「いや、十分でしょ…」</td>\n",
       "      <td>1</td>\n",
       "      <td>1</td>\n",
       "      <td>0</td>\n",
       "    </tr>\n",
       "    <tr>\n",
       "      <th>110064</th>\n",
       "      <td>현대</td>\n",
       "      <td>아이오닉5</td>\n",
       "      <td>１０年２４万ＫＭバッテリーSOC９０％保証バッテリーの温度管理が徹底されてて冬でも性能が落ち...</td>\n",
       "      <td>1</td>\n",
       "      <td>1</td>\n",
       "      <td>1</td>\n",
       "    </tr>\n",
       "  </tbody>\n",
       "</table>\n",
       "</div>"
      ],
      "text/plain": [
       "       car_brand   car_model  \\\n",
       "96170       한국GM  트럭(4.5톤이상)   \n",
       "78173        포르쉐         타이칸   \n",
       "120322        혼다       크로스투어   \n",
       "110628        현대         에쿠스   \n",
       "58251         쌍용        로디우스   \n",
       "58173         쌍용        로디우스   \n",
       "78166        포르쉐         타이칸   \n",
       "113931        현대         캐스퍼   \n",
       "113013        현대         캐스퍼   \n",
       "31396        도요타         수프라   \n",
       "22461         기아      엔터프라이즈   \n",
       "113029        현대         캐스퍼   \n",
       "70584        재규어         XJR   \n",
       "11261         기아          K8   \n",
       "110121        현대       아이오닉5   \n",
       "69073        재규어      F-TYPE   \n",
       "108633        현대         아슬란   \n",
       "38795      르노코리아          조에   \n",
       "32408        도요타        프리우스   \n",
       "110064        현대       아이오닉5   \n",
       "\n",
       "                                                 comments  likes  related  \\\n",
       "96170   🤩물론 차는탐나는차인데~우리나라도로상황이나주차공간생각할때ᆢ스트레스받고,짜증날 두통차...      1        1   \n",
       "78173                     🤞🤗👌 PORCHE...DASHINGLY PERFECT.      2        1   \n",
       "120322              🚣‍♂️혼다 ㅋ 크로스 SUV 라 어떤차일까 난 CRV가 좋터라 ㅎ      2        1   \n",
       "110628  🚗 SK에너지주유소 스태프 8,350원 / 주당 법정 근로시간 52시간을 기준으로 ...     45        1   \n",
       "58251               😘판매완료😘언니네중고차 상담문의 010 - 8615 - 2966 😘      2        1   \n",
       "58173                         😘판매완료😘언니네중고차 010-8691-2966😘      2        1   \n",
       "78166                                 😍😍😍YOU ARE AWESOME🙌      3        1   \n",
       "113931  😍전주현대버스 전주현대트럭 최고  군산대우타타 트럭 최고  광주현대캐스퍼 최고  광...      1        1   \n",
       "113013                 🔴 ÇAN ÇİN,  YA SÜPER KAR HUYANDAY.      1        1   \n",
       "31396              🔥🔥🔥엔토리모델 2,000CC인기 많아요^ ^고맙습니다 좋은시청했어요      1        1   \n",
       "22461   👼정주영 회장 현대차 각그랜져 타신걸로 아는데 🤔 ㅋ 너무나 웃기내 기아차 엔터프라...      2        1   \n",
       "113029  👍이번 영상은 오디오 볼륨이 좀 낮네요. 기존에 올라왔던 영상보다도 낮고 다른 유튜...      6        1   \n",
       "70584                   👍  디자인은 최고입니다 가지고싶은차네요 영상잘보았어요 ㅎㅎ      1        1   \n",
       "11261   👉K8 견적 알아보실 겟차 링크 : HTTP://BIT.LY/3JT54UV👉겟차 견...      2        1   \n",
       "110121  👄파👄다👄사👄워👄리👄는 워낙 유명해서 앞전부터 핫했는데 ;; 지금 선착 10자리만 ...      1        1   \n",
       "69073                                          🐆 재규어 1등 ㅋ     10        1   \n",
       "108633                                         🇰🇿? MY CAR      2        1   \n",
       "38795   🇫🇷프랑스(자동차) 르노에서 만든 전기차 (조에)저거.....끄는 사람 많이 없을듯...      3        1   \n",
       "32408                            ＞195タイヤ　ZC32S「いや、十分でしょ…」      1        1   \n",
       "110064  １０年２４万ＫＭバッテリーSOC９０％保証バッテリーの温度管理が徹底されてて冬でも性能が落ち...      1        1   \n",
       "\n",
       "        emotion  \n",
       "96170         1  \n",
       "78173         0  \n",
       "120322        0  \n",
       "110628        1  \n",
       "58251         1  \n",
       "58173         1  \n",
       "78166         0  \n",
       "113931        0  \n",
       "113013        0  \n",
       "31396         0  \n",
       "22461         1  \n",
       "113029        0  \n",
       "70584         0  \n",
       "11261         0  \n",
       "110121        0  \n",
       "69073         0  \n",
       "108633        0  \n",
       "38795         1  \n",
       "32408         0  \n",
       "110064        1  "
      ]
     },
     "execution_count": 153,
     "metadata": {},
     "output_type": "execute_result"
    }
   ],
   "source": [
    "df.sort_values(by=['comments'],ascending=False).head(20)"
   ]
  },
  {
   "cell_type": "code",
   "execution_count": 46,
   "id": "sized-bristol",
   "metadata": {},
   "outputs": [
    {
     "data": {
      "text/plain": [
       "\"엔트리 모델 2,000CC 인기 많아요 고맙습니다 좋은 시청했어요!?【】』㈜©囹圄秋 ■◆◇▷▶↑↓↔〓♤♠♡♥♧♣⊙◈▣◐◑☆★'\""
      ]
     },
     "execution_count": 46,
     "metadata": {},
     "output_type": "execute_result"
    }
   ],
   "source": [
    "sample_sentence = df['comments'][31396] +'!?'+\"【】』㈜©囹圄秋 ■◆◇▷▶↑↓↔〓♤♠♡♥♧♣⊙◈▣◐◑☆★\\'\"\n",
    "sample_sentence"
   ]
  },
  {
   "cell_type": "code",
   "execution_count": 47,
   "id": "minimal-trading",
   "metadata": {},
   "outputs": [
    {
     "ename": "NameError",
     "evalue": "name 'preprocessing' is not defined",
     "output_type": "error",
     "traceback": [
      "\u001b[0;31m---------------------------------------------------------------------------\u001b[0m",
      "\u001b[0;31mNameError\u001b[0m                                 Traceback (most recent call last)",
      "\u001b[0;32m<ipython-input-47-b2c9289b9c14>\u001b[0m in \u001b[0;36m<module>\u001b[0;34m()\u001b[0m\n\u001b[0;32m----> 1\u001b[0;31m \u001b[0msample\u001b[0m \u001b[0;34m=\u001b[0m \u001b[0mpreprocessing\u001b[0m\u001b[0;34m(\u001b[0m\u001b[0msample_sentence\u001b[0m\u001b[0;34m)\u001b[0m\u001b[0;34m\u001b[0m\u001b[0;34m\u001b[0m\u001b[0m\n\u001b[0m\u001b[1;32m      2\u001b[0m \u001b[0mprint\u001b[0m\u001b[0;34m(\u001b[0m\u001b[0msample\u001b[0m\u001b[0;34m)\u001b[0m\u001b[0;34m\u001b[0m\u001b[0;34m\u001b[0m\u001b[0m\n",
      "\u001b[0;31mNameError\u001b[0m: name 'preprocessing' is not defined"
     ]
    }
   ],
   "source": [
    "sample = preprocessing(sample_sentence)\n",
    "print(sample)"
   ]
  },
  {
   "cell_type": "code",
   "execution_count": 166,
   "id": "stuck-concern",
   "metadata": {},
   "outputs": [
    {
     "data": {
      "text/plain": [
       "'주제 선정 좋아요. 더운 여름 잘 지내세요. 비싼 차, 싼 차, 슈퍼카, 경차 가리지 않는 리뷰 좋습니다. 과연 명불허전 자동차에 대한 다양한 정보를 이렇게 재미있게 알려주는 채널이 또 있을까요? 앞으로도 꾸준히 많은 영상 올려주세요. 비가 많이 옵니다. 감사할 듯.'"
      ]
     },
     "execution_count": 166,
     "metadata": {},
     "output_type": "execute_result"
    }
   ],
   "source": [
    "preprocessing(df['comments'][0])"
   ]
  },
  {
   "cell_type": "code",
   "execution_count": 167,
   "id": "innovative-guess",
   "metadata": {},
   "outputs": [
    {
     "name": "stderr",
     "output_type": "stream",
     "text": [
      "  0%|          | 0/120488 [00:00<?, ?it/s]/home/ubuntu/anaconda3/envs/python3/lib/python3.6/site-packages/ipykernel_launcher.py:4: SettingWithCopyWarning: \n",
      "A value is trying to be set on a copy of a slice from a DataFrame\n",
      "\n",
      "See the caveats in the documentation: https://pandas.pydata.org/pandas-docs/stable/user_guide/indexing.html#returning-a-view-versus-a-copy\n",
      "  after removing the cwd from sys.path.\n",
      "/home/ubuntu/anaconda3/envs/python3/lib/python3.6/site-packages/IPython/core/interactiveshell.py:2878: SettingWithCopyWarning: \n",
      "A value is trying to be set on a copy of a slice from a DataFrame\n",
      "\n",
      "See the caveats in the documentation: https://pandas.pydata.org/pandas-docs/stable/user_guide/indexing.html#returning-a-view-versus-a-copy\n",
      "  exec(code_obj, self.user_global_ns, self.user_ns)\n",
      " 14%|█▍        | 17106/120488 [51:21<29:11:57,  1.02s/it]"
     ]
    },
    {
     "name": "stdout",
     "output_type": "stream",
     "text": [
      "17103\n"
     ]
    },
    {
     "name": "stderr",
     "output_type": "stream",
     "text": [
      " 15%|█▌        | 18181/120488 [55:55<41:11:25,  1.45s/it]"
     ]
    },
    {
     "name": "stdout",
     "output_type": "stream",
     "text": [
      "18180\n"
     ]
    },
    {
     "name": "stderr",
     "output_type": "stream",
     "text": [
      " 23%|██▎       | 27567/120488 [1:25:29<29:34:35,  1.15s/it]"
     ]
    },
    {
     "name": "stdout",
     "output_type": "stream",
     "text": [
      "27566\n"
     ]
    },
    {
     "name": "stderr",
     "output_type": "stream",
     "text": [
      " 27%|██▋       | 32078/120488 [1:40:35<28:18:44,  1.15s/it]"
     ]
    },
    {
     "name": "stdout",
     "output_type": "stream",
     "text": [
      "32076\n"
     ]
    },
    {
     "name": "stderr",
     "output_type": "stream",
     "text": [
      " 29%|██▊       | 34360/120488 [1:48:55<24:13:51,  1.01s/it]"
     ]
    },
    {
     "name": "stdout",
     "output_type": "stream",
     "text": [
      "34358\n"
     ]
    },
    {
     "name": "stderr",
     "output_type": "stream",
     "text": [
      " 30%|██▉       | 36065/120488 [1:54:20<23:38:51,  1.01s/it]"
     ]
    },
    {
     "name": "stdout",
     "output_type": "stream",
     "text": [
      "36063\n"
     ]
    },
    {
     "name": "stderr",
     "output_type": "stream",
     "text": [
      " 31%|███       | 36839/120488 [1:57:21<17:59:37,  1.29it/s]"
     ]
    },
    {
     "name": "stdout",
     "output_type": "stream",
     "text": [
      "36836\n"
     ]
    },
    {
     "name": "stderr",
     "output_type": "stream",
     "text": [
      " 36%|███▌      | 42792/120488 [2:16:24<29:15:18,  1.36s/it]"
     ]
    },
    {
     "name": "stdout",
     "output_type": "stream",
     "text": [
      "42791\n"
     ]
    },
    {
     "name": "stderr",
     "output_type": "stream",
     "text": [
      " 39%|███▉      | 46921/120488 [2:29:44<18:31:52,  1.10it/s]"
     ]
    },
    {
     "name": "stdout",
     "output_type": "stream",
     "text": [
      "46919\n"
     ]
    },
    {
     "name": "stderr",
     "output_type": "stream",
     "text": [
      " 43%|████▎     | 51437/120488 [2:43:04<7:02:55,  2.72it/s] "
     ]
    },
    {
     "name": "stdout",
     "output_type": "stream",
     "text": [
      "51436\n"
     ]
    },
    {
     "name": "stderr",
     "output_type": "stream",
     "text": [
      " 46%|████▌     | 55224/120488 [2:54:42<2:09:35,  8.39it/s] "
     ]
    },
    {
     "name": "stdout",
     "output_type": "stream",
     "text": [
      "55224\n"
     ]
    },
    {
     "name": "stderr",
     "output_type": "stream",
     "text": [
      " 47%|████▋     | 56645/120488 [2:59:07<14:49:17,  1.20it/s]"
     ]
    },
    {
     "name": "stdout",
     "output_type": "stream",
     "text": [
      "56643\n"
     ]
    },
    {
     "name": "stderr",
     "output_type": "stream",
     "text": [
      " 50%|████▉     | 60045/120488 [3:09:07<11:20:56,  1.48it/s]"
     ]
    },
    {
     "name": "stdout",
     "output_type": "stream",
     "text": [
      "60042\n"
     ]
    },
    {
     "name": "stderr",
     "output_type": "stream",
     "text": [
      " 52%|█████▏    | 62369/120488 [3:16:44<14:12:35,  1.14it/s]"
     ]
    },
    {
     "name": "stdout",
     "output_type": "stream",
     "text": [
      "62367\n"
     ]
    },
    {
     "name": "stderr",
     "output_type": "stream",
     "text": [
      " 58%|█████▊    | 69416/120488 [3:36:24<9:28:28,  1.50it/s] "
     ]
    },
    {
     "name": "stdout",
     "output_type": "stream",
     "text": [
      "69413\n"
     ]
    },
    {
     "name": "stderr",
     "output_type": "stream",
     "text": [
      " 68%|██████▊   | 81554/120488 [4:11:26<47:06, 13.78it/s]   "
     ]
    },
    {
     "name": "stdout",
     "output_type": "stream",
     "text": [
      "81550\n"
     ]
    },
    {
     "name": "stderr",
     "output_type": "stream",
     "text": [
      " 78%|███████▊  | 94471/120488 [4:54:22<13:09:10,  1.82s/it]"
     ]
    },
    {
     "name": "stdout",
     "output_type": "stream",
     "text": [
      "94470\n"
     ]
    },
    {
     "name": "stderr",
     "output_type": "stream",
     "text": [
      " 80%|███████▉  | 95813/120488 [4:59:08<6:16:08,  1.09it/s] "
     ]
    },
    {
     "name": "stdout",
     "output_type": "stream",
     "text": [
      "95811\n"
     ]
    },
    {
     "name": "stderr",
     "output_type": "stream",
     "text": [
      " 81%|████████  | 97309/120488 [5:04:22<11:28:54,  1.78s/it]"
     ]
    },
    {
     "name": "stdout",
     "output_type": "stream",
     "text": [
      "97308\n"
     ]
    },
    {
     "name": "stderr",
     "output_type": "stream",
     "text": [
      " 83%|████████▎ | 100596/120488 [5:14:53<4:28:15,  1.24it/s]"
     ]
    },
    {
     "name": "stdout",
     "output_type": "stream",
     "text": [
      "100593\n"
     ]
    },
    {
     "name": "stderr",
     "output_type": "stream",
     "text": [
      " 89%|████████▉ | 107527/120488 [5:38:19<2:57:00,  1.22it/s]"
     ]
    },
    {
     "name": "stdout",
     "output_type": "stream",
     "text": [
      "107524\n"
     ]
    },
    {
     "name": "stderr",
     "output_type": "stream",
     "text": [
      " 99%|█████████▉| 119623/120488 [6:17:37<13:51,  1.04it/s]  "
     ]
    },
    {
     "name": "stdout",
     "output_type": "stream",
     "text": [
      "119620\n"
     ]
    },
    {
     "name": "stderr",
     "output_type": "stream",
     "text": [
      "100%|██████████| 120488/120488 [6:20:41<00:00,  5.28it/s]\n"
     ]
    }
   ],
   "source": [
    "error_list = []\n",
    "for i,comments in enumerate(tqdm(df['comments'])):\n",
    "    try:\n",
    "        df['comments'][i] = preprocessing(df['comments'][i])\n",
    "    except:\n",
    "        print(i)\n",
    "        error_list.append(i)\n",
    "        pass"
   ]
  },
  {
   "cell_type": "code",
   "execution_count": 171,
   "id": "clean-creation",
   "metadata": {},
   "outputs": [
    {
     "name": "stdout",
     "output_type": "stream",
     "text": [
      "중국미세먼지나 우한폐렴이 ㅈ같은거인데 왜국가에서 자꾸 기업들만귀찮게하는지 이해를못하겟네 이러니까 30년도까지나 내연기관만든다구하는데 50년까진굴러다닐꺼같은데내가 먹구사는데는지장없는데 전기차량이나 수소차량 그런거 장려할려면 한전을 더욱장려해야되는데 조져놓고 남의나라에다가 팔려구하고 전기세는 어떻게감당할껀데나라를 진짜 통째로 말아먹고싶어서 난리난새기들 학교다닐대 화염병던지면서 데모만햇던새기들이 진짜 머리가없는거는맞는데 자신들이 한평생 잘살수잇는것두아니고 신앙같은거같아서 너무열받는다 후손들이나 대한민국제발잘먹구잘살게끔못하구 망칠려구 노력하는새기들 제발내려가...\n",
      "==경계선====경계선====경계선====경계선====경계선== \n",
      "\n",
      "안녕하세요. 저는 풀옵션 셀토스를 5개월 8000KM 정도 타고있는 차주 입니다. 비교시승을 위해 3일전에 트레일 블레이저도 시승해보았는데요. 30살인 제 입장에서는 셀토스가 더 좋았습니다.이유는 가속능력과 오토홀드때문입니다. 셀토스를 시승해보신분들은 아시겠지만 가속능력. 즉 치고나가는 주행성능과 브레이크 성능이 이상하리만큼 좋습니다..제 입장에서는 여기에 나온 제로백 8초보다도 빠른 느낌이어서 유튜브를 찾아보니 셀토스 제로백 7초도 있더라구요. 셀토스로 밟아보시면 가속능력을 느끼실수 있을거에요. 쉐보레는 젊은 저에게 너무 답답한 가속감이었습니다.그리고 오토홀드는 써보신분들은 알겠지만 시내주행에서 오토홀드 없이 운전하기가 너무 불편하더라구요..직접 시승을 해보시고 구매하시면 좋을 것 같습니다. 사람마다 중요하게 여기는 부분이 다르니 각자에 맞는 차를 구매하시면 좋을 것 같아요\n",
      "==경계선====경계선====경계선====경계선====경계선== \n",
      "\n",
      "닛산 엑스트레일 구입하고 두주정도 운행한사람입니다.첫날부터 엑셀을 밟으면 덜거턱 거리는소음으로 두주동안 두번이나 서비스센터에 보내졌고 소음을 녹음을해서 들려줘도 못믿더니 직접태우고 확인시켜주고나니 이제와서 원래소리가 덜거덕 거린답니다.저는 큰맘먹고 새차뽑아덜거덕거리는소리를 들으며 운행을해야할처지입니다.원래 나는 소음이 어딧으며 그런것은 미리 고지를해야하는것아닙니까.완전 사기당한기분이고 디젤소음커서 휘발유차산건데디젤만도못한꼴이 되엇습니다.저는 어찌해야할까요정말 억울하고 이런차라는걸 알앗다면 절대사지않앗을겁니다 방법이 없을까요\n",
      "==경계선====경계선====경계선====경계선====경계선== \n",
      "\n",
      "WHEE LEARN님의  영상 잘 보았읍니다.  저는 2017 TOYOTA TUNDRA V8 5.7L 4WD OFF-ROAD를 타고 있는데 , 나름 만족하고 있읍니다.  F150도 고려하다가 비슷한 트림 옵션일 경우,가격이 포드가 더 비싸서 TUNDRA를 선택 했읍니다.  돈생각 안 하면 랩터를 사고 싶지만  능력 밖이라 포기 했고, 내구성은 툰드라가 더 낳은것 같아서 (미국에서100만 마일 이 2대가 나옴) 최종적으로 TUNDRA로결정 했읍니다.  미국회사들 트럭은 녹방지에서도 문제가 많읍니다.  그런데 2019 PASSENGER SIDE CRASH TEST에서 툰드라는 POOR 받았고 F150은 GOOD을 받았읍니다.  툰드라가 닛산 타이탄보다도 낮은 등급을 받았읍니다.트럭 구입시 여러가지를 고려해서 본인한테 적당한것을 고르는게  제일 현명할것 같읍니다.   좋은 영상 많이 올려 주세요!\n",
      "==경계선====경계선====경계선====경계선====경계선== \n",
      "\n",
      "이 차는 마칸이나 BMW X4하고 많이 비교하던데 가격대가 비슷한거 말고 동급은 아닌거같네요. 흔히 디자인 좋고 성능이 기대 이하이면 패션카라고 부르던데, 또 그렇게 말하기엔 세부 디자인이 아쉽게느껴집니다. 특히 영상 초반에서 큰 디자인은 직선을 시원하게 잘써서 짜임새 있는데 세부적인 버튼 디자인이나 폰트에서 마무리가 아쉽네요. 또 수납공간을 보면서 자꾸 실용성이 떨어진다는 느낌도 받았습니다. 아우디 Q5하고 비교하자면 이건 좀 둥글둥글하니까 다른 맛이 있지만 실내 마감이나 짜임새는 훨씬 낫거든요. 그리고 디젤 대 디젤로 봐도 주행성능은 8단미션이라 엇비슷하고, 영상 후반부에 가솔린 경험이 좋았다고 하시는거보면서 아우디 가솔린 모델과 대동소이한거같습니다. 아우디를 특히 좋아하는건 아닌데 ㅎ 길게 글을 남기는 이유는 값이 너무 뻥튀기 됐다, 그말이 하고싶어서네요.ㅎㅎ 브랜드 가치다 라고 생각하실 분들도 계시겠지만요, 이 값에 마칸/ 엑스포 하고는 또 동급은 억지같습니다 ^^ 시승 너무 잘봤습니다. 빗길안전운행하시구여~\n",
      "==경계선====경계선====경계선====경계선====경계선== \n",
      "\n",
      "1세대 SM5. 등급 두개 총 두대차량 보유해놓고 있는데 세월이 20년 가까이됬는대도 엔진소음 별루없고 하부에 녹하나없습니다...1세대 SM5처럼 차 만들수있는데 현기자동차는 차많이 팔아먹을려고 일부로 차 그지처럼 만든겁니다...SM5. 1세대 차량 엔진과 부품들 새것만 있으면 차복원 프로그램받아서 한 15년 더타고 싶내요...차량 겁데기 디자인은 옛날 차량이라도 요즘 차들 디자인에 절대로 안꿀리니 부품들이 문제고 폐차장가도 구하기가 쉽지않으니...싸고 좋은 중형차 구하실 분들은 SM5 1세대 차량 십만키로 초반때 차량들 구하기 어렵지않으니 타보세요.좋습니다.시세보니 150에서250사이정도 하더군요\n",
      "==경계선====경계선====경계선====경계선====경계선== \n",
      "\n",
      "그냥 2016년에 르노 탈리스만으로 나왔어야 했다. 물컹해졌다고 승차감이 좋아져? 요즘 흉빠도 안할 그런 개소리를 하면서 흉기보다 승차감 무르게 니들 멋대로 셋팅한다고 그게 승차감이 좋아지냐? 애시당초 르노에서 왜 셋팅을 그렇게 단단하게 한건데. 셋팅값 설정할 줄 모르면 손을 대지 말든가 차라리 AM링크 있을때가 더 나았다. 젖투버 중에 롤링을 감수하면 코너링 좋고 승차감 부드럽게 할 수 있단 개소리 하던데 그거 주워듣고 따라했나 도로 조금만 울퉁불퉁해도 차가 좌우로 미친듯이 흔들림. 도로가 조금 안좋으면 상하진동 줄어든 만큼 자가 좌우로 출렁거려. 차를 이따위로 만들어놓고 승차감이 좋아졌다고? 제발 부탁인데 르삼 니들은 일을 하지마. 그냥 르노 유럽모델 그대로 가져와서 조립만 해. 예전엔 닛산차 가져와서 그짓 잘 했잖아? 왜 안하던 짓 하고 ㅈㄹ이야? 서스 셋팅값 하나 제대로 못찾아서 몇년을 고객 상대로 베타 테스트 처하면서 사람들 다 떠나보내놓고. 메간 RS, 탈리스만 4륜조향 좀 타보자고 10새 기들아.\n",
      "==경계선====경계선====경계선====경계선====경계선== \n",
      "\n",
      "일본 거주중에 지인 소개로 MAZDA3 가솔린 모델 구입했습니다.  그런데 신차 오는데 2개월 반 정도 걸린다고 하네요. 차량 반도체땜시.저한테 차 소개해주신 지인분은 지금 CX-5 6대째 사용중입니다.중고가 방어가 좋다보니3만 타고 350만엔에 팔고 100만엔 더 줘서 새차 구매하는 식으로 6대를 구매하셨더라구요.<디젤차다보니 수리비 유지비 나오는 것 계산하자면 이해는 됩니다.>나중에 알아보니 그게 마쯔다 영업방식이더라구요.즉 많이 파는 것 대신에 수는 적지만 마쯔다만 계속 사게 하는 충성고객을 만드는게 영업방식인것 같더라구요.\n",
      "==경계선====경계선====경계선====경계선====경계선== \n",
      "\n",
      "왜 그렇게 비판하시는 겁니까? 아무리 비싸더라도 전 그 가격에 맞은 차량 디자인을 했다고 봅니다 그리고 한가지더 자동차 내부에는 자동차가 우리를 감싸고 있다는 느낌을 들으셨을거예요 그런 세부적이고 디테일한 작업을 하고 만드는게 벤츠 입니다그리고그리고 저런 디테일한 적업을 한번 삐끗하면 완전 똥차 됩니다 근대 그걸 이겨낸 차를 비판하는건 좀;; 아니먄 그쪽이 디자이너가 되시던지. 그리고 저것은“차” 입니다 저의가 쓰는 컴퓨터나 폰은 아니지만 저것은 “탈것” 입니다 전자기기와 같은 구룹에 있긴하지만 구지 IT 에서 일하는 사람들을 불러와 저기에서 일을 하라고 하는간 좀;; 예의 없지 않나요? 쓸때 없는 인권 낭비. 한발 한발 나아가는 거지 왜 네비가 안된다고 비판해요? 제가 쓸덴 아주아주 잘 작동하던데? 운전 하시면서 느끼셨을수도 있는데 저기엔 D+ D D- D- - 이런 여러가지의 모드가 있어요 만약 브레이크가 밀리면 마이너스로 바꾸세요 비판하지말고. 제가 볼뗀 유지비도 참 좋은데 왜 좋은것들은 쏙쏙 빼놓고 비판만 합니까? 저기에 어떤 디자인들이 있었는진 알아요? 저 차는 최초로 전기차 다운 모습을 디자인했읍니다. 앞뒤로 해드라이터가 연결되는 디자인은 그야말로 깔끔한겁니다. 짜꾸 테슬라하고 비비지 마세요. 비판하고 지적하고 비교하니깐 좋으세요?\n",
      "==경계선====경계선====경계선====경계선====경계선== \n",
      "\n",
      "저는 보통사람이면 국산차에서 보통 외제로 넘어가는 단계가 K9, G90이나 GV80같이 국산메이커의 플레그쉽모델쯔음에서 넘어가는게 맞다고 생각함.그 가격대밑의 라인업에선 국산차만큼 가성비 좋은 차가 없다고 생각.국산플레그쉽정도의 옵션과 차량품질이면 뭐 .. 그 이상의 감성가치를 바라게 된다면 그때쯔음 독3사 가야지 솔직히 까놓고 푸조, 폭스바겐, 도요타, 포드 등등 그런 라인에서 감성이라는 가치는 국산이나 거기서 거기지\n",
      "==경계선====경계선====경계선====경계선====경계선== \n",
      "\n",
      "사브사브\n",
      "==경계선====경계선====경계선====경계선====경계선== \n",
      "\n",
      "음~~일단 디자인 굿  옵션도 이정도면 뭐멋지고 실용성도 있고 편의사항도 뭐 쓸만 하다 하지만 승차감 진짜 ~~아무리 픽업에바디 프레임 이라해도 진짜 너무함뭐 그냥 달구지 수준이에요~~첫째액셀페달에서 오는 진동이 진짜 매우매우 거슬린다 두째 주행중 차가 자꾸 울렁울렁 거린다는 느낌을 받는다 스트레스셋째~가속시에 뭔가 울컥울컥 하며 한박자씩쉬고 나가는 느낌이 많이든다넷째 노면에 상태를 운전자에게 아주 리얼하게 잘 전해준다  노면이 쫌만 안좋아지면 진짜 기분 엑스엑스하다  다섯째  고속주행시 답답함과 소음이 너무 심하다 쬐금 과장 하면 창문 열고 가는줄 착각여섯째  가족태우고 뭐 캠핑 장거리 여행용이런걸 원한다면 완전 비추천 한다 운전자에게 상당한 피로감을 선사한다 글구 가성비 가성비 하는데 솔직히옵션 다빼고 사면 가성비 안좋은 차가어디 있겠어요 전 노불레스4륜 다이나믹 패키지만 추가해서 구매 했는데싸다는 느낌은 안들었어요 구매 하실분들은 꼭 시승 해보시고 구매하셔요 저 처럼 아는 분들 말만 듣고사면 후회 합니다 노면도 골고루 선택해서시승 해보세요\n",
      "==경계선====경계선====경계선====경계선====경계선== \n",
      "\n",
      "12년식 체어맨W 700S 신차 3년 14만KM 타고 다녔습니다 고속주행 평균 180KM로 달렸습니다 에쿠스에 비해 엔진 소음 심합니다 180KM 이상 밟으면 엔진음 엄청 심합니다 그거 빼고는 내구성 아주 튼튼합니다 에어 서스펜션은 에쿠스보다 더 인공지능 이라고 생각되고  훌륭합니다 도대체 어떤 차를  구입해서 파시는건지 의문 스럽네요 참고로 15년식 에쿠스VS500 16년식 벤틀리 플라잉 시퍼 W12 6.0 도 3년 끌고 다녔습니다 에쿠스 벤츠 벤틀리등등 고가의 고급차에 비해 쌍용이라는 이미지와 대형차 치고 동급에 비해 낮은 가격에 체어맨 W 차량은 그 시절 가성비 값이라고 생각 됩니다 딜러분은 차량을 많이 파는게 중요한게 아니라 많이 운전 해보고 경험해보고 말씀해주세요 체어맨 W의 가장 큰 장점은 차체의 안정성 그리고 하만사운드의 풍부함 음향이라고 생각 됩니다 뒷 자석에서 밤에 조용한 곳에서 오케스트라나 브금 같은 웅장함을 들어보세요 G90 S클래스 7시리즈 이런차들 따라오지 못합니다 그리고 만약에 에쿠스와 체어맨W 이 정면 추돌할 상황이 생긴다면 당신은 어느차에 타고 있을겁니까?  전 체어맨W 입니다\n",
      "==경계선====경계선====경계선====경계선====경계선== \n",
      "\n",
      "굉장히 공감되는 내용이네요  언더스티어가 문제가 되는건 서킷에서 극한주행하면서 차 코너안으로 집어넣을때 얘기지 공도에서 아주 적극적인 스포츠주행을 할때는 무게배분과 언더성향이 전혀 문제되지 않습니다 물론 과거 국산전륜 개언더 차라면 문제되겠지만 아우디정도면 정말 코너링 겁나 좋고 스포츠주행 다 받아줍니다  그리고 언더스티어 오래전부터 많이 줄여놨고요 생각보다 아우디 코너링이 어떻게 보면 BMW보다 더 우수합니다 타보면 아는데 코너잘돌게 뭔짓(?)을 해놨어요 그게  뭔지는 모르겠는데  코너를 되게 쉽게 돌고 심지어 숏코너 와인딩까지 다 만족스럽습니다  뒤에서만 힘이 나오는 후륜구동 고유의 느낌이 좋아서 지금은 아우디 안타지만 아우디성향이 취향에 맞으면 아우디도 아주 좋은 차라고 봅니다 그리고 아우디는 콰트로에요  왜냐하면  벤츠나 비엠은 4륜빠지면 후륜이라 더 좋지만 아우디는 전륜구동이라...  특히 A4부터는 후륜에 더 구동배분 많이가는 시스템이기때문에 뒤에서 밀어주는 느낌도 종종 들고  전륜기반이라는 생각도 잘 안듭니다  콰트로없으면 그냥 전륜구동인데 주행품질도 많이 떨지고 경쟁모델대비 굳이 살 이유도 없어지죠\n",
      "==경계선====경계선====경계선====경계선====경계선== \n",
      "\n",
      "다른 차종의 경험으로 비추어 볼때...일단...프로그램 업데이트(외산 차종...볼트제외...은 업데이트가 필요합니다...확인해 보시길...)가 필요하실 것 같구여...그리고, 충전소에서 충전 주차를 하실때는 선을 잘보시고 주차하시길...더욱이...충전끝나시면 그냥 플러그만 빼시구 가시는 것 이 아니라 충전기 화면의 충전완료 확인을 핵실히 단디 누르시고 케이블 정리 잘해서 수납완료까지 하시길...그리고, 회원가입하시면 해택이 모기눈 만큼은 있으니...이점도 잊지마시길...여튼 영상 잘봤습니다...갠적으론...서쪽 흰 원숭이섬 물건은 슈뤠기로 판단중이라...역쉬...잘안나가는군요...가속하실때...짜증 나시겠내요...쓰신돈에 비해 덜나가고(쏘울이나 니로 나가는 거랑 별차이 없어보이내요...영상속에서 가속하시는 화면보니...ㅋ) 거리도 짧디 짧은(요즘 나오기 시작하는 전기차종 중에선 아래권에 위치하는 거리 및 효율...ㅎㅎ)...거듭, 좋은 정보 감사합니다...마니들 피하실 수 있게 해주셔서염...😁😁😁😜😜😜😜\n",
      "==경계선====경계선====경계선====경계선====경계선== \n",
      "\n",
      "그랜져 승\n",
      "==경계선====경계선====경계선====경계선====경계선== \n",
      "\n",
      "역시나 오토뷰 전시차 구경해보니문짝 등 섀시의 묵직함을 느낄수 있었습니다..전시차량은 프리미엄 등급이였는데 이쁘더라구요RS 실물은 얼마나 더 이쁠지..다들 2열 송풍구 부제와 2열 씨트 등받이 각도가 다소 세워져 있어서 아쉬움이 남는다고 했는데..씨트 각도는 말리부와 거의 비슷하지만 착자감은 더 편했고레그룸도 체감상 더 나오더군요?말리부가 휠베 대비 생각보다 좁았습니다2열 센터 터널도 2륜 모델은 평평합니다제가 본 실내 단점? 이라면 앞좌석 센터 암레스트가 너무 높다는 겁니다팔을 걸치면 어깨가 올라가서 포지션이 더 불편하더라구요..왜 이렇게 설계 했는지..페이스리프트땐 수정 됐으면 합니다그리고 데스보드와 창문쪽  벨트라인 이라고 하나요? 높아서 포근함과 안정감은 주지만 반대로.. 다소 답답하기도 하더라구요데시보드 및 보닛이 상당히 높았습니다셀토스는 시승해 봤지만 현기차 특유의 가벼운 주행질감이 맘에 들지 않더라구요실내는 체감상 셀토스가 미세하지만 조금 더 여유롭게 느껴졌습니다\n",
      "==경계선====경계선====경계선====경계선====경계선== \n",
      "\n",
      "아... 토스카... 아버지가 2006년식 신차 타시고 아직도 타고계셔서 형도 타고 저도 탄 첫차 였어요 지금은 아반떼 CN7을 몰지만요동시대 로체를 모는 친구가 있는데 직렬 6기통  5단 기어를 되게 신기하게 생각했더라구요 ㅋㅋ아 그리고 차가 어찌나 튼튼한지 차 몰다가 그렌저 트렁크를 박아버린 사고가 있었는데 그렌저는 다 찌그러져도 토스카는 범퍼 조금 찌그러지고 라이트 나간게 끝이더라구요 GM(대우) 차가 어찌나 튼튼한지 느꼈습니다 ㅋㅋㅋㅋ그리고 타다보니 알게된건데 엔진오일이 떨어져서(?) 카센터에 갔더니 토스카에 엔진오일이 누유되는 고질병(?) 같은게 있다고 하더라구요? 남들은 엔진오일을 간다고 하는데 충전해줘야 하는게 조금 이상하더라구요 ㅋㅋㅋ2006년식이다 보니 2007년식 프리미엄6가 너무 배알 꼴렸는데 하필 또 제가 서태지 팬이라서 ㅠㅜㅠㅠ 더 배아팠던 기억이 있네요(아 그리고 광고 중 FM비즈니스 전 잔잔하게 연주하는 곡으로 서태지와 아이들의 널 지우려고 해 라는 노래를 연주했습니다.)잡설이 길었네요! 멜론머스크님 감사합니다!!\n",
      "==경계선====경계선====경계선====경계선====경계선== \n",
      "\n",
      "저도 I40왜건 디젤 타다가..카니발로 넘어왔지만..전반적으로 굉장히 만족한 차량이었으나..소소한 부분이 저랑 안맞아서..팔았습니다.;;디젤6단미션의 경우..기어비세팅이 좀 지랄같습니다.쭈욱 가속해서 6단까지 변속하는건 문제없지만..시내주행시 아리까리한 속도..즉 60키로속도에서 정확히 5단기어가 물리는데(평지기준)이게 딱 60키로가 되야지만 5단이 물리다보니..짜증나더라구요.액티브에코버튼은 쓸모없구요;;(변속시점이랑 관계없음)또하나는..테일램프 방수부분인데..비오거나 세차하면..깜빡이나 후진등쪽에 습기가 차고..나중에는 물까지 차더라고요.;;저는 실리콘을 덕지덕지 발라서 잡았으나..좀 아쉬운부분입니다.다시 구매한다면 말많은 7단DCT로 살것 같습니다.변속이 굉장히 부드럽고 빠르고..나쁘지않더라구요.물론 DCT특성상 1단에서 2단 넘어갈때만 좀 이질감있지..나머지 구간은 굉장히좋더라구요.나중에 클러치세트와 플라이휠 교체금액인..대략130만원이 아깝긴하지만..6단미션의 지랄같은 변속딜레이보다는 낫은듯합니다.\n",
      "==경계선====경계선====경계선====경계선====경계선== \n",
      "\n",
      "넥쏘차주로서 공감합니다. 완전 만족하거든요. 제가 지금까지 산 물건 중에 최고의 만족감을 주는 보물같운 존재입니다. 엔진진동이 없어 조용하고 편안합니다. 차에서 듣는 음악이 완전 좋아요. 각종 안전 사양도 만족하고 차박에 최적화된 차입니다. 안 타보신 분들은 시승 한 번 해보세요. 무엇보다 이 사회의 구성원으로서 공기를 맑게하는데 기여한다는 자부심이 매우 큽니다. 충전하러 한 달에 한 번 가는데요. 음악 듣다보면 금방 제 차례가 되더라구요. 여튼 그린뉴딜정책에 수소사회에 대한 비전이 있어서 더 기대가 됩니다. 넥쏘 화이팅! 대한민국 화이팅!!!\n",
      "==경계선====경계선====경계선====경계선====경계선== \n",
      "\n",
      "신형아반떼풀옵션2400만원에토션빔이면승차감나빠서판매량부진에 중고차감감가엄청되는SM6프라임신차가격과똑같다는거아시는분들별로없을껍니다2400주면 작년에할인4백받고SM6프라임신차사는게좋죠 옵션도엄청많거든요 토션빔땜에승차감안좋아서2400풀옵션주면쫌아쉽죠 멀티링크를달았어야했어요 토션빔은중고차감가엄청심해요SM6보시면답나옴 토선빔차량을승차의절정은방지턱넘는순간..다시는디자인만보고예쁘다고2500주고토션빔차량은안살꺼다라고SM6처럼뼈져리게느낄껍니다SM6토션빔승차감과비슷할꺼같아서아쉽죠 하이브리드는멀티링크라고하니하이브리드신형아반떼를저는추천합니다 절대토션빔차량은시승기굳이안들어도SM6오너들은잘알죠..방지턱넘을때멘탈옵니다 뒷좌석지인못태읍니다SM6오너입니다\n",
      "==경계선====경계선====경계선====경계선====경계선== \n",
      "\n",
      "2016년 혼다 어코드(9세대) 6기통 5년째 타고 있는데  마일리지랑 파워 좋고 안전해서 지금껏 만족스러워요. 2년전에  고속도로(65-70MPH)에서 SEMI TRUCK이랑 사고가 난 적이 있었는데, 대형트럭이  차선 바꾸면서 제 차 못보고 그대로 운전자 앞부분 그대로 받았는데 차가 제일 끝차선에서부터 바깥차선에서 두어번 왔다가다하다 다시 받고 반바퀴 돌고 잘 멈춰서 연쇠 차 사고는 없었어요. 다친 곳도 없어고요. 혼다 MECHANIC 그러더라구 안전장치는 사고시 작동해서 최소 사고로 생명을 지켜서 안전하게 해준다고 하더라구요.  그래서 안전성에서 좋은 점수를 얻는 데 이유가 있다고 알게 되었어요. 그런데 10세대부터 CVT 엔진에 4기통으로 바뀌면서 엔진이랑 엔진 누수 문제등등  많아서 이곳에서도 판매가 확 감소했죠. 요즘 일본차들 진짜 진보해요. 토요타나 렉서드도 차종은 많지만 크게 혼다랑 다르지 않은 느낌이에요 . 요즘 이곳에선 KIA TELLURIDE 인기가 많아서 생산량이 판매량이 따라가기 버겁다 하더라구요. 딜러샵에 TELLURIDE가 거의 동이 날 정도에요.어제는  K5가 절 추월해서 잘 달려나가더라구요.  현대 팰레세이드도 많이 보이고요. 고급가전, 차 , 음식문화까지 한국이 진짜 대세에요.\n",
      "==경계선====경계선====경계선====경계선====경계선== \n",
      "\n"
     ]
    }
   ],
   "source": [
    "for error in error_list:\n",
    "    print(df['comments'][error])\n",
    "    print('==경계선=='*5,'\\n')"
   ]
  },
  {
   "cell_type": "code",
   "execution_count": 172,
   "id": "entire-pound",
   "metadata": {},
   "outputs": [],
   "source": [
    "df.to_csv('preprocessed_emotion_labeled_youtube_0607.csv',index=False, encoding ='utf-8-sig')"
   ]
  },
  {
   "cell_type": "code",
   "execution_count": 174,
   "id": "cosmetic-monitoring",
   "metadata": {},
   "outputs": [
    {
     "data": {
      "text/plain": [
       "[17103,\n",
       " 18180,\n",
       " 27566,\n",
       " 32076,\n",
       " 34358,\n",
       " 36063,\n",
       " 36836,\n",
       " 42791,\n",
       " 46919,\n",
       " 51436,\n",
       " 55224,\n",
       " 56643,\n",
       " 60042,\n",
       " 62367,\n",
       " 69413,\n",
       " 81550,\n",
       " 94470,\n",
       " 95811,\n",
       " 97308,\n",
       " 100593,\n",
       " 107524,\n",
       " 119620]"
      ]
     },
     "execution_count": 174,
     "metadata": {},
     "output_type": "execute_result"
    }
   ],
   "source": [
    "error_list"
   ]
  },
  {
   "cell_type": "code",
   "execution_count": 24,
   "id": "toxic-pickup",
   "metadata": {},
   "outputs": [
    {
     "data": {
      "text/html": [
       "<div>\n",
       "<style scoped>\n",
       "    .dataframe tbody tr th:only-of-type {\n",
       "        vertical-align: middle;\n",
       "    }\n",
       "\n",
       "    .dataframe tbody tr th {\n",
       "        vertical-align: top;\n",
       "    }\n",
       "\n",
       "    .dataframe thead th {\n",
       "        text-align: right;\n",
       "    }\n",
       "</style>\n",
       "<table border=\"1\" class=\"dataframe\">\n",
       "  <thead>\n",
       "    <tr style=\"text-align: right;\">\n",
       "      <th></th>\n",
       "      <th>car_brand</th>\n",
       "      <th>car_model</th>\n",
       "      <th>comments</th>\n",
       "      <th>likes</th>\n",
       "      <th>related</th>\n",
       "      <th>emotion</th>\n",
       "    </tr>\n",
       "  </thead>\n",
       "  <tbody>\n",
       "    <tr>\n",
       "      <th>0</th>\n",
       "      <td>BMW</td>\n",
       "      <td>1시리즈</td>\n",
       "      <td>주제 선정 좋아요. 더운 여름 잘 지내세요. 비싼 차, 싼 차, 슈퍼카, 경차 가리...</td>\n",
       "      <td>3</td>\n",
       "      <td>1</td>\n",
       "      <td>0</td>\n",
       "    </tr>\n",
       "    <tr>\n",
       "      <th>1</th>\n",
       "      <td>BMW</td>\n",
       "      <td>1시리즈</td>\n",
       "      <td>주차장시승평잘봤네요ㅋ그냥외관이랑실내평만보면편안할듯ㅋㅋ매력적인차네요세컨으로</td>\n",
       "      <td>3</td>\n",
       "      <td>1</td>\n",
       "      <td>0</td>\n",
       "    </tr>\n",
       "    <tr>\n",
       "      <th>2</th>\n",
       "      <td>BMW</td>\n",
       "      <td>1시리즈</td>\n",
       "      <td>차 가격도 싸고 디자인도 예쁘고 엄청 좋다</td>\n",
       "      <td>5</td>\n",
       "      <td>1</td>\n",
       "      <td>0</td>\n",
       "    </tr>\n",
       "    <tr>\n",
       "      <th>3</th>\n",
       "      <td>BMW</td>\n",
       "      <td>1시리즈</td>\n",
       "      <td>좀끄럽다하셨는데G305시리즈랑어느정도차이가날까요?ㅎㅎ</td>\n",
       "      <td>2</td>\n",
       "      <td>1</td>\n",
       "      <td>0</td>\n",
       "    </tr>\n",
       "    <tr>\n",
       "      <th>4</th>\n",
       "      <td>BMW</td>\n",
       "      <td>1시리즈</td>\n",
       "      <td>그나마 전륜으로 바뀌면서 공간이 좀 쓸 만해졌죠. 이 전 세대 1시리즈는 정말......</td>\n",
       "      <td>2</td>\n",
       "      <td>1</td>\n",
       "      <td>1</td>\n",
       "    </tr>\n",
       "    <tr>\n",
       "      <th>...</th>\n",
       "      <td>...</td>\n",
       "      <td>...</td>\n",
       "      <td>...</td>\n",
       "      <td>...</td>\n",
       "      <td>...</td>\n",
       "      <td>...</td>\n",
       "    </tr>\n",
       "    <tr>\n",
       "      <th>120483</th>\n",
       "      <td>혼다</td>\n",
       "      <td>파일럿</td>\n",
       "      <td>파일럿 오너입니다. 패밀리카로는 정말 최고입니다. 넓은 공간, 조용하고 묵직한 주행...</td>\n",
       "      <td>3</td>\n",
       "      <td>1</td>\n",
       "      <td>0</td>\n",
       "    </tr>\n",
       "    <tr>\n",
       "      <th>120484</th>\n",
       "      <td>혼다</td>\n",
       "      <td>파일럿</td>\n",
       "      <td>제가 아는 현대차 카마스터님과 말투가 너무 비슷하시네요 파일럿 최고죠 할인해줬던 가...</td>\n",
       "      <td>2</td>\n",
       "      <td>1</td>\n",
       "      <td>1</td>\n",
       "    </tr>\n",
       "    <tr>\n",
       "      <th>120485</th>\n",
       "      <td>혼다</td>\n",
       "      <td>파일럿</td>\n",
       "      <td>혼다 변속기 버튼은 헷갈리지 않습니다. 직관적입니다. 현대전자식 변속기가 배워야 할...</td>\n",
       "      <td>4</td>\n",
       "      <td>1</td>\n",
       "      <td>0</td>\n",
       "    </tr>\n",
       "    <tr>\n",
       "      <th>120486</th>\n",
       "      <td>혼다</td>\n",
       "      <td>파일럿</td>\n",
       "      <td>이전에 F10520D 타 신서 기억합니다. 그 이후에 F10520D를 구매해서 타고...</td>\n",
       "      <td>2</td>\n",
       "      <td>1</td>\n",
       "      <td>0</td>\n",
       "    </tr>\n",
       "    <tr>\n",
       "      <th>120487</th>\n",
       "      <td>혼다</td>\n",
       "      <td>파일럿</td>\n",
       "      <td>혼다 파일럿이랑 쉐보레 트래버스 페이스리프트랑 둘 중에 고민입니다. 아기가 셋이라서..</td>\n",
       "      <td>2</td>\n",
       "      <td>1</td>\n",
       "      <td>0</td>\n",
       "    </tr>\n",
       "  </tbody>\n",
       "</table>\n",
       "<p>120488 rows × 6 columns</p>\n",
       "</div>"
      ],
      "text/plain": [
       "       car_brand car_model                                           comments  \\\n",
       "0            BMW      1시리즈  주제 선정 좋아요. 더운 여름 잘 지내세요. 비싼 차, 싼 차, 슈퍼카, 경차 가리...   \n",
       "1            BMW      1시리즈           주차장시승평잘봤네요ㅋ그냥외관이랑실내평만보면편안할듯ㅋㅋ매력적인차네요세컨으로   \n",
       "2            BMW      1시리즈                            차 가격도 싸고 디자인도 예쁘고 엄청 좋다   \n",
       "3            BMW      1시리즈                      좀끄럽다하셨는데G305시리즈랑어느정도차이가날까요?ㅎㅎ   \n",
       "4            BMW      1시리즈  그나마 전륜으로 바뀌면서 공간이 좀 쓸 만해졌죠. 이 전 세대 1시리즈는 정말......   \n",
       "...          ...       ...                                                ...   \n",
       "120483        혼다       파일럿  파일럿 오너입니다. 패밀리카로는 정말 최고입니다. 넓은 공간, 조용하고 묵직한 주행...   \n",
       "120484        혼다       파일럿  제가 아는 현대차 카마스터님과 말투가 너무 비슷하시네요 파일럿 최고죠 할인해줬던 가...   \n",
       "120485        혼다       파일럿  혼다 변속기 버튼은 헷갈리지 않습니다. 직관적입니다. 현대전자식 변속기가 배워야 할...   \n",
       "120486        혼다       파일럿  이전에 F10520D 타 신서 기억합니다. 그 이후에 F10520D를 구매해서 타고...   \n",
       "120487        혼다       파일럿   혼다 파일럿이랑 쉐보레 트래버스 페이스리프트랑 둘 중에 고민입니다. 아기가 셋이라서..   \n",
       "\n",
       "        likes  related  emotion  \n",
       "0           3        1        0  \n",
       "1           3        1        0  \n",
       "2           5        1        0  \n",
       "3           2        1        0  \n",
       "4           2        1        1  \n",
       "...       ...      ...      ...  \n",
       "120483      3        1        0  \n",
       "120484      2        1        1  \n",
       "120485      4        1        0  \n",
       "120486      2        1        0  \n",
       "120487      2        1        0  \n",
       "\n",
       "[120488 rows x 6 columns]"
      ]
     },
     "execution_count": 24,
     "metadata": {},
     "output_type": "execute_result"
    }
   ],
   "source": [
    "sample = pd.read_csv('preprocessed_emotion_labeled_youtube_0607.csv')\n",
    "sample"
   ]
  },
  {
   "cell_type": "code",
   "execution_count": 176,
   "id": "demonstrated-constraint",
   "metadata": {},
   "outputs": [
    {
     "data": {
      "text/plain": [
       "'2016년 혼다 어코드(9세대) 6기통 5년째 타고 있는데  마일리지랑 파워 좋고 안전해서 지금껏 만족스러워요. 2년전에  고속도로(65-70MPH)에서 SEMI TRUCK이랑 사고가 난 적이 있었는데, 대형트럭이  차선 바꾸면서 제 차 못보고 그대로 운전자 앞부분 그대로 받았는데 차가 제일 끝차선에서부터 바깥차선에서 두어번 왔다가다하다 다시 받고 반바퀴 돌고 잘 멈춰서 연쇠 차 사고는 없었어요. 다친 곳도 없어고요. 혼다 MECHANIC 그러더라구 안전장치는 사고시 작동해서 최소 사고로 생명을 지켜서 안전하게 해준다고 하더라구요.  그래서 안전성에서 좋은 점수를 얻는 데 이유가 있다고 알게 되었어요. 그런데 10세대부터 CVT 엔진에 4기통으로 바뀌면서 엔진이랑 엔진 누수 문제등등  많아서 이곳에서도 판매가 확 감소했죠. 요즘 일본차들 진짜 진보해요. 토요타나 렉서드도 차종은 많지만 크게 혼다랑 다르지 않은 느낌이에요 . 요즘 이곳에선 KIA TELLURIDE 인기가 많아서 생산량이 판매량이 따라가기 버겁다 하더라구요. 딜러샵에 TELLURIDE가 거의 동이 날 정도에요.어제는  K5가 절 추월해서 잘 달려나가더라구요.  현대 팰레세이드도 많이 보이고요. 고급가전, 차 , 음식문화까지 한국이 진짜 대세에요.'"
      ]
     },
     "execution_count": 176,
     "metadata": {},
     "output_type": "execute_result"
    }
   ],
   "source": [
    "df['comments'][119620]"
   ]
  },
  {
   "cell_type": "code",
   "execution_count": 175,
   "id": "minus-transport",
   "metadata": {},
   "outputs": [
    {
     "data": {
      "text/plain": [
       "'2016년 혼다 어코드(9세대) 6기통 5년째 타고 있는데  마일리지랑 파워 좋고 안전해서 지금껏 만족스러워요. 2년전에  고속도로(65-70MPH)에서 SEMI TRUCK이랑 사고가 난 적이 있었는데, 대형트럭이  차선 바꾸면서 제 차 못보고 그대로 운전자 앞부분 그대로 받았는데 차가 제일 끝차선에서부터 바깥차선에서 두어번 왔다가다하다 다시 받고 반바퀴 돌고 잘 멈춰서 연쇠 차 사고는 없었어요. 다친 곳도 없어고요. 혼다 MECHANIC 그러더라구 안전장치는 사고시 작동해서 최소 사고로 생명을 지켜서 안전하게 해준다고 하더라구요.  그래서 안전성에서 좋은 점수를 얻는 데 이유가 있다고 알게 되었어요. 그런데 10세대부터 CVT 엔진에 4기통으로 바뀌면서 엔진이랑 엔진 누수 문제등등  많아서 이곳에서도 판매가 확 감소했죠. 요즘 일본차들 진짜 진보해요. 토요타나 렉서드도 차종은 많지만 크게 혼다랑 다르지 않은 느낌이에요 . 요즘 이곳에선 KIA TELLURIDE 인기가 많아서 생산량이 판매량이 따라가기 버겁다 하더라구요. 딜러샵에 TELLURIDE가 거의 동이 날 정도에요.어제는  K5가 절 추월해서 잘 달려나가더라구요.  현대 팰레세이드도 많이 보이고요. 고급가전, 차 , 음식문화까지 한국이 진짜 대세에요.'"
      ]
     },
     "execution_count": 175,
     "metadata": {},
     "output_type": "execute_result"
    }
   ],
   "source": [
    "sample['comments'][119620]"
   ]
  },
  {
   "cell_type": "markdown",
   "id": "first-allah",
   "metadata": {},
   "source": [
    "# 국산 수입 top3에 대해서 관련리뷰 비율 표시\n",
    "# 국산 수입별 모델의 top3에 대한 비율표시\n",
    "# 차종에 대한 비율표시 >\n",
    "- 통계 시각화 자료 제공\n",
    "- 현대, 기아, 한국GM >> 각 관련 리뷰에서 많이 언급된 단어 3~5개 정도 보여주는형식"
   ]
  },
  {
   "cell_type": "code",
   "execution_count": 9,
   "id": "automatic-joyce",
   "metadata": {},
   "outputs": [
    {
     "data": {
      "text/html": [
       "<div>\n",
       "<style scoped>\n",
       "    .dataframe tbody tr th:only-of-type {\n",
       "        vertical-align: middle;\n",
       "    }\n",
       "\n",
       "    .dataframe tbody tr th {\n",
       "        vertical-align: top;\n",
       "    }\n",
       "\n",
       "    .dataframe thead th {\n",
       "        text-align: right;\n",
       "    }\n",
       "</style>\n",
       "<table border=\"1\" class=\"dataframe\">\n",
       "  <thead>\n",
       "    <tr style=\"text-align: right;\">\n",
       "      <th></th>\n",
       "      <th>car_brand</th>\n",
       "      <th>car_model</th>\n",
       "      <th>comments</th>\n",
       "      <th>likes</th>\n",
       "      <th>related</th>\n",
       "      <th>emotion</th>\n",
       "    </tr>\n",
       "  </thead>\n",
       "  <tbody>\n",
       "    <tr>\n",
       "      <th>0</th>\n",
       "      <td>BMW</td>\n",
       "      <td>1시리즈</td>\n",
       "      <td>주제 선정 좋아요. 더운 여름 잘 지내세요. 비싼 차, 싼 차, 슈퍼카, 경차 가리...</td>\n",
       "      <td>3</td>\n",
       "      <td>1</td>\n",
       "      <td>0</td>\n",
       "    </tr>\n",
       "    <tr>\n",
       "      <th>1</th>\n",
       "      <td>BMW</td>\n",
       "      <td>1시리즈</td>\n",
       "      <td>주차장시승평잘봤네요ㅋ그냥외관이랑실내평만보면편안할듯ㅋㅋ매력적인차네요세컨으로</td>\n",
       "      <td>3</td>\n",
       "      <td>1</td>\n",
       "      <td>0</td>\n",
       "    </tr>\n",
       "    <tr>\n",
       "      <th>2</th>\n",
       "      <td>BMW</td>\n",
       "      <td>1시리즈</td>\n",
       "      <td>차 가격도 싸고 디자인도 예쁘고 엄청 좋다</td>\n",
       "      <td>5</td>\n",
       "      <td>1</td>\n",
       "      <td>0</td>\n",
       "    </tr>\n",
       "    <tr>\n",
       "      <th>3</th>\n",
       "      <td>BMW</td>\n",
       "      <td>1시리즈</td>\n",
       "      <td>좀끄럽다하셨는데G305시리즈랑어느정도차이가날까요?ㅎㅎ</td>\n",
       "      <td>2</td>\n",
       "      <td>1</td>\n",
       "      <td>0</td>\n",
       "    </tr>\n",
       "    <tr>\n",
       "      <th>4</th>\n",
       "      <td>BMW</td>\n",
       "      <td>1시리즈</td>\n",
       "      <td>그나마 전륜으로 바뀌면서 공간이 좀 쓸 만해졌죠. 이 전 세대 1시리즈는 정말......</td>\n",
       "      <td>2</td>\n",
       "      <td>1</td>\n",
       "      <td>1</td>\n",
       "    </tr>\n",
       "    <tr>\n",
       "      <th>...</th>\n",
       "      <td>...</td>\n",
       "      <td>...</td>\n",
       "      <td>...</td>\n",
       "      <td>...</td>\n",
       "      <td>...</td>\n",
       "      <td>...</td>\n",
       "    </tr>\n",
       "    <tr>\n",
       "      <th>120483</th>\n",
       "      <td>혼다</td>\n",
       "      <td>파일럿</td>\n",
       "      <td>파일럿 오너입니다. 패밀리카로는 정말 최고입니다. 넓은 공간, 조용하고 묵직한 주행...</td>\n",
       "      <td>3</td>\n",
       "      <td>1</td>\n",
       "      <td>0</td>\n",
       "    </tr>\n",
       "    <tr>\n",
       "      <th>120484</th>\n",
       "      <td>혼다</td>\n",
       "      <td>파일럿</td>\n",
       "      <td>제가 아는 현대차 카마스터님과 말투가 너무 비슷하시네요 파일럿 최고죠 할인해줬던 가...</td>\n",
       "      <td>2</td>\n",
       "      <td>1</td>\n",
       "      <td>1</td>\n",
       "    </tr>\n",
       "    <tr>\n",
       "      <th>120485</th>\n",
       "      <td>혼다</td>\n",
       "      <td>파일럿</td>\n",
       "      <td>혼다 변속기 버튼은 헷갈리지 않습니다. 직관적입니다. 현대전자식 변속기가 배워야 할...</td>\n",
       "      <td>4</td>\n",
       "      <td>1</td>\n",
       "      <td>0</td>\n",
       "    </tr>\n",
       "    <tr>\n",
       "      <th>120486</th>\n",
       "      <td>혼다</td>\n",
       "      <td>파일럿</td>\n",
       "      <td>이전에 F10520D 타 신서 기억합니다. 그 이후에 F10520D를 구매해서 타고...</td>\n",
       "      <td>2</td>\n",
       "      <td>1</td>\n",
       "      <td>0</td>\n",
       "    </tr>\n",
       "    <tr>\n",
       "      <th>120487</th>\n",
       "      <td>혼다</td>\n",
       "      <td>파일럿</td>\n",
       "      <td>혼다 파일럿이랑 쉐보레 트래버스 페이스리프트랑 둘 중에 고민입니다. 아기가 셋이라서..</td>\n",
       "      <td>2</td>\n",
       "      <td>1</td>\n",
       "      <td>0</td>\n",
       "    </tr>\n",
       "  </tbody>\n",
       "</table>\n",
       "<p>120488 rows × 6 columns</p>\n",
       "</div>"
      ],
      "text/plain": [
       "       car_brand car_model                                           comments  \\\n",
       "0            BMW      1시리즈  주제 선정 좋아요. 더운 여름 잘 지내세요. 비싼 차, 싼 차, 슈퍼카, 경차 가리...   \n",
       "1            BMW      1시리즈           주차장시승평잘봤네요ㅋ그냥외관이랑실내평만보면편안할듯ㅋㅋ매력적인차네요세컨으로   \n",
       "2            BMW      1시리즈                            차 가격도 싸고 디자인도 예쁘고 엄청 좋다   \n",
       "3            BMW      1시리즈                      좀끄럽다하셨는데G305시리즈랑어느정도차이가날까요?ㅎㅎ   \n",
       "4            BMW      1시리즈  그나마 전륜으로 바뀌면서 공간이 좀 쓸 만해졌죠. 이 전 세대 1시리즈는 정말......   \n",
       "...          ...       ...                                                ...   \n",
       "120483        혼다       파일럿  파일럿 오너입니다. 패밀리카로는 정말 최고입니다. 넓은 공간, 조용하고 묵직한 주행...   \n",
       "120484        혼다       파일럿  제가 아는 현대차 카마스터님과 말투가 너무 비슷하시네요 파일럿 최고죠 할인해줬던 가...   \n",
       "120485        혼다       파일럿  혼다 변속기 버튼은 헷갈리지 않습니다. 직관적입니다. 현대전자식 변속기가 배워야 할...   \n",
       "120486        혼다       파일럿  이전에 F10520D 타 신서 기억합니다. 그 이후에 F10520D를 구매해서 타고...   \n",
       "120487        혼다       파일럿   혼다 파일럿이랑 쉐보레 트래버스 페이스리프트랑 둘 중에 고민입니다. 아기가 셋이라서..   \n",
       "\n",
       "        likes  related  emotion  \n",
       "0           3        1        0  \n",
       "1           3        1        0  \n",
       "2           5        1        0  \n",
       "3           2        1        0  \n",
       "4           2        1        1  \n",
       "...       ...      ...      ...  \n",
       "120483      3        1        0  \n",
       "120484      2        1        1  \n",
       "120485      4        1        0  \n",
       "120486      2        1        0  \n",
       "120487      2        1        0  \n",
       "\n",
       "[120488 rows x 6 columns]"
      ]
     },
     "execution_count": 9,
     "metadata": {},
     "output_type": "execute_result"
    }
   ],
   "source": [
    "df = pd.read_csv('preprocessed_emotion_labeled_youtube_0607.csv')"
   ]
  },
  {
   "cell_type": "code",
   "execution_count": null,
   "id": "potential-sewing",
   "metadata": {},
   "outputs": [],
   "source": [
    "# -1 중립, 0 긍정, 1 부정"
   ]
  },
  {
   "cell_type": "code",
   "execution_count": 15,
   "id": "standard-tender",
   "metadata": {},
   "outputs": [
    {
     "data": {
      "text/plain": [
       "1943"
      ]
     },
     "execution_count": 15,
     "metadata": {},
     "output_type": "execute_result"
    }
   ],
   "source": [
    "len(df[df['emotion'] == -1])"
   ]
  },
  {
   "cell_type": "code",
   "execution_count": null,
   "id": "dated-mason",
   "metadata": {},
   "outputs": [],
   "source": []
  },
  {
   "cell_type": "code",
   "execution_count": 22,
   "id": "loose-miami",
   "metadata": {},
   "outputs": [
    {
     "data": {
      "text/plain": [
       "([<matplotlib.patches.Wedge at 0x7fae96f14978>,\n",
       "  <matplotlib.patches.Wedge at 0x7fae96f38e80>,\n",
       "  <matplotlib.patches.Wedge at 0x7fae96ef97b8>],\n",
       " [Text(1.09952598376305, 0.33696084495071155, '긍정'),\n",
       "  Text(-1.081051617718019, -0.39220836277322596, '부정'),\n",
       "  Text(-0.058235769007604965, 1.1485245296501476, '중립')],\n",
       " [Text(0.6214712082138978, 0.19045612975475, '40.5%'),\n",
       "  Text(-0.6110291752319237, -0.221682987654432, '57.9%'),\n",
       "  Text(-0.032915869439081064, 0.6491660384979095, '1.6%')])"
      ]
     },
     "execution_count": 22,
     "metadata": {},
     "output_type": "execute_result"
    },
    {
     "data": {
      "image/png": "[encoded data removed]",
      "text/plain": [
       "<Figure size 720x720 with 1 Axes>"
      ]
     },
     "metadata": {},
     "output_type": "display_data"
    }
   ],
   "source": [
    "data= [len(df[df['emotion'] == 0]),len(df[df['emotion'] == 1]),len(df[df['emotion'] == -1])]\n",
    "labels = ['긍정','부정','중립']\n",
    "colors = ['#ffc000','#ff9999','#9370db']\n",
    "explode = [0.05 for x in range(len(data))]\n",
    "\n",
    "plt.figure(figsize=(10,10))\n",
    "plt.title('긍정/부정 비율', fontsize = 20)\n",
    "plt.pie(data,\n",
    "        labels = labels,\n",
    "        autopct='%.1f%%',\n",
    "       startangle = 90,\n",
    "       counterclock=False,\n",
    "       textprops = {'fontsize':22}, shadow=True, colors = colors, explode = explode)"
   ]
  },
  {
   "cell_type": "code",
   "execution_count": null,
   "id": "turned-diameter",
   "metadata": {},
   "outputs": [],
   "source": []
  }
 ],
 "metadata": {
  "kernelspec": {
   "display_name": "base",
   "language": "python",
   "name": "python3"
  },
  "language_info": {
   "codemirror_mode": {
    "name": "ipython",
    "version": 3
   },
   "file_extension": ".py",
   "mimetype": "text/x-python",
   "name": "python",
   "nbconvert_exporter": "python",
   "pygments_lexer": "ipython3",
   "version": "3.9.13"
  },
  "vscode": {
   "interpreter": {
    "hash": "be2517f0feb489e290cccb74b7dabccd7b6a1f197c02cc458b833651a31ac115"
   }
  }
 },
 "nbformat": 4,
 "nbformat_minor": 5
}
