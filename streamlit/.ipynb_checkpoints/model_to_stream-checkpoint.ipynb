{
 "cells": [
  {
   "cell_type": "code",
   "execution_count": 1,
   "id": "ee7beb7c",
   "metadata": {},
   "outputs": [],
   "source": [
    "import pandas as pd\n",
    "import numpy as np\n",
    "import matplotlib.pyplot as plt\n",
    "import seaborn as sns\n",
    "import os\n",
    "import math\n",
    "pd.set_option(\"display.max_columns\", None)"
   ]
  },
  {
   "cell_type": "code",
   "execution_count": 2,
   "id": "2d78ebd4",
   "metadata": {},
   "outputs": [],
   "source": [
    "from sklearn.model_selection import train_test_split\n",
    "from sklearn.metrics import accuracy_score, confusion_matrix,r2_score,mean_absolute_error,mean_squared_error\n",
    "from sklearn import preprocessing\n",
    "from sklearn.ensemble import RandomForestRegressor\n",
    "from sklearn.preprocessing import StandardScaler\n",
    "from sklearn.model_selection import GridSearchCV\n",
    "import xgboost\n",
    "import joblib\n",
    "%matplotlib inline"
   ]
  },
  {
   "cell_type": "code",
   "execution_count": 3,
   "id": "097b41c9",
   "metadata": {},
   "outputs": [],
   "source": [
    "df = pd.read_csv('usedcar_total_0608.csv')"
   ]
  },
  {
   "cell_type": "code",
   "execution_count": 4,
   "id": "323501ee",
   "metadata": {
    "scrolled": true
   },
   "outputs": [
    {
     "name": "stdout",
     "output_type": "stream",
     "text": [
      "<class 'pandas.core.frame.DataFrame'>\n",
      "RangeIndex: 89890 entries, 0 to 89889\n",
      "Data columns (total 32 columns):\n",
      " #   Column         Non-Null Count  Dtype  \n",
      "---  ------         --------------  -----  \n",
      " 0   car_url        89890 non-null  int64  \n",
      " 1   car_area       89890 non-null  object \n",
      " 2   car_no         89890 non-null  object \n",
      " 3   car_brand      89890 non-null  object \n",
      " 4   nation         89890 non-null  object \n",
      " 5   car_model      89890 non-null  object \n",
      " 6   car_name       89890 non-null  object \n",
      " 7   name_detailed  89890 non-null  object \n",
      " 8   new_price      89890 non-null  int64  \n",
      " 9   price          89890 non-null  int64  \n",
      " 10  year           89890 non-null  int64  \n",
      " 11  use            89890 non-null  int64  \n",
      " 12  depreciation   89890 non-null  int64  \n",
      " 13  mileage        89890 non-null  int64  \n",
      " 14  fuel           89890 non-null  object \n",
      " 15  forecast_min   89890 non-null  int64  \n",
      " 16  forecast_max   89890 non-null  int64  \n",
      " 17  car_type       89890 non-null  object \n",
      " 18  car_cc         89890 non-null  int64  \n",
      " 19  color          89890 non-null  object \n",
      " 20  trans          89890 non-null  object \n",
      " 21  loss           89890 non-null  object \n",
      " 22  flood          89890 non-null  object \n",
      " 23  usage          89890 non-null  object \n",
      " 24  change         89890 non-null  int64  \n",
      " 25  insurance      89890 non-null  object \n",
      " 26  sales_corp     89890 non-null  object \n",
      " 27  sales_loca     89890 non-null  object \n",
      " 28  lat            89890 non-null  float64\n",
      " 29  lng            89890 non-null  float64\n",
      " 30  options        89890 non-null  object \n",
      " 31  options_count  89890 non-null  int64  \n",
      "dtypes: float64(2), int64(12), object(18)\n",
      "memory usage: 21.9+ MB\n"
     ]
    }
   ],
   "source": [
    "df.info()"
   ]
  },
  {
   "cell_type": "markdown",
   "id": "4775df5b",
   "metadata": {},
   "source": [
    "### 유튜브데이터와 연결성 확보를 위해서 'X'에서 'car_name'을 'car_model'로 통일시켜서 다시 진행했습니다"
   ]
  },
  {
   "cell_type": "code",
   "execution_count": 5,
   "id": "81c04f0b",
   "metadata": {},
   "outputs": [],
   "source": [
    "X = df[['use','nation','car_brand','car_model','mileage','year','car_type','fuel','trans','loss','flood','usage','change','insurance']] \n",
    "Y = df[['depreciation']]"
   ]
  },
  {
   "cell_type": "code",
   "execution_count": 6,
   "id": "12ff1a15",
   "metadata": {},
   "outputs": [
    {
     "data": {
      "text/html": [
       "<div>\n",
       "<style scoped>\n",
       "    .dataframe tbody tr th:only-of-type {\n",
       "        vertical-align: middle;\n",
       "    }\n",
       "\n",
       "    .dataframe tbody tr th {\n",
       "        vertical-align: top;\n",
       "    }\n",
       "\n",
       "    .dataframe thead th {\n",
       "        text-align: right;\n",
       "    }\n",
       "</style>\n",
       "<table border=\"1\" class=\"dataframe\">\n",
       "  <thead>\n",
       "    <tr style=\"text-align: right;\">\n",
       "      <th></th>\n",
       "      <th>use</th>\n",
       "      <th>nation</th>\n",
       "      <th>car_brand</th>\n",
       "      <th>car_model</th>\n",
       "      <th>mileage</th>\n",
       "      <th>year</th>\n",
       "      <th>car_type</th>\n",
       "      <th>fuel</th>\n",
       "      <th>trans</th>\n",
       "      <th>loss</th>\n",
       "      <th>flood</th>\n",
       "      <th>usage</th>\n",
       "      <th>change</th>\n",
       "      <th>insurance</th>\n",
       "    </tr>\n",
       "  </thead>\n",
       "  <tbody>\n",
       "    <tr>\n",
       "      <th>0</th>\n",
       "      <td>103</td>\n",
       "      <td>국산</td>\n",
       "      <td>한국GM</td>\n",
       "      <td>올란도</td>\n",
       "      <td>131493</td>\n",
       "      <td>2013</td>\n",
       "      <td>RV</td>\n",
       "      <td>LPG</td>\n",
       "      <td>오토</td>\n",
       "      <td>없음</td>\n",
       "      <td>없음</td>\n",
       "      <td>없음</td>\n",
       "      <td>1</td>\n",
       "      <td>있음</td>\n",
       "    </tr>\n",
       "    <tr>\n",
       "      <th>1</th>\n",
       "      <td>52</td>\n",
       "      <td>국산</td>\n",
       "      <td>한국GM</td>\n",
       "      <td>트랙스</td>\n",
       "      <td>60000</td>\n",
       "      <td>2018</td>\n",
       "      <td>SUV</td>\n",
       "      <td>디젤</td>\n",
       "      <td>오토</td>\n",
       "      <td>없음</td>\n",
       "      <td>없음</td>\n",
       "      <td>있음</td>\n",
       "      <td>2</td>\n",
       "      <td>없음</td>\n",
       "    </tr>\n",
       "    <tr>\n",
       "      <th>2</th>\n",
       "      <td>57</td>\n",
       "      <td>국산</td>\n",
       "      <td>한국GM</td>\n",
       "      <td>스파크</td>\n",
       "      <td>133319</td>\n",
       "      <td>2017</td>\n",
       "      <td>경차</td>\n",
       "      <td>가솔린</td>\n",
       "      <td>오토</td>\n",
       "      <td>없음</td>\n",
       "      <td>없음</td>\n",
       "      <td>없음</td>\n",
       "      <td>1</td>\n",
       "      <td>없음</td>\n",
       "    </tr>\n",
       "    <tr>\n",
       "      <th>3</th>\n",
       "      <td>48</td>\n",
       "      <td>국산</td>\n",
       "      <td>한국GM</td>\n",
       "      <td>크루즈</td>\n",
       "      <td>90000</td>\n",
       "      <td>2017</td>\n",
       "      <td>준중형</td>\n",
       "      <td>가솔린</td>\n",
       "      <td>오토</td>\n",
       "      <td>없음</td>\n",
       "      <td>없음</td>\n",
       "      <td>있음</td>\n",
       "      <td>1</td>\n",
       "      <td>있음</td>\n",
       "    </tr>\n",
       "    <tr>\n",
       "      <th>4</th>\n",
       "      <td>131</td>\n",
       "      <td>국산</td>\n",
       "      <td>한국GM</td>\n",
       "      <td>알페온</td>\n",
       "      <td>159474</td>\n",
       "      <td>2011</td>\n",
       "      <td>대형</td>\n",
       "      <td>가솔린</td>\n",
       "      <td>오토</td>\n",
       "      <td>없음</td>\n",
       "      <td>없음</td>\n",
       "      <td>없음</td>\n",
       "      <td>1</td>\n",
       "      <td>있음</td>\n",
       "    </tr>\n",
       "    <tr>\n",
       "      <th>...</th>\n",
       "      <td>...</td>\n",
       "      <td>...</td>\n",
       "      <td>...</td>\n",
       "      <td>...</td>\n",
       "      <td>...</td>\n",
       "      <td>...</td>\n",
       "      <td>...</td>\n",
       "      <td>...</td>\n",
       "      <td>...</td>\n",
       "      <td>...</td>\n",
       "      <td>...</td>\n",
       "      <td>...</td>\n",
       "      <td>...</td>\n",
       "      <td>...</td>\n",
       "    </tr>\n",
       "    <tr>\n",
       "      <th>89885</th>\n",
       "      <td>188</td>\n",
       "      <td>국산</td>\n",
       "      <td>기아</td>\n",
       "      <td>카니발</td>\n",
       "      <td>196000</td>\n",
       "      <td>2006</td>\n",
       "      <td>RV</td>\n",
       "      <td>디젤</td>\n",
       "      <td>오토</td>\n",
       "      <td>없음</td>\n",
       "      <td>없음</td>\n",
       "      <td>없음</td>\n",
       "      <td>7</td>\n",
       "      <td>있음</td>\n",
       "    </tr>\n",
       "    <tr>\n",
       "      <th>89886</th>\n",
       "      <td>141</td>\n",
       "      <td>국산</td>\n",
       "      <td>기아</td>\n",
       "      <td>K5</td>\n",
       "      <td>83844</td>\n",
       "      <td>2011</td>\n",
       "      <td>중형</td>\n",
       "      <td>LPG</td>\n",
       "      <td>오토</td>\n",
       "      <td>없음</td>\n",
       "      <td>없음</td>\n",
       "      <td>없음</td>\n",
       "      <td>3</td>\n",
       "      <td>있음</td>\n",
       "    </tr>\n",
       "    <tr>\n",
       "      <th>89887</th>\n",
       "      <td>143</td>\n",
       "      <td>국산</td>\n",
       "      <td>기아</td>\n",
       "      <td>봉고</td>\n",
       "      <td>215000</td>\n",
       "      <td>2010</td>\n",
       "      <td>트럭</td>\n",
       "      <td>디젤</td>\n",
       "      <td>수동</td>\n",
       "      <td>없음</td>\n",
       "      <td>없음</td>\n",
       "      <td>없음</td>\n",
       "      <td>2</td>\n",
       "      <td>없음</td>\n",
       "    </tr>\n",
       "    <tr>\n",
       "      <th>89888</th>\n",
       "      <td>134</td>\n",
       "      <td>국산</td>\n",
       "      <td>기아</td>\n",
       "      <td>모하비</td>\n",
       "      <td>83386</td>\n",
       "      <td>2011</td>\n",
       "      <td>SUV</td>\n",
       "      <td>디젤</td>\n",
       "      <td>오토</td>\n",
       "      <td>없음</td>\n",
       "      <td>없음</td>\n",
       "      <td>없음</td>\n",
       "      <td>2</td>\n",
       "      <td>없음</td>\n",
       "    </tr>\n",
       "    <tr>\n",
       "      <th>89889</th>\n",
       "      <td>180</td>\n",
       "      <td>국산</td>\n",
       "      <td>기아</td>\n",
       "      <td>카니발</td>\n",
       "      <td>225230</td>\n",
       "      <td>2007</td>\n",
       "      <td>RV</td>\n",
       "      <td>디젤</td>\n",
       "      <td>오토</td>\n",
       "      <td>없음</td>\n",
       "      <td>없음</td>\n",
       "      <td>없음</td>\n",
       "      <td>5</td>\n",
       "      <td>있음</td>\n",
       "    </tr>\n",
       "  </tbody>\n",
       "</table>\n",
       "<p>89890 rows × 14 columns</p>\n",
       "</div>"
      ],
      "text/plain": [
       "       use nation car_brand car_model  mileage  year car_type fuel trans loss  \\\n",
       "0      103     국산      한국GM       올란도   131493  2013       RV  LPG    오토   없음   \n",
       "1       52     국산      한국GM       트랙스    60000  2018      SUV   디젤    오토   없음   \n",
       "2       57     국산      한국GM       스파크   133319  2017       경차  가솔린    오토   없음   \n",
       "3       48     국산      한국GM       크루즈    90000  2017      준중형  가솔린    오토   없음   \n",
       "4      131     국산      한국GM       알페온   159474  2011       대형  가솔린    오토   없음   \n",
       "...    ...    ...       ...       ...      ...   ...      ...  ...   ...  ...   \n",
       "89885  188     국산        기아       카니발   196000  2006       RV   디젤    오토   없음   \n",
       "89886  141     국산        기아        K5    83844  2011       중형  LPG    오토   없음   \n",
       "89887  143     국산        기아        봉고   215000  2010       트럭   디젤    수동   없음   \n",
       "89888  134     국산        기아       모하비    83386  2011      SUV   디젤    오토   없음   \n",
       "89889  180     국산        기아       카니발   225230  2007       RV   디젤    오토   없음   \n",
       "\n",
       "      flood usage  change insurance  \n",
       "0        없음    없음       1        있음  \n",
       "1        없음    있음       2        없음  \n",
       "2        없음    없음       1        없음  \n",
       "3        없음    있음       1        있음  \n",
       "4        없음    없음       1        있음  \n",
       "...     ...   ...     ...       ...  \n",
       "89885    없음    없음       7        있음  \n",
       "89886    없음    없음       3        있음  \n",
       "89887    없음    없음       2        없음  \n",
       "89888    없음    없음       2        없음  \n",
       "89889    없음    없음       5        있음  \n",
       "\n",
       "[89890 rows x 14 columns]"
      ]
     },
     "execution_count": 6,
     "metadata": {},
     "output_type": "execute_result"
    }
   ],
   "source": [
    "X"
   ]
  },
  {
   "cell_type": "code",
   "execution_count": 7,
   "id": "ad478fd6",
   "metadata": {},
   "outputs": [],
   "source": [
    "encoded_X = pd.get_dummies(data = X, columns = ['nation','car_brand','car_model','car_type','fuel','trans','loss','flood','usage','insurance'])"
   ]
  },
  {
   "cell_type": "code",
   "execution_count": 8,
   "id": "8e52aa05",
   "metadata": {},
   "outputs": [
    {
     "name": "stderr",
     "output_type": "stream",
     "text": [
      "/Users/parkjubro/miniforge3/envs/semi_proj/lib/python3.9/site-packages/sklearn/base.py:329: UserWarning: Trying to unpickle estimator StandardScaler from version 1.0.2 when using version 1.1.0. This might lead to breaking code or invalid results. Use at your own risk. For more info please refer to:\n",
      "https://scikit-learn.org/stable/modules/model_persistence.html#security-maintainability-limitations\n",
      "  warnings.warn(\n"
     ]
    }
   ],
   "source": [
    "scaler = joblib.load('s_scale_0608.pkl')\n",
    "scaled_X= scaler.transform(encoded_X)"
   ]
  },
  {
   "cell_type": "code",
   "execution_count": 9,
   "id": "db436647",
   "metadata": {},
   "outputs": [],
   "source": [
    "X_train, X_test, y_train, y_test = train_test_split(scaled_X,Y, random_state = 5, test_size = 0.25)"
   ]
  },
  {
   "cell_type": "code",
   "execution_count": 10,
   "id": "0463f333",
   "metadata": {},
   "outputs": [],
   "source": [
    "xgb_reg = xgboost.XGBRegressor(learning_rate = 0.5,\n",
    "                               n_estimators = 200)"
   ]
  },
  {
   "cell_type": "code",
   "execution_count": null,
   "id": "0b7b0633",
   "metadata": {},
   "outputs": [],
   "source": [
    "xgb_reg.fit(X_train, np.ravel(y_train))"
   ]
  },
  {
   "cell_type": "code",
   "execution_count": null,
   "id": "85580308",
   "metadata": {},
   "outputs": [],
   "source": [
    "# 모델명 변경해주기\n",
    "\n",
    "xgb_reg_predict = xgb_reg.predict(X_test)"
   ]
  },
  {
   "cell_type": "code",
   "execution_count": null,
   "id": "b9825973",
   "metadata": {},
   "outputs": [],
   "source": [
    "# 모델명, acc.append 부분 model 이름 변경해주기\n",
    "\n",
    "print(f'train acc : {xgb_reg.score(X_train, y_train)}')\n",
    "print(f'test acc : {xgb_reg.score(X_test, y_test)}')\n",
    "print(f'MAE : {mean_absolute_error(y_test, xgb_reg_predict)}')\n",
    "print(f'MSE : {mean_squared_error(y_test, xgb_reg_predict)}')"
   ]
  },
  {
   "cell_type": "code",
   "execution_count": null,
   "id": "7f98296b",
   "metadata": {},
   "outputs": [],
   "source": [
    "plt.figure(figsize=(8, 8))\n",
    "\n",
    "ax1 = sns.distplot(y_test, hist=False, color=\"r\", label=\"Actual Value\")\n",
    "sns.distplot(xgb_reg_predict, hist=False, color=\"b\", label=\"Predict Values\" , ax=ax1)\n",
    "\n",
    "plt.title('Actual vs Predict Values for Depreciation ')\n",
    "plt.xlabel('Usedcar Depreciation  rate')\n",
    "plt.ylabel('Proportion of Cars')\n",
    "\n",
    "plt.show()\n",
    "plt.close()"
   ]
  },
  {
   "cell_type": "markdown",
   "id": "30437816",
   "metadata": {},
   "source": [
    "## 모델저장하고 불러오기"
   ]
  },
  {
   "cell_type": "code",
   "execution_count": null,
   "id": "f54eab9c",
   "metadata": {},
   "outputs": [],
   "source": [
    "joblib.dump(xgb_reg, 'xgb_reg_0608.pkl')"
   ]
  },
  {
   "cell_type": "code",
   "execution_count": null,
   "id": "8eba4bf5",
   "metadata": {},
   "outputs": [],
   "source": [
    "encoded_X.loc[:0]"
   ]
  },
  {
   "cell_type": "code",
   "execution_count": null,
   "id": "66cc1c35",
   "metadata": {},
   "outputs": [],
   "source": [
    "searh_car = encoded_X.loc[:0]\n",
    "searh_car"
   ]
  },
  {
   "cell_type": "code",
   "execution_count": null,
   "id": "95cc03f0",
   "metadata": {},
   "outputs": [],
   "source": [
    "searh_car.to_csv('search_vector_0608.csv', index = False)"
   ]
  },
  {
   "cell_type": "code",
   "execution_count": null,
   "id": "4f32a7bd",
   "metadata": {},
   "outputs": [],
   "source": []
  },
  {
   "cell_type": "code",
   "execution_count": null,
   "id": "bab17893",
   "metadata": {},
   "outputs": [],
   "source": []
  },
  {
   "cell_type": "code",
   "execution_count": null,
   "id": "3eb4d7e9",
   "metadata": {},
   "outputs": [],
   "source": []
  },
  {
   "cell_type": "code",
   "execution_count": null,
   "id": "e541520d",
   "metadata": {},
   "outputs": [],
   "source": []
  },
  {
   "cell_type": "code",
   "execution_count": null,
   "id": "22426957",
   "metadata": {},
   "outputs": [],
   "source": []
  },
  {
   "cell_type": "code",
   "execution_count": null,
   "id": "8c23d3f8",
   "metadata": {},
   "outputs": [],
   "source": []
  },
  {
   "cell_type": "code",
   "execution_count": null,
   "id": "2421d93f",
   "metadata": {},
   "outputs": [],
   "source": []
  },
  {
   "cell_type": "markdown",
   "id": "d41c4b2d",
   "metadata": {},
   "source": [
    "## 서비스 구현을 위한 입력변수 받아서 예측하기"
   ]
  },
  {
   "cell_type": "code",
   "execution_count": null,
   "id": "4b6cad0f",
   "metadata": {},
   "outputs": [],
   "source": [
    "encoded_X.loc[:1]"
   ]
  },
  {
   "cell_type": "code",
   "execution_count": null,
   "id": "bd6903d8",
   "metadata": {},
   "outputs": [],
   "source": [
    "searh_car = encoded_X.loc[:0]\n",
    "searh_car"
   ]
  },
  {
   "cell_type": "code",
   "execution_count": null,
   "id": "f951caa8",
   "metadata": {},
   "outputs": [],
   "source": [
    "searh_car.info()"
   ]
  },
  {
   "cell_type": "code",
   "execution_count": null,
   "id": "e30aa542",
   "metadata": {},
   "outputs": [],
   "source": [
    "for i,column in enumerate(searh_car.columns):\n",
    "    if i <= 3 :\n",
    "        searh_car[column][0] = 0\n",
    "    else :\n",
    "        searh_car[column][0] = np.uint8(0)"
   ]
  },
  {
   "cell_type": "code",
   "execution_count": null,
   "id": "a099fdc3",
   "metadata": {},
   "outputs": [],
   "source": [
    "searh_car.info()"
   ]
  },
  {
   "cell_type": "markdown",
   "id": "df3eed5b",
   "metadata": {},
   "source": [
    "## 비교를 위한 하나의 예시 가져오기"
   ]
  },
  {
   "cell_type": "code",
   "execution_count": null,
   "id": "a93d351e",
   "metadata": {},
   "outputs": [],
   "source": [
    "print(X_test[66])\n",
    "print(y_test.iloc[66])"
   ]
  },
  {
   "cell_type": "code",
   "execution_count": null,
   "id": "0e8de856",
   "metadata": {},
   "outputs": [],
   "source": [
    "df.loc[40604:40604]"
   ]
  },
  {
   "cell_type": "markdown",
   "id": "93d16196",
   "metadata": {},
   "source": [
    "## 변수 입력받기"
   ]
  },
  {
   "cell_type": "code",
   "execution_count": null,
   "id": "59c79a45",
   "metadata": {},
   "outputs": [],
   "source": [
    "new_car = int(input('신차가격을 숫자만 입력해주세요(단위 : 만원)(ex 7000) :')) # 최종감가상각률에 잔존가치 금액으로 반환하기 위함\n",
    "use = int(input('사용개월 수를 숫자만 작성해주세요(ex 1년 >> 12) : ')) \n",
    "mileage = int(input('주행거리를 숫자만 입력해주세요(단위 : km)(ex 50000) : '))\n",
    "year = int(input('차량의 연식을 4자리 형태의 숫자만 입력해주세요(ex 2018) : '))\n",
    "change = int(input('소유주 변경횟수를 숫자만 입력해주세요(ex 3) : '))\n",
    "\n",
    "\n",
    "nation  = (input(f'{df.nation.unique()} 에서 선택해주세요 : '))\n",
    "car_brand = input(f\"{df[df['nation'] == nation]['car_brand'].unique()} 에서 선택해주세요 : \")\n",
    "car_model = input(f\"{df[df['car_brand'] == car_brand]['car_model'].unique()} 에서 선택해주세요 : \")\n",
    "car_type = input(f'{df.car_type.unique()} 에서 선택해주세요 : ')\n",
    "fuel = input(f'{df.fuel.unique()} 에서 선택해주세요 : ')\n",
    "trans = input(f'{df.trans.unique()} 에서 선택해주세요 : ')\n",
    "loss = input(f'전손이력을 {df.loss.unique()} 에서 선택해주세요 : ')\n",
    "flood = input(f'침수이력을 {df.flood.unique()} 에서 선택해주세요 : ')\n",
    "usage = input(f'용도이력을 {df.usage.unique()} 에서 선택해주세요 : ')\n",
    "insurance = input(f'보험사고정보를 {df.insurance.unique()} 에서 선택해주세요 : ')"
   ]
  },
  {
   "cell_type": "code",
   "execution_count": null,
   "id": "8e2a5cab",
   "metadata": {},
   "outputs": [],
   "source": [
    "searh_car['use'] = use\n",
    "searh_car['mileage'] = mileage\n",
    "searh_car['year'] = year\n",
    "searh_car['change'] = change\n",
    "\n",
    "searh_car[f'nation_{nation}'] = np.uint8(1)\n",
    "searh_car[f'car_brand_{car_brand}'] = np.uint8(1)\n",
    "searh_car[f'car_model_{car_model}'] = np.uint8(1)\n",
    "searh_car[f'car_type_{car_type}'] = np.uint8(1)\n",
    "searh_car[f'fuel_{fuel}'] = np.uint8(1)\n",
    "searh_car[f'trans_{trans}'] = np.uint8(1)\n",
    "searh_car[f'loss_{loss}'] = np.uint8(1)\n",
    "searh_car[f'flood_{flood}'] = np.uint8(1)\n",
    "searh_car[f'usage_{usage}'] = np.uint8(1)\n",
    "searh_car[f'insurance_{insurance}'] = np.uint8(1)"
   ]
  },
  {
   "cell_type": "code",
   "execution_count": null,
   "id": "9c74be76",
   "metadata": {},
   "outputs": [],
   "source": [
    "# change(사용자변경회수)\n",
    "selected = 0\n",
    "for col in sample.columns:\n",
    "    if searh_car[col][0] != 0:\n",
    "        selected += 1\n",
    "        print(col)\n",
    "print(selected)"
   ]
  },
  {
   "cell_type": "code",
   "execution_count": null,
   "id": "fde0a70a",
   "metadata": {},
   "outputs": [],
   "source": [
    "scaled_searh_car= s_scale.transform(searh_car)"
   ]
  },
  {
   "cell_type": "code",
   "execution_count": null,
   "id": "3d27d344",
   "metadata": {},
   "outputs": [],
   "source": [
    "# Vectorize 동등함\n",
    "(scaled_searh_car == [X_test[66]]).min()"
   ]
  },
  {
   "cell_type": "code",
   "execution_count": null,
   "id": "ef45cf6c",
   "metadata": {},
   "outputs": [],
   "source": [
    "model"
   ]
  },
  {
   "cell_type": "code",
   "execution_count": null,
   "id": "87ae27b1",
   "metadata": {},
   "outputs": [],
   "source": [
    "model_predict = model.predict(scaled_searh_car)\n",
    "model_dep = round(model_predict[0].astype('float64'),1)\n",
    "moel_dep = model_dep - 4\n",
    "print(f'Model Depreciation Predict : {model_dep}% 감가')\n",
    "\n",
    "print(f\"Actual Depreciation : {df['depreciation'][40604]}% 감가\")"
   ]
  },
  {
   "cell_type": "code",
   "execution_count": null,
   "id": "c5b32b90",
   "metadata": {},
   "outputs": [],
   "source": [
    "model_price = [math.trunc(new_car * (100 - (int(math.ceil(model_dep))))/100), math.ceil(new_car * (100 - (int(math.trunc(model_dep))))/100)]\n",
    "\n",
    "print(f'XGBoost Usedcar Price Predict : {model_price[0]} ~ {model_price[1]} 만원입니다.')\n",
    "print(f\"KB차차차 Usedcar Price Predict : {df['forecast_min'][40604]} ~ {df['forecast_max'][40604]} 만원입니다.\")\n",
    "print(f\"Actual Usedcar Price : {df['price'][40604]} 만원입니다.\")"
   ]
  },
  {
   "cell_type": "code",
   "execution_count": null,
   "id": "1aafac65",
   "metadata": {},
   "outputs": [],
   "source": []
  }
 ],
 "metadata": {
  "kernelspec": {
   "display_name": "Python 3 (ipykernel)",
   "language": "python",
   "name": "python3"
  },
  "language_info": {
   "codemirror_mode": {
    "name": "ipython",
    "version": 3
   },
   "file_extension": ".py",
   "mimetype": "text/x-python",
   "name": "python",
   "nbconvert_exporter": "python",
   "pygments_lexer": "ipython3",
   "version": "3.9.12"
  }
 },
 "nbformat": 4,
 "nbformat_minor": 5
}
