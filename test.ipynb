{
 "cells": [
  {
   "cell_type": "code",
   "execution_count": 1,
   "metadata": {},
   "outputs": [
    {
     "ename": "ModuleNotFoundError",
     "evalue": "No module named 'pyecharts'",
     "output_type": "error",
     "traceback": [
      "\u001b[1;31m---------------------------------------------------------------------------\u001b[0m",
      "\u001b[1;31mModuleNotFoundError\u001b[0m                       Traceback (most recent call last)",
      "\u001b[1;32mc:\\Users\\USER\\TIL\\중고차 시세 예측\\test.ipynb Cell 1'\u001b[0m in \u001b[0;36m<cell line: 1>\u001b[1;34m()\u001b[0m\n\u001b[1;32m----> <a href='vscode-notebook-cell:/c%3A/Users/USER/TIL/%EC%A4%91%EA%B3%A0%EC%B0%A8%20%EC%8B%9C%EC%84%B8%20%EC%98%88%EC%B8%A1/test.ipynb#ch0000007?line=0'>1</a>\u001b[0m \u001b[39mfrom\u001b[39;00m \u001b[39mpyecharts\u001b[39;00m \u001b[39mimport\u001b[39;00m Pie\n\u001b[0;32m      <a href='vscode-notebook-cell:/c%3A/Users/USER/TIL/%EC%A4%91%EA%B3%A0%EC%B0%A8%20%EC%8B%9C%EC%84%B8%20%EC%98%88%EC%B8%A1/test.ipynb#ch0000007?line=2'>3</a>\u001b[0m attr \u001b[39m=\u001b[39m [\u001b[39m'\u001b[39m\u001b[39mA\u001b[39m\u001b[39m'\u001b[39m,\u001b[39m'\u001b[39m\u001b[39mB\u001b[39m\u001b[39m'\u001b[39m,\u001b[39m'\u001b[39m\u001b[39mC\u001b[39m\u001b[39m'\u001b[39m,\u001b[39m'\u001b[39m\u001b[39mD\u001b[39m\u001b[39m'\u001b[39m,\u001b[39m'\u001b[39m\u001b[39mE\u001b[39m\u001b[39m'\u001b[39m,\u001b[39m'\u001b[39m\u001b[39mF\u001b[39m\u001b[39m'\u001b[39m]\n\u001b[0;32m      <a href='vscode-notebook-cell:/c%3A/Users/USER/TIL/%EC%A4%91%EA%B3%A0%EC%B0%A8%20%EC%8B%9C%EC%84%B8%20%EC%98%88%EC%B8%A1/test.ipynb#ch0000007?line=3'>4</a>\u001b[0m v1 \u001b[39m=\u001b[39m [\u001b[39m10\u001b[39m, \u001b[39m20\u001b[39m, \u001b[39m30\u001b[39m, \u001b[39m40\u001b[39m, \u001b[39m50\u001b[39m, \u001b[39m60\u001b[39m]\n",
      "\u001b[1;31mModuleNotFoundError\u001b[0m: No module named 'pyecharts'"
     ]
    }
   ],
   "source": [
    "from pyecharts import Pie\n",
    "\n",
    "attr = ['A','B','C','D','E','F']\n",
    "v1 = [10, 20, 30, 40, 50, 60]\n",
    "v2 = [38, 28, 58, 48, 78, 68]\n",
    "pie = Pie(\"pie chart\", title_pos=\"center\", width=600)\n",
    "pie.add(\"A\", attr, v1, center=[25, 50], is_random=True, radius=[30, 75], rosetype='radius')\n",
    "pie.add(\"B\", attr, v2, center=[75, 50], is_randome=True, radius=[30, 75], rosetype='area', is_legend_show=False,\n",
    "       is_label_show=True)\n",
    "pie"
   ]
  },
  {
   "cell_type": "code",
   "execution_count": 26,
   "metadata": {},
   "outputs": [
    {
     "name": "stdout",
     "output_type": "stream",
     "text": [
      "['1', '2', '3', '4', '5']\n",
      "['4', '1', '5', '2', '3']\n",
      "['4']\n",
      "['라']\n"
     ]
    }
   ],
   "source": [
    "import pandas as pd\n",
    "import random\n",
    "\n",
    "df = pd.DataFrame({'a':['1','2','3','4','5'],\n",
    "'b':['가','나','다','라','마']})\n",
    "\n",
    "list1 = df.a.tolist()\n",
    "\n",
    "print(list1)\n",
    "random.shuffle(list1)\n",
    "print(list1)\n",
    "list1 = list1[:1]\n",
    "print(list1)\n",
    "\n",
    "list2 = [x for i in list1 for x in df.loc[df['a'] == i].b]\n",
    "print(list2)"
   ]
  },
  {
   "cell_type": "code",
   "execution_count": 1,
   "metadata": {},
   "outputs": [
    {
     "data": {
      "text/html": [
       "<div>\n",
       "<style scoped>\n",
       "    .dataframe tbody tr th:only-of-type {\n",
       "        vertical-align: middle;\n",
       "    }\n",
       "\n",
       "    .dataframe tbody tr th {\n",
       "        vertical-align: top;\n",
       "    }\n",
       "\n",
       "    .dataframe thead th {\n",
       "        text-align: right;\n",
       "    }\n",
       "</style>\n",
       "<table border=\"1\" class=\"dataframe\">\n",
       "  <thead>\n",
       "    <tr style=\"text-align: right;\">\n",
       "      <th></th>\n",
       "      <th>car_url</th>\n",
       "      <th>car_area</th>\n",
       "      <th>car_no</th>\n",
       "      <th>car_brand</th>\n",
       "      <th>car_name</th>\n",
       "      <th>name_datailed</th>\n",
       "      <th>new_price</th>\n",
       "      <th>price</th>\n",
       "      <th>year</th>\n",
       "      <th>use</th>\n",
       "      <th>...</th>\n",
       "      <th>flood</th>\n",
       "      <th>usage</th>\n",
       "      <th>change</th>\n",
       "      <th>insurance</th>\n",
       "      <th>sales_corp</th>\n",
       "      <th>sales_loca</th>\n",
       "      <th>lat</th>\n",
       "      <th>lng</th>\n",
       "      <th>options</th>\n",
       "      <th>options_count</th>\n",
       "    </tr>\n",
       "  </thead>\n",
       "  <tbody>\n",
       "    <tr>\n",
       "      <th>0</th>\n",
       "      <td>22274652</td>\n",
       "      <td>경기</td>\n",
       "      <td>29너6142</td>\n",
       "      <td>한국GM</td>\n",
       "      <td>쉐보레 올란도</td>\n",
       "      <td>LPG LS 일반형</td>\n",
       "      <td>2122</td>\n",
       "      <td>849</td>\n",
       "      <td>2013</td>\n",
       "      <td>103</td>\n",
       "      <td>...</td>\n",
       "      <td>없음</td>\n",
       "      <td>없음</td>\n",
       "      <td>1</td>\n",
       "      <td>있음</td>\n",
       "      <td>주식회사 노빌리티 경기지점</td>\n",
       "      <td>경기 수원시</td>\n",
       "      <td>37.263332</td>\n",
       "      <td>127.028747</td>\n",
       "      <td>[]</td>\n",
       "      <td>0</td>\n",
       "    </tr>\n",
       "    <tr>\n",
       "      <th>1</th>\n",
       "      <td>22274154</td>\n",
       "      <td>광주</td>\n",
       "      <td>156서1980</td>\n",
       "      <td>한국GM</td>\n",
       "      <td>더 뉴 트랙스</td>\n",
       "      <td>1.6 디젤 LT 기본형</td>\n",
       "      <td>1986</td>\n",
       "      <td>1450</td>\n",
       "      <td>2018</td>\n",
       "      <td>52</td>\n",
       "      <td>...</td>\n",
       "      <td>없음</td>\n",
       "      <td>있음</td>\n",
       "      <td>2</td>\n",
       "      <td>없음</td>\n",
       "      <td>주식회사 즐거운모터스</td>\n",
       "      <td>광주 서구</td>\n",
       "      <td>35.152140</td>\n",
       "      <td>126.890056</td>\n",
       "      <td>['주차감지센서', '가죽시트', '열선시트', '사이드커튼에어백', '전동접이사이...</td>\n",
       "      <td>7</td>\n",
       "    </tr>\n",
       "    <tr>\n",
       "      <th>2</th>\n",
       "      <td>22274071</td>\n",
       "      <td>경기</td>\n",
       "      <td>01서3666</td>\n",
       "      <td>한국GM</td>\n",
       "      <td>더 뉴 스파크</td>\n",
       "      <td>LT 기본형</td>\n",
       "      <td>1423</td>\n",
       "      <td>655</td>\n",
       "      <td>2017</td>\n",
       "      <td>57</td>\n",
       "      <td>...</td>\n",
       "      <td>없음</td>\n",
       "      <td>없음</td>\n",
       "      <td>1</td>\n",
       "      <td>없음</td>\n",
       "      <td>창대모터스</td>\n",
       "      <td>경기 수원시</td>\n",
       "      <td>37.263332</td>\n",
       "      <td>127.028747</td>\n",
       "      <td>['스마트키', '가죽시트', '알루미늄휠']</td>\n",
       "      <td>3</td>\n",
       "    </tr>\n",
       "    <tr>\n",
       "      <th>3</th>\n",
       "      <td>22269730</td>\n",
       "      <td>광주</td>\n",
       "      <td>196버2246</td>\n",
       "      <td>한국GM</td>\n",
       "      <td>올 뉴 크루즈</td>\n",
       "      <td>1.4 터보 LT 디럭스</td>\n",
       "      <td>1264</td>\n",
       "      <td>999</td>\n",
       "      <td>2017</td>\n",
       "      <td>48</td>\n",
       "      <td>...</td>\n",
       "      <td>없음</td>\n",
       "      <td>있음</td>\n",
       "      <td>1</td>\n",
       "      <td>있음</td>\n",
       "      <td>(주)파랑새모터스</td>\n",
       "      <td>광주광역시 서구</td>\n",
       "      <td>35.152140</td>\n",
       "      <td>126.890056</td>\n",
       "      <td>['오토라이트', '주차감지센서', '가죽시트', '열선시트', '사이드커튼에어백'...</td>\n",
       "      <td>8</td>\n",
       "    </tr>\n",
       "    <tr>\n",
       "      <th>4</th>\n",
       "      <td>22269296</td>\n",
       "      <td>부산</td>\n",
       "      <td>19저3500</td>\n",
       "      <td>한국GM</td>\n",
       "      <td>알페온</td>\n",
       "      <td>CL240 프리미엄</td>\n",
       "      <td>3411</td>\n",
       "      <td>580</td>\n",
       "      <td>2011</td>\n",
       "      <td>131</td>\n",
       "      <td>...</td>\n",
       "      <td>없음</td>\n",
       "      <td>없음</td>\n",
       "      <td>1</td>\n",
       "      <td>있음</td>\n",
       "      <td>청산자동차상사</td>\n",
       "      <td>부산광역시 사상구</td>\n",
       "      <td>35.152100</td>\n",
       "      <td>128.991100</td>\n",
       "      <td>['오토라이트', '가죽시트', '열선시트', '사이드커튼에어백', '레인선서와이퍼...</td>\n",
       "      <td>8</td>\n",
       "    </tr>\n",
       "  </tbody>\n",
       "</table>\n",
       "<p>5 rows × 30 columns</p>\n",
       "</div>"
      ],
      "text/plain": [
       "    car_url car_area    car_no car_brand car_name  name_datailed  new_price  \\\n",
       "0  22274652       경기   29너6142      한국GM  쉐보레 올란도     LPG LS 일반형       2122   \n",
       "1  22274154       광주  156서1980      한국GM  더 뉴 트랙스  1.6 디젤 LT 기본형       1986   \n",
       "2  22274071       경기   01서3666      한국GM  더 뉴 스파크         LT 기본형       1423   \n",
       "3  22269730       광주  196버2246      한국GM  올 뉴 크루즈  1.4 터보 LT 디럭스       1264   \n",
       "4  22269296       부산   19저3500      한국GM      알페온     CL240 프리미엄       3411   \n",
       "\n",
       "   price  year  use  ...  flood  usage change  insurance      sales_corp  \\\n",
       "0    849  2013  103  ...     없음     없음      1         있음  주식회사 노빌리티 경기지점   \n",
       "1   1450  2018   52  ...     없음     있음      2         없음     주식회사 즐거운모터스   \n",
       "2    655  2017   57  ...     없음     없음      1         없음           창대모터스   \n",
       "3    999  2017   48  ...     없음     있음      1         있음       (주)파랑새모터스   \n",
       "4    580  2011  131  ...     없음     없음      1         있음         청산자동차상사   \n",
       "\n",
       "  sales_loca        lat         lng  \\\n",
       "0     경기 수원시  37.263332  127.028747   \n",
       "1      광주 서구  35.152140  126.890056   \n",
       "2     경기 수원시  37.263332  127.028747   \n",
       "3   광주광역시 서구  35.152140  126.890056   \n",
       "4  부산광역시 사상구  35.152100  128.991100   \n",
       "\n",
       "                                             options options_count  \n",
       "0                                                 []             0  \n",
       "1  ['주차감지센서', '가죽시트', '열선시트', '사이드커튼에어백', '전동접이사이...             7  \n",
       "2                          ['스마트키', '가죽시트', '알루미늄휠']             3  \n",
       "3  ['오토라이트', '주차감지센서', '가죽시트', '열선시트', '사이드커튼에어백'...             8  \n",
       "4  ['오토라이트', '가죽시트', '열선시트', '사이드커튼에어백', '레인선서와이퍼...             8  \n",
       "\n",
       "[5 rows x 30 columns]"
      ]
     },
     "execution_count": 1,
     "metadata": {},
     "output_type": "execute_result"
    }
   ],
   "source": [
    "import pandas as pd\n",
    "df = pd.read_csv('C:/Users/USER/TIL/중고차 시세 예측/preprocessed_total_0529.csv', encoding='ansi')\n",
    "df.head()"
   ]
  },
  {
   "cell_type": "code",
   "execution_count": 5,
   "metadata": {},
   "outputs": [
    {
     "name": "stderr",
     "output_type": "stream",
     "text": [
      "C:\\Users\\USER\\AppData\\Local\\Temp\\ipykernel_17916\\2118769904.py:10: FutureWarning: The frame.append method is deprecated and will be removed from pandas in a future version. Use pandas.concat instead.\n",
      "  df = temp1.append(new_data,ignore_index=True).append(temp2, ignore_index=True)\n",
      "C:\\Users\\USER\\AppData\\Local\\Temp\\ipykernel_17916\\2118769904.py:10: FutureWarning: The frame.append method is deprecated and will be removed from pandas in a future version. Use pandas.concat instead.\n",
      "  df = temp1.append(new_data,ignore_index=True).append(temp2, ignore_index=True)\n"
     ]
    },
    {
     "data": {
      "text/html": [
       "<div>\n",
       "<style scoped>\n",
       "    .dataframe tbody tr th:only-of-type {\n",
       "        vertical-align: middle;\n",
       "    }\n",
       "\n",
       "    .dataframe tbody tr th {\n",
       "        vertical-align: top;\n",
       "    }\n",
       "\n",
       "    .dataframe thead th {\n",
       "        text-align: right;\n",
       "    }\n",
       "</style>\n",
       "<table border=\"1\" class=\"dataframe\">\n",
       "  <thead>\n",
       "    <tr style=\"text-align: right;\">\n",
       "      <th></th>\n",
       "      <th>car_url</th>\n",
       "      <th>car_area</th>\n",
       "      <th>car_no</th>\n",
       "      <th>car_brand</th>\n",
       "      <th>car_name</th>\n",
       "      <th>name_datailed</th>\n",
       "      <th>new_price</th>\n",
       "      <th>price</th>\n",
       "      <th>year</th>\n",
       "      <th>use</th>\n",
       "      <th>...</th>\n",
       "      <th>flood</th>\n",
       "      <th>usage</th>\n",
       "      <th>change</th>\n",
       "      <th>insurance</th>\n",
       "      <th>sales_corp</th>\n",
       "      <th>sales_loca</th>\n",
       "      <th>lat</th>\n",
       "      <th>lng</th>\n",
       "      <th>options</th>\n",
       "      <th>options_count</th>\n",
       "    </tr>\n",
       "  </thead>\n",
       "  <tbody>\n",
       "    <tr>\n",
       "      <th>0</th>\n",
       "      <td>선택해주세요</td>\n",
       "      <td>선택해주세요</td>\n",
       "      <td>선택해주세요</td>\n",
       "      <td>선택해주세요</td>\n",
       "      <td>선택해주세요</td>\n",
       "      <td>선택해주세요</td>\n",
       "      <td>선택해주세요</td>\n",
       "      <td>선택해주세요</td>\n",
       "      <td>선택해주세요</td>\n",
       "      <td>선택해주세요</td>\n",
       "      <td>...</td>\n",
       "      <td>선택해주세요</td>\n",
       "      <td>선택해주세요</td>\n",
       "      <td>선택해주세요</td>\n",
       "      <td>선택해주세요</td>\n",
       "      <td>선택해주세요</td>\n",
       "      <td>선택해주세요</td>\n",
       "      <td>선택해주세요</td>\n",
       "      <td>선택해주세요</td>\n",
       "      <td>선택해주세요</td>\n",
       "      <td>선택해주세요</td>\n",
       "    </tr>\n",
       "  </tbody>\n",
       "</table>\n",
       "<p>1 rows × 30 columns</p>\n",
       "</div>"
      ],
      "text/plain": [
       "  car_url car_area  car_no car_brand car_name name_datailed new_price   price  \\\n",
       "0  선택해주세요   선택해주세요  선택해주세요    선택해주세요   선택해주세요        선택해주세요    선택해주세요  선택해주세요   \n",
       "\n",
       "     year     use  ...   flood   usage  change insurance sales_corp  \\\n",
       "0  선택해주세요  선택해주세요  ...  선택해주세요  선택해주세요  선택해주세요    선택해주세요     선택해주세요   \n",
       "\n",
       "  sales_loca     lat     lng options options_count  \n",
       "0     선택해주세요  선택해주세요  선택해주세요  선택해주세요        선택해주세요  \n",
       "\n",
       "[1 rows x 30 columns]"
      ]
     },
     "execution_count": 5,
     "metadata": {},
     "output_type": "execute_result"
    }
   ],
   "source": [
    "new_data = {}\n",
    "\n",
    "for col in df.columns:\n",
    "    new_data[f\"{col}\"] = '선택해주세요'\n",
    "\n",
    "idx = 0\n",
    " \n",
    "temp1 = df[df.index < idx]\n",
    "temp2 = df[df.index >= idx]\n",
    "df = temp1.append(new_data,ignore_index=True).append(temp2, ignore_index=True)\n",
    "df.head(1)"
   ]
  },
  {
   "cell_type": "code",
   "execution_count": 71,
   "metadata": {},
   "outputs": [
    {
     "name": "stdout",
     "output_type": "stream",
     "text": [
      "defaultdict(<class 'set'>, {'BMW': {'X5 (G05)', 'X5 (F15)', '7시리즈', '4시리즈 (F32)', '7시리즈 (G11)', '그란투리스모', '뉴5시리즈', '뉴3시리즈'}, 'GMC': {'시에라', '사바나밴'}, 'MAN': {'트럭'}, '기아': {'K3', '레이', '더 뉴 스포티지 R', '뉴모닝'}})\n"
     ]
    }
   ],
   "source": [
    "from collections import defaultdict\n",
    "brand = defaultdict(set)\n",
    "for b in df.values[5080:5100]:\n",
    "    brand[f'{b[3]}'].add(f'{b[4]}')\n",
    "print(brand)"
   ]
  },
  {
   "cell_type": "code",
   "execution_count": 90,
   "metadata": {},
   "outputs": [
    {
     "name": "stdout",
     "output_type": "stream",
     "text": [
      "['기아']\n"
     ]
    }
   ],
   "source": [
    "a = ['BMW'],['기아']\n",
    "print(f\"{a[1]}\")"
   ]
  },
  {
   "cell_type": "code",
   "execution_count": 91,
   "metadata": {},
   "outputs": [
    {
     "ename": "KeyError",
     "evalue": "('기아', 'BMW')",
     "output_type": "error",
     "traceback": [
      "\u001b[1;31m---------------------------------------------------------------------------\u001b[0m",
      "\u001b[1;31mKeyError\u001b[0m                                  Traceback (most recent call last)",
      "\u001b[1;32mc:\\Users\\USER\\TIL\\중고차 시세 예측\\test.ipynb Cell 4'\u001b[0m in \u001b[0;36m<cell line: 2>\u001b[1;34m()\u001b[0m\n\u001b[0;32m      <a href='vscode-notebook-cell:/c%3A/Users/USER/TIL/%EC%A4%91%EA%B3%A0%EC%B0%A8%20%EC%8B%9C%EC%84%B8%20%EC%98%88%EC%B8%A1/test.ipynb#ch0000004?line=0'>1</a>\u001b[0m brand \u001b[39m=\u001b[39m \u001b[39mdict\u001b[39m(brand)\n\u001b[1;32m----> <a href='vscode-notebook-cell:/c%3A/Users/USER/TIL/%EC%A4%91%EA%B3%A0%EC%B0%A8%20%EC%8B%9C%EC%84%B8%20%EC%98%88%EC%B8%A1/test.ipynb#ch0000004?line=1'>2</a>\u001b[0m brand[\u001b[39m'\u001b[39;49m\u001b[39m기아\u001b[39;49m\u001b[39m'\u001b[39;49m, \u001b[39m'\u001b[39;49m\u001b[39mBMW\u001b[39;49m\u001b[39m'\u001b[39;49m]\n",
      "\u001b[1;31mKeyError\u001b[0m: ('기아', 'BMW')"
     ]
    }
   ],
   "source": [
    "brand = dict(brand)\n",
    "brand['기아', 'BMW']"
   ]
  },
  {
   "cell_type": "code",
   "execution_count": 48,
   "metadata": {},
   "outputs": [
    {
     "name": "stdout",
     "output_type": "stream",
     "text": [
      "BMW 뉴5시리즈\n",
      "BMW X5 (F15)\n",
      "BMW X5 (G05)\n",
      "BMW 그란투리스모\n",
      "BMW 7시리즈 (G11)\n",
      "BMW 7시리즈\n",
      "BMW 뉴3시리즈\n",
      "BMW 뉴3시리즈\n",
      "BMW 뉴3시리즈\n",
      "BMW 4시리즈 (F32)\n",
      "GMC 사바나밴\n",
      "GMC 시에라\n",
      "GMC 사바나밴\n",
      "GMC 사바나밴\n",
      "GMC 사바나밴\n",
      "MAN 트럭\n",
      "기아 레이\n",
      "기아 더 뉴 스포티지 R\n",
      "기아 K3\n",
      "기아 뉴모닝\n"
     ]
    }
   ],
   "source": [
    "for b in df.values[5080:5100]:\n",
    "    print(b[3], b[4])"
   ]
  }
 ],
 "metadata": {
  "interpreter": {
   "hash": "263930470851f494f0ed2879c35b57985588df20f9e529b86e97dd5eb9ddc466"
  },
  "kernelspec": {
   "display_name": "Python 3.9.12 ('base')",
   "language": "python",
   "name": "python3"
  },
  "language_info": {
   "codemirror_mode": {
    "name": "ipython",
    "version": 3
   },
   "file_extension": ".py",
   "mimetype": "text/x-python",
   "name": "python",
   "nbconvert_exporter": "python",
   "pygments_lexer": "ipython3",
   "version": "3.9.12"
  },
  "orig_nbformat": 4
 },
 "nbformat": 4,
 "nbformat_minor": 2
}
