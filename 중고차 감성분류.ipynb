{
 "cells": [
  {
   "cell_type": "code",
   "execution_count": 3,
   "metadata": {},
   "outputs": [
    {
     "data": {
      "text/plain": [
       "'1.21.5'"
      ]
     },
     "execution_count": 3,
     "metadata": {},
     "output_type": "execute_result"
    }
   ],
   "source": [
    "import numpy as np\n",
    "\n",
    "np.__version__"
   ]
  },
  {
   "cell_type": "code",
   "execution_count": 4,
   "metadata": {},
   "outputs": [
    {
     "data": {
      "text/html": [
       "<div>\n",
       "<style scoped>\n",
       "    .dataframe tbody tr th:only-of-type {\n",
       "        vertical-align: middle;\n",
       "    }\n",
       "\n",
       "    .dataframe tbody tr th {\n",
       "        vertical-align: top;\n",
       "    }\n",
       "\n",
       "    .dataframe thead th {\n",
       "        text-align: right;\n",
       "    }\n",
       "</style>\n",
       "<table border=\"1\" class=\"dataframe\">\n",
       "  <thead>\n",
       "    <tr style=\"text-align: right;\">\n",
       "      <th></th>\n",
       "      <th>Unnamed: 0.1</th>\n",
       "      <th>Unnamed: 0</th>\n",
       "      <th>comments</th>\n",
       "      <th>likes</th>\n",
       "    </tr>\n",
       "  </thead>\n",
       "  <tbody>\n",
       "    <tr>\n",
       "      <th>0</th>\n",
       "      <td>0</td>\n",
       "      <td>0</td>\n",
       "      <td>파나메라는 역시 패스트백 스타일이 잘어울리는 차네요.😄😄</td>\n",
       "      <td>4</td>\n",
       "    </tr>\n",
       "    <tr>\n",
       "      <th>1</th>\n",
       "      <td>1</td>\n",
       "      <td>1</td>\n",
       "      <td>진짜 너무 짱이다....ㅠㅠ....타보고싶어</td>\n",
       "      <td>5</td>\n",
       "    </tr>\n",
       "    <tr>\n",
       "      <th>2</th>\n",
       "      <td>2</td>\n",
       "      <td>2</td>\n",
       "      <td>파나메라는 기본형도 예쁘지만 이그제큐티브 모델이야 말로 4도어 대형 세단의 모습으로...</td>\n",
       "      <td>4</td>\n",
       "    </tr>\n",
       "    <tr>\n",
       "      <th>3</th>\n",
       "      <td>3</td>\n",
       "      <td>3</td>\n",
       "      <td>기업 총수가 된다면 대형 세단대신 꼭 타보고 싶은차.. 왠지 타다보면 기사님 뒤에 ...</td>\n",
       "      <td>3</td>\n",
       "    </tr>\n",
       "    <tr>\n",
       "      <th>4</th>\n",
       "      <td>4</td>\n",
       "      <td>4</td>\n",
       "      <td>무더운 날씨에 고생많으시네요늘 좋은 영상 감사합니다</td>\n",
       "      <td>4</td>\n",
       "    </tr>\n",
       "  </tbody>\n",
       "</table>\n",
       "</div>"
      ],
      "text/plain": [
       "   Unnamed: 0.1  Unnamed: 0  \\\n",
       "0             0           0   \n",
       "1             1           1   \n",
       "2             2           2   \n",
       "3             3           3   \n",
       "4             4           4   \n",
       "\n",
       "                                            comments  likes  \n",
       "0                    파나메라는 역시 패스트백 스타일이 잘어울리는 차네요.😄😄      4  \n",
       "1                           진짜 너무 짱이다....ㅠㅠ....타보고싶어      5  \n",
       "2  파나메라는 기본형도 예쁘지만 이그제큐티브 모델이야 말로 4도어 대형 세단의 모습으로...      4  \n",
       "3  기업 총수가 된다면 대형 세단대신 꼭 타보고 싶은차.. 왠지 타다보면 기사님 뒤에 ...      3  \n",
       "4                       무더운 날씨에 고생많으시네요늘 좋은 영상 감사합니다      4  "
      ]
     },
     "execution_count": 4,
     "metadata": {},
     "output_type": "execute_result"
    }
   ],
   "source": [
    "import pandas as pd\n",
    "import warnings\n",
    "warnings.filterwarnings('ignore')\n",
    "\n",
    "yt_df = pd.read_csv(\"./youtube_data.csv\", lineterminator='\\n')\n",
    "#yt_df = yt_df.drop(['내용'], axis=1)\n",
    "yt_df.head()"
   ]
  },
  {
   "cell_type": "code",
   "execution_count": 5,
   "metadata": {},
   "outputs": [],
   "source": [
    "from eunjeon import Mecab\n",
    "\n",
    "#형태소 분리 및 품사 태깅\n",
    "tagger=Mecab()\n",
    "significant_tags = ['NNG', 'NNP', 'NNB', 'VV', 'VA', 'VX', 'MAG', 'MAJ', 'XSV', 'XSA']\n",
    "\n",
    "def tagging_text(texts):\n",
    "    corpus = []\n",
    "    for text in texts:\n",
    "        text = tagger.pos(text)\n",
    "        for i in range(len(text)-1):\n",
    "            if text[i][1] in significant_tags:\n",
    "                corpus.append(f\"{text[i][0]}/{text[i][1]}\")\n",
    "    return corpus"
   ]
  },
  {
   "cell_type": "code",
   "execution_count": 6,
   "metadata": {},
   "outputs": [
    {
     "ename": "NotImplementedError",
     "evalue": "Wrong number or type of arguments for overloaded function 'Tagger_parse'.\n  Possible C/C++ prototypes are:\n    MeCab::Tagger::parse(MeCab::Model const &,MeCab::Lattice *)\n    MeCab::Tagger::parse(MeCab::Lattice *) const\n    MeCab::Tagger::parse(char const *)\n",
     "output_type": "error",
     "traceback": [
      "\u001b[1;31m---------------------------------------------------------------------------\u001b[0m",
      "\u001b[1;31mNotImplementedError\u001b[0m                       Traceback (most recent call last)",
      "\u001b[1;32mc:\\Users\\USER\\TIL\\중고차 시세 예측\\중고차 감성분류.ipynb Cell 4'\u001b[0m in \u001b[0;36m<cell line: 1>\u001b[1;34m()\u001b[0m\n\u001b[1;32m----> <a href='vscode-notebook-cell:/c%3A/Users/USER/TIL/%EC%A4%91%EA%B3%A0%EC%B0%A8%20%EC%8B%9C%EC%84%B8%20%EC%98%88%EC%B8%A1/%EC%A4%91%EA%B3%A0%EC%B0%A8%20%EA%B0%90%EC%84%B1%EB%B6%84%EB%A5%98.ipynb#ch0000002?line=0'>1</a>\u001b[0m tagged_corpus \u001b[39m=\u001b[39m tagging_text(yt_df\u001b[39m.\u001b[39;49mcomments)\n\u001b[0;32m      <a href='vscode-notebook-cell:/c%3A/Users/USER/TIL/%EC%A4%91%EA%B3%A0%EC%B0%A8%20%EC%8B%9C%EC%84%B8%20%EC%98%88%EC%B8%A1/%EC%A4%91%EA%B3%A0%EC%B0%A8%20%EA%B0%90%EC%84%B1%EB%B6%84%EB%A5%98.ipynb#ch0000002?line=2'>3</a>\u001b[0m \u001b[39mfor\u001b[39;00m i \u001b[39min\u001b[39;00m \u001b[39mrange\u001b[39m(\u001b[39m5\u001b[39m):\n\u001b[0;32m      <a href='vscode-notebook-cell:/c%3A/Users/USER/TIL/%EC%A4%91%EA%B3%A0%EC%B0%A8%20%EC%8B%9C%EC%84%B8%20%EC%98%88%EC%B8%A1/%EC%A4%91%EA%B3%A0%EC%B0%A8%20%EA%B0%90%EC%84%B1%EB%B6%84%EB%A5%98.ipynb#ch0000002?line=3'>4</a>\u001b[0m     \u001b[39mprint\u001b[39m(tagged_corpus[i])\n",
      "\u001b[1;32mc:\\Users\\USER\\TIL\\중고차 시세 예측\\중고차 감성분류.ipynb Cell 3'\u001b[0m in \u001b[0;36mtagging_text\u001b[1;34m(texts)\u001b[0m\n\u001b[0;32m      <a href='vscode-notebook-cell:/c%3A/Users/USER/TIL/%EC%A4%91%EA%B3%A0%EC%B0%A8%20%EC%8B%9C%EC%84%B8%20%EC%98%88%EC%B8%A1/%EC%A4%91%EA%B3%A0%EC%B0%A8%20%EA%B0%90%EC%84%B1%EB%B6%84%EB%A5%98.ipynb#ch0000001?line=7'>8</a>\u001b[0m corpus \u001b[39m=\u001b[39m []\n\u001b[0;32m      <a href='vscode-notebook-cell:/c%3A/Users/USER/TIL/%EC%A4%91%EA%B3%A0%EC%B0%A8%20%EC%8B%9C%EC%84%B8%20%EC%98%88%EC%B8%A1/%EC%A4%91%EA%B3%A0%EC%B0%A8%20%EA%B0%90%EC%84%B1%EB%B6%84%EB%A5%98.ipynb#ch0000001?line=8'>9</a>\u001b[0m \u001b[39mfor\u001b[39;00m text \u001b[39min\u001b[39;00m texts:\n\u001b[1;32m---> <a href='vscode-notebook-cell:/c%3A/Users/USER/TIL/%EC%A4%91%EA%B3%A0%EC%B0%A8%20%EC%8B%9C%EC%84%B8%20%EC%98%88%EC%B8%A1/%EC%A4%91%EA%B3%A0%EC%B0%A8%20%EA%B0%90%EC%84%B1%EB%B6%84%EB%A5%98.ipynb#ch0000001?line=9'>10</a>\u001b[0m     text \u001b[39m=\u001b[39m tagger\u001b[39m.\u001b[39;49mpos(text)\n\u001b[0;32m     <a href='vscode-notebook-cell:/c%3A/Users/USER/TIL/%EC%A4%91%EA%B3%A0%EC%B0%A8%20%EC%8B%9C%EC%84%B8%20%EC%98%88%EC%B8%A1/%EC%A4%91%EA%B3%A0%EC%B0%A8%20%EA%B0%90%EC%84%B1%EB%B6%84%EB%A5%98.ipynb#ch0000001?line=10'>11</a>\u001b[0m     \u001b[39mfor\u001b[39;00m i \u001b[39min\u001b[39;00m \u001b[39mrange\u001b[39m(\u001b[39mlen\u001b[39m(text)\u001b[39m-\u001b[39m\u001b[39m1\u001b[39m):\n\u001b[0;32m     <a href='vscode-notebook-cell:/c%3A/Users/USER/TIL/%EC%A4%91%EA%B3%A0%EC%B0%A8%20%EC%8B%9C%EC%84%B8%20%EC%98%88%EC%B8%A1/%EC%A4%91%EA%B3%A0%EC%B0%A8%20%EA%B0%90%EC%84%B1%EB%B6%84%EB%A5%98.ipynb#ch0000001?line=11'>12</a>\u001b[0m         \u001b[39mif\u001b[39;00m text[i][\u001b[39m1\u001b[39m] \u001b[39min\u001b[39;00m significant_tags:\n",
      "File \u001b[1;32mc:\\Users\\USER\\anaconda3\\lib\\site-packages\\eunjeon\\_mecab.py:81\u001b[0m, in \u001b[0;36mMecab.pos\u001b[1;34m(self, phrase, flatten)\u001b[0m\n\u001b[0;32m     <a href='file:///c%3A/Users/USER/anaconda3/lib/site-packages/eunjeon/_mecab.py?line=78'>79</a>\u001b[0m \u001b[39melse\u001b[39;00m:\n\u001b[0;32m     <a href='file:///c%3A/Users/USER/anaconda3/lib/site-packages/eunjeon/_mecab.py?line=79'>80</a>\u001b[0m     \u001b[39mif\u001b[39;00m flatten:\n\u001b[1;32m---> <a href='file:///c%3A/Users/USER/anaconda3/lib/site-packages/eunjeon/_mecab.py?line=80'>81</a>\u001b[0m         result \u001b[39m=\u001b[39m \u001b[39mself\u001b[39;49m\u001b[39m.\u001b[39;49mtagger\u001b[39m.\u001b[39;49mparse(phrase)\n\u001b[0;32m     <a href='file:///c%3A/Users/USER/anaconda3/lib/site-packages/eunjeon/_mecab.py?line=81'>82</a>\u001b[0m         \u001b[39mreturn\u001b[39;00m parse(result)\n\u001b[0;32m     <a href='file:///c%3A/Users/USER/anaconda3/lib/site-packages/eunjeon/_mecab.py?line=82'>83</a>\u001b[0m     \u001b[39melse\u001b[39;00m:\n",
      "File \u001b[1;32mc:\\Users\\USER\\anaconda3\\lib\\site-packages\\eunjeon\\mecab.py:465\u001b[0m, in \u001b[0;36mTagger.parse\u001b[1;34m(self, *args)\u001b[0m\n\u001b[0;32m    <a href='file:///c%3A/Users/USER/anaconda3/lib/site-packages/eunjeon/mecab.py?line=463'>464</a>\u001b[0m \u001b[39mdef\u001b[39;00m \u001b[39mparse\u001b[39m(\u001b[39mself\u001b[39m, \u001b[39m*\u001b[39margs):\n\u001b[1;32m--> <a href='file:///c%3A/Users/USER/anaconda3/lib/site-packages/eunjeon/mecab.py?line=464'>465</a>\u001b[0m     \u001b[39mreturn\u001b[39;00m _MeCab\u001b[39m.\u001b[39;49mTagger_parse(\u001b[39mself\u001b[39;49m, \u001b[39m*\u001b[39;49margs)\n",
      "\u001b[1;31mNotImplementedError\u001b[0m: Wrong number or type of arguments for overloaded function 'Tagger_parse'.\n  Possible C/C++ prototypes are:\n    MeCab::Tagger::parse(MeCab::Model const &,MeCab::Lattice *)\n    MeCab::Tagger::parse(MeCab::Lattice *) const\n    MeCab::Tagger::parse(char const *)\n"
     ]
    }
   ],
   "source": [
    "tagged_corpus = tagging_text(yt_df.comments)\n",
    "\n",
    "for i in range(5):\n",
    "    print(tagged_corpus[i])"
   ]
  },
  {
   "cell_type": "code",
   "execution_count": null,
   "metadata": {},
   "outputs": [],
   "source": [
    "import re\n",
    "\n",
    "p1 = re.compile('[가-힣A-Za-z0-9]+/NN. [가-힣A-Za-z0-9]+/XS.')\n",
    "p2 = re.compile('[가-힣A-Za-z0-9]+/NN. [가-힣A-Za-z0-9]+/XSA [가-힣A-Za-z0-9]+/VX')\n",
    "p3 = re.compile('[가-힣A-Za-z0-9]+/VV')\n",
    "p4 = re.compile('[가-힣A-Za-z0-9]+/VX')"
   ]
  },
  {
   "cell_type": "code",
   "execution_count": 10,
   "metadata": {},
   "outputs": [],
   "source": [
    "# 원형으로 바꾸는 함수\n",
    "def stemming_text(text):\n",
    "    corpus = []\n",
    "    for sent in text:\n",
    "        ori_sent = sent\n",
    "        mached_terms = re.findall(p1, ori_sent)\n",
    "        for terms in mached_terms:\n",
    "            ori_terms = terms\n",
    "            modi_terms = ''\n",
    "            for term in terms.split(' '):\n",
    "                lemma = term.split('/')[0]\n",
    "                tag = term.split('/')[-1]\n",
    "                modi_terms += lemma\n",
    "            modi_terms += '다/VV'\n",
    "            ori_sent = ori_sent.replace(ori_terms, modi_terms)\n",
    "        \n",
    "        mached_terms = re.findall(p2, ori_sent)\n",
    "        for terms in mached_terms:\n",
    "            ori_terms = terms\n",
    "            modi_terms = ''\n",
    "            for term in terms.split(' '):\n",
    "                lemma = term.split('/')[0]\n",
    "                tag = term.split('/')[-1]\n",
    "                if tag != 'VX':\n",
    "                    modi_terms += lemma\n",
    "            modi_terms += '다/VV'\n",
    "            ori_sent = ori_sent.replace(ori_terms, modi_terms)\n",
    "\n",
    "        mached_terms = re.findall(p3, ori_sent)\n",
    "        for terms in mached_terms:\n",
    "            ori_terms = terms\n",
    "            modi_terms = ''\n",
    "            for term in terms.split(' '):\n",
    "                lemma = term.split('/')[0]\n",
    "                tag = term.split('/')[-1]\n",
    "                modi_terms += lemma\n",
    "            if '다' != modi_terms[-1]:\n",
    "                modi_terms += '다'\n",
    "            modi_terms += '/VV'\n",
    "            ori_sent = ori_sent.replace(ori_terms, modi_terms)\n",
    "\n",
    "        mached_terms = re.findall(p4, ori_sent)\n",
    "        for terms in mached_terms:\n",
    "            ori_terms = terms\n",
    "            modi_terms = ''\n",
    "            for term in terms.split(' '):\n",
    "                lemma = term.split('/')[0]\n",
    "                tag = term.split('/')[-1]\n",
    "                modi_terms += lemma\n",
    "            if '다' != modi_terms[-1]:\n",
    "                modi_terms += '다'\n",
    "            modi_terms += '/VV'\n",
    "            ori_sent = ori_sent.replace(ori_terms, modi_terms)\n",
    "        corpus.append(ori_sent)\n",
    "    return corpus"
   ]
  },
  {
   "cell_type": "code",
   "execution_count": 6,
   "metadata": {},
   "outputs": [
    {
     "name": "stdout",
     "output_type": "stream",
     "text": [
      "법원/NNG\n",
      "교통사고/NNG\n",
      "해/NNG\n",
      "측/NNB\n",
      "보험/NNG\n"
     ]
    }
   ],
   "source": [
    "stem_corpus = stemming_text(tagged_corpus)\n",
    "\n",
    "for i in range(0, 5):\n",
    "    print(stem_corpus[i])"
   ]
  },
  {
   "cell_type": "code",
   "execution_count": 7,
   "metadata": {},
   "outputs": [],
   "source": [
    "stopwords = ['이/VCP','있/VA','하/VV','씨/NNB','것/NNB','들/XSN','그/MM','되/VV','수/NNB','이/NP','속/NNG',\n",
    "'보/VX','않/VX','집/NNG','없/VA','살/VV','나/NP','적/XSN','주/VV','월/NNB','데/NNB','등/NNB','같/VA','안/MAG',\n",
    "'우리/NP','어떤/MM','때/NNG','내/NP','년/NNB','내/VV','가/VV''한/MM','명/NNB','지/VX','오/VV','말/NNG','일/NNG',\n",
    "'앞/NNG','번/NNB','나/VX','두/VV','알/VV','개/NNB','받/VV','전/NNG','들/VV','일/NNB','또/MAG','점/NNG','싶/VX',\n",
    "'더/MAG','말/VX','많/VA','좀/MAG','원/NNB','좋/VA','잘/MAG','크/VA','중/NNB','놓/VX']"
   ]
  },
  {
   "cell_type": "code",
   "execution_count": 8,
   "metadata": {},
   "outputs": [],
   "source": [
    "def remove_stopword_text(text):\n",
    "    corpus = []\n",
    "    for sent in text:\n",
    "        modi_sent = []\n",
    "        for word in sent.split(' '):\n",
    "            if word not in stopwords:\n",
    "                modi_sent.append(word)\n",
    "        corpus.append(' '.join(modi_sent))\n",
    "    return corpus"
   ]
  },
  {
   "cell_type": "code",
   "execution_count": 9,
   "metadata": {},
   "outputs": [
    {
     "name": "stdout",
     "output_type": "stream",
     "text": [
      "법원/NNG\n",
      "교통사고/NNG\n",
      "해/NNG\n",
      "측/NNB\n",
      "보험/NNG\n"
     ]
    }
   ],
   "source": [
    "removed_stopword_corpus = remove_stopword_text(stem_corpus)\n",
    "\n",
    "for i in range(5):\n",
    "    print(removed_stopword_corpus[i])"
   ]
  },
  {
   "cell_type": "code",
   "execution_count": 7,
   "metadata": {},
   "outputs": [
    {
     "data": {
      "text/html": [
       "<div>\n",
       "<style scoped>\n",
       "    .dataframe tbody tr th:only-of-type {\n",
       "        vertical-align: middle;\n",
       "    }\n",
       "\n",
       "    .dataframe tbody tr th {\n",
       "        vertical-align: top;\n",
       "    }\n",
       "\n",
       "    .dataframe thead th {\n",
       "        text-align: right;\n",
       "    }\n",
       "</style>\n",
       "<table border=\"1\" class=\"dataframe\">\n",
       "  <thead>\n",
       "    <tr style=\"text-align: right;\">\n",
       "      <th></th>\n",
       "      <th>Sentence</th>\n",
       "      <th>Emotion</th>\n",
       "    </tr>\n",
       "  </thead>\n",
       "  <tbody>\n",
       "    <tr>\n",
       "      <th>0</th>\n",
       "      <td>언니 동생으로 부르는게 맞는 일인가요..??</td>\n",
       "      <td>0</td>\n",
       "    </tr>\n",
       "    <tr>\n",
       "      <th>1</th>\n",
       "      <td>그냥 내 느낌일뿐겠지?</td>\n",
       "      <td>0</td>\n",
       "    </tr>\n",
       "    <tr>\n",
       "      <th>2</th>\n",
       "      <td>아직너무초기라서 그런거죠?</td>\n",
       "      <td>0</td>\n",
       "    </tr>\n",
       "    <tr>\n",
       "      <th>3</th>\n",
       "      <td>유치원버스 사고 낫다던데</td>\n",
       "      <td>0</td>\n",
       "    </tr>\n",
       "    <tr>\n",
       "      <th>4</th>\n",
       "      <td>근데 원래이런거맞나요</td>\n",
       "      <td>0</td>\n",
       "    </tr>\n",
       "  </tbody>\n",
       "</table>\n",
       "</div>"
      ],
      "text/plain": [
       "                   Sentence  Emotion\n",
       "0  언니 동생으로 부르는게 맞는 일인가요..??        0\n",
       "1              그냥 내 느낌일뿐겠지?        0\n",
       "2            아직너무초기라서 그런거죠?        0\n",
       "3             유치원버스 사고 낫다던데        0\n",
       "4               근데 원래이런거맞나요        0"
      ]
     },
     "execution_count": 7,
     "metadata": {},
     "output_type": "execute_result"
    }
   ],
   "source": [
    "comm_df = pd.read_excel(\"./대화_데이터셋.xlsx\")\n",
    "comm_df.head()"
   ]
  },
  {
   "cell_type": "code",
   "execution_count": 8,
   "metadata": {},
   "outputs": [
    {
     "name": "stdout",
     "output_type": "stream",
     "text": [
      "23686\n",
      "4180\n"
     ]
    }
   ],
   "source": [
    "from sklearn.model_selection import train_test_split\n",
    "\n",
    "train, test = train_test_split(comm_df, test_size=0.15, random_state=3)\n",
    "print(len(train))\n",
    "print(len(test))"
   ]
  },
  {
   "cell_type": "code",
   "execution_count": 9,
   "metadata": {},
   "outputs": [
    {
     "name": "stdout",
     "output_type": "stream",
     "text": [
      "   Emotion  count\n",
      "0        0  18540\n",
      "1        1   5146\n"
     ]
    },
    {
     "data": {
      "image/png": "[encoded data removed]",
      "text/plain": [
       "<Figure size 432x288 with 1 Axes>"
      ]
     },
     "metadata": {
      "needs_background": "light"
     },
     "output_type": "display_data"
    }
   ],
   "source": [
    "train['Emotion'].value_counts().plot(kind = 'bar')\n",
    "print(train.groupby('Emotion').size().reset_index(name = 'count'))"
   ]
  },
  {
   "cell_type": "code",
   "execution_count": 10,
   "metadata": {},
   "outputs": [
    {
     "name": "stdout",
     "output_type": "stream",
     "text": [
      "23686\n",
      "4180\n"
     ]
    }
   ],
   "source": [
    "import numpy as np\n",
    "\n",
    "#한글만 남기기\n",
    "train['Sentence'] = train['Sentence'].str.replace(\"[^ㄱ-ㅎㅏ-ㅣ가-힣 ]\",\"\")\n",
    "test['Sentence'] = test['Sentence'].str.replace(\"[^ㄱ-ㅎㅏ-ㅣ가-힣 ]\",\"\")\n",
    "train['Sentence'] = train['Sentence'].str.replace('^ +', \"\")\n",
    "test['Sentence'] = test['Sentence'].str.replace('^ +', \"\")\n",
    "train['Sentence'].replace('', np.nan, inplace = True)\n",
    "test['Sentence'].replace('', np.nan, inplace = True)\n",
    "\n",
    "print(len(train))\n",
    "print(len(test))"
   ]
  },
  {
   "cell_type": "code",
   "execution_count": 11,
   "metadata": {},
   "outputs": [],
   "source": [
    "from konlpy.tag import Okt\n",
    "\n",
    "stopwords = ['이','있','하','씨','것','들','그','되','수','이','속','보','않','집','없','살','나','적','주',\n",
    "'월','데','등','같','안','우리','어떤','때','내','년','내','가''한','명','지','오','말','일','앞','번','나',\n",
    "'두','알','개','받','전','들','일','또','점','싶','더','말','많','좀','원','좋','잘','크','중','놓']\n",
    "okt = Okt()\n",
    "X_train = [] \n",
    "X_test = []\n",
    "\n",
    "# 형태소 분리 및 불용어 제거\n",
    "for sentence in train['Sentence']:\n",
    "    temp_X = okt.morphs(str(sentence), stem = True) \n",
    "    temp_X = [word for word in temp_X if not word in stopwords]\n",
    "    X_train.append(temp_X)\n",
    "    \n",
    "for sentence in test['Sentence']:\n",
    "    temp_X = okt.morphs(str(sentence), stem = True)\n",
    "    temp_X = [word for word in temp_X if not word in stopwords]\n",
    "    X_test.append(temp_X)"
   ]
  },
  {
   "cell_type": "code",
   "execution_count": 12,
   "metadata": {},
   "outputs": [],
   "source": [
    "from tensorflow.keras.preprocessing.text import Tokenizer\n",
    "\n",
    "tokenizer = Tokenizer()\n",
    "tokenizer.fit_on_texts(X_train)\n",
    "tokenizer.fit_on_texts(X_test)\n",
    "X_train = tokenizer.texts_to_sequences(X_train)\n",
    "X_test = tokenizer.texts_to_sequences(X_test)"
   ]
  },
  {
   "cell_type": "code",
   "execution_count": 14,
   "metadata": {},
   "outputs": [],
   "source": [
    "# y값 분리\n",
    "y_train = train['Emotion']\n",
    "y_test = test['Emotion']"
   ]
  },
  {
   "cell_type": "code",
   "execution_count": 15,
   "metadata": {},
   "outputs": [
    {
     "name": "stdout",
     "output_type": "stream",
     "text": [
      "18922\n",
      "112\n"
     ]
    }
   ],
   "source": [
    "vocab_size = len(tokenizer.word_index)\n",
    "max_len = max(len(l) for l in X_train)\n",
    "print(vocab_size)\n",
    "print(max_len)"
   ]
  },
  {
   "cell_type": "code",
   "execution_count": 16,
   "metadata": {},
   "outputs": [],
   "source": [
    "from tensorflow.keras.preprocessing.sequence import pad_sequences\n",
    "\n",
    "X_train = pad_sequences(X_train, maxlen = max_len)\n",
    "X_test = pad_sequences(X_test, maxlen = max_len)"
   ]
  },
  {
   "cell_type": "code",
   "execution_count": 17,
   "metadata": {},
   "outputs": [
    {
     "ename": "NotImplementedError",
     "evalue": "Cannot convert a symbolic Tensor (lstm/strided_slice:0) to a numpy array. This error may indicate that you're trying to pass a Tensor to a NumPy call, which is not supported",
     "output_type": "error",
     "traceback": [
      "\u001b[1;31m---------------------------------------------------------------------------\u001b[0m",
      "\u001b[1;31mNotImplementedError\u001b[0m                       Traceback (most recent call last)",
      "\u001b[1;32mc:\\Users\\USER\\TIL\\중고차 시세 예측\\중고차 감성분류.ipynb Cell 20'\u001b[0m in \u001b[0;36m<cell line: 8>\u001b[1;34m()\u001b[0m\n\u001b[0;32m      <a href='vscode-notebook-cell:/c%3A/Users/USER/TIL/%EC%A4%91%EA%B3%A0%EC%B0%A8%20%EC%8B%9C%EC%84%B8%20%EC%98%88%EC%B8%A1/%EC%A4%91%EA%B3%A0%EC%B0%A8%20%EA%B0%90%EC%84%B1%EB%B6%84%EB%A5%98.ipynb#ch0000018?line=5'>6</a>\u001b[0m model \u001b[39m=\u001b[39m Sequential()\n\u001b[0;32m      <a href='vscode-notebook-cell:/c%3A/Users/USER/TIL/%EC%A4%91%EA%B3%A0%EC%B0%A8%20%EC%8B%9C%EC%84%B8%20%EC%98%88%EC%B8%A1/%EC%A4%91%EA%B3%A0%EC%B0%A8%20%EA%B0%90%EC%84%B1%EB%B6%84%EB%A5%98.ipynb#ch0000018?line=6'>7</a>\u001b[0m model\u001b[39m.\u001b[39madd(Embedding(vocab_size, \u001b[39m100\u001b[39m))\n\u001b[1;32m----> <a href='vscode-notebook-cell:/c%3A/Users/USER/TIL/%EC%A4%91%EA%B3%A0%EC%B0%A8%20%EC%8B%9C%EC%84%B8%20%EC%98%88%EC%B8%A1/%EC%A4%91%EA%B3%A0%EC%B0%A8%20%EA%B0%90%EC%84%B1%EB%B6%84%EB%A5%98.ipynb#ch0000018?line=7'>8</a>\u001b[0m model\u001b[39m.\u001b[39;49madd(LSTM(\u001b[39m128\u001b[39;49m, return_sequences \u001b[39m=\u001b[39;49m \u001b[39mTrue\u001b[39;49;00m))\n\u001b[0;32m      <a href='vscode-notebook-cell:/c%3A/Users/USER/TIL/%EC%A4%91%EA%B3%A0%EC%B0%A8%20%EC%8B%9C%EC%84%B8%20%EC%98%88%EC%B8%A1/%EC%A4%91%EA%B3%A0%EC%B0%A8%20%EA%B0%90%EC%84%B1%EB%B6%84%EB%A5%98.ipynb#ch0000018?line=8'>9</a>\u001b[0m model\u001b[39m.\u001b[39madd(Dropout(\u001b[39m0.5\u001b[39m))\n\u001b[0;32m     <a href='vscode-notebook-cell:/c%3A/Users/USER/TIL/%EC%A4%91%EA%B3%A0%EC%B0%A8%20%EC%8B%9C%EC%84%B8%20%EC%98%88%EC%B8%A1/%EC%A4%91%EA%B3%A0%EC%B0%A8%20%EA%B0%90%EC%84%B1%EB%B6%84%EB%A5%98.ipynb#ch0000018?line=9'>10</a>\u001b[0m model\u001b[39m.\u001b[39madd(GRU(\u001b[39m128\u001b[39m))\n",
      "File \u001b[1;32mc:\\Users\\USER\\anaconda3\\lib\\site-packages\\tensorflow\\python\\training\\tracking\\base.py:522\u001b[0m, in \u001b[0;36m_method_wrapper\u001b[1;34m(self, *args, **kwargs)\u001b[0m\n\u001b[0;32m    <a href='file:///c%3A/Users/USER/anaconda3/lib/site-packages/tensorflow/python/training/tracking/base.py?line=516'>517</a>\u001b[0m \u001b[39m@property\u001b[39m\n\u001b[0;32m    <a href='file:///c%3A/Users/USER/anaconda3/lib/site-packages/tensorflow/python/training/tracking/base.py?line=517'>518</a>\u001b[0m \u001b[39mdef\u001b[39;00m \u001b[39mproto_id\u001b[39m(\u001b[39mself\u001b[39m):\n\u001b[0;32m    <a href='file:///c%3A/Users/USER/anaconda3/lib/site-packages/tensorflow/python/training/tracking/base.py?line=518'>519</a>\u001b[0m   \u001b[39mreturn\u001b[39;00m \u001b[39mself\u001b[39m\u001b[39m.\u001b[39m_proto_id\n\u001b[0;32m    <a href='file:///c%3A/Users/USER/anaconda3/lib/site-packages/tensorflow/python/training/tracking/base.py?line=520'>521</a>\u001b[0m \u001b[39m@property\u001b[39m\n\u001b[1;32m--> <a href='file:///c%3A/Users/USER/anaconda3/lib/site-packages/tensorflow/python/training/tracking/base.py?line=521'>522</a>\u001b[0m \u001b[39mdef\u001b[39;00m \u001b[39mrestore_uid\u001b[39m(\u001b[39mself\u001b[39m):\n\u001b[0;32m    <a href='file:///c%3A/Users/USER/anaconda3/lib/site-packages/tensorflow/python/training/tracking/base.py?line=522'>523</a>\u001b[0m   \u001b[39mreturn\u001b[39;00m \u001b[39mself\u001b[39m\u001b[39m.\u001b[39m_checkpoint\u001b[39m.\u001b[39mrestore_uid\n\u001b[0;32m    <a href='file:///c%3A/Users/USER/anaconda3/lib/site-packages/tensorflow/python/training/tracking/base.py?line=524'>525</a>\u001b[0m \u001b[39mdef\u001b[39;00m \u001b[39m__repr__\u001b[39m(\u001b[39mself\u001b[39m):\n",
      "File \u001b[1;32mc:\\Users\\USER\\anaconda3\\lib\\site-packages\\tensorflow\\python\\keras\\engine\\sequential.py:228\u001b[0m, in \u001b[0;36madd\u001b[1;34m(self, layer)\u001b[0m\n\u001b[0;32m    <a href='file:///c%3A/Users/USER/anaconda3/lib/site-packages/tensorflow/python/keras/engine/sequential.py?line=223'>224</a>\u001b[0m \u001b[39melif\u001b[39;00m \u001b[39mself\u001b[39m\u001b[39m.\u001b[39moutputs:\n\u001b[0;32m    <a href='file:///c%3A/Users/USER/anaconda3/lib/site-packages/tensorflow/python/keras/engine/sequential.py?line=224'>225</a>\u001b[0m   \u001b[39m# If the model is being built continuously on top of an input layer:\u001b[39;00m\n\u001b[0;32m    <a href='file:///c%3A/Users/USER/anaconda3/lib/site-packages/tensorflow/python/keras/engine/sequential.py?line=225'>226</a>\u001b[0m   \u001b[39m# refresh its output.\u001b[39;00m\n\u001b[0;32m    <a href='file:///c%3A/Users/USER/anaconda3/lib/site-packages/tensorflow/python/keras/engine/sequential.py?line=226'>227</a>\u001b[0m   output_tensor \u001b[39m=\u001b[39m layer(\u001b[39mself\u001b[39m\u001b[39m.\u001b[39moutputs[\u001b[39m0\u001b[39m])\n\u001b[1;32m--> <a href='file:///c%3A/Users/USER/anaconda3/lib/site-packages/tensorflow/python/keras/engine/sequential.py?line=227'>228</a>\u001b[0m   \u001b[39mif\u001b[39;00m \u001b[39mlen\u001b[39m(nest\u001b[39m.\u001b[39mflatten(output_tensor)) \u001b[39m!=\u001b[39m \u001b[39m1\u001b[39m:\n\u001b[0;32m    <a href='file:///c%3A/Users/USER/anaconda3/lib/site-packages/tensorflow/python/keras/engine/sequential.py?line=228'>229</a>\u001b[0m     \u001b[39mraise\u001b[39;00m \u001b[39mValueError\u001b[39;00m(SINGLE_LAYER_OUTPUT_ERROR_MSG)\n\u001b[0;32m    <a href='file:///c%3A/Users/USER/anaconda3/lib/site-packages/tensorflow/python/keras/engine/sequential.py?line=229'>230</a>\u001b[0m   \u001b[39mself\u001b[39m\u001b[39m.\u001b[39moutputs \u001b[39m=\u001b[39m [output_tensor]\n",
      "File \u001b[1;32mc:\\Users\\USER\\anaconda3\\lib\\site-packages\\tensorflow\\python\\keras\\layers\\recurrent.py:668\u001b[0m, in \u001b[0;36mRNN.__call__\u001b[1;34m(self, inputs, initial_state, constants, **kwargs)\u001b[0m\n\u001b[0;32m    <a href='file:///c%3A/Users/USER/anaconda3/lib/site-packages/tensorflow/python/keras/layers/recurrent.py?line=661'>662</a>\u001b[0m inputs, initial_state, constants \u001b[39m=\u001b[39m _standardize_args(inputs,\n\u001b[0;32m    <a href='file:///c%3A/Users/USER/anaconda3/lib/site-packages/tensorflow/python/keras/layers/recurrent.py?line=662'>663</a>\u001b[0m                                                      initial_state,\n\u001b[0;32m    <a href='file:///c%3A/Users/USER/anaconda3/lib/site-packages/tensorflow/python/keras/layers/recurrent.py?line=663'>664</a>\u001b[0m                                                      constants,\n\u001b[0;32m    <a href='file:///c%3A/Users/USER/anaconda3/lib/site-packages/tensorflow/python/keras/layers/recurrent.py?line=664'>665</a>\u001b[0m                                                      \u001b[39mself\u001b[39m\u001b[39m.\u001b[39m_num_constants)\n\u001b[0;32m    <a href='file:///c%3A/Users/USER/anaconda3/lib/site-packages/tensorflow/python/keras/layers/recurrent.py?line=666'>667</a>\u001b[0m \u001b[39mif\u001b[39;00m initial_state \u001b[39mis\u001b[39;00m \u001b[39mNone\u001b[39;00m \u001b[39mand\u001b[39;00m constants \u001b[39mis\u001b[39;00m \u001b[39mNone\u001b[39;00m:\n\u001b[1;32m--> <a href='file:///c%3A/Users/USER/anaconda3/lib/site-packages/tensorflow/python/keras/layers/recurrent.py?line=667'>668</a>\u001b[0m   \u001b[39mreturn\u001b[39;00m \u001b[39msuper\u001b[39m(RNN, \u001b[39mself\u001b[39m)\u001b[39m.\u001b[39m\u001b[39m__call__\u001b[39m(inputs, \u001b[39m*\u001b[39m\u001b[39m*\u001b[39mkwargs)\n\u001b[0;32m    <a href='file:///c%3A/Users/USER/anaconda3/lib/site-packages/tensorflow/python/keras/layers/recurrent.py?line=669'>670</a>\u001b[0m \u001b[39m# If any of `initial_state` or `constants` are specified and are Keras\u001b[39;00m\n\u001b[0;32m    <a href='file:///c%3A/Users/USER/anaconda3/lib/site-packages/tensorflow/python/keras/layers/recurrent.py?line=670'>671</a>\u001b[0m \u001b[39m# tensors, then add them to the inputs and temporarily modify the\u001b[39;00m\n\u001b[0;32m    <a href='file:///c%3A/Users/USER/anaconda3/lib/site-packages/tensorflow/python/keras/layers/recurrent.py?line=671'>672</a>\u001b[0m \u001b[39m# input_spec to include them.\u001b[39;00m\n\u001b[0;32m    <a href='file:///c%3A/Users/USER/anaconda3/lib/site-packages/tensorflow/python/keras/layers/recurrent.py?line=673'>674</a>\u001b[0m additional_inputs \u001b[39m=\u001b[39m []\n",
      "File \u001b[1;32mc:\\Users\\USER\\anaconda3\\lib\\site-packages\\tensorflow\\python\\keras\\engine\\base_layer.py:969\u001b[0m, in \u001b[0;36m__call__\u001b[1;34m(self, *args, **kwargs)\u001b[0m\n\u001b[0;32m    <a href='file:///c%3A/Users/USER/anaconda3/lib/site-packages/tensorflow/python/keras/engine/base_layer.py?line=957'>958</a>\u001b[0m if not hasattr(self, '_thread_local'):\n\u001b[0;32m    <a href='file:///c%3A/Users/USER/anaconda3/lib/site-packages/tensorflow/python/keras/engine/base_layer.py?line=958'>959</a>\u001b[0m   raise RuntimeError(\n\u001b[0;32m    <a href='file:///c%3A/Users/USER/anaconda3/lib/site-packages/tensorflow/python/keras/engine/base_layer.py?line=959'>960</a>\u001b[0m       'You must call `super().__init__()` in the layer constructor.')\n\u001b[0;32m    <a href='file:///c%3A/Users/USER/anaconda3/lib/site-packages/tensorflow/python/keras/engine/base_layer.py?line=961'>962</a>\u001b[0m # `inputs` (the first arg in the method spec) is special cased in\n\u001b[0;32m    <a href='file:///c%3A/Users/USER/anaconda3/lib/site-packages/tensorflow/python/keras/engine/base_layer.py?line=962'>963</a>\u001b[0m # layer call due to historical reasons.\n\u001b[0;32m    <a href='file:///c%3A/Users/USER/anaconda3/lib/site-packages/tensorflow/python/keras/engine/base_layer.py?line=963'>964</a>\u001b[0m # This special casing currently takes the form of:\n\u001b[0;32m    <a href='file:///c%3A/Users/USER/anaconda3/lib/site-packages/tensorflow/python/keras/engine/base_layer.py?line=964'>965</a>\u001b[0m # - 'inputs' must be explicitly passed. A layer cannot have zero arguments,\n\u001b[0;32m    <a href='file:///c%3A/Users/USER/anaconda3/lib/site-packages/tensorflow/python/keras/engine/base_layer.py?line=965'>966</a>\u001b[0m #   and inputs cannot have been provided via the default value of a kwarg.\n\u001b[0;32m    <a href='file:///c%3A/Users/USER/anaconda3/lib/site-packages/tensorflow/python/keras/engine/base_layer.py?line=966'>967</a>\u001b[0m # - numpy/scalar values in `inputs` get converted to tensors\n\u001b[0;32m    <a href='file:///c%3A/Users/USER/anaconda3/lib/site-packages/tensorflow/python/keras/engine/base_layer.py?line=967'>968</a>\u001b[0m # - implicit masks / mask metadata are only collected from 'inputs`\n\u001b[1;32m--> <a href='file:///c%3A/Users/USER/anaconda3/lib/site-packages/tensorflow/python/keras/engine/base_layer.py?line=968'>969</a>\u001b[0m # - Layers are built using shape info from 'inputs' only\n\u001b[0;32m    <a href='file:///c%3A/Users/USER/anaconda3/lib/site-packages/tensorflow/python/keras/engine/base_layer.py?line=969'>970</a>\u001b[0m # - input_spec compatibility is only checked against `inputs`\n\u001b[0;32m    <a href='file:///c%3A/Users/USER/anaconda3/lib/site-packages/tensorflow/python/keras/engine/base_layer.py?line=970'>971</a>\u001b[0m # - mixed precision casting (autocast) is only applied to `inputs`,\n\u001b[0;32m    <a href='file:///c%3A/Users/USER/anaconda3/lib/site-packages/tensorflow/python/keras/engine/base_layer.py?line=971'>972</a>\u001b[0m #   not to any other argument.\n\u001b[0;32m    <a href='file:///c%3A/Users/USER/anaconda3/lib/site-packages/tensorflow/python/keras/engine/base_layer.py?line=972'>973</a>\u001b[0m # - setting the SavedModel saving spec.\n\u001b[0;32m    <a href='file:///c%3A/Users/USER/anaconda3/lib/site-packages/tensorflow/python/keras/engine/base_layer.py?line=973'>974</a>\u001b[0m inputs, args, kwargs = self._split_out_first_arg(args, kwargs)\n\u001b[0;32m    <a href='file:///c%3A/Users/USER/anaconda3/lib/site-packages/tensorflow/python/keras/engine/base_layer.py?line=974'>975</a>\u001b[0m input_list = nest.flatten(inputs)\n",
      "File \u001b[1;32mc:\\Users\\USER\\anaconda3\\lib\\site-packages\\tensorflow\\python\\keras\\engine\\base_layer.py:1107\u001b[0m, in \u001b[0;36m_functional_construction_call\u001b[1;34m(self, inputs, args, kwargs, input_list)\u001b[0m\n\u001b[0;32m   <a href='file:///c%3A/Users/USER/anaconda3/lib/site-packages/tensorflow/python/keras/engine/base_layer.py?line=1103'>1104</a>\u001b[0m   else:\n\u001b[0;32m   <a href='file:///c%3A/Users/USER/anaconda3/lib/site-packages/tensorflow/python/keras/engine/base_layer.py?line=1104'>1105</a>\u001b[0m     training_value = bool(training_value)\n\u001b[0;32m   <a href='file:///c%3A/Users/USER/anaconda3/lib/site-packages/tensorflow/python/keras/engine/base_layer.py?line=1105'>1106</a>\u001b[0m # Priority 4: trace layer with the default training argument specified\n\u001b[1;32m-> <a href='file:///c%3A/Users/USER/anaconda3/lib/site-packages/tensorflow/python/keras/engine/base_layer.py?line=1106'>1107</a>\u001b[0m # in the `call` signature (or in inference mode if the `call` signature\n\u001b[0;32m   <a href='file:///c%3A/Users/USER/anaconda3/lib/site-packages/tensorflow/python/keras/engine/base_layer.py?line=1107'>1108</a>\u001b[0m # specifies no non-None default).\n\u001b[0;32m   <a href='file:///c%3A/Users/USER/anaconda3/lib/site-packages/tensorflow/python/keras/engine/base_layer.py?line=1108'>1109</a>\u001b[0m else:\n\u001b[0;32m   <a href='file:///c%3A/Users/USER/anaconda3/lib/site-packages/tensorflow/python/keras/engine/base_layer.py?line=1109'>1110</a>\u001b[0m   training_value = self._default_training_arg\n\u001b[0;32m   <a href='file:///c%3A/Users/USER/anaconda3/lib/site-packages/tensorflow/python/keras/engine/base_layer.py?line=1110'>1111</a>\u001b[0m # In cases (2), (3), (4) the training argument is passed automatically\n\u001b[0;32m   <a href='file:///c%3A/Users/USER/anaconda3/lib/site-packages/tensorflow/python/keras/engine/base_layer.py?line=1111'>1112</a>\u001b[0m # by the framework, and will not be hard-coded into the model.\n",
      "File \u001b[1;32mc:\\Users\\USER\\anaconda3\\lib\\site-packages\\tensorflow\\python\\keras\\engine\\base_layer.py:840\u001b[0m, in \u001b[0;36m_keras_tensor_symbolic_call\u001b[1;34m(self, inputs, input_masks, args, kwargs)\u001b[0m\n\u001b[0;32m    <a href='file:///c%3A/Users/USER/anaconda3/lib/site-packages/tensorflow/python/keras/engine/base_layer.py?line=834'>835</a>\u001b[0m     dtype \u001b[39m=\u001b[39m input_dtypes[\u001b[39m0\u001b[39m]\n\u001b[0;32m    <a href='file:///c%3A/Users/USER/anaconda3/lib/site-packages/tensorflow/python/keras/engine/base_layer.py?line=835'>836</a>\u001b[0m   \u001b[39mreturn\u001b[39;00m nest\u001b[39m.\u001b[39mmap_structure(\n\u001b[0;32m    <a href='file:///c%3A/Users/USER/anaconda3/lib/site-packages/tensorflow/python/keras/engine/base_layer.py?line=836'>837</a>\u001b[0m       \u001b[39mlambda\u001b[39;00m s: tensor_spec\u001b[39m.\u001b[39mTensorSpec(dtype\u001b[39m=\u001b[39mdtype, shape\u001b[39m=\u001b[39ms),\n\u001b[0;32m    <a href='file:///c%3A/Users/USER/anaconda3/lib/site-packages/tensorflow/python/keras/engine/base_layer.py?line=837'>838</a>\u001b[0m       output_shape)\n\u001b[1;32m--> <a href='file:///c%3A/Users/USER/anaconda3/lib/site-packages/tensorflow/python/keras/engine/base_layer.py?line=839'>840</a>\u001b[0m \u001b[39mdef\u001b[39;00m \u001b[39m_keras_tensor_symbolic_call\u001b[39m(\u001b[39mself\u001b[39m, inputs, input_masks, args, kwargs):\n\u001b[0;32m    <a href='file:///c%3A/Users/USER/anaconda3/lib/site-packages/tensorflow/python/keras/engine/base_layer.py?line=840'>841</a>\u001b[0m   \u001b[39mif\u001b[39;00m \u001b[39mself\u001b[39m\u001b[39m.\u001b[39mdynamic:\n\u001b[0;32m    <a href='file:///c%3A/Users/USER/anaconda3/lib/site-packages/tensorflow/python/keras/engine/base_layer.py?line=841'>842</a>\u001b[0m     \u001b[39m# We will use static shape inference to return symbolic tensors\u001b[39;00m\n\u001b[0;32m    <a href='file:///c%3A/Users/USER/anaconda3/lib/site-packages/tensorflow/python/keras/engine/base_layer.py?line=842'>843</a>\u001b[0m     \u001b[39m# matching the specifications of the layer outputs.\u001b[39;00m\n\u001b[1;32m   (...)\u001b[0m\n\u001b[0;32m    <a href='file:///c%3A/Users/USER/anaconda3/lib/site-packages/tensorflow/python/keras/engine/base_layer.py?line=845'>846</a>\u001b[0m     \u001b[39m# TODO(fchollet): consider py_func as an alternative, which\u001b[39;00m\n\u001b[0;32m    <a href='file:///c%3A/Users/USER/anaconda3/lib/site-packages/tensorflow/python/keras/engine/base_layer.py?line=846'>847</a>\u001b[0m     \u001b[39m# would enable us to run the underlying graph if needed.\u001b[39;00m\n\u001b[0;32m    <a href='file:///c%3A/Users/USER/anaconda3/lib/site-packages/tensorflow/python/keras/engine/base_layer.py?line=847'>848</a>\u001b[0m     input_signature \u001b[39m=\u001b[39m nest\u001b[39m.\u001b[39mmap_structure(\n\u001b[0;32m    <a href='file:///c%3A/Users/USER/anaconda3/lib/site-packages/tensorflow/python/keras/engine/base_layer.py?line=848'>849</a>\u001b[0m         \u001b[39mlambda\u001b[39;00m x: tensor_spec\u001b[39m.\u001b[39mTensorSpec(shape\u001b[39m=\u001b[39mx\u001b[39m.\u001b[39mshape, dtype\u001b[39m=\u001b[39mx\u001b[39m.\u001b[39mdtype),\n\u001b[0;32m    <a href='file:///c%3A/Users/USER/anaconda3/lib/site-packages/tensorflow/python/keras/engine/base_layer.py?line=849'>850</a>\u001b[0m         inputs)\n",
      "File \u001b[1;32mc:\\Users\\USER\\anaconda3\\lib\\site-packages\\tensorflow\\python\\keras\\engine\\base_layer.py:880\u001b[0m, in \u001b[0;36m_infer_output_signature\u001b[1;34m(self, inputs, args, kwargs, input_masks)\u001b[0m\n\u001b[0;32m    <a href='file:///c%3A/Users/USER/anaconda3/lib/site-packages/tensorflow/python/keras/engine/base_layer.py?line=875'>876</a>\u001b[0m \u001b[39mwith\u001b[39;00m scratch_graph\u001b[39m.\u001b[39mas_default():\n\u001b[0;32m    <a href='file:///c%3A/Users/USER/anaconda3/lib/site-packages/tensorflow/python/keras/engine/base_layer.py?line=876'>877</a>\u001b[0m   inputs \u001b[39m=\u001b[39m nest\u001b[39m.\u001b[39mmap_structure(\n\u001b[0;32m    <a href='file:///c%3A/Users/USER/anaconda3/lib/site-packages/tensorflow/python/keras/engine/base_layer.py?line=877'>878</a>\u001b[0m       keras_tensor\u001b[39m.\u001b[39mkeras_tensor_to_placeholder, inputs)\n\u001b[0;32m    <a href='file:///c%3A/Users/USER/anaconda3/lib/site-packages/tensorflow/python/keras/engine/base_layer.py?line=878'>879</a>\u001b[0m   args \u001b[39m=\u001b[39m nest\u001b[39m.\u001b[39mmap_structure(\n\u001b[1;32m--> <a href='file:///c%3A/Users/USER/anaconda3/lib/site-packages/tensorflow/python/keras/engine/base_layer.py?line=879'>880</a>\u001b[0m       keras_tensor\u001b[39m.\u001b[39mkeras_tensor_to_placeholder, args)\n\u001b[0;32m    <a href='file:///c%3A/Users/USER/anaconda3/lib/site-packages/tensorflow/python/keras/engine/base_layer.py?line=880'>881</a>\u001b[0m   kwargs \u001b[39m=\u001b[39m nest\u001b[39m.\u001b[39mmap_structure(\n\u001b[0;32m    <a href='file:///c%3A/Users/USER/anaconda3/lib/site-packages/tensorflow/python/keras/engine/base_layer.py?line=881'>882</a>\u001b[0m       keras_tensor\u001b[39m.\u001b[39mkeras_tensor_to_placeholder, kwargs)\n\u001b[0;32m    <a href='file:///c%3A/Users/USER/anaconda3/lib/site-packages/tensorflow/python/keras/engine/base_layer.py?line=882'>883</a>\u001b[0m   input_masks \u001b[39m=\u001b[39m nest\u001b[39m.\u001b[39mmap_structure(\n\u001b[0;32m    <a href='file:///c%3A/Users/USER/anaconda3/lib/site-packages/tensorflow/python/keras/engine/base_layer.py?line=883'>884</a>\u001b[0m       keras_tensor\u001b[39m.\u001b[39mkeras_tensor_to_placeholder, input_masks)\n",
      "File \u001b[1;32mc:\\Users\\USER\\anaconda3\\lib\\site-packages\\tensorflow\\python\\keras\\layers\\recurrent_v2.py:1153\u001b[0m, in \u001b[0;36mLSTM.call\u001b[1;34m(self, inputs, mask, training, initial_state)\u001b[0m\n\u001b[0;32m   <a href='file:///c%3A/Users/USER/anaconda3/lib/site-packages/tensorflow/python/keras/layers/recurrent_v2.py?line=1149'>1150</a>\u001b[0m \u001b[39mself\u001b[39m\u001b[39m.\u001b[39m_validate_args_if_ragged(is_ragged_input, mask)\n\u001b[0;32m   <a href='file:///c%3A/Users/USER/anaconda3/lib/site-packages/tensorflow/python/keras/layers/recurrent_v2.py?line=1151'>1152</a>\u001b[0m \u001b[39m# LSTM does not support constants. Ignore it during process.\u001b[39;00m\n\u001b[1;32m-> <a href='file:///c%3A/Users/USER/anaconda3/lib/site-packages/tensorflow/python/keras/layers/recurrent_v2.py?line=1152'>1153</a>\u001b[0m inputs, initial_state, _ \u001b[39m=\u001b[39m \u001b[39mself\u001b[39;49m\u001b[39m.\u001b[39;49m_process_inputs(inputs, initial_state, \u001b[39mNone\u001b[39;49;00m)\n\u001b[0;32m   <a href='file:///c%3A/Users/USER/anaconda3/lib/site-packages/tensorflow/python/keras/layers/recurrent_v2.py?line=1154'>1155</a>\u001b[0m \u001b[39mif\u001b[39;00m \u001b[39misinstance\u001b[39m(mask, \u001b[39mlist\u001b[39m):\n\u001b[0;32m   <a href='file:///c%3A/Users/USER/anaconda3/lib/site-packages/tensorflow/python/keras/layers/recurrent_v2.py?line=1155'>1156</a>\u001b[0m   mask \u001b[39m=\u001b[39m mask[\u001b[39m0\u001b[39m]\n",
      "File \u001b[1;32mc:\\Users\\USER\\anaconda3\\lib\\site-packages\\tensorflow\\python\\keras\\layers\\recurrent.py:868\u001b[0m, in \u001b[0;36mRNN._process_inputs\u001b[1;34m(self, inputs, initial_state, constants)\u001b[0m\n\u001b[0;32m    <a href='file:///c%3A/Users/USER/anaconda3/lib/site-packages/tensorflow/python/keras/layers/recurrent.py?line=865'>866</a>\u001b[0m     initial_state \u001b[39m=\u001b[39m \u001b[39mself\u001b[39m\u001b[39m.\u001b[39mstates\n\u001b[0;32m    <a href='file:///c%3A/Users/USER/anaconda3/lib/site-packages/tensorflow/python/keras/layers/recurrent.py?line=866'>867</a>\u001b[0m \u001b[39melif\u001b[39;00m initial_state \u001b[39mis\u001b[39;00m \u001b[39mNone\u001b[39;00m:\n\u001b[1;32m--> <a href='file:///c%3A/Users/USER/anaconda3/lib/site-packages/tensorflow/python/keras/layers/recurrent.py?line=867'>868</a>\u001b[0m   initial_state \u001b[39m=\u001b[39m \u001b[39mself\u001b[39;49m\u001b[39m.\u001b[39;49mget_initial_state(inputs)\n\u001b[0;32m    <a href='file:///c%3A/Users/USER/anaconda3/lib/site-packages/tensorflow/python/keras/layers/recurrent.py?line=869'>870</a>\u001b[0m \u001b[39mif\u001b[39;00m \u001b[39mlen\u001b[39m(initial_state) \u001b[39m!=\u001b[39m \u001b[39mlen\u001b[39m(\u001b[39mself\u001b[39m\u001b[39m.\u001b[39mstates):\n\u001b[0;32m    <a href='file:///c%3A/Users/USER/anaconda3/lib/site-packages/tensorflow/python/keras/layers/recurrent.py?line=870'>871</a>\u001b[0m   \u001b[39mraise\u001b[39;00m \u001b[39mValueError\u001b[39;00m(\u001b[39m'\u001b[39m\u001b[39mLayer has \u001b[39m\u001b[39m'\u001b[39m \u001b[39m+\u001b[39m \u001b[39mstr\u001b[39m(\u001b[39mlen\u001b[39m(\u001b[39mself\u001b[39m\u001b[39m.\u001b[39mstates)) \u001b[39m+\u001b[39m\n\u001b[0;32m    <a href='file:///c%3A/Users/USER/anaconda3/lib/site-packages/tensorflow/python/keras/layers/recurrent.py?line=871'>872</a>\u001b[0m                    \u001b[39m'\u001b[39m\u001b[39m states but was passed \u001b[39m\u001b[39m'\u001b[39m \u001b[39m+\u001b[39m \u001b[39mstr\u001b[39m(\u001b[39mlen\u001b[39m(initial_state)) \u001b[39m+\u001b[39m\n\u001b[0;32m    <a href='file:///c%3A/Users/USER/anaconda3/lib/site-packages/tensorflow/python/keras/layers/recurrent.py?line=872'>873</a>\u001b[0m                    \u001b[39m'\u001b[39m\u001b[39m initial states.\u001b[39m\u001b[39m'\u001b[39m)\n",
      "File \u001b[1;32mc:\\Users\\USER\\anaconda3\\lib\\site-packages\\tensorflow\\python\\keras\\layers\\recurrent.py:650\u001b[0m, in \u001b[0;36mRNN.get_initial_state\u001b[1;34m(self, inputs)\u001b[0m\n\u001b[0;32m    <a href='file:///c%3A/Users/USER/anaconda3/lib/site-packages/tensorflow/python/keras/layers/recurrent.py?line=647'>648</a>\u001b[0m dtype \u001b[39m=\u001b[39m inputs\u001b[39m.\u001b[39mdtype\n\u001b[0;32m    <a href='file:///c%3A/Users/USER/anaconda3/lib/site-packages/tensorflow/python/keras/layers/recurrent.py?line=648'>649</a>\u001b[0m \u001b[39mif\u001b[39;00m get_initial_state_fn:\n\u001b[1;32m--> <a href='file:///c%3A/Users/USER/anaconda3/lib/site-packages/tensorflow/python/keras/layers/recurrent.py?line=649'>650</a>\u001b[0m   init_state \u001b[39m=\u001b[39m get_initial_state_fn(\n\u001b[0;32m    <a href='file:///c%3A/Users/USER/anaconda3/lib/site-packages/tensorflow/python/keras/layers/recurrent.py?line=650'>651</a>\u001b[0m       inputs\u001b[39m=\u001b[39;49m\u001b[39mNone\u001b[39;49;00m, batch_size\u001b[39m=\u001b[39;49mbatch_size, dtype\u001b[39m=\u001b[39;49mdtype)\n\u001b[0;32m    <a href='file:///c%3A/Users/USER/anaconda3/lib/site-packages/tensorflow/python/keras/layers/recurrent.py?line=651'>652</a>\u001b[0m \u001b[39melse\u001b[39;00m:\n\u001b[0;32m    <a href='file:///c%3A/Users/USER/anaconda3/lib/site-packages/tensorflow/python/keras/layers/recurrent.py?line=652'>653</a>\u001b[0m   init_state \u001b[39m=\u001b[39m _generate_zero_filled_state(batch_size, \u001b[39mself\u001b[39m\u001b[39m.\u001b[39mcell\u001b[39m.\u001b[39mstate_size,\n\u001b[0;32m    <a href='file:///c%3A/Users/USER/anaconda3/lib/site-packages/tensorflow/python/keras/layers/recurrent.py?line=653'>654</a>\u001b[0m                                            dtype)\n",
      "File \u001b[1;32mc:\\Users\\USER\\anaconda3\\lib\\site-packages\\tensorflow\\python\\keras\\layers\\recurrent.py:2516\u001b[0m, in \u001b[0;36mget_initial_state\u001b[1;34m(self, inputs, batch_size, dtype)\u001b[0m\n\u001b[0;32m   <a href='file:///c%3A/Users/USER/anaconda3/lib/site-packages/tensorflow/python/keras/layers/recurrent.py?line=2482'>2483</a>\u001b[0m \u001b[39mdef\u001b[39;00m \u001b[39mget_config\u001b[39m(\u001b[39mself\u001b[39m):\n\u001b[0;32m   <a href='file:///c%3A/Users/USER/anaconda3/lib/site-packages/tensorflow/python/keras/layers/recurrent.py?line=2483'>2484</a>\u001b[0m   config \u001b[39m=\u001b[39m {\n\u001b[0;32m   <a href='file:///c%3A/Users/USER/anaconda3/lib/site-packages/tensorflow/python/keras/layers/recurrent.py?line=2484'>2485</a>\u001b[0m       \u001b[39m'\u001b[39m\u001b[39munits\u001b[39m\u001b[39m'\u001b[39m:\n\u001b[0;32m   <a href='file:///c%3A/Users/USER/anaconda3/lib/site-packages/tensorflow/python/keras/layers/recurrent.py?line=2485'>2486</a>\u001b[0m           \u001b[39mself\u001b[39m\u001b[39m.\u001b[39munits,\n\u001b[0;32m   <a href='file:///c%3A/Users/USER/anaconda3/lib/site-packages/tensorflow/python/keras/layers/recurrent.py?line=2486'>2487</a>\u001b[0m       \u001b[39m'\u001b[39m\u001b[39mactivation\u001b[39m\u001b[39m'\u001b[39m:\n\u001b[0;32m   <a href='file:///c%3A/Users/USER/anaconda3/lib/site-packages/tensorflow/python/keras/layers/recurrent.py?line=2487'>2488</a>\u001b[0m           activations\u001b[39m.\u001b[39mserialize(\u001b[39mself\u001b[39m\u001b[39m.\u001b[39mactivation),\n\u001b[0;32m   <a href='file:///c%3A/Users/USER/anaconda3/lib/site-packages/tensorflow/python/keras/layers/recurrent.py?line=2488'>2489</a>\u001b[0m       \u001b[39m'\u001b[39m\u001b[39mrecurrent_activation\u001b[39m\u001b[39m'\u001b[39m:\n\u001b[0;32m   <a href='file:///c%3A/Users/USER/anaconda3/lib/site-packages/tensorflow/python/keras/layers/recurrent.py?line=2489'>2490</a>\u001b[0m           activations\u001b[39m.\u001b[39mserialize(\u001b[39mself\u001b[39m\u001b[39m.\u001b[39mrecurrent_activation),\n\u001b[0;32m   <a href='file:///c%3A/Users/USER/anaconda3/lib/site-packages/tensorflow/python/keras/layers/recurrent.py?line=2490'>2491</a>\u001b[0m       \u001b[39m'\u001b[39m\u001b[39muse_bias\u001b[39m\u001b[39m'\u001b[39m:\n\u001b[0;32m   <a href='file:///c%3A/Users/USER/anaconda3/lib/site-packages/tensorflow/python/keras/layers/recurrent.py?line=2491'>2492</a>\u001b[0m           \u001b[39mself\u001b[39m\u001b[39m.\u001b[39muse_bias,\n\u001b[0;32m   <a href='file:///c%3A/Users/USER/anaconda3/lib/site-packages/tensorflow/python/keras/layers/recurrent.py?line=2492'>2493</a>\u001b[0m       \u001b[39m'\u001b[39m\u001b[39mkernel_initializer\u001b[39m\u001b[39m'\u001b[39m:\n\u001b[0;32m   <a href='file:///c%3A/Users/USER/anaconda3/lib/site-packages/tensorflow/python/keras/layers/recurrent.py?line=2493'>2494</a>\u001b[0m           initializers\u001b[39m.\u001b[39mserialize(\u001b[39mself\u001b[39m\u001b[39m.\u001b[39mkernel_initializer),\n\u001b[0;32m   <a href='file:///c%3A/Users/USER/anaconda3/lib/site-packages/tensorflow/python/keras/layers/recurrent.py?line=2494'>2495</a>\u001b[0m       \u001b[39m'\u001b[39m\u001b[39mrecurrent_initializer\u001b[39m\u001b[39m'\u001b[39m:\n\u001b[0;32m   <a href='file:///c%3A/Users/USER/anaconda3/lib/site-packages/tensorflow/python/keras/layers/recurrent.py?line=2495'>2496</a>\u001b[0m           initializers\u001b[39m.\u001b[39mserialize(\u001b[39mself\u001b[39m\u001b[39m.\u001b[39mrecurrent_initializer),\n\u001b[0;32m   <a href='file:///c%3A/Users/USER/anaconda3/lib/site-packages/tensorflow/python/keras/layers/recurrent.py?line=2496'>2497</a>\u001b[0m       \u001b[39m'\u001b[39m\u001b[39mbias_initializer\u001b[39m\u001b[39m'\u001b[39m:\n\u001b[0;32m   <a href='file:///c%3A/Users/USER/anaconda3/lib/site-packages/tensorflow/python/keras/layers/recurrent.py?line=2497'>2498</a>\u001b[0m           initializers\u001b[39m.\u001b[39mserialize(\u001b[39mself\u001b[39m\u001b[39m.\u001b[39mbias_initializer),\n\u001b[0;32m   <a href='file:///c%3A/Users/USER/anaconda3/lib/site-packages/tensorflow/python/keras/layers/recurrent.py?line=2498'>2499</a>\u001b[0m       \u001b[39m'\u001b[39m\u001b[39munit_forget_bias\u001b[39m\u001b[39m'\u001b[39m:\n\u001b[0;32m   <a href='file:///c%3A/Users/USER/anaconda3/lib/site-packages/tensorflow/python/keras/layers/recurrent.py?line=2499'>2500</a>\u001b[0m           \u001b[39mself\u001b[39m\u001b[39m.\u001b[39munit_forget_bias,\n\u001b[0;32m   <a href='file:///c%3A/Users/USER/anaconda3/lib/site-packages/tensorflow/python/keras/layers/recurrent.py?line=2500'>2501</a>\u001b[0m       \u001b[39m'\u001b[39m\u001b[39mkernel_regularizer\u001b[39m\u001b[39m'\u001b[39m:\n\u001b[0;32m   <a href='file:///c%3A/Users/USER/anaconda3/lib/site-packages/tensorflow/python/keras/layers/recurrent.py?line=2501'>2502</a>\u001b[0m           regularizers\u001b[39m.\u001b[39mserialize(\u001b[39mself\u001b[39m\u001b[39m.\u001b[39mkernel_regularizer),\n\u001b[0;32m   <a href='file:///c%3A/Users/USER/anaconda3/lib/site-packages/tensorflow/python/keras/layers/recurrent.py?line=2502'>2503</a>\u001b[0m       \u001b[39m'\u001b[39m\u001b[39mrecurrent_regularizer\u001b[39m\u001b[39m'\u001b[39m:\n\u001b[0;32m   <a href='file:///c%3A/Users/USER/anaconda3/lib/site-packages/tensorflow/python/keras/layers/recurrent.py?line=2503'>2504</a>\u001b[0m           regularizers\u001b[39m.\u001b[39mserialize(\u001b[39mself\u001b[39m\u001b[39m.\u001b[39mrecurrent_regularizer),\n\u001b[0;32m   <a href='file:///c%3A/Users/USER/anaconda3/lib/site-packages/tensorflow/python/keras/layers/recurrent.py?line=2504'>2505</a>\u001b[0m       \u001b[39m'\u001b[39m\u001b[39mbias_regularizer\u001b[39m\u001b[39m'\u001b[39m:\n\u001b[0;32m   <a href='file:///c%3A/Users/USER/anaconda3/lib/site-packages/tensorflow/python/keras/layers/recurrent.py?line=2505'>2506</a>\u001b[0m           regularizers\u001b[39m.\u001b[39mserialize(\u001b[39mself\u001b[39m\u001b[39m.\u001b[39mbias_regularizer),\n\u001b[0;32m   <a href='file:///c%3A/Users/USER/anaconda3/lib/site-packages/tensorflow/python/keras/layers/recurrent.py?line=2506'>2507</a>\u001b[0m       \u001b[39m'\u001b[39m\u001b[39mkernel_constraint\u001b[39m\u001b[39m'\u001b[39m:\n\u001b[0;32m   <a href='file:///c%3A/Users/USER/anaconda3/lib/site-packages/tensorflow/python/keras/layers/recurrent.py?line=2507'>2508</a>\u001b[0m           constraints\u001b[39m.\u001b[39mserialize(\u001b[39mself\u001b[39m\u001b[39m.\u001b[39mkernel_constraint),\n\u001b[0;32m   <a href='file:///c%3A/Users/USER/anaconda3/lib/site-packages/tensorflow/python/keras/layers/recurrent.py?line=2508'>2509</a>\u001b[0m       \u001b[39m'\u001b[39m\u001b[39mrecurrent_constraint\u001b[39m\u001b[39m'\u001b[39m:\n\u001b[0;32m   <a href='file:///c%3A/Users/USER/anaconda3/lib/site-packages/tensorflow/python/keras/layers/recurrent.py?line=2509'>2510</a>\u001b[0m           constraints\u001b[39m.\u001b[39mserialize(\u001b[39mself\u001b[39m\u001b[39m.\u001b[39mrecurrent_constraint),\n\u001b[0;32m   <a href='file:///c%3A/Users/USER/anaconda3/lib/site-packages/tensorflow/python/keras/layers/recurrent.py?line=2510'>2511</a>\u001b[0m       \u001b[39m'\u001b[39m\u001b[39mbias_constraint\u001b[39m\u001b[39m'\u001b[39m:\n\u001b[0;32m   <a href='file:///c%3A/Users/USER/anaconda3/lib/site-packages/tensorflow/python/keras/layers/recurrent.py?line=2511'>2512</a>\u001b[0m           constraints\u001b[39m.\u001b[39mserialize(\u001b[39mself\u001b[39m\u001b[39m.\u001b[39mbias_constraint),\n\u001b[0;32m   <a href='file:///c%3A/Users/USER/anaconda3/lib/site-packages/tensorflow/python/keras/layers/recurrent.py?line=2512'>2513</a>\u001b[0m       \u001b[39m'\u001b[39m\u001b[39mdropout\u001b[39m\u001b[39m'\u001b[39m:\n\u001b[0;32m   <a href='file:///c%3A/Users/USER/anaconda3/lib/site-packages/tensorflow/python/keras/layers/recurrent.py?line=2513'>2514</a>\u001b[0m           \u001b[39mself\u001b[39m\u001b[39m.\u001b[39mdropout,\n\u001b[0;32m   <a href='file:///c%3A/Users/USER/anaconda3/lib/site-packages/tensorflow/python/keras/layers/recurrent.py?line=2514'>2515</a>\u001b[0m       \u001b[39m'\u001b[39m\u001b[39mrecurrent_dropout\u001b[39m\u001b[39m'\u001b[39m:\n\u001b[1;32m-> <a href='file:///c%3A/Users/USER/anaconda3/lib/site-packages/tensorflow/python/keras/layers/recurrent.py?line=2515'>2516</a>\u001b[0m           \u001b[39mself\u001b[39m\u001b[39m.\u001b[39mrecurrent_dropout,\n\u001b[0;32m   <a href='file:///c%3A/Users/USER/anaconda3/lib/site-packages/tensorflow/python/keras/layers/recurrent.py?line=2516'>2517</a>\u001b[0m       \u001b[39m'\u001b[39m\u001b[39mimplementation\u001b[39m\u001b[39m'\u001b[39m:\n\u001b[0;32m   <a href='file:///c%3A/Users/USER/anaconda3/lib/site-packages/tensorflow/python/keras/layers/recurrent.py?line=2517'>2518</a>\u001b[0m           \u001b[39mself\u001b[39m\u001b[39m.\u001b[39mimplementation\n\u001b[0;32m   <a href='file:///c%3A/Users/USER/anaconda3/lib/site-packages/tensorflow/python/keras/layers/recurrent.py?line=2518'>2519</a>\u001b[0m   }\n\u001b[0;32m   <a href='file:///c%3A/Users/USER/anaconda3/lib/site-packages/tensorflow/python/keras/layers/recurrent.py?line=2519'>2520</a>\u001b[0m   config\u001b[39m.\u001b[39mupdate(_config_for_enable_caching_device(\u001b[39mself\u001b[39m))\n\u001b[0;32m   <a href='file:///c%3A/Users/USER/anaconda3/lib/site-packages/tensorflow/python/keras/layers/recurrent.py?line=2520'>2521</a>\u001b[0m   base_config \u001b[39m=\u001b[39m \u001b[39msuper\u001b[39m(LSTMCell, \u001b[39mself\u001b[39m)\u001b[39m.\u001b[39mget_config()\n",
      "File \u001b[1;32mc:\\Users\\USER\\anaconda3\\lib\\site-packages\\tensorflow\\python\\keras\\layers\\recurrent.py:2998\u001b[0m, in \u001b[0;36m_generate_zero_filled_state_for_cell\u001b[1;34m(cell, inputs, batch_size, dtype)\u001b[0m\n\u001b[0;32m   <a href='file:///c%3A/Users/USER/anaconda3/lib/site-packages/tensorflow/python/keras/layers/recurrent.py?line=2996'>2997</a>\u001b[0m \u001b[39mdef\u001b[39;00m \u001b[39m_is_multiple_state\u001b[39m(state_size):\n\u001b[1;32m-> <a href='file:///c%3A/Users/USER/anaconda3/lib/site-packages/tensorflow/python/keras/layers/recurrent.py?line=2997'>2998</a>\u001b[0m   \u001b[39m\"\"\"Check whether the state_size contains multiple states.\"\"\"\u001b[39;00m\n\u001b[0;32m   <a href='file:///c%3A/Users/USER/anaconda3/lib/site-packages/tensorflow/python/keras/layers/recurrent.py?line=2998'>2999</a>\u001b[0m   \u001b[39mreturn\u001b[39;00m (\u001b[39mhasattr\u001b[39m(state_size, \u001b[39m'\u001b[39m\u001b[39m__len__\u001b[39m\u001b[39m'\u001b[39m) \u001b[39mand\u001b[39;00m\n\u001b[0;32m   <a href='file:///c%3A/Users/USER/anaconda3/lib/site-packages/tensorflow/python/keras/layers/recurrent.py?line=2999'>3000</a>\u001b[0m           \u001b[39mnot\u001b[39;00m \u001b[39misinstance\u001b[39m(state_size, tensor_shape\u001b[39m.\u001b[39mTensorShape))\n",
      "File \u001b[1;32mc:\\Users\\USER\\anaconda3\\lib\\site-packages\\tensorflow\\python\\keras\\layers\\recurrent.py:3014\u001b[0m, in \u001b[0;36m_generate_zero_filled_state\u001b[1;34m(batch_size_tensor, state_size, dtype)\u001b[0m\n\u001b[0;32m   <a href='file:///c%3A/Users/USER/anaconda3/lib/site-packages/tensorflow/python/keras/layers/recurrent.py?line=3010'>3011</a>\u001b[0m \u001b[39m\"\"\"Generate a zero filled tensor with shape [batch_size, state_size].\"\"\"\u001b[39;00m\n\u001b[0;32m   <a href='file:///c%3A/Users/USER/anaconda3/lib/site-packages/tensorflow/python/keras/layers/recurrent.py?line=3011'>3012</a>\u001b[0m \u001b[39mif\u001b[39;00m batch_size_tensor \u001b[39mis\u001b[39;00m \u001b[39mNone\u001b[39;00m \u001b[39mor\u001b[39;00m dtype \u001b[39mis\u001b[39;00m \u001b[39mNone\u001b[39;00m:\n\u001b[0;32m   <a href='file:///c%3A/Users/USER/anaconda3/lib/site-packages/tensorflow/python/keras/layers/recurrent.py?line=3012'>3013</a>\u001b[0m   \u001b[39mraise\u001b[39;00m \u001b[39mValueError\u001b[39;00m(\n\u001b[1;32m-> <a href='file:///c%3A/Users/USER/anaconda3/lib/site-packages/tensorflow/python/keras/layers/recurrent.py?line=3013'>3014</a>\u001b[0m       \u001b[39m'\u001b[39m\u001b[39mbatch_size and dtype cannot be None while constructing initial state: \u001b[39m\u001b[39m'\u001b[39m\n\u001b[0;32m   <a href='file:///c%3A/Users/USER/anaconda3/lib/site-packages/tensorflow/python/keras/layers/recurrent.py?line=3014'>3015</a>\u001b[0m       \u001b[39m'\u001b[39m\u001b[39mbatch_size=\u001b[39m\u001b[39m{}\u001b[39;00m\u001b[39m, dtype=\u001b[39m\u001b[39m{}\u001b[39;00m\u001b[39m'\u001b[39m\u001b[39m.\u001b[39mformat(batch_size_tensor, dtype))\n\u001b[0;32m   <a href='file:///c%3A/Users/USER/anaconda3/lib/site-packages/tensorflow/python/keras/layers/recurrent.py?line=3016'>3017</a>\u001b[0m \u001b[39mdef\u001b[39;00m \u001b[39mcreate_zeros\u001b[39m(unnested_state_size):\n\u001b[0;32m   <a href='file:///c%3A/Users/USER/anaconda3/lib/site-packages/tensorflow/python/keras/layers/recurrent.py?line=3017'>3018</a>\u001b[0m   flat_dims \u001b[39m=\u001b[39m tensor_shape\u001b[39m.\u001b[39mTensorShape(unnested_state_size)\u001b[39m.\u001b[39mas_list()\n",
      "File \u001b[1;32mc:\\Users\\USER\\anaconda3\\lib\\site-packages\\tensorflow\\python\\util\\nest.py:867\u001b[0m, in \u001b[0;36mmap_structure\u001b[1;34m(func, *structure, **kwargs)\u001b[0m\n\u001b[0;32m    <a href='file:///c%3A/Users/USER/anaconda3/lib/site-packages/tensorflow/python/util/nest.py?line=805'>806</a>\u001b[0m \u001b[39m@tf_export\u001b[39m(\u001b[39m\"\u001b[39m\u001b[39mnest.map_structure\u001b[39m\u001b[39m\"\u001b[39m)\n\u001b[0;32m    <a href='file:///c%3A/Users/USER/anaconda3/lib/site-packages/tensorflow/python/util/nest.py?line=806'>807</a>\u001b[0m \u001b[39mdef\u001b[39;00m \u001b[39mmap_structure\u001b[39m(func, \u001b[39m*\u001b[39mstructure, \u001b[39m*\u001b[39m\u001b[39m*\u001b[39mkwargs):\n\u001b[0;32m    <a href='file:///c%3A/Users/USER/anaconda3/lib/site-packages/tensorflow/python/util/nest.py?line=807'>808</a>\u001b[0m   \u001b[39m\"\"\"Creates a new structure by applying `func` to each atom in `structure`.\u001b[39;00m\n\u001b[0;32m    <a href='file:///c%3A/Users/USER/anaconda3/lib/site-packages/tensorflow/python/util/nest.py?line=808'>809</a>\u001b[0m \n\u001b[0;32m    <a href='file:///c%3A/Users/USER/anaconda3/lib/site-packages/tensorflow/python/util/nest.py?line=809'>810</a>\u001b[0m \u001b[39m  Refer to [tf.nest](https://www.tensorflow.org/api_docs/python/tf/nest)\u001b[39;00m\n\u001b[0;32m    <a href='file:///c%3A/Users/USER/anaconda3/lib/site-packages/tensorflow/python/util/nest.py?line=810'>811</a>\u001b[0m \u001b[39m  for the definition of a structure.\u001b[39;00m\n\u001b[0;32m    <a href='file:///c%3A/Users/USER/anaconda3/lib/site-packages/tensorflow/python/util/nest.py?line=811'>812</a>\u001b[0m \n\u001b[0;32m    <a href='file:///c%3A/Users/USER/anaconda3/lib/site-packages/tensorflow/python/util/nest.py?line=812'>813</a>\u001b[0m \u001b[39m  Applies `func(x[0], x[1], ...)` where x[i] enumerates all atoms in\u001b[39;00m\n\u001b[0;32m    <a href='file:///c%3A/Users/USER/anaconda3/lib/site-packages/tensorflow/python/util/nest.py?line=813'>814</a>\u001b[0m \u001b[39m  `structure[i]`.  All items in `structure` must have the same arity,\u001b[39;00m\n\u001b[0;32m    <a href='file:///c%3A/Users/USER/anaconda3/lib/site-packages/tensorflow/python/util/nest.py?line=814'>815</a>\u001b[0m \u001b[39m  and the return value will contain results with the same structure layout.\u001b[39;00m\n\u001b[0;32m    <a href='file:///c%3A/Users/USER/anaconda3/lib/site-packages/tensorflow/python/util/nest.py?line=815'>816</a>\u001b[0m \n\u001b[0;32m    <a href='file:///c%3A/Users/USER/anaconda3/lib/site-packages/tensorflow/python/util/nest.py?line=816'>817</a>\u001b[0m \u001b[39m  Examples:\u001b[39;00m\n\u001b[0;32m    <a href='file:///c%3A/Users/USER/anaconda3/lib/site-packages/tensorflow/python/util/nest.py?line=817'>818</a>\u001b[0m \n\u001b[0;32m    <a href='file:///c%3A/Users/USER/anaconda3/lib/site-packages/tensorflow/python/util/nest.py?line=818'>819</a>\u001b[0m \u001b[39m  * A single Python dict:\u001b[39;00m\n\u001b[0;32m    <a href='file:///c%3A/Users/USER/anaconda3/lib/site-packages/tensorflow/python/util/nest.py?line=819'>820</a>\u001b[0m \n\u001b[0;32m    <a href='file:///c%3A/Users/USER/anaconda3/lib/site-packages/tensorflow/python/util/nest.py?line=820'>821</a>\u001b[0m \u001b[39m  >>> a = {\"hello\": 24, \"world\": 76}\u001b[39;00m\n\u001b[0;32m    <a href='file:///c%3A/Users/USER/anaconda3/lib/site-packages/tensorflow/python/util/nest.py?line=821'>822</a>\u001b[0m \u001b[39m  >>> tf.nest.map_structure(lambda p: p * 2, a)\u001b[39;00m\n\u001b[0;32m    <a href='file:///c%3A/Users/USER/anaconda3/lib/site-packages/tensorflow/python/util/nest.py?line=822'>823</a>\u001b[0m \u001b[39m  {'hello': 48, 'world': 152}\u001b[39;00m\n\u001b[0;32m    <a href='file:///c%3A/Users/USER/anaconda3/lib/site-packages/tensorflow/python/util/nest.py?line=823'>824</a>\u001b[0m \n\u001b[0;32m    <a href='file:///c%3A/Users/USER/anaconda3/lib/site-packages/tensorflow/python/util/nest.py?line=824'>825</a>\u001b[0m \u001b[39m  * Multiple Python dictionaries:\u001b[39;00m\n\u001b[0;32m    <a href='file:///c%3A/Users/USER/anaconda3/lib/site-packages/tensorflow/python/util/nest.py?line=825'>826</a>\u001b[0m \n\u001b[0;32m    <a href='file:///c%3A/Users/USER/anaconda3/lib/site-packages/tensorflow/python/util/nest.py?line=826'>827</a>\u001b[0m \u001b[39m  >>> d1 = {\"hello\": 24, \"world\": 76}\u001b[39;00m\n\u001b[0;32m    <a href='file:///c%3A/Users/USER/anaconda3/lib/site-packages/tensorflow/python/util/nest.py?line=827'>828</a>\u001b[0m \u001b[39m  >>> d2 = {\"hello\": 36, \"world\": 14}\u001b[39;00m\n\u001b[0;32m    <a href='file:///c%3A/Users/USER/anaconda3/lib/site-packages/tensorflow/python/util/nest.py?line=828'>829</a>\u001b[0m \u001b[39m  >>> tf.nest.map_structure(lambda p1, p2: p1 + p2, d1, d2)\u001b[39;00m\n\u001b[0;32m    <a href='file:///c%3A/Users/USER/anaconda3/lib/site-packages/tensorflow/python/util/nest.py?line=829'>830</a>\u001b[0m \u001b[39m  {'hello': 60, 'world': 90}\u001b[39;00m\n\u001b[0;32m    <a href='file:///c%3A/Users/USER/anaconda3/lib/site-packages/tensorflow/python/util/nest.py?line=830'>831</a>\u001b[0m \n\u001b[0;32m    <a href='file:///c%3A/Users/USER/anaconda3/lib/site-packages/tensorflow/python/util/nest.py?line=831'>832</a>\u001b[0m \u001b[39m  * A single Python list:\u001b[39;00m\n\u001b[0;32m    <a href='file:///c%3A/Users/USER/anaconda3/lib/site-packages/tensorflow/python/util/nest.py?line=832'>833</a>\u001b[0m \n\u001b[0;32m    <a href='file:///c%3A/Users/USER/anaconda3/lib/site-packages/tensorflow/python/util/nest.py?line=833'>834</a>\u001b[0m \u001b[39m  >>> a = [24, 76, \"ab\"]\u001b[39;00m\n\u001b[0;32m    <a href='file:///c%3A/Users/USER/anaconda3/lib/site-packages/tensorflow/python/util/nest.py?line=834'>835</a>\u001b[0m \u001b[39m  >>> tf.nest.map_structure(lambda p: p * 2, a)\u001b[39;00m\n\u001b[0;32m    <a href='file:///c%3A/Users/USER/anaconda3/lib/site-packages/tensorflow/python/util/nest.py?line=835'>836</a>\u001b[0m \u001b[39m  [48, 152, 'abab']\u001b[39;00m\n\u001b[0;32m    <a href='file:///c%3A/Users/USER/anaconda3/lib/site-packages/tensorflow/python/util/nest.py?line=836'>837</a>\u001b[0m \n\u001b[0;32m    <a href='file:///c%3A/Users/USER/anaconda3/lib/site-packages/tensorflow/python/util/nest.py?line=837'>838</a>\u001b[0m \u001b[39m  * Scalars:\u001b[39;00m\n\u001b[0;32m    <a href='file:///c%3A/Users/USER/anaconda3/lib/site-packages/tensorflow/python/util/nest.py?line=838'>839</a>\u001b[0m \n\u001b[0;32m    <a href='file:///c%3A/Users/USER/anaconda3/lib/site-packages/tensorflow/python/util/nest.py?line=839'>840</a>\u001b[0m \u001b[39m  >>> tf.nest.map_structure(lambda x, y: x + y, 3, 4)\u001b[39;00m\n\u001b[0;32m    <a href='file:///c%3A/Users/USER/anaconda3/lib/site-packages/tensorflow/python/util/nest.py?line=840'>841</a>\u001b[0m \u001b[39m  7\u001b[39;00m\n\u001b[0;32m    <a href='file:///c%3A/Users/USER/anaconda3/lib/site-packages/tensorflow/python/util/nest.py?line=841'>842</a>\u001b[0m \n\u001b[0;32m    <a href='file:///c%3A/Users/USER/anaconda3/lib/site-packages/tensorflow/python/util/nest.py?line=842'>843</a>\u001b[0m \u001b[39m  * Empty structures:\u001b[39;00m\n\u001b[0;32m    <a href='file:///c%3A/Users/USER/anaconda3/lib/site-packages/tensorflow/python/util/nest.py?line=843'>844</a>\u001b[0m \n\u001b[0;32m    <a href='file:///c%3A/Users/USER/anaconda3/lib/site-packages/tensorflow/python/util/nest.py?line=844'>845</a>\u001b[0m \u001b[39m  >>> tf.nest.map_structure(lambda x: x + 1, ())\u001b[39;00m\n\u001b[0;32m    <a href='file:///c%3A/Users/USER/anaconda3/lib/site-packages/tensorflow/python/util/nest.py?line=845'>846</a>\u001b[0m \u001b[39m  ()\u001b[39;00m\n\u001b[0;32m    <a href='file:///c%3A/Users/USER/anaconda3/lib/site-packages/tensorflow/python/util/nest.py?line=846'>847</a>\u001b[0m \n\u001b[0;32m    <a href='file:///c%3A/Users/USER/anaconda3/lib/site-packages/tensorflow/python/util/nest.py?line=847'>848</a>\u001b[0m \u001b[39m  * Check the types of iterables:\u001b[39;00m\n\u001b[0;32m    <a href='file:///c%3A/Users/USER/anaconda3/lib/site-packages/tensorflow/python/util/nest.py?line=848'>849</a>\u001b[0m \n\u001b[0;32m    <a href='file:///c%3A/Users/USER/anaconda3/lib/site-packages/tensorflow/python/util/nest.py?line=849'>850</a>\u001b[0m \u001b[39m  >>> s1 = (((1, 2), 3), 4, (5, 6))\u001b[39;00m\n\u001b[0;32m    <a href='file:///c%3A/Users/USER/anaconda3/lib/site-packages/tensorflow/python/util/nest.py?line=850'>851</a>\u001b[0m \u001b[39m  >>> s1_list = [[[1, 2], 3], 4, [5, 6]]\u001b[39;00m\n\u001b[0;32m    <a href='file:///c%3A/Users/USER/anaconda3/lib/site-packages/tensorflow/python/util/nest.py?line=851'>852</a>\u001b[0m \u001b[39m  >>> tf.nest.map_structure(lambda x, y: None, s1, s1_list)\u001b[39;00m\n\u001b[0;32m    <a href='file:///c%3A/Users/USER/anaconda3/lib/site-packages/tensorflow/python/util/nest.py?line=852'>853</a>\u001b[0m \u001b[39m  Traceback (most recent call last):\u001b[39;00m\n\u001b[0;32m    <a href='file:///c%3A/Users/USER/anaconda3/lib/site-packages/tensorflow/python/util/nest.py?line=853'>854</a>\u001b[0m \u001b[39m  ...\u001b[39;00m\n\u001b[0;32m    <a href='file:///c%3A/Users/USER/anaconda3/lib/site-packages/tensorflow/python/util/nest.py?line=854'>855</a>\u001b[0m \u001b[39m  TypeError: The two structures don't have the same nested structure\u001b[39;00m\n\u001b[0;32m    <a href='file:///c%3A/Users/USER/anaconda3/lib/site-packages/tensorflow/python/util/nest.py?line=855'>856</a>\u001b[0m \n\u001b[0;32m    <a href='file:///c%3A/Users/USER/anaconda3/lib/site-packages/tensorflow/python/util/nest.py?line=856'>857</a>\u001b[0m \u001b[39m  * Type check is set to False:\u001b[39;00m\n\u001b[0;32m    <a href='file:///c%3A/Users/USER/anaconda3/lib/site-packages/tensorflow/python/util/nest.py?line=857'>858</a>\u001b[0m \n\u001b[0;32m    <a href='file:///c%3A/Users/USER/anaconda3/lib/site-packages/tensorflow/python/util/nest.py?line=858'>859</a>\u001b[0m \u001b[39m  >>> s1 = (((1, 2), 3), 4, (5, 6))\u001b[39;00m\n\u001b[0;32m    <a href='file:///c%3A/Users/USER/anaconda3/lib/site-packages/tensorflow/python/util/nest.py?line=859'>860</a>\u001b[0m \u001b[39m  >>> s1_list = [[[1, 2], 3], 4, [5, 6]]\u001b[39;00m\n\u001b[0;32m    <a href='file:///c%3A/Users/USER/anaconda3/lib/site-packages/tensorflow/python/util/nest.py?line=860'>861</a>\u001b[0m \u001b[39m  >>> tf.nest.map_structure(lambda x, y: None, s1, s1_list, check_types=False)\u001b[39;00m\n\u001b[0;32m    <a href='file:///c%3A/Users/USER/anaconda3/lib/site-packages/tensorflow/python/util/nest.py?line=861'>862</a>\u001b[0m \u001b[39m  (((None, None), None), None, (None, None))\u001b[39;00m\n\u001b[0;32m    <a href='file:///c%3A/Users/USER/anaconda3/lib/site-packages/tensorflow/python/util/nest.py?line=862'>863</a>\u001b[0m \n\u001b[0;32m    <a href='file:///c%3A/Users/USER/anaconda3/lib/site-packages/tensorflow/python/util/nest.py?line=863'>864</a>\u001b[0m \u001b[39m  Args:\u001b[39;00m\n\u001b[0;32m    <a href='file:///c%3A/Users/USER/anaconda3/lib/site-packages/tensorflow/python/util/nest.py?line=864'>865</a>\u001b[0m \u001b[39m    func: A callable that accepts as many arguments as there are structures.\u001b[39;00m\n\u001b[0;32m    <a href='file:///c%3A/Users/USER/anaconda3/lib/site-packages/tensorflow/python/util/nest.py?line=865'>866</a>\u001b[0m \u001b[39m    *structure: atom or nested structure.\u001b[39;00m\n\u001b[1;32m--> <a href='file:///c%3A/Users/USER/anaconda3/lib/site-packages/tensorflow/python/util/nest.py?line=866'>867</a>\u001b[0m \u001b[39m    **kwargs: Valid keyword args are:\u001b[39;00m\n\u001b[0;32m    <a href='file:///c%3A/Users/USER/anaconda3/lib/site-packages/tensorflow/python/util/nest.py?line=867'>868</a>\u001b[0m \u001b[39m      * `check_types`: If set to `True` (default) the types of iterables within\u001b[39;00m\n\u001b[0;32m    <a href='file:///c%3A/Users/USER/anaconda3/lib/site-packages/tensorflow/python/util/nest.py?line=868'>869</a>\u001b[0m \u001b[39m        the structures have to be same (e.g. `map_structure(func, [1], (1,))`\u001b[39;00m\n\u001b[0;32m    <a href='file:///c%3A/Users/USER/anaconda3/lib/site-packages/tensorflow/python/util/nest.py?line=869'>870</a>\u001b[0m \u001b[39m        raises a `TypeError` exception). To allow this set this argument to\u001b[39;00m\n\u001b[0;32m    <a href='file:///c%3A/Users/USER/anaconda3/lib/site-packages/tensorflow/python/util/nest.py?line=870'>871</a>\u001b[0m \u001b[39m        `False`. Note that namedtuples with identical name and fields are always\u001b[39;00m\n\u001b[0;32m    <a href='file:///c%3A/Users/USER/anaconda3/lib/site-packages/tensorflow/python/util/nest.py?line=871'>872</a>\u001b[0m \u001b[39m        considered to have the same shallow structure.\u001b[39;00m\n\u001b[0;32m    <a href='file:///c%3A/Users/USER/anaconda3/lib/site-packages/tensorflow/python/util/nest.py?line=872'>873</a>\u001b[0m \u001b[39m      * `expand_composites`: If set to `True`, then composite tensors such as\u001b[39;00m\n\u001b[0;32m    <a href='file:///c%3A/Users/USER/anaconda3/lib/site-packages/tensorflow/python/util/nest.py?line=873'>874</a>\u001b[0m \u001b[39m        `tf.sparse.SparseTensor` and `tf.RaggedTensor` are expanded into their\u001b[39;00m\n\u001b[0;32m    <a href='file:///c%3A/Users/USER/anaconda3/lib/site-packages/tensorflow/python/util/nest.py?line=874'>875</a>\u001b[0m \u001b[39m        component tensors.  If `False` (the default), then composite tensors are\u001b[39;00m\n\u001b[0;32m    <a href='file:///c%3A/Users/USER/anaconda3/lib/site-packages/tensorflow/python/util/nest.py?line=875'>876</a>\u001b[0m \u001b[39m        not expanded.\u001b[39;00m\n\u001b[0;32m    <a href='file:///c%3A/Users/USER/anaconda3/lib/site-packages/tensorflow/python/util/nest.py?line=876'>877</a>\u001b[0m \n\u001b[0;32m    <a href='file:///c%3A/Users/USER/anaconda3/lib/site-packages/tensorflow/python/util/nest.py?line=877'>878</a>\u001b[0m \u001b[39m  Returns:\u001b[39;00m\n\u001b[0;32m    <a href='file:///c%3A/Users/USER/anaconda3/lib/site-packages/tensorflow/python/util/nest.py?line=878'>879</a>\u001b[0m \u001b[39m    A new structure with the same arity as `structure[0]`, whose atoms\u001b[39;00m\n\u001b[0;32m    <a href='file:///c%3A/Users/USER/anaconda3/lib/site-packages/tensorflow/python/util/nest.py?line=879'>880</a>\u001b[0m \u001b[39m    correspond to `func(x[0], x[1], ...)` where `x[i]` is the atom in the\u001b[39;00m\n\u001b[0;32m    <a href='file:///c%3A/Users/USER/anaconda3/lib/site-packages/tensorflow/python/util/nest.py?line=880'>881</a>\u001b[0m \u001b[39m    corresponding location in `structure[i]`. If there are different structure\u001b[39;00m\n\u001b[0;32m    <a href='file:///c%3A/Users/USER/anaconda3/lib/site-packages/tensorflow/python/util/nest.py?line=881'>882</a>\u001b[0m \u001b[39m    types and `check_types` is `False` the structure types of the first\u001b[39;00m\n\u001b[0;32m    <a href='file:///c%3A/Users/USER/anaconda3/lib/site-packages/tensorflow/python/util/nest.py?line=882'>883</a>\u001b[0m \u001b[39m    structure will be used.\u001b[39;00m\n\u001b[0;32m    <a href='file:///c%3A/Users/USER/anaconda3/lib/site-packages/tensorflow/python/util/nest.py?line=883'>884</a>\u001b[0m \n\u001b[0;32m    <a href='file:///c%3A/Users/USER/anaconda3/lib/site-packages/tensorflow/python/util/nest.py?line=884'>885</a>\u001b[0m \u001b[39m  Raises:\u001b[39;00m\n\u001b[0;32m    <a href='file:///c%3A/Users/USER/anaconda3/lib/site-packages/tensorflow/python/util/nest.py?line=885'>886</a>\u001b[0m \u001b[39m    TypeError: If `func` is not callable or if the structures do not match\u001b[39;00m\n\u001b[0;32m    <a href='file:///c%3A/Users/USER/anaconda3/lib/site-packages/tensorflow/python/util/nest.py?line=886'>887</a>\u001b[0m \u001b[39m      each other by depth tree.\u001b[39;00m\n\u001b[0;32m    <a href='file:///c%3A/Users/USER/anaconda3/lib/site-packages/tensorflow/python/util/nest.py?line=887'>888</a>\u001b[0m \u001b[39m    ValueError: If no structure is provided or if the structures do not match\u001b[39;00m\n\u001b[0;32m    <a href='file:///c%3A/Users/USER/anaconda3/lib/site-packages/tensorflow/python/util/nest.py?line=888'>889</a>\u001b[0m \u001b[39m      each other by type.\u001b[39;00m\n\u001b[0;32m    <a href='file:///c%3A/Users/USER/anaconda3/lib/site-packages/tensorflow/python/util/nest.py?line=889'>890</a>\u001b[0m \u001b[39m    ValueError: If wrong keyword arguments are provided.\u001b[39;00m\n\u001b[0;32m    <a href='file:///c%3A/Users/USER/anaconda3/lib/site-packages/tensorflow/python/util/nest.py?line=890'>891</a>\u001b[0m \u001b[39m  \"\"\"\u001b[39;00m\n\u001b[0;32m    <a href='file:///c%3A/Users/USER/anaconda3/lib/site-packages/tensorflow/python/util/nest.py?line=891'>892</a>\u001b[0m   \u001b[39mif\u001b[39;00m \u001b[39mnot\u001b[39;00m callable(func):\n\u001b[0;32m    <a href='file:///c%3A/Users/USER/anaconda3/lib/site-packages/tensorflow/python/util/nest.py?line=892'>893</a>\u001b[0m     \u001b[39mraise\u001b[39;00m \u001b[39mTypeError\u001b[39;00m(\u001b[39m\"\u001b[39m\u001b[39mfunc must be callable, got: \u001b[39m\u001b[39m%s\u001b[39;00m\u001b[39m\"\u001b[39m \u001b[39m%\u001b[39m func)\n",
      "File \u001b[1;32mc:\\Users\\USER\\anaconda3\\lib\\site-packages\\tensorflow\\python\\util\\nest.py:867\u001b[0m, in \u001b[0;36m<listcomp>\u001b[1;34m(.0)\u001b[0m\n\u001b[0;32m    <a href='file:///c%3A/Users/USER/anaconda3/lib/site-packages/tensorflow/python/util/nest.py?line=805'>806</a>\u001b[0m \u001b[39m@tf_export\u001b[39m(\u001b[39m\"\u001b[39m\u001b[39mnest.map_structure\u001b[39m\u001b[39m\"\u001b[39m)\n\u001b[0;32m    <a href='file:///c%3A/Users/USER/anaconda3/lib/site-packages/tensorflow/python/util/nest.py?line=806'>807</a>\u001b[0m \u001b[39mdef\u001b[39;00m \u001b[39mmap_structure\u001b[39m(func, \u001b[39m*\u001b[39mstructure, \u001b[39m*\u001b[39m\u001b[39m*\u001b[39mkwargs):\n\u001b[0;32m    <a href='file:///c%3A/Users/USER/anaconda3/lib/site-packages/tensorflow/python/util/nest.py?line=807'>808</a>\u001b[0m   \u001b[39m\"\"\"Creates a new structure by applying `func` to each atom in `structure`.\u001b[39;00m\n\u001b[0;32m    <a href='file:///c%3A/Users/USER/anaconda3/lib/site-packages/tensorflow/python/util/nest.py?line=808'>809</a>\u001b[0m \n\u001b[0;32m    <a href='file:///c%3A/Users/USER/anaconda3/lib/site-packages/tensorflow/python/util/nest.py?line=809'>810</a>\u001b[0m \u001b[39m  Refer to [tf.nest](https://www.tensorflow.org/api_docs/python/tf/nest)\u001b[39;00m\n\u001b[0;32m    <a href='file:///c%3A/Users/USER/anaconda3/lib/site-packages/tensorflow/python/util/nest.py?line=810'>811</a>\u001b[0m \u001b[39m  for the definition of a structure.\u001b[39;00m\n\u001b[0;32m    <a href='file:///c%3A/Users/USER/anaconda3/lib/site-packages/tensorflow/python/util/nest.py?line=811'>812</a>\u001b[0m \n\u001b[0;32m    <a href='file:///c%3A/Users/USER/anaconda3/lib/site-packages/tensorflow/python/util/nest.py?line=812'>813</a>\u001b[0m \u001b[39m  Applies `func(x[0], x[1], ...)` where x[i] enumerates all atoms in\u001b[39;00m\n\u001b[0;32m    <a href='file:///c%3A/Users/USER/anaconda3/lib/site-packages/tensorflow/python/util/nest.py?line=813'>814</a>\u001b[0m \u001b[39m  `structure[i]`.  All items in `structure` must have the same arity,\u001b[39;00m\n\u001b[0;32m    <a href='file:///c%3A/Users/USER/anaconda3/lib/site-packages/tensorflow/python/util/nest.py?line=814'>815</a>\u001b[0m \u001b[39m  and the return value will contain results with the same structure layout.\u001b[39;00m\n\u001b[0;32m    <a href='file:///c%3A/Users/USER/anaconda3/lib/site-packages/tensorflow/python/util/nest.py?line=815'>816</a>\u001b[0m \n\u001b[0;32m    <a href='file:///c%3A/Users/USER/anaconda3/lib/site-packages/tensorflow/python/util/nest.py?line=816'>817</a>\u001b[0m \u001b[39m  Examples:\u001b[39;00m\n\u001b[0;32m    <a href='file:///c%3A/Users/USER/anaconda3/lib/site-packages/tensorflow/python/util/nest.py?line=817'>818</a>\u001b[0m \n\u001b[0;32m    <a href='file:///c%3A/Users/USER/anaconda3/lib/site-packages/tensorflow/python/util/nest.py?line=818'>819</a>\u001b[0m \u001b[39m  * A single Python dict:\u001b[39;00m\n\u001b[0;32m    <a href='file:///c%3A/Users/USER/anaconda3/lib/site-packages/tensorflow/python/util/nest.py?line=819'>820</a>\u001b[0m \n\u001b[0;32m    <a href='file:///c%3A/Users/USER/anaconda3/lib/site-packages/tensorflow/python/util/nest.py?line=820'>821</a>\u001b[0m \u001b[39m  >>> a = {\"hello\": 24, \"world\": 76}\u001b[39;00m\n\u001b[0;32m    <a href='file:///c%3A/Users/USER/anaconda3/lib/site-packages/tensorflow/python/util/nest.py?line=821'>822</a>\u001b[0m \u001b[39m  >>> tf.nest.map_structure(lambda p: p * 2, a)\u001b[39;00m\n\u001b[0;32m    <a href='file:///c%3A/Users/USER/anaconda3/lib/site-packages/tensorflow/python/util/nest.py?line=822'>823</a>\u001b[0m \u001b[39m  {'hello': 48, 'world': 152}\u001b[39;00m\n\u001b[0;32m    <a href='file:///c%3A/Users/USER/anaconda3/lib/site-packages/tensorflow/python/util/nest.py?line=823'>824</a>\u001b[0m \n\u001b[0;32m    <a href='file:///c%3A/Users/USER/anaconda3/lib/site-packages/tensorflow/python/util/nest.py?line=824'>825</a>\u001b[0m \u001b[39m  * Multiple Python dictionaries:\u001b[39;00m\n\u001b[0;32m    <a href='file:///c%3A/Users/USER/anaconda3/lib/site-packages/tensorflow/python/util/nest.py?line=825'>826</a>\u001b[0m \n\u001b[0;32m    <a href='file:///c%3A/Users/USER/anaconda3/lib/site-packages/tensorflow/python/util/nest.py?line=826'>827</a>\u001b[0m \u001b[39m  >>> d1 = {\"hello\": 24, \"world\": 76}\u001b[39;00m\n\u001b[0;32m    <a href='file:///c%3A/Users/USER/anaconda3/lib/site-packages/tensorflow/python/util/nest.py?line=827'>828</a>\u001b[0m \u001b[39m  >>> d2 = {\"hello\": 36, \"world\": 14}\u001b[39;00m\n\u001b[0;32m    <a href='file:///c%3A/Users/USER/anaconda3/lib/site-packages/tensorflow/python/util/nest.py?line=828'>829</a>\u001b[0m \u001b[39m  >>> tf.nest.map_structure(lambda p1, p2: p1 + p2, d1, d2)\u001b[39;00m\n\u001b[0;32m    <a href='file:///c%3A/Users/USER/anaconda3/lib/site-packages/tensorflow/python/util/nest.py?line=829'>830</a>\u001b[0m \u001b[39m  {'hello': 60, 'world': 90}\u001b[39;00m\n\u001b[0;32m    <a href='file:///c%3A/Users/USER/anaconda3/lib/site-packages/tensorflow/python/util/nest.py?line=830'>831</a>\u001b[0m \n\u001b[0;32m    <a href='file:///c%3A/Users/USER/anaconda3/lib/site-packages/tensorflow/python/util/nest.py?line=831'>832</a>\u001b[0m \u001b[39m  * A single Python list:\u001b[39;00m\n\u001b[0;32m    <a href='file:///c%3A/Users/USER/anaconda3/lib/site-packages/tensorflow/python/util/nest.py?line=832'>833</a>\u001b[0m \n\u001b[0;32m    <a href='file:///c%3A/Users/USER/anaconda3/lib/site-packages/tensorflow/python/util/nest.py?line=833'>834</a>\u001b[0m \u001b[39m  >>> a = [24, 76, \"ab\"]\u001b[39;00m\n\u001b[0;32m    <a href='file:///c%3A/Users/USER/anaconda3/lib/site-packages/tensorflow/python/util/nest.py?line=834'>835</a>\u001b[0m \u001b[39m  >>> tf.nest.map_structure(lambda p: p * 2, a)\u001b[39;00m\n\u001b[0;32m    <a href='file:///c%3A/Users/USER/anaconda3/lib/site-packages/tensorflow/python/util/nest.py?line=835'>836</a>\u001b[0m \u001b[39m  [48, 152, 'abab']\u001b[39;00m\n\u001b[0;32m    <a href='file:///c%3A/Users/USER/anaconda3/lib/site-packages/tensorflow/python/util/nest.py?line=836'>837</a>\u001b[0m \n\u001b[0;32m    <a href='file:///c%3A/Users/USER/anaconda3/lib/site-packages/tensorflow/python/util/nest.py?line=837'>838</a>\u001b[0m \u001b[39m  * Scalars:\u001b[39;00m\n\u001b[0;32m    <a href='file:///c%3A/Users/USER/anaconda3/lib/site-packages/tensorflow/python/util/nest.py?line=838'>839</a>\u001b[0m \n\u001b[0;32m    <a href='file:///c%3A/Users/USER/anaconda3/lib/site-packages/tensorflow/python/util/nest.py?line=839'>840</a>\u001b[0m \u001b[39m  >>> tf.nest.map_structure(lambda x, y: x + y, 3, 4)\u001b[39;00m\n\u001b[0;32m    <a href='file:///c%3A/Users/USER/anaconda3/lib/site-packages/tensorflow/python/util/nest.py?line=840'>841</a>\u001b[0m \u001b[39m  7\u001b[39;00m\n\u001b[0;32m    <a href='file:///c%3A/Users/USER/anaconda3/lib/site-packages/tensorflow/python/util/nest.py?line=841'>842</a>\u001b[0m \n\u001b[0;32m    <a href='file:///c%3A/Users/USER/anaconda3/lib/site-packages/tensorflow/python/util/nest.py?line=842'>843</a>\u001b[0m \u001b[39m  * Empty structures:\u001b[39;00m\n\u001b[0;32m    <a href='file:///c%3A/Users/USER/anaconda3/lib/site-packages/tensorflow/python/util/nest.py?line=843'>844</a>\u001b[0m \n\u001b[0;32m    <a href='file:///c%3A/Users/USER/anaconda3/lib/site-packages/tensorflow/python/util/nest.py?line=844'>845</a>\u001b[0m \u001b[39m  >>> tf.nest.map_structure(lambda x: x + 1, ())\u001b[39;00m\n\u001b[0;32m    <a href='file:///c%3A/Users/USER/anaconda3/lib/site-packages/tensorflow/python/util/nest.py?line=845'>846</a>\u001b[0m \u001b[39m  ()\u001b[39;00m\n\u001b[0;32m    <a href='file:///c%3A/Users/USER/anaconda3/lib/site-packages/tensorflow/python/util/nest.py?line=846'>847</a>\u001b[0m \n\u001b[0;32m    <a href='file:///c%3A/Users/USER/anaconda3/lib/site-packages/tensorflow/python/util/nest.py?line=847'>848</a>\u001b[0m \u001b[39m  * Check the types of iterables:\u001b[39;00m\n\u001b[0;32m    <a href='file:///c%3A/Users/USER/anaconda3/lib/site-packages/tensorflow/python/util/nest.py?line=848'>849</a>\u001b[0m \n\u001b[0;32m    <a href='file:///c%3A/Users/USER/anaconda3/lib/site-packages/tensorflow/python/util/nest.py?line=849'>850</a>\u001b[0m \u001b[39m  >>> s1 = (((1, 2), 3), 4, (5, 6))\u001b[39;00m\n\u001b[0;32m    <a href='file:///c%3A/Users/USER/anaconda3/lib/site-packages/tensorflow/python/util/nest.py?line=850'>851</a>\u001b[0m \u001b[39m  >>> s1_list = [[[1, 2], 3], 4, [5, 6]]\u001b[39;00m\n\u001b[0;32m    <a href='file:///c%3A/Users/USER/anaconda3/lib/site-packages/tensorflow/python/util/nest.py?line=851'>852</a>\u001b[0m \u001b[39m  >>> tf.nest.map_structure(lambda x, y: None, s1, s1_list)\u001b[39;00m\n\u001b[0;32m    <a href='file:///c%3A/Users/USER/anaconda3/lib/site-packages/tensorflow/python/util/nest.py?line=852'>853</a>\u001b[0m \u001b[39m  Traceback (most recent call last):\u001b[39;00m\n\u001b[0;32m    <a href='file:///c%3A/Users/USER/anaconda3/lib/site-packages/tensorflow/python/util/nest.py?line=853'>854</a>\u001b[0m \u001b[39m  ...\u001b[39;00m\n\u001b[0;32m    <a href='file:///c%3A/Users/USER/anaconda3/lib/site-packages/tensorflow/python/util/nest.py?line=854'>855</a>\u001b[0m \u001b[39m  TypeError: The two structures don't have the same nested structure\u001b[39;00m\n\u001b[0;32m    <a href='file:///c%3A/Users/USER/anaconda3/lib/site-packages/tensorflow/python/util/nest.py?line=855'>856</a>\u001b[0m \n\u001b[0;32m    <a href='file:///c%3A/Users/USER/anaconda3/lib/site-packages/tensorflow/python/util/nest.py?line=856'>857</a>\u001b[0m \u001b[39m  * Type check is set to False:\u001b[39;00m\n\u001b[0;32m    <a href='file:///c%3A/Users/USER/anaconda3/lib/site-packages/tensorflow/python/util/nest.py?line=857'>858</a>\u001b[0m \n\u001b[0;32m    <a href='file:///c%3A/Users/USER/anaconda3/lib/site-packages/tensorflow/python/util/nest.py?line=858'>859</a>\u001b[0m \u001b[39m  >>> s1 = (((1, 2), 3), 4, (5, 6))\u001b[39;00m\n\u001b[0;32m    <a href='file:///c%3A/Users/USER/anaconda3/lib/site-packages/tensorflow/python/util/nest.py?line=859'>860</a>\u001b[0m \u001b[39m  >>> s1_list = [[[1, 2], 3], 4, [5, 6]]\u001b[39;00m\n\u001b[0;32m    <a href='file:///c%3A/Users/USER/anaconda3/lib/site-packages/tensorflow/python/util/nest.py?line=860'>861</a>\u001b[0m \u001b[39m  >>> tf.nest.map_structure(lambda x, y: None, s1, s1_list, check_types=False)\u001b[39;00m\n\u001b[0;32m    <a href='file:///c%3A/Users/USER/anaconda3/lib/site-packages/tensorflow/python/util/nest.py?line=861'>862</a>\u001b[0m \u001b[39m  (((None, None), None), None, (None, None))\u001b[39;00m\n\u001b[0;32m    <a href='file:///c%3A/Users/USER/anaconda3/lib/site-packages/tensorflow/python/util/nest.py?line=862'>863</a>\u001b[0m \n\u001b[0;32m    <a href='file:///c%3A/Users/USER/anaconda3/lib/site-packages/tensorflow/python/util/nest.py?line=863'>864</a>\u001b[0m \u001b[39m  Args:\u001b[39;00m\n\u001b[0;32m    <a href='file:///c%3A/Users/USER/anaconda3/lib/site-packages/tensorflow/python/util/nest.py?line=864'>865</a>\u001b[0m \u001b[39m    func: A callable that accepts as many arguments as there are structures.\u001b[39;00m\n\u001b[0;32m    <a href='file:///c%3A/Users/USER/anaconda3/lib/site-packages/tensorflow/python/util/nest.py?line=865'>866</a>\u001b[0m \u001b[39m    *structure: atom or nested structure.\u001b[39;00m\n\u001b[1;32m--> <a href='file:///c%3A/Users/USER/anaconda3/lib/site-packages/tensorflow/python/util/nest.py?line=866'>867</a>\u001b[0m \u001b[39m    **kwargs: Valid keyword args are:\u001b[39;00m\n\u001b[0;32m    <a href='file:///c%3A/Users/USER/anaconda3/lib/site-packages/tensorflow/python/util/nest.py?line=867'>868</a>\u001b[0m \u001b[39m      * `check_types`: If set to `True` (default) the types of iterables within\u001b[39;00m\n\u001b[0;32m    <a href='file:///c%3A/Users/USER/anaconda3/lib/site-packages/tensorflow/python/util/nest.py?line=868'>869</a>\u001b[0m \u001b[39m        the structures have to be same (e.g. `map_structure(func, [1], (1,))`\u001b[39;00m\n\u001b[0;32m    <a href='file:///c%3A/Users/USER/anaconda3/lib/site-packages/tensorflow/python/util/nest.py?line=869'>870</a>\u001b[0m \u001b[39m        raises a `TypeError` exception). To allow this set this argument to\u001b[39;00m\n\u001b[0;32m    <a href='file:///c%3A/Users/USER/anaconda3/lib/site-packages/tensorflow/python/util/nest.py?line=870'>871</a>\u001b[0m \u001b[39m        `False`. Note that namedtuples with identical name and fields are always\u001b[39;00m\n\u001b[0;32m    <a href='file:///c%3A/Users/USER/anaconda3/lib/site-packages/tensorflow/python/util/nest.py?line=871'>872</a>\u001b[0m \u001b[39m        considered to have the same shallow structure.\u001b[39;00m\n\u001b[0;32m    <a href='file:///c%3A/Users/USER/anaconda3/lib/site-packages/tensorflow/python/util/nest.py?line=872'>873</a>\u001b[0m \u001b[39m      * `expand_composites`: If set to `True`, then composite tensors such as\u001b[39;00m\n\u001b[0;32m    <a href='file:///c%3A/Users/USER/anaconda3/lib/site-packages/tensorflow/python/util/nest.py?line=873'>874</a>\u001b[0m \u001b[39m        `tf.sparse.SparseTensor` and `tf.RaggedTensor` are expanded into their\u001b[39;00m\n\u001b[0;32m    <a href='file:///c%3A/Users/USER/anaconda3/lib/site-packages/tensorflow/python/util/nest.py?line=874'>875</a>\u001b[0m \u001b[39m        component tensors.  If `False` (the default), then composite tensors are\u001b[39;00m\n\u001b[0;32m    <a href='file:///c%3A/Users/USER/anaconda3/lib/site-packages/tensorflow/python/util/nest.py?line=875'>876</a>\u001b[0m \u001b[39m        not expanded.\u001b[39;00m\n\u001b[0;32m    <a href='file:///c%3A/Users/USER/anaconda3/lib/site-packages/tensorflow/python/util/nest.py?line=876'>877</a>\u001b[0m \n\u001b[0;32m    <a href='file:///c%3A/Users/USER/anaconda3/lib/site-packages/tensorflow/python/util/nest.py?line=877'>878</a>\u001b[0m \u001b[39m  Returns:\u001b[39;00m\n\u001b[0;32m    <a href='file:///c%3A/Users/USER/anaconda3/lib/site-packages/tensorflow/python/util/nest.py?line=878'>879</a>\u001b[0m \u001b[39m    A new structure with the same arity as `structure[0]`, whose atoms\u001b[39;00m\n\u001b[0;32m    <a href='file:///c%3A/Users/USER/anaconda3/lib/site-packages/tensorflow/python/util/nest.py?line=879'>880</a>\u001b[0m \u001b[39m    correspond to `func(x[0], x[1], ...)` where `x[i]` is the atom in the\u001b[39;00m\n\u001b[0;32m    <a href='file:///c%3A/Users/USER/anaconda3/lib/site-packages/tensorflow/python/util/nest.py?line=880'>881</a>\u001b[0m \u001b[39m    corresponding location in `structure[i]`. If there are different structure\u001b[39;00m\n\u001b[0;32m    <a href='file:///c%3A/Users/USER/anaconda3/lib/site-packages/tensorflow/python/util/nest.py?line=881'>882</a>\u001b[0m \u001b[39m    types and `check_types` is `False` the structure types of the first\u001b[39;00m\n\u001b[0;32m    <a href='file:///c%3A/Users/USER/anaconda3/lib/site-packages/tensorflow/python/util/nest.py?line=882'>883</a>\u001b[0m \u001b[39m    structure will be used.\u001b[39;00m\n\u001b[0;32m    <a href='file:///c%3A/Users/USER/anaconda3/lib/site-packages/tensorflow/python/util/nest.py?line=883'>884</a>\u001b[0m \n\u001b[0;32m    <a href='file:///c%3A/Users/USER/anaconda3/lib/site-packages/tensorflow/python/util/nest.py?line=884'>885</a>\u001b[0m \u001b[39m  Raises:\u001b[39;00m\n\u001b[0;32m    <a href='file:///c%3A/Users/USER/anaconda3/lib/site-packages/tensorflow/python/util/nest.py?line=885'>886</a>\u001b[0m \u001b[39m    TypeError: If `func` is not callable or if the structures do not match\u001b[39;00m\n\u001b[0;32m    <a href='file:///c%3A/Users/USER/anaconda3/lib/site-packages/tensorflow/python/util/nest.py?line=886'>887</a>\u001b[0m \u001b[39m      each other by depth tree.\u001b[39;00m\n\u001b[0;32m    <a href='file:///c%3A/Users/USER/anaconda3/lib/site-packages/tensorflow/python/util/nest.py?line=887'>888</a>\u001b[0m \u001b[39m    ValueError: If no structure is provided or if the structures do not match\u001b[39;00m\n\u001b[0;32m    <a href='file:///c%3A/Users/USER/anaconda3/lib/site-packages/tensorflow/python/util/nest.py?line=888'>889</a>\u001b[0m \u001b[39m      each other by type.\u001b[39;00m\n\u001b[0;32m    <a href='file:///c%3A/Users/USER/anaconda3/lib/site-packages/tensorflow/python/util/nest.py?line=889'>890</a>\u001b[0m \u001b[39m    ValueError: If wrong keyword arguments are provided.\u001b[39;00m\n\u001b[0;32m    <a href='file:///c%3A/Users/USER/anaconda3/lib/site-packages/tensorflow/python/util/nest.py?line=890'>891</a>\u001b[0m \u001b[39m  \"\"\"\u001b[39;00m\n\u001b[0;32m    <a href='file:///c%3A/Users/USER/anaconda3/lib/site-packages/tensorflow/python/util/nest.py?line=891'>892</a>\u001b[0m   \u001b[39mif\u001b[39;00m \u001b[39mnot\u001b[39;00m callable(func):\n\u001b[0;32m    <a href='file:///c%3A/Users/USER/anaconda3/lib/site-packages/tensorflow/python/util/nest.py?line=892'>893</a>\u001b[0m     \u001b[39mraise\u001b[39;00m \u001b[39mTypeError\u001b[39;00m(\u001b[39m\"\u001b[39m\u001b[39mfunc must be callable, got: \u001b[39m\u001b[39m%s\u001b[39;00m\u001b[39m\"\u001b[39m \u001b[39m%\u001b[39m func)\n",
      "File \u001b[1;32mc:\\Users\\USER\\anaconda3\\lib\\site-packages\\tensorflow\\python\\keras\\layers\\recurrent.py:3011\u001b[0m, in \u001b[0;36mcreate_zeros\u001b[1;34m(unnested_state_size)\u001b[0m\n\u001b[0;32m   <a href='file:///c%3A/Users/USER/anaconda3/lib/site-packages/tensorflow/python/keras/layers/recurrent.py?line=3009'>3010</a>\u001b[0m \u001b[39mdef\u001b[39;00m \u001b[39m_generate_zero_filled_state\u001b[39m(batch_size_tensor, state_size, dtype):\n\u001b[1;32m-> <a href='file:///c%3A/Users/USER/anaconda3/lib/site-packages/tensorflow/python/keras/layers/recurrent.py?line=3010'>3011</a>\u001b[0m   \u001b[39m\"\"\"Generate a zero filled tensor with shape [batch_size, state_size].\"\"\"\u001b[39;00m\n\u001b[0;32m   <a href='file:///c%3A/Users/USER/anaconda3/lib/site-packages/tensorflow/python/keras/layers/recurrent.py?line=3011'>3012</a>\u001b[0m   \u001b[39mif\u001b[39;00m batch_size_tensor \u001b[39mis\u001b[39;00m \u001b[39mNone\u001b[39;00m \u001b[39mor\u001b[39;00m dtype \u001b[39mis\u001b[39;00m \u001b[39mNone\u001b[39;00m:\n\u001b[0;32m   <a href='file:///c%3A/Users/USER/anaconda3/lib/site-packages/tensorflow/python/keras/layers/recurrent.py?line=3012'>3013</a>\u001b[0m     \u001b[39mraise\u001b[39;00m \u001b[39mValueError\u001b[39;00m(\n\u001b[0;32m   <a href='file:///c%3A/Users/USER/anaconda3/lib/site-packages/tensorflow/python/keras/layers/recurrent.py?line=3013'>3014</a>\u001b[0m         \u001b[39m'\u001b[39m\u001b[39mbatch_size and dtype cannot be None while constructing initial state: \u001b[39m\u001b[39m'\u001b[39m\n\u001b[0;32m   <a href='file:///c%3A/Users/USER/anaconda3/lib/site-packages/tensorflow/python/keras/layers/recurrent.py?line=3014'>3015</a>\u001b[0m         \u001b[39m'\u001b[39m\u001b[39mbatch_size=\u001b[39m\u001b[39m{}\u001b[39;00m\u001b[39m, dtype=\u001b[39m\u001b[39m{}\u001b[39;00m\u001b[39m'\u001b[39m\u001b[39m.\u001b[39mformat(batch_size_tensor, dtype))\n",
      "File \u001b[1;32mc:\\Users\\USER\\anaconda3\\lib\\site-packages\\tensorflow\\python\\util\\dispatch.py:206\u001b[0m, in \u001b[0;36mwrapper\u001b[1;34m(*args, **kwargs)\u001b[0m\n\u001b[0;32m    <a href='file:///c%3A/Users/USER/anaconda3/lib/site-packages/tensorflow/python/util/dispatch.py?line=200'>201</a>\u001b[0m \u001b[39mdef\u001b[39;00m \u001b[39mdispatch_for_types\u001b[39m(op, \u001b[39m*\u001b[39mtypes):\n\u001b[0;32m    <a href='file:///c%3A/Users/USER/anaconda3/lib/site-packages/tensorflow/python/util/dispatch.py?line=201'>202</a>\u001b[0m   \u001b[39m\"\"\"Decorator to declare that a Python function overrides an op for a type.\u001b[39;00m\n\u001b[0;32m    <a href='file:///c%3A/Users/USER/anaconda3/lib/site-packages/tensorflow/python/util/dispatch.py?line=202'>203</a>\u001b[0m \n\u001b[0;32m    <a href='file:///c%3A/Users/USER/anaconda3/lib/site-packages/tensorflow/python/util/dispatch.py?line=203'>204</a>\u001b[0m \u001b[39m  The decorated function is used to override `op` if any of the arguments or\u001b[39;00m\n\u001b[0;32m    <a href='file:///c%3A/Users/USER/anaconda3/lib/site-packages/tensorflow/python/util/dispatch.py?line=204'>205</a>\u001b[0m \u001b[39m  keyword arguments (including elements of lists or tuples) have one of the\u001b[39;00m\n\u001b[1;32m--> <a href='file:///c%3A/Users/USER/anaconda3/lib/site-packages/tensorflow/python/util/dispatch.py?line=205'>206</a>\u001b[0m \u001b[39m  specified types.\u001b[39;00m\n\u001b[0;32m    <a href='file:///c%3A/Users/USER/anaconda3/lib/site-packages/tensorflow/python/util/dispatch.py?line=206'>207</a>\u001b[0m \n\u001b[0;32m    <a href='file:///c%3A/Users/USER/anaconda3/lib/site-packages/tensorflow/python/util/dispatch.py?line=207'>208</a>\u001b[0m \u001b[39m  Example:\u001b[39;00m\n\u001b[0;32m    <a href='file:///c%3A/Users/USER/anaconda3/lib/site-packages/tensorflow/python/util/dispatch.py?line=208'>209</a>\u001b[0m \n\u001b[0;32m    <a href='file:///c%3A/Users/USER/anaconda3/lib/site-packages/tensorflow/python/util/dispatch.py?line=209'>210</a>\u001b[0m \u001b[39m  ```python\u001b[39;00m\n\u001b[0;32m    <a href='file:///c%3A/Users/USER/anaconda3/lib/site-packages/tensorflow/python/util/dispatch.py?line=210'>211</a>\u001b[0m \u001b[39m  @dispatch_for_types(math_ops.add, RaggedTensor, RaggedTensorValue)\u001b[39;00m\n\u001b[0;32m    <a href='file:///c%3A/Users/USER/anaconda3/lib/site-packages/tensorflow/python/util/dispatch.py?line=211'>212</a>\u001b[0m \u001b[39m  def ragged_add(x, y, name=None): ...\u001b[39;00m\n\u001b[0;32m    <a href='file:///c%3A/Users/USER/anaconda3/lib/site-packages/tensorflow/python/util/dispatch.py?line=212'>213</a>\u001b[0m \u001b[39m  ```\u001b[39;00m\n\u001b[0;32m    <a href='file:///c%3A/Users/USER/anaconda3/lib/site-packages/tensorflow/python/util/dispatch.py?line=213'>214</a>\u001b[0m \n\u001b[0;32m    <a href='file:///c%3A/Users/USER/anaconda3/lib/site-packages/tensorflow/python/util/dispatch.py?line=214'>215</a>\u001b[0m \u001b[39m  Args:\u001b[39;00m\n\u001b[0;32m    <a href='file:///c%3A/Users/USER/anaconda3/lib/site-packages/tensorflow/python/util/dispatch.py?line=215'>216</a>\u001b[0m \u001b[39m    op: Python function: the operation that should be overridden.\u001b[39;00m\n\u001b[0;32m    <a href='file:///c%3A/Users/USER/anaconda3/lib/site-packages/tensorflow/python/util/dispatch.py?line=216'>217</a>\u001b[0m \u001b[39m    *types: The argument types for which this function should be used.\u001b[39;00m\n\u001b[0;32m    <a href='file:///c%3A/Users/USER/anaconda3/lib/site-packages/tensorflow/python/util/dispatch.py?line=217'>218</a>\u001b[0m \u001b[39m  \"\"\"\u001b[39;00m\n\u001b[0;32m    <a href='file:///c%3A/Users/USER/anaconda3/lib/site-packages/tensorflow/python/util/dispatch.py?line=219'>220</a>\u001b[0m   \u001b[39mdef\u001b[39;00m \u001b[39mdecorator\u001b[39m(func):\n\u001b[0;32m    <a href='file:///c%3A/Users/USER/anaconda3/lib/site-packages/tensorflow/python/util/dispatch.py?line=220'>221</a>\u001b[0m     \u001b[39mif\u001b[39;00m tf_inspect\u001b[39m.\u001b[39mgetargspec(func) \u001b[39m!=\u001b[39m tf_inspect\u001b[39m.\u001b[39mgetargspec(op):\n",
      "File \u001b[1;32mc:\\Users\\USER\\anaconda3\\lib\\site-packages\\tensorflow\\python\\ops\\array_ops.py:2911\u001b[0m, in \u001b[0;36m_tag_zeros_tensor.<locals>.wrapped\u001b[1;34m(*args, **kwargs)\u001b[0m\n\u001b[0;32m   <a href='file:///c%3A/Users/USER/anaconda3/lib/site-packages/tensorflow/python/ops/array_ops.py?line=2909'>2910</a>\u001b[0m \u001b[39mdef\u001b[39;00m \u001b[39mwrapped\u001b[39m(\u001b[39m*\u001b[39margs, \u001b[39m*\u001b[39m\u001b[39m*\u001b[39mkwargs):\n\u001b[1;32m-> <a href='file:///c%3A/Users/USER/anaconda3/lib/site-packages/tensorflow/python/ops/array_ops.py?line=2910'>2911</a>\u001b[0m   tensor \u001b[39m=\u001b[39m fun(\u001b[39m*\u001b[39margs, \u001b[39m*\u001b[39m\u001b[39m*\u001b[39mkwargs)\n\u001b[0;32m   <a href='file:///c%3A/Users/USER/anaconda3/lib/site-packages/tensorflow/python/ops/array_ops.py?line=2911'>2912</a>\u001b[0m   tensor\u001b[39m.\u001b[39m_is_zeros_tensor \u001b[39m=\u001b[39m \u001b[39mTrue\u001b[39;00m\n\u001b[0;32m   <a href='file:///c%3A/Users/USER/anaconda3/lib/site-packages/tensorflow/python/ops/array_ops.py?line=2912'>2913</a>\u001b[0m   \u001b[39mreturn\u001b[39;00m tensor\n",
      "File \u001b[1;32mc:\\Users\\USER\\anaconda3\\lib\\site-packages\\tensorflow\\python\\ops\\array_ops.py:2960\u001b[0m, in \u001b[0;36mzeros\u001b[1;34m(shape, dtype, name)\u001b[0m\n\u001b[0;32m   <a href='file:///c%3A/Users/USER/anaconda3/lib/site-packages/tensorflow/python/ops/array_ops.py?line=2955'>2956</a>\u001b[0m \u001b[39mtry\u001b[39;00m:\n\u001b[0;32m   <a href='file:///c%3A/Users/USER/anaconda3/lib/site-packages/tensorflow/python/ops/array_ops.py?line=2956'>2957</a>\u001b[0m   \u001b[39mif\u001b[39;00m \u001b[39mnot\u001b[39;00m context\u001b[39m.\u001b[39mexecuting_eagerly():\n\u001b[0;32m   <a href='file:///c%3A/Users/USER/anaconda3/lib/site-packages/tensorflow/python/ops/array_ops.py?line=2957'>2958</a>\u001b[0m     \u001b[39m# Create a constant if it won't be very big. Otherwise create a fill\u001b[39;00m\n\u001b[0;32m   <a href='file:///c%3A/Users/USER/anaconda3/lib/site-packages/tensorflow/python/ops/array_ops.py?line=2958'>2959</a>\u001b[0m     \u001b[39m# op to prevent serialized GraphDefs from becoming too large.\u001b[39;00m\n\u001b[1;32m-> <a href='file:///c%3A/Users/USER/anaconda3/lib/site-packages/tensorflow/python/ops/array_ops.py?line=2959'>2960</a>\u001b[0m     output \u001b[39m=\u001b[39m _constant_if_small(zero, shape, dtype, name)\n\u001b[0;32m   <a href='file:///c%3A/Users/USER/anaconda3/lib/site-packages/tensorflow/python/ops/array_ops.py?line=2960'>2961</a>\u001b[0m     \u001b[39mif\u001b[39;00m output \u001b[39mis\u001b[39;00m \u001b[39mnot\u001b[39;00m \u001b[39mNone\u001b[39;00m:\n\u001b[0;32m   <a href='file:///c%3A/Users/USER/anaconda3/lib/site-packages/tensorflow/python/ops/array_ops.py?line=2961'>2962</a>\u001b[0m       \u001b[39mreturn\u001b[39;00m output\n",
      "File \u001b[1;32mc:\\Users\\USER\\anaconda3\\lib\\site-packages\\tensorflow\\python\\ops\\array_ops.py:2896\u001b[0m, in \u001b[0;36m_constant_if_small\u001b[1;34m(value, shape, dtype, name)\u001b[0m\n\u001b[0;32m   <a href='file:///c%3A/Users/USER/anaconda3/lib/site-packages/tensorflow/python/ops/array_ops.py?line=2893'>2894</a>\u001b[0m \u001b[39mdef\u001b[39;00m \u001b[39m_constant_if_small\u001b[39m(value, shape, dtype, name):\n\u001b[0;32m   <a href='file:///c%3A/Users/USER/anaconda3/lib/site-packages/tensorflow/python/ops/array_ops.py?line=2894'>2895</a>\u001b[0m   \u001b[39mtry\u001b[39;00m:\n\u001b[1;32m-> <a href='file:///c%3A/Users/USER/anaconda3/lib/site-packages/tensorflow/python/ops/array_ops.py?line=2895'>2896</a>\u001b[0m     \u001b[39mif\u001b[39;00m np\u001b[39m.\u001b[39;49mprod(shape) \u001b[39m<\u001b[39m \u001b[39m1000\u001b[39m:\n\u001b[0;32m   <a href='file:///c%3A/Users/USER/anaconda3/lib/site-packages/tensorflow/python/ops/array_ops.py?line=2896'>2897</a>\u001b[0m       \u001b[39mreturn\u001b[39;00m constant(value, shape\u001b[39m=\u001b[39mshape, dtype\u001b[39m=\u001b[39mdtype, name\u001b[39m=\u001b[39mname)\n\u001b[0;32m   <a href='file:///c%3A/Users/USER/anaconda3/lib/site-packages/tensorflow/python/ops/array_ops.py?line=2897'>2898</a>\u001b[0m   \u001b[39mexcept\u001b[39;00m \u001b[39mTypeError\u001b[39;00m:\n\u001b[0;32m   <a href='file:///c%3A/Users/USER/anaconda3/lib/site-packages/tensorflow/python/ops/array_ops.py?line=2898'>2899</a>\u001b[0m     \u001b[39m# Happens when shape is a Tensor, list with Tensor elements, etc.\u001b[39;00m\n",
      "File \u001b[1;32m<__array_function__ internals>:5\u001b[0m, in \u001b[0;36mprod\u001b[1;34m(*args, **kwargs)\u001b[0m\n",
      "File \u001b[1;32mc:\\Users\\USER\\anaconda3\\lib\\site-packages\\numpy\\core\\fromnumeric.py:3051\u001b[0m, in \u001b[0;36mprod\u001b[1;34m(a, axis, dtype, out, keepdims, initial, where)\u001b[0m\n\u001b[0;32m   <a href='file:///c%3A/Users/USER/anaconda3/lib/site-packages/numpy/core/fromnumeric.py?line=2932'>2933</a>\u001b[0m \u001b[39m@array_function_dispatch\u001b[39m(_prod_dispatcher)\n\u001b[0;32m   <a href='file:///c%3A/Users/USER/anaconda3/lib/site-packages/numpy/core/fromnumeric.py?line=2933'>2934</a>\u001b[0m \u001b[39mdef\u001b[39;00m \u001b[39mprod\u001b[39m(a, axis\u001b[39m=\u001b[39m\u001b[39mNone\u001b[39;00m, dtype\u001b[39m=\u001b[39m\u001b[39mNone\u001b[39;00m, out\u001b[39m=\u001b[39m\u001b[39mNone\u001b[39;00m, keepdims\u001b[39m=\u001b[39mnp\u001b[39m.\u001b[39m_NoValue,\n\u001b[0;32m   <a href='file:///c%3A/Users/USER/anaconda3/lib/site-packages/numpy/core/fromnumeric.py?line=2934'>2935</a>\u001b[0m          initial\u001b[39m=\u001b[39mnp\u001b[39m.\u001b[39m_NoValue, where\u001b[39m=\u001b[39mnp\u001b[39m.\u001b[39m_NoValue):\n\u001b[0;32m   <a href='file:///c%3A/Users/USER/anaconda3/lib/site-packages/numpy/core/fromnumeric.py?line=2935'>2936</a>\u001b[0m     \u001b[39m\"\"\"\u001b[39;00m\n\u001b[0;32m   <a href='file:///c%3A/Users/USER/anaconda3/lib/site-packages/numpy/core/fromnumeric.py?line=2936'>2937</a>\u001b[0m \u001b[39m    Return the product of array elements over a given axis.\u001b[39;00m\n\u001b[0;32m   <a href='file:///c%3A/Users/USER/anaconda3/lib/site-packages/numpy/core/fromnumeric.py?line=2937'>2938</a>\u001b[0m \n\u001b[1;32m   (...)\u001b[0m\n\u001b[0;32m   <a href='file:///c%3A/Users/USER/anaconda3/lib/site-packages/numpy/core/fromnumeric.py?line=3048'>3049</a>\u001b[0m \u001b[39m    10\u001b[39;00m\n\u001b[0;32m   <a href='file:///c%3A/Users/USER/anaconda3/lib/site-packages/numpy/core/fromnumeric.py?line=3049'>3050</a>\u001b[0m \u001b[39m    \"\"\"\u001b[39;00m\n\u001b[1;32m-> <a href='file:///c%3A/Users/USER/anaconda3/lib/site-packages/numpy/core/fromnumeric.py?line=3050'>3051</a>\u001b[0m     \u001b[39mreturn\u001b[39;00m _wrapreduction(a, np\u001b[39m.\u001b[39;49mmultiply, \u001b[39m'\u001b[39;49m\u001b[39mprod\u001b[39;49m\u001b[39m'\u001b[39;49m, axis, dtype, out,\n\u001b[0;32m   <a href='file:///c%3A/Users/USER/anaconda3/lib/site-packages/numpy/core/fromnumeric.py?line=3051'>3052</a>\u001b[0m                           keepdims\u001b[39m=\u001b[39;49mkeepdims, initial\u001b[39m=\u001b[39;49minitial, where\u001b[39m=\u001b[39;49mwhere)\n",
      "File \u001b[1;32mc:\\Users\\USER\\anaconda3\\lib\\site-packages\\numpy\\core\\fromnumeric.py:86\u001b[0m, in \u001b[0;36m_wrapreduction\u001b[1;34m(obj, ufunc, method, axis, dtype, out, **kwargs)\u001b[0m\n\u001b[0;32m     <a href='file:///c%3A/Users/USER/anaconda3/lib/site-packages/numpy/core/fromnumeric.py?line=82'>83</a>\u001b[0m         \u001b[39melse\u001b[39;00m:\n\u001b[0;32m     <a href='file:///c%3A/Users/USER/anaconda3/lib/site-packages/numpy/core/fromnumeric.py?line=83'>84</a>\u001b[0m             \u001b[39mreturn\u001b[39;00m reduction(axis\u001b[39m=\u001b[39maxis, out\u001b[39m=\u001b[39mout, \u001b[39m*\u001b[39m\u001b[39m*\u001b[39mpasskwargs)\n\u001b[1;32m---> <a href='file:///c%3A/Users/USER/anaconda3/lib/site-packages/numpy/core/fromnumeric.py?line=85'>86</a>\u001b[0m \u001b[39mreturn\u001b[39;00m ufunc\u001b[39m.\u001b[39mreduce(obj, axis, dtype, out, \u001b[39m*\u001b[39m\u001b[39m*\u001b[39mpasskwargs)\n",
      "File \u001b[1;32mc:\\Users\\USER\\anaconda3\\lib\\site-packages\\tensorflow\\python\\framework\\ops.py:867\u001b[0m, in \u001b[0;36mTensor.__array__\u001b[1;34m(self)\u001b[0m\n\u001b[0;32m    <a href='file:///c%3A/Users/USER/anaconda3/lib/site-packages/tensorflow/python/framework/ops.py?line=865'>866</a>\u001b[0m \u001b[39mdef\u001b[39;00m \u001b[39m__array__\u001b[39m(\u001b[39mself\u001b[39m):\n\u001b[1;32m--> <a href='file:///c%3A/Users/USER/anaconda3/lib/site-packages/tensorflow/python/framework/ops.py?line=866'>867</a>\u001b[0m   \u001b[39mraise\u001b[39;00m \u001b[39mNotImplementedError\u001b[39;00m(\n\u001b[0;32m    <a href='file:///c%3A/Users/USER/anaconda3/lib/site-packages/tensorflow/python/framework/ops.py?line=867'>868</a>\u001b[0m       \u001b[39m\"\u001b[39m\u001b[39mCannot convert a symbolic Tensor (\u001b[39m\u001b[39m{}\u001b[39;00m\u001b[39m) to a numpy array.\u001b[39m\u001b[39m\"\u001b[39m\n\u001b[0;32m    <a href='file:///c%3A/Users/USER/anaconda3/lib/site-packages/tensorflow/python/framework/ops.py?line=868'>869</a>\u001b[0m       \u001b[39m\"\u001b[39m\u001b[39m This error may indicate that you\u001b[39m\u001b[39m'\u001b[39m\u001b[39mre trying to pass a Tensor to\u001b[39m\u001b[39m\"\u001b[39m\n\u001b[0;32m    <a href='file:///c%3A/Users/USER/anaconda3/lib/site-packages/tensorflow/python/framework/ops.py?line=869'>870</a>\u001b[0m       \u001b[39m\"\u001b[39m\u001b[39m a NumPy call, which is not supported\u001b[39m\u001b[39m\"\u001b[39m\u001b[39m.\u001b[39mformat(\u001b[39mself\u001b[39m\u001b[39m.\u001b[39mname))\n",
      "\u001b[1;31mNotImplementedError\u001b[0m: Cannot convert a symbolic Tensor (lstm/strided_slice:0) to a numpy array. This error may indicate that you're trying to pass a Tensor to a NumPy call, which is not supported"
     ]
    }
   ],
   "source": [
    "from tensorflow.keras import models\n",
    "from tensorflow.keras.layers import Embedding, Dense, LSTM, GRU, Dropout\n",
    "from tensorflow.keras.models import Sequential\n",
    "from tensorflow.keras.callbacks import EarlyStopping, ModelCheckpoint\n",
    "\n",
    "model = Sequential()\n",
    "model.add(Embedding(vocab_size, 100))\n",
    "model.add(LSTM(128, return_sequences = True))\n",
    "model.add(Dropout(0.5))\n",
    "model.add(GRU(128))\n",
    "model.add(Dropout(0.5))\n",
    "model.add(Dense(1, activation='sigmoid'))\n",
    "\n",
    "model.summary()\n",
    "\n",
    "es = EarlyStopping(monitor='val_loss', mode='min', verbose=1, patience=4)\n",
    "mc = ModelCheckpoint('LDGD.h5', monitor='val_acc', mode='max', verbose=1, save_best_only=True)\n",
    "\n",
    "model.compile(optimizer='adam', loss='mse', metrics=['acc'])\n",
    "history = model.fit(X_train, y_train, epochs=10, callbacks=[es, mc], batch_size=500, validation_split=0.2)"
   ]
  },
  {
   "cell_type": "code",
   "execution_count": null,
   "metadata": {},
   "outputs": [],
   "source": [
    "from tensorflow.keras.models import load_model\n",
    "\n",
    "loaded_model = load_model('LDGD.h5')\n",
    "print(loaded_model.evaluate(X_test, y_test)[1])"
   ]
  },
  {
   "cell_type": "code",
   "execution_count": null,
   "metadata": {},
   "outputs": [],
   "source": []
  }
 ],
 "metadata": {
  "interpreter": {
   "hash": "263930470851f494f0ed2879c35b57985588df20f9e529b86e97dd5eb9ddc466"
  },
  "kernelspec": {
   "display_name": "Python 3 (ipykernel)",
   "language": "python",
   "name": "python3"
  },
  "language_info": {
   "codemirror_mode": {
    "name": "ipython",
    "version": 3
   },
   "file_extension": ".py",
   "mimetype": "text/x-python",
   "name": "python",
   "nbconvert_exporter": "python",
   "pygments_lexer": "ipython3",
   "version": "3.9.12"
  }
 },
 "nbformat": 4,
 "nbformat_minor": 2
}
